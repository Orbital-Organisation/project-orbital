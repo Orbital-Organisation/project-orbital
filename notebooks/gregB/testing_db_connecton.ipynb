{
 "cells": [
  {
   "cell_type": "code",
   "execution_count": null,
   "metadata": {},
   "outputs": [],
   "source": [
    "import sys\n",
    "import os\n",
    "\n",
    "project_root = os.path.abspath(\"../../\")\n",
    "if project_root not in sys.path:\n",
    "    sys.path.append(project_root)\n",
    "\n",
    "from src.utils.get_secrets import get_env_variable\n",
    "\n",
    "db_host = get_env_variable(\"DB_HOST\")\n",
    "db_name = get_env_variable(\"DB_NAME\")\n",
    "db_user = get_env_variable(\"DB_USER\")\n",
    "db_password = get_env_variable(\"DB_PASSWORD\")\n",
    "db_port = get_env_variable(\"DB_PORT\")"
   ]
  },
  {
   "cell_type": "code",
   "execution_count": null,
   "metadata": {},
   "outputs": [],
   "source": [
    "print(f\"Database Host: {db_host}\")\n",
    "print(f\"Database Name: {db_name}\")\n",
    "print(f\"Database User: {db_user}\")\n",
    "print(f\"Database Port: {db_port}\")"
   ]
  },
  {
   "cell_type": "code",
   "execution_count": null,
   "metadata": {},
   "outputs": [],
   "source": []
  }
 ],
 "metadata": {
  "kernelspec": {
   "display_name": "Python 3",
   "language": "python",
   "name": "python3"
  },
  "language_info": {
   "codemirror_mode": {
    "name": "ipython",
    "version": 3
   },
   "file_extension": ".py",
   "mimetype": "text/x-python",
   "name": "python",
   "nbconvert_exporter": "python",
   "pygments_lexer": "ipython3",
   "version": "3.11.0"
  }
 },
 "nbformat": 4,
 "nbformat_minor": 2
}
