{
 "cells": [
  {
   "cell_type": "code",
   "execution_count": 13,
   "metadata": {},
   "outputs": [
    {
     "name": "stdout",
     "output_type": "stream",
     "text": [
      "Market Value: €60.00m\n",
      "Last Update: Last update: Oct 11, 2024\n"
     ]
    }
   ],
   "source": [
    "import pandas as pd\n",
    "import requests\n",
    "from bs4 import BeautifulSoup\n",
    "\n",
    "def get_parsed_html(url: str):\n",
    "    headers = {\n",
    "        \"User-Agent\": \"Mozilla/5.0 (Windows NT 10.0; Win64; x64) AppleWebKit/537.36 (KHTML, like Gecko) Chrome/85.0.4183.121 Safari/537.36\"\n",
    "    }\n",
    "    try:\n",
    "        response = requests.get(url, headers=headers)\n",
    "        response.raise_for_status()\n",
    "        soup = BeautifulSoup(response.text, 'html.parser')\n",
    "        return soup\n",
    "    except requests.exceptions.RequestException as e:\n",
    "        print(f\"Error fetching the page: {e}\")\n",
    "        return None\n",
    "\n",
    "test_url = \"https://www.transfermarkt.co.uk/raphinha/profil/spieler/411295\"\n",
    "\n",
    "soup = get_parsed_html(test_url)\n",
    "\n",
    "if soup:\n",
    "    market_value_wrapper = soup.find('a', class_='data-header__market-value-wrapper')\n",
    "\n",
    "    if market_value_wrapper:\n",
    "        market_value_parts = [text.strip() for text in market_value_wrapper.stripped_strings if \"Last update\" not in text]\n",
    "        market_value = ''.join(market_value_parts)\n",
    "\n",
    "        last_update_tag = market_value_wrapper.find('p', class_='data-header__last-update')\n",
    "        last_update = last_update_tag.get_text(strip=True) if last_update_tag else \"No update information available\"\n",
    "\n",
    "        print(f\"Market Value: {market_value}\")\n",
    "        print(f\"Last Update: {last_update}\")\n",
    "    else:\n",
    "        print(\"Market value wrapper not found.\")\n",
    "else:\n",
    "    print(\"Failed to fetch and parse the webpage.\")"
   ]
  },
  {
   "cell_type": "code",
   "execution_count": 14,
   "metadata": {},
   "outputs": [
    {
     "data": {
      "text/plain": [
       "'€60.00m'"
      ]
     },
     "execution_count": 14,
     "metadata": {},
     "output_type": "execute_result"
    }
   ],
   "source": [
    "market_value"
   ]
  },
  {
   "cell_type": "code",
   "execution_count": null,
   "metadata": {},
   "outputs": [],
   "source": []
  }
 ],
 "metadata": {
  "kernelspec": {
   "display_name": "Python 3",
   "language": "python",
   "name": "python3"
  },
  "language_info": {
   "codemirror_mode": {
    "name": "ipython",
    "version": 3
   },
   "file_extension": ".py",
   "mimetype": "text/x-python",
   "name": "python",
   "nbconvert_exporter": "python",
   "pygments_lexer": "ipython3",
   "version": "3.11.2"
  }
 },
 "nbformat": 4,
 "nbformat_minor": 2
}
