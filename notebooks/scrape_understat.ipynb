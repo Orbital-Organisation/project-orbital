{
 "cells": [
  {
   "cell_type": "code",
   "execution_count": 18,
   "metadata": {},
   "outputs": [
    {
     "name": "stdout",
     "output_type": "stream",
     "text": [
      "Extracted playersData:\n",
      "[{'id': '8260', 'player_name': 'Erling Haaland', 'games': '11', 'time': '990', 'goals': '12', 'xG': '12.19233638048172', 'assists': '0', 'xA': '0.8076825514435768', 'shots': '56', 'key_passes': '5', 'yellow_cards': '2', 'red_cards': '0', 'position': 'F', 'team_title': 'Manchester City', 'npg': '11', 'npxG': '11.431167542934418', 'xGChain': '9.736066937446594', 'xGBuildup': '1.0157683677971363'}, {'id': '1250', 'player_name': 'Mohamed Salah', 'games': '11', 'time': '970', 'goals': '8', 'xG': '6.820769935846329', 'assists': '6', 'xA': '4.119314484298229', 'shots': '33', 'key_passes': '21', 'yellow_cards': '0', 'red_cards': '0', 'position': 'M', 'team_title': 'Liverpool', 'npg': '6', 'npxG': '5.298432279378176', 'xGChain': '13.500556617975235', 'xGBuildup': '4.79445331171155'}, {'id': '4456', 'player_name': 'Chris Wood', 'games': '11', 'time': '925', 'goals': '8', 'xG': '5.410878539085388', 'assists': '0', 'xA': '0.9723502080887556', 'shots': '21', 'key_passes': '6', 'yellow_cards': '1', 'red_cards': '0', 'position': 'F', 'team_title': 'Nottingham Forest', 'npg': '7', 'npxG': '4.649709701538086', 'xGChain': '5.238514542579651', 'xGBuildup': '0.8825827222317457'}, {'id': '6552', 'player_name': 'Bryan Mbeumo', 'games': '11', 'time': '989', 'goals': '8', 'xG': '3.8768133744597435', 'assists': '1', 'xA': '2.668507620692253', 'shots': '22', 'key_passes': '18', 'yellow_cards': '2', 'red_cards': '0', 'position': 'F M', 'team_title': 'Brentford', 'npg': '6', 'npxG': '2.354475662112236', 'xGChain': '6.444160021841526', 'xGBuildup': '2.516165766865015'}, {'id': '8497', 'player_name': 'Cole Palmer', 'games': '11', 'time': '966', 'goals': '7', 'xG': '4.462653700262308', 'assists': '5', 'xA': '5.694535098969936', 'shots': '36', 'key_passes': '29', 'yellow_cards': '3', 'red_cards': '0', 'position': 'M', 'team_title': 'Chelsea', 'npg': '6', 'npxG': '3.7014847435057163', 'xGChain': '9.817930752411485', 'xGBuildup': '2.3519813157618046'}, {'id': '501', 'player_name': 'Danny Welbeck', 'games': '11', 'time': '955', 'goals': '6', 'xG': '5.4741688296198845', 'assists': '2', 'xA': '0.6503015272319317', 'shots': '31', 'key_passes': '10', 'yellow_cards': '1', 'red_cards': '0', 'position': 'F', 'team_title': 'Brighton', 'npg': '6', 'npxG': '5.4741688296198845', 'xGChain': '7.517930071800947', 'xGBuildup': '2.9529967978596687'}, {'id': '5786', 'player_name': 'Yoane Wissa', 'games': '8', 'time': '568', 'goals': '6', 'xG': '4.773863971233368', 'assists': '1', 'xA': '0.3643055185675621', 'shots': '15', 'key_passes': '4', 'yellow_cards': '1', 'red_cards': '0', 'position': 'F S', 'team_title': 'Brentford', 'npg': '6', 'npxG': '4.773863971233368', 'xGChain': '6.598451688885689', 'xGBuildup': '1.5618019476532936'}, {'id': '8868', 'player_name': 'Liam Delap', 'games': '11', 'time': '804', 'goals': '6', 'xG': '3.7847188264131546', 'assists': '1', 'xA': '0.8839982524514198', 'shots': '17', 'key_passes': '8', 'yellow_cards': '3', 'red_cards': '0', 'position': 'F S', 'team_title': 'Ipswich', 'npg': '6', 'npxG': '3.7847188264131546', 'xGChain': '5.3364057913422585', 'xGBuildup': '1.0281251594424248'}, {'id': '10048', 'player_name': 'Nicolas Jackson', 'games': '11', 'time': '910', 'goals': '6', 'xG': '6.447972226887941', 'assists': '3', 'xA': '1.4042654149234295', 'shots': '25', 'key_passes': '12', 'yellow_cards': '4', 'red_cards': '0', 'position': 'F', 'team_title': 'Chelsea', 'npg': '6', 'npxG': '6.447972226887941', 'xGChain': '8.442601546645164', 'xGBuildup': '1.3779342900961637'}, {'id': '7080', 'player_name': 'Matheus Cunha', 'games': '11', 'time': '898', 'goals': '5', 'xG': '2.673553194850683', 'assists': '2', 'xA': '3.440244935452938', 'shots': '31', 'key_passes': '20', 'yellow_cards': '1', 'red_cards': '0', 'position': 'F M S', 'team_title': 'Wolverhampton Wanderers', 'npg': '5', 'npxG': '2.673553194850683', 'xGChain': '6.538294687867165', 'xGBuildup': '2.2084810063242912'}, {'id': '8865', 'player_name': 'Ollie Watkins', 'games': '11', 'time': '879', 'goals': '5', 'xG': '7.316819779574871', 'assists': '2', 'xA': '1.4366883859038353', 'shots': '26', 'key_passes': '9', 'yellow_cards': '0', 'red_cards': '0', 'position': 'F', 'team_title': 'Aston Villa', 'npg': '5', 'npxG': '7.316819779574871', 'xGChain': '8.279233925044537', 'xGBuildup': '1.7697857692837715'}, {'id': '10408', 'player_name': 'Luis Díaz', 'games': '11', 'time': '661', 'goals': '5', 'xG': '3.5787587631493807', 'assists': '2', 'xA': '2.001560683362186', 'shots': '18', 'key_passes': '15', 'yellow_cards': '0', 'red_cards': '0', 'position': 'M S', 'team_title': 'Liverpool', 'npg': '5', 'npxG': '3.5787587631493807', 'xGChain': '8.433439336717129', 'xGBuildup': '3.6091520935297012'}, {'id': '755', 'player_name': 'Jamie Vardy', 'games': '10', 'time': '858', 'goals': '4', 'xG': '3.332536891102791', 'assists': '1', 'xA': '0.8984279930591583', 'shots': '12', 'key_passes': '7', 'yellow_cards': '3', 'red_cards': '0', 'position': 'F', 'team_title': 'Leicester', 'npg': '3', 'npxG': '2.571368023753166', 'xGChain': '3.513971298933029', 'xGBuildup': '0.04417526163160801'}, {'id': '1679', 'player_name': 'Dominic Solanke', 'games': '9', 'time': '802', 'goals': '4', 'xG': '6.258076209574938', 'assists': '1', 'xA': '0.6110040321946144', 'shots': '24', 'key_passes': '4', 'yellow_cards': '0', 'red_cards': '0', 'position': 'F', 'team_title': 'Tottenham', 'npg': '4', 'npxG': '6.258076209574938', 'xGChain': '7.160403147339821', 'xGBuildup': '1.662315271794796'}, {'id': '4105', 'player_name': 'Raúl Jiménez', 'games': '11', 'time': '671', 'goals': '4', 'xG': '5.331250585615635', 'assists': '2', 'xA': '2.8686302825808525', 'shots': '27', 'key_passes': '10', 'yellow_cards': '0', 'red_cards': '0', 'position': 'F S', 'team_title': 'Fulham', 'npg': '3', 'npxG': '4.5700817331671715', 'xGChain': '7.64625608175993', 'xGBuildup': '1.7928513027727604'}, {'id': '5220', 'player_name': 'Kai Havertz', 'games': '11', 'time': '990', 'goals': '4', 'xG': '5.9272512048482895', 'assists': '1', 'xA': '1.1521874573081732', 'shots': '28', 'key_passes': '9', 'yellow_cards': '2', 'red_cards': '0', 'position': 'F', 'team_title': 'Arsenal', 'npg': '4', 'npxG': '5.9272512048482895', 'xGChain': '7.791099086403847', 'xGBuildup': '1.9552834704518318'}, {'id': '5232', 'player_name': 'Alexander Isak', 'games': '9', 'time': '768', 'goals': '4', 'xG': '4.7289333157241344', 'assists': '2', 'xA': '1.3217075616121292', 'shots': '26', 'key_passes': '10', 'yellow_cards': '0', 'red_cards': '0', 'position': 'F', 'team_title': 'Newcastle United', 'npg': '4', 'npxG': '4.7289333157241344', 'xGChain': '5.566928878426552', 'xGBuildup': '0.45513906702399254'}, {'id': '6681', 'player_name': 'Harvey Barnes', 'games': '11', 'time': '497', 'goals': '4', 'xG': '2.039169277995825', 'assists': '1', 'xA': '1.7315004169940948', 'shots': '18', 'key_passes': '9', 'yellow_cards': '0', 'red_cards': '0', 'position': 'F S', 'team_title': 'Newcastle United', 'npg': '4', 'npxG': '2.039169277995825', 'xGChain': '4.694884791970253', 'xGBuildup': '1.569133311510086'}, {'id': '10760', 'player_name': 'Brennan Johnson', 'games': '11', 'time': '882', 'goals': '4', 'xG': '5.288712278008461', 'assists': '0', 'xA': '0.9397517926990986', 'shots': '33', 'key_passes': '9', 'yellow_cards': '2', 'red_cards': '0', 'position': 'F S', 'team_title': 'Tottenham', 'npg': '4', 'npxG': '5.288712278008461', 'xGChain': '7.796374902129173', 'xGBuildup': '2.2071265764534473'}, {'id': '11070', 'player_name': 'Jørgen Strand Larsen', 'games': '11', 'time': '925', 'goals': '4', 'xG': '2.546615205705166', 'assists': '1', 'xA': '1.3164223115891218', 'shots': '15', 'key_passes': '6', 'yellow_cards': '1', 'red_cards': '0', 'position': 'F', 'team_title': 'Wolverhampton Wanderers', 'npg': '4', 'npxG': '2.546615205705166', 'xGChain': '4.797872368246317', 'xGBuildup': '1.6560516059398651'}, {'id': '11357', 'player_name': 'Noni Madueke', 'games': '10', 'time': '794', 'goals': '4', 'xG': '3.8883137926459312', 'assists': '0', 'xA': '0.861623004078865', 'shots': '31', 'key_passes': '10', 'yellow_cards': '2', 'red_cards': '0', 'position': 'M', 'team_title': 'Chelsea', 'npg': '4', 'npxG': '3.8883137926459312', 'xGChain': '4.9493696093559265', 'xGBuildup': '1.6244776770472527'}, {'id': '11363', 'player_name': 'Antoine Semenyo', 'games': '11', 'time': '973', 'goals': '4', 'xG': '5.208117000758648', 'assists': '1', 'xA': '2.578628594055772', 'shots': '48', 'key_passes': '13', 'yellow_cards': '4', 'red_cards': '0', 'position': 'F M', 'team_title': 'Bournemouth', 'npg': '4', 'npxG': '5.208117000758648', 'xGChain': '9.020716980099678', 'xGBuildup': '1.8532706014811993'}, {'id': '11366', 'player_name': 'Jhon Durán', 'games': '11', 'time': '235', 'goals': '4', 'xG': '2.7376702651381493', 'assists': '0', 'xA': '0.05692505091428757', 'shots': '14', 'key_passes': '1', 'yellow_cards': '1', 'red_cards': '0', 'position': 'S', 'team_title': 'Aston Villa', 'npg': '4', 'npxG': '2.7376702651381493', 'xGChain': '3.199669510126114', 'xGBuildup': '1.3330014050006866'}, {'id': '12963', 'player_name': 'Evanilson', 'games': '10', 'time': '728', 'goals': '4', 'xG': '4.381535226479173', 'assists': '0', 'xA': '0.7508833184838295', 'shots': '19', 'key_passes': '6', 'yellow_cards': '0', 'red_cards': '0', 'position': 'F S', 'team_title': 'Bournemouth', 'npg': '4', 'npxG': '3.6203663665801287', 'xGChain': '4.24427017942071', 'xGBuildup': '0.3859334122389555'}, {'id': '453', 'player_name': 'Son Heung-Min', 'games': '8', 'time': '668', 'goals': '3', 'xG': '1.4013580325990915', 'assists': '3', 'xA': '3.347576178610325', 'shots': '16', 'key_passes': '20', 'yellow_cards': '0', 'red_cards': '0', 'position': 'F', 'team_title': 'Tottenham', 'npg': '3', 'npxG': '1.4013580325990915', 'xGChain': '6.643101334571838', 'xGBuildup': '3.2027645260095596'}, {'id': '1776', 'player_name': 'Jarrod Bowen', 'games': '11', 'time': '974', 'goals': '3', 'xG': '2.467731537297368', 'assists': '2', 'xA': '3.7842036932706833', 'shots': '24', 'key_passes': '24', 'yellow_cards': '0', 'red_cards': '0', 'position': 'F M', 'team_title': 'West Ham', 'npg': '2', 'npxG': '1.7065626997500658', 'xGChain': '4.658832900226116', 'xGBuildup': '0.7921100575476885'}, {'id': '2254', 'player_name': 'Mateo Kovacic', 'games': '11', 'time': '894', 'goals': '3', 'xG': '0.8774153850972652', 'assists': '0', 'xA': '1.5581321120262146', 'shots': '20', 'key_passes': '14', 'yellow_cards': '3', 'red_cards': '0', 'position': 'M S', 'team_title': 'Manchester City', 'npg': '3', 'npxG': '0.8774153850972652', 'xGChain': '5.833312835544348', 'xGBuildup': '4.514666486531496'}, {'id': '5596', 'player_name': 'Harry Wilson', 'games': '7', 'time': '56', 'goals': '3', 'xG': '0.7900689840316772', 'assists': '0', 'xA': '0', 'shots': '4', 'key_passes': '0', 'yellow_cards': '2', 'red_cards': '0', 'position': 'S', 'team_title': 'Fulham', 'npg': '3', 'npxG': '0.7900689840316772', 'xGChain': '0.7900689840316772', 'xGBuildup': '0'}, {'id': '5735', 'player_name': 'Jean-Philippe Mateta', 'games': '11', 'time': '757', 'goals': '3', 'xG': '4.177545731887221', 'assists': '0', 'xA': '0.6433053780347109', 'shots': '20', 'key_passes': '9', 'yellow_cards': '1', 'red_cards': '0', 'position': 'F S', 'team_title': 'Crystal Palace', 'npg': '2', 'npxG': '3.4163768347352743', 'xGChain': '4.163546735420823', 'xGBuildup': '0.7447474785149097'}, {'id': '6674', 'player_name': 'Rayan Ait Nouri', 'games': '11', 'time': '942', 'goals': '3', 'xG': '1.9832261838018894', 'assists': '2', 'xA': '1.0508314333856106', 'shots': '13', 'key_passes': '11', 'yellow_cards': '4', 'red_cards': '0', 'position': 'D M', 'team_title': 'Wolverhampton Wanderers', 'npg': '3', 'npxG': '1.9832261838018894', 'xGChain': '4.216118739917874', 'xGBuildup': '1.4839037712663412'}, {'id': '6756', 'player_name': 'Dwight McNeil', 'games': '10', 'time': '891', 'goals': '3', 'xG': '0.8971882537007332', 'assists': '3', 'xA': '3.4116860781796277', 'shots': '15', 'key_passes': '26', 'yellow_cards': '1', 'red_cards': '0', 'position': 'M', 'team_title': 'Everton', 'npg': '3', 'npxG': '0.8971882537007332', 'xGChain': '4.412067107856274', 'xGBuildup': '2.196887694299221'}, {'id': '6818', 'player_name': 'James Maddison', 'games': '11', 'time': '715', 'goals': '3', 'xG': '2.507845513522625', 'assists': '3', 'xA': '2.6871419083327055', 'shots': '18', 'key_passes': '19', 'yellow_cards': '2', 'red_cards': '0', 'position': 'M S', 'team_title': 'Tottenham', 'npg': '3', 'npxG': '2.507845513522625', 'xGChain': '7.2262982577085495', 'xGBuildup': '3.687225488945842'}, {'id': '7230', 'player_name': 'Emile Smith-Rowe', 'games': '11', 'time': '823', 'goals': '3', 'xG': '2.6697698906064034', 'assists': '2', 'xA': '1.329787015914917', 'shots': '18', 'key_passes': '14', 'yellow_cards': '1', 'red_cards': '0', 'position': 'M S', 'team_title': 'Fulham', 'npg': '3', 'npxG': '2.6697698906064034', 'xGChain': '6.637226328253746', 'xGBuildup': '3.2406620904803276'}, {'id': '7322', 'player_name': 'Bukayo Saka', 'games': '10', 'time': '848', 'goals': '3', 'xG': '3.1735004149377346', 'assists': '7', 'xA': '6.512149639427662', 'shots': '31', 'key_passes': '28', 'yellow_cards': '1', 'red_cards': '0', 'position': 'F M', 'team_title': 'Arsenal', 'npg': '3', 'npxG': '3.1735004149377346', 'xGChain': '8.068510010838509', 'xGBuildup': '2.9003367498517036'}, {'id': '7752', 'player_name': 'Gabriel Martinelli', 'games': '11', 'time': '699', 'goals': '3', 'xG': '3.0686974823474884', 'assists': '2', 'xA': '2.0737641230225563', 'shots': '14', 'key_passes': '12', 'yellow_cards': '0', 'red_cards': '0', 'position': 'F M S', 'team_title': 'Arsenal', 'npg': '3', 'npxG': '3.0686974823474884', 'xGChain': '5.9184332229197025', 'xGBuildup': '1.5821284987032413'}, {'id': '8272', 'player_name': 'João Pedro', 'games': '5', 'time': '303', 'goals': '3', 'xG': '1.6146122757345438', 'assists': '1', 'xA': '1.0843373034149408', 'shots': '8', 'key_passes': '4', 'yellow_cards': '1', 'red_cards': '0', 'position': 'M S', 'team_title': 'Brighton', 'npg': '3', 'npxG': '1.6146122757345438', 'xGChain': '3.4363088868558407', 'xGBuildup': '1.21660478413105'}, {'id': '9790', 'player_name': 'Josko Gvardiol', 'games': '11', 'time': '939', 'goals': '3', 'xG': '1.027506809681654', 'assists': '0', 'xA': '0.8256040755659342', 'shots': '16', 'key_passes': '10', 'yellow_cards': '0', 'red_cards': '0', 'position': 'D S', 'team_title': 'Manchester City', 'npg': '3', 'npxG': '1.027506809681654', 'xGChain': '8.406613409519196', 'xGBuildup': '6.9976098239421844'}, {'id': '10552', 'player_name': 'Alejandro Garnacho', 'games': '11', 'time': '710', 'goals': '3', 'xG': '4.1065501645207405', 'assists': '1', 'xA': '0.9675212446600199', 'shots': '31', 'key_passes': '10', 'yellow_cards': '1', 'red_cards': '0', 'position': 'M S', 'team_title': 'Manchester United', 'npg': '3', 'npxG': '4.1065501645207405', 'xGChain': '6.250516567379236', 'xGBuildup': '1.3122572544962168'}, {'id': '11362', 'player_name': 'Facundo Buonanotte', 'games': '10', 'time': '739', 'goals': '3', 'xG': '2.591978505253792', 'assists': '2', 'xA': '2.447038574144244', 'shots': '20', 'key_passes': '17', 'yellow_cards': '5', 'red_cards': '0', 'position': 'F M S', 'team_title': 'Leicester', 'npg': '3', 'npxG': '2.591978505253792', 'xGChain': '4.4353055246174335', 'xGBuildup': '2.1250878293067217'}, {'id': '12412', 'player_name': 'Morgan Rogers', 'games': '11', 'time': '916', 'goals': '3', 'xG': '3.044670846313238', 'assists': '2', 'xA': '2.8276890181005', 'shots': '20', 'key_passes': '16', 'yellow_cards': '3', 'red_cards': '0', 'position': 'F M', 'team_title': 'Aston Villa', 'npg': '3', 'npxG': '3.044670846313238', 'xGChain': '7.631686761975288', 'xGBuildup': '3.546070845797658'}, {'id': '12752', 'player_name': 'Sammie Szmodics', 'games': '11', 'time': '561', 'goals': '3', 'xG': '3.4842576310038567', 'assists': '0', 'xA': '0.11480193212628365', 'shots': '11', 'key_passes': '3', 'yellow_cards': '1', 'red_cards': '0', 'position': 'M S', 'team_title': 'Ipswich', 'npg': '3', 'npxG': '3.4842576310038567', 'xGChain': '3.7016108110547066', 'xGBuildup': '0.17011627182364464'}, {'id': '87', 'player_name': 'Joelinton', 'games': '11', 'time': '933', 'goals': '2', 'xG': '1.9614861607551575', 'assists': '0', 'xA': '0.6593366786837578', 'shots': '18', 'key_passes': '11', 'yellow_cards': '4', 'red_cards': '0', 'position': 'F M', 'team_title': 'Newcastle United', 'npg': '2', 'npxG': '1.9614861607551575', 'xGChain': '5.904662556946278', 'xGBuildup': '3.9978001788258553'}, {'id': '500', 'player_name': 'Alex Iwobi', 'games': '11', 'time': '954', 'goals': '2', 'xG': '1.642299523577094', 'assists': '2', 'xA': '3.8958003241568804', 'shots': '17', 'key_passes': '21', 'yellow_cards': '1', 'red_cards': '0', 'position': 'D F M', 'team_title': 'Fulham', 'npg': '2', 'npxG': '1.642299523577094', 'xGChain': '8.985033512115479', 'xGBuildup': '4.054936937987804'}, {'id': '586', 'player_name': 'John Stones', 'games': '6', 'time': '229', 'goals': '2', 'xG': '0.6664973199367523', 'assists': '0', 'xA': '0', 'shots': '2', 'key_passes': '0', 'yellow_cards': '1', 'red_cards': '0', 'position': 'D S', 'team_title': 'Manchester City', 'npg': '2', 'npxG': '0.6664973199367523', 'xGChain': '0.7804820574820042', 'xGBuildup': '0.7804820574820042'}, {'id': '672', 'player_name': 'Jordan Ayew', 'games': '11', 'time': '508', 'goals': '2', 'xG': '2.426449054852128', 'assists': '0', 'xA': '0.10718905832618475', 'shots': '14', 'key_passes': '4', 'yellow_cards': '4', 'red_cards': '0', 'position': 'F M S', 'team_title': 'Crystal Palace,Leicester', 'npg': '2', 'npxG': '2.426449054852128', 'xGChain': '2.964778758585453', 'xGBuildup': '1.116752166301012'}, {'id': '1228', 'player_name': 'Bruno Fernandes', 'games': '11', 'time': '931', 'goals': '2', 'xG': '4.414181990548968', 'assists': '3', 'xA': '3.147118240594864', 'shots': '34', 'key_passes': '22', 'yellow_cards': '1', 'red_cards': '1', 'position': 'F M', 'team_title': 'Manchester United', 'npg': '1', 'npxG': '3.653013212606311', 'xGChain': '9.040109366178513', 'xGBuildup': '3.911218762397766'}, {'id': '1653', 'player_name': 'Michael Keane', 'games': '9', 'time': '810', 'goals': '2', 'xG': '0.7946690190583467', 'assists': '0', 'xA': '0.12363456189632416', 'shots': '8', 'key_passes': '1', 'yellow_cards': '4', 'red_cards': '0', 'position': 'D', 'team_title': 'Everton', 'npg': '2', 'npxG': '0.7946690190583467', 'xGChain': '1.1600648276507854', 'xGBuildup': '1.1311242170631886'}, {'id': '5555', 'player_name': 'Dominic Calvert-Lewin', 'games': '11', 'time': '917', 'goals': '2', 'xG': '4.278142210096121', 'assists': '1', 'xA': '0.5794389843940735', 'shots': '26', 'key_passes': '4', 'yellow_cards': '1', 'red_cards': '0', 'position': 'F', 'team_title': 'Everton', 'npg': '2', 'npxG': '4.278142210096121', 'xGChain': '3.574085906147957', 'xGBuildup': '0.38933974131941795'}, {'id': '5609', 'player_name': 'Yves Bissouma', 'games': '8', 'time': '402', 'goals': '2', 'xG': '0.1485525518655777', 'assists': '0', 'xA': '0.1525784693658352', 'shots': '2', 'key_passes': '3', 'yellow_cards': '2', 'red_cards': '0', 'position': 'M S', 'team_title': 'Tottenham', 'npg': '2', 'npxG': '0.1485525518655777', 'xGChain': '2.2173853665590286', 'xGBuildup': '2.002608075737953'}, {'id': '5613', 'player_name': 'Gabriel', 'games': '11', 'time': '958', 'goals': '2', 'xG': '2.5315187387168407', 'assists': '0', 'xA': '0.43518611788749695', 'shots': '12', 'key_passes': '4', 'yellow_cards': '1', 'red_cards': '0', 'position': 'D', 'team_title': 'Arsenal', 'npg': '2', 'npxG': '2.5315187387168407', 'xGChain': '3.9044810608029366', 'xGBuildup': '3.512180618941784'}, {'id': '6456', 'player_name': 'Callum Hudson-Odoi', 'games': '11', 'time': '809', 'goals': '2', 'xG': '1.0123927220702171', 'assists': '0', 'xA': '1.2672535236924887', 'shots': '17', 'key_passes': '18', 'yellow_cards': '1', 'red_cards': '0', 'position': 'M S', 'team_title': 'Nottingham Forest', 'npg': '2', 'npxG': '1.0123927220702171', 'xGChain': '5.615782767534256', 'xGBuildup': '4.011770997196436'}, {'id': '6691', 'player_name': 'Dejan Kulusevski', 'games': '11', 'time': '868', 'goals': '2', 'xG': '2.052295833826065', 'assists': '2', 'xA': '2.7973768543452024', 'shots': '17', 'key_passes': '30', 'yellow_cards': '3', 'red_cards': '0', 'position': 'F M S', 'team_title': 'Tottenham', 'npg': '2', 'npxG': '2.052295833826065', 'xGChain': '6.571650508791208', 'xGBuildup': '2.172476758249104'}, {'id': '6854', 'player_name': 'Diogo Jota', 'games': '7', 'time': '507', 'goals': '2', 'xG': '3.803277149796486', 'assists': '2', 'xA': '0.8164496086537838', 'shots': '14', 'key_passes': '3', 'yellow_cards': '1', 'red_cards': '0', 'position': 'F', 'team_title': 'Liverpool', 'npg': '2', 'npxG': '3.803277149796486', 'xGChain': '5.853131428360939', 'xGBuildup': '1.7199055701494217'}, {'id': '6937', 'player_name': 'Georginio Rutter', 'games': '10', 'time': '630', 'goals': '2', 'xG': '2.313791275024414', 'assists': '2', 'xA': '1.4666455909609795', 'shots': '23', 'key_passes': '9', 'yellow_cards': '1', 'red_cards': '0', 'position': 'F M S', 'team_title': 'Brighton', 'npg': '2', 'npxG': '2.313791275024414', 'xGChain': '3.6678169183433056', 'xGBuildup': '0.8803241029381752'}, {'id': '6963', 'player_name': 'Justin Kluivert', 'games': '11', 'time': '627', 'goals': '2', 'xG': '2.1623218338936567', 'assists': '2', 'xA': '1.2022605650126934', 'shots': '17', 'key_passes': '11', 'yellow_cards': '4', 'red_cards': '0', 'position': 'M S', 'team_title': 'Bournemouth', 'npg': '1', 'npxG': '1.4011529963463545', 'xGChain': '3.7354215644299984', 'xGBuildup': '2.0228627752512693'}, {'id': '7365', 'player_name': 'Lucas Paquetá', 'games': '11', 'time': '828', 'goals': '2', 'xG': '2.0754304118454456', 'assists': '0', 'xA': '0.8723230473697186', 'shots': '14', 'key_passes': '12', 'yellow_cards': '4', 'red_cards': '0', 'position': 'M S', 'team_title': 'West Ham', 'npg': '1', 'npxG': '1.3142615742981434', 'xGChain': '3.37304181791842', 'xGBuildup': '1.664149433374405'}, {'id': '7484', 'player_name': 'Stephy Mavididi', 'games': '10', 'time': '619', 'goals': '2', 'xG': '1.9125254303216934', 'assists': '0', 'xA': '0.8707215301692486', 'shots': '10', 'key_passes': '10', 'yellow_cards': '2', 'red_cards': '0', 'position': 'M S', 'team_title': 'Leicester', 'npg': '2', 'npxG': '1.9125254303216934', 'xGChain': '4.602301370352507', 'xGBuildup': '3.0669058933854103'}, {'id': '7603', 'player_name': 'Marc Guehi', 'games': '11', 'time': '990', 'goals': '2', 'xG': '1.5871607586741447', 'assists': '0', 'xA': '0.04870825074613094', 'shots': '6', 'key_passes': '4', 'yellow_cards': '1', 'red_cards': '0', 'position': 'D M', 'team_title': 'Crystal Palace', 'npg': '2', 'npxG': '1.5871607586741447', 'xGChain': '2.4873296320438385', 'xGBuildup': '2.4578583110123873'}, {'id': '7698', 'player_name': 'Leandro Trossard', 'games': '11', 'time': '591', 'goals': '2', 'xG': '2.2703492790460587', 'assists': '0', 'xA': '1.1600875817239285', 'shots': '14', 'key_passes': '11', 'yellow_cards': '0', 'red_cards': '1', 'position': 'F M S', 'team_title': 'Arsenal', 'npg': '2', 'npxG': '2.2703492790460587', 'xGChain': '4.70733354985714', 'xGBuildup': '1.5084797479212284'}, {'id': '7753', 'player_name': 'James Justin', 'games': '10', 'time': '895', 'goals': '2', 'xG': '0.46742284297943115', 'assists': '1', 'xA': '0.5461153779178858', 'shots': '8', 'key_passes': '5', 'yellow_cards': '1', 'red_cards': '0', 'position': 'D', 'team_title': 'Leicester', 'npg': '2', 'npxG': '0.46742284297943115', 'xGChain': '3.3793762205168605', 'xGBuildup': '3.115977297537029'}, {'id': '8150', 'player_name': 'Anthony Gordon', 'games': '10', 'time': '865', 'goals': '2', 'xG': '3.46157468855381', 'assists': '1', 'xA': '2.3106232695281506', 'shots': '15', 'key_passes': '23', 'yellow_cards': '0', 'red_cards': '0', 'position': 'F', 'team_title': 'Newcastle United', 'npg': '1', 'npxG': '1.9392369762063026', 'xGChain': '4.566249445080757', 'xGBuildup': '1.8529520705342293'}, {'id': '8288', 'player_name': 'Tomas Soucek', 'games': '10', 'time': '652', 'goals': '2', 'xG': '2.64112314209342', 'assists': '0', 'xA': '0.4661024510860443', 'shots': '17', 'key_passes': '9', 'yellow_cards': '3', 'red_cards': '0', 'position': 'M S', 'team_title': 'West Ham', 'npg': '2', 'npxG': '2.64112314209342', 'xGChain': '4.894093386828899', 'xGBuildup': '2.020753549411893'}, {'id': '9307', 'player_name': 'Iliman Ndiaye', 'games': '11', 'time': '822', 'goals': '2', 'xG': '1.3893688842654228', 'assists': '0', 'xA': '0.510427812114358', 'shots': '12', 'key_passes': '5', 'yellow_cards': '1', 'red_cards': '0', 'position': 'M S', 'team_title': 'Everton', 'npg': '2', 'npxG': '1.3893688842654228', 'xGChain': '4.326386824250221', 'xGBuildup': '2.8585616275668144'}, {'id': '9667', 'player_name': 'Amadou Onana', 'games': '10', 'time': '743', 'goals': '2', 'xG': '1.9774937815964222', 'assists': '0', 'xA': '0.11732264701277018', 'shots': '11', 'key_passes': '3', 'yellow_cards': '3', 'red_cards': '0', 'position': 'M', 'team_title': 'Aston Villa', 'npg': '2', 'npxG': '1.9774937815964222', 'xGChain': '3.0323480740189552', 'xGBuildup': '2.72985140606761'}, {'id': '9678', 'player_name': 'Ethan Pinnock', 'games': '11', 'time': '990', 'goals': '2', 'xG': '0.8028032584115863', 'assists': '0', 'xA': '0.7735196352005005', 'shots': '8', 'key_passes': '5', 'yellow_cards': '1', 'red_cards': '0', 'position': 'D', 'team_title': 'Brentford', 'npg': '2', 'npxG': '0.8028032584115863', 'xGChain': '4.197628512047231', 'xGBuildup': '3.979381979443133'}, {'id': '9912', 'player_name': 'Cameron Archer', 'games': '11', 'time': '602', 'goals': '2', 'xG': '4.494936011731625', 'assists': '0', 'xA': '0.09895281493663788', 'shots': '15', 'key_passes': '1', 'yellow_cards': '0', 'red_cards': '0', 'position': 'F S', 'team_title': 'Southampton', 'npg': '2', 'npxG': '3.733767144382', 'xGChain': '4.036844944581389', 'xGBuildup': '0.6991046946495771'}, {'id': '10720', 'player_name': 'Darwin Núñez', 'games': '8', 'time': '425', 'goals': '2', 'xG': '1.940767489373684', 'assists': '1', 'xA': '0.8792700562626123', 'shots': '11', 'key_passes': '3', 'yellow_cards': '2', 'red_cards': '0', 'position': 'F S', 'team_title': 'Liverpool', 'npg': '2', 'npxG': '1.940767489373684', 'xGChain': '3.561061481013894', 'xGBuildup': '0.7410240173339844'}, {'id': '12027', 'player_name': 'Mohammed Kudus', 'games': '8', 'time': '671', 'goals': '2', 'xG': '3.237882561981678', 'assists': '0', 'xA': '1.042060848325491', 'shots': '27', 'key_passes': '5', 'yellow_cards': '0', 'red_cards': '1', 'position': 'F M', 'team_title': 'West Ham', 'npg': '2', 'npxG': '3.237882561981678', 'xGChain': '5.149686425924301', 'xGBuildup': '1.3246841430664062'}, {'id': '76', 'player_name': 'Fabian Schär', 'games': '9', 'time': '747', 'goals': '1', 'xG': '0.47315663378685713', 'assists': '0', 'xA': '0.06902753561735153', 'shots': '11', 'key_passes': '1', 'yellow_cards': '4', 'red_cards': '1', 'position': 'D', 'team_title': 'Newcastle United', 'npg': '1', 'npxG': '0.47315663378685713', 'xGChain': '2.3396074548363686', 'xGBuildup': '2.1959867775440216'}, {'id': '447', 'player_name': 'Kevin De Bruyne', 'games': '5', 'time': '374', 'goals': '1', 'xG': '1.0023257099092007', 'assists': '1', 'xA': '2.120722249150276', 'shots': '15', 'key_passes': '16', 'yellow_cards': '1', 'red_cards': '0', 'position': 'M S', 'team_title': 'Manchester City', 'npg': '1', 'npxG': '1.0023257099092007', 'xGChain': '3.417499214410782', 'xGBuildup': '1.666884396225214'}, {'id': '531', 'player_name': 'Michail Antonio', 'games': '11', 'time': '685', 'goals': '1', 'xG': '2.649308728054166', 'assists': '1', 'xA': '1.583192678168416', 'shots': '17', 'key_passes': '8', 'yellow_cards': '1', 'red_cards': '0', 'position': 'F S', 'team_title': 'West Ham', 'npg': '1', 'npxG': '2.649308728054166', 'xGChain': '4.933052968233824', 'xGBuildup': '1.5880617164075375'}, {'id': '556', 'player_name': 'Marcus Rashford', 'games': '11', 'time': '783', 'goals': '1', 'xG': '0.8756322860717773', 'assists': '1', 'xA': '1.8967064060270786', 'shots': '10', 'key_passes': '10', 'yellow_cards': '2', 'red_cards': '0', 'position': 'M S', 'team_title': 'Manchester United', 'npg': '1', 'npxG': '0.8756322860717773', 'xGChain': '5.064429119229317', 'xGBuildup': '2.9665950927883387'}, {'id': '592', 'player_name': 'Ross Barkley', 'games': '8', 'time': '237', 'goals': '1', 'xG': '0.9806250454857945', 'assists': '1', 'xA': '0.30103486590087414', 'shots': '7', 'key_passes': '5', 'yellow_cards': '3', 'red_cards': '0', 'position': 'M S', 'team_title': 'Aston Villa', 'npg': '1', 'npxG': '0.9806250454857945', 'xGChain': '2.256594498641789', 'xGBuildup': '1.5892469733953476'}, {'id': '725', 'player_name': 'Ola Aina', 'games': '11', 'time': '965', 'goals': '1', 'xG': '0.11351074185222387', 'assists': '0', 'xA': '0.8367399983108044', 'shots': '4', 'key_passes': '5', 'yellow_cards': '1', 'red_cards': '0', 'position': 'D', 'team_title': 'Nottingham Forest', 'npg': '1', 'npxG': '0.11351074185222387', 'xGChain': '2.784213114529848', 'xGBuildup': '2.5876621920615435'}, {'id': '833', 'player_name': 'Virgil van Dijk', 'games': '11', 'time': '990', 'goals': '1', 'xG': '0.5912207905203104', 'assists': '1', 'xA': '0.4480435196310282', 'shots': '5', 'key_passes': '5', 'yellow_cards': '1', 'red_cards': '0', 'position': 'D', 'team_title': 'Liverpool', 'npg': '1', 'npxG': '0.5912207905203104', 'xGChain': '6.402765452861786', 'xGBuildup': '5.987800166010857'}, {'id': '900', 'player_name': 'Adama Traoré', 'games': '11', 'time': '733', 'goals': '1', 'xG': '3.8419568091630936', 'assists': '3', 'xA': '2.9538220167160034', 'shots': '20', 'key_passes': '18', 'yellow_cards': '2', 'red_cards': '0', 'position': 'F M S', 'team_title': 'Fulham', 'npg': '1', 'npxG': '3.8419568091630936', 'xGChain': '8.602759011089802', 'xGBuildup': '1.9840449821203947'}, {'id': '922', 'player_name': 'Andreas Pereira', 'games': '11', 'time': '866', 'goals': '1', 'xG': '2.407408770173788', 'assists': '0', 'xA': '2.4102235678583384', 'shots': '18', 'key_passes': '30', 'yellow_cards': '2', 'red_cards': '0', 'position': 'M', 'team_title': 'Fulham', 'npg': '1', 'npxG': '1.646239947527647', 'xGChain': '5.688553981482983', 'xGBuildup': '3.8066110014915466'}, {'id': '986', 'player_name': 'Danny Ings', 'games': '5', 'time': '61', 'goals': '1', 'xG': '0.8129885420203209', 'assists': '1', 'xA': '0.6295180916786194', 'shots': '5', 'key_passes': '1', 'yellow_cards': '0', 'red_cards': '0', 'position': 'S', 'team_title': 'West Ham', 'npg': '1', 'npxG': '0.8129885420203209', 'xGChain': '1.4425066262483597', 'xGBuildup': '0'}, {'id': '1299', 'player_name': 'Mario Lemina', 'games': '11', 'time': '887', 'goals': '1', 'xG': '1.0050526866689324', 'assists': '2', 'xA': '0.38187330961227417', 'shots': '11', 'key_passes': '5', 'yellow_cards': '2', 'red_cards': '0', 'position': 'M S', 'team_title': 'Wolverhampton Wanderers', 'npg': '1', 'npxG': '1.0050526866689324', 'xGChain': '3.6370330192148685', 'xGBuildup': '2.7596986182034016'}, {'id': '1789', 'player_name': 'Lewis Cook', 'games': '11', 'time': '990', 'goals': '1', 'xG': '0.7380610480904579', 'assists': '3', 'xA': '2.3296538591384888', 'shots': '8', 'key_passes': '16', 'yellow_cards': '3', 'red_cards': '0', 'position': 'M', 'team_title': 'Bournemouth', 'npg': '1', 'npxG': '0.7380610480904579', 'xGChain': '4.60666710883379', 'xGBuildup': '3.370674952864647'}, {'id': '2199', 'player_name': 'Pablo Sarabia', 'games': '5', 'time': '172', 'goals': '1', 'xG': '0.9379261210560799', 'assists': '0', 'xA': '0.25171223282814026', 'shots': '4', 'key_passes': '3', 'yellow_cards': '0', 'red_cards': '0', 'position': 'M S', 'team_title': 'Wolverhampton Wanderers', 'npg': '1', 'npxG': '0.9379261210560799', 'xGChain': '1.1963818445801735', 'xGBuildup': '0.2584557179361582'}, {'id': '2248', 'player_name': 'Casemiro', 'games': '10', 'time': '624', 'goals': '1', 'xG': '0.9967881552875042', 'assists': '0', 'xA': '1.7771615758538246', 'shots': '15', 'key_passes': '13', 'yellow_cards': '1', 'red_cards': '0', 'position': 'M S', 'team_title': 'Manchester United', 'npg': '1', 'npxG': '0.9967881552875042', 'xGChain': '4.214647736400366', 'xGBuildup': '2.841204211115837'}, {'id': '2328', 'player_name': 'Thomas Partey', 'games': '11', 'time': '984', 'goals': '1', 'xG': '0.39023663103580475', 'assists': '0', 'xA': '0.4513196833431721', 'shots': '7', 'key_passes': '7', 'yellow_cards': '2', 'red_cards': '0', 'position': 'D M', 'team_title': 'Arsenal', 'npg': '1', 'npxG': '0.39023663103580475', 'xGChain': '6.176874257624149', 'xGBuildup': '5.700555086135864'}, {'id': '3300', 'player_name': 'Christopher Nkunku', 'games': '10', 'time': '124', 'goals': '1', 'xG': '2.0951280407607555', 'assists': '0', 'xA': '0.27571000531315804', 'shots': '7', 'key_passes': '4', 'yellow_cards': '1', 'red_cards': '0', 'position': 'M S', 'team_title': 'Chelsea', 'npg': '1', 'npxG': '2.0951280407607555', 'xGChain': '2.7786723785102367', 'xGBuildup': '0.4958771541714668'}, {'id': '4419', 'player_name': 'Adam Armstrong', 'games': '8', 'time': '454', 'goals': '1', 'xG': '1.0655140168964863', 'assists': '0', 'xA': '0.10689222905784845', 'shots': '13', 'key_passes': '3', 'yellow_cards': '2', 'red_cards': '0', 'position': 'F M S', 'team_title': 'Southampton', 'npg': '1', 'npxG': '1.0655140168964863', 'xGChain': '1.292555332183838', 'xGBuildup': '0.6335891038179398'}, {'id': '5304', 'player_name': 'Mikel Merino', 'games': '5', 'time': '281', 'goals': '1', 'xG': '1.0773502439260483', 'assists': '0', 'xA': '0.38000574707984924', 'shots': '6', 'key_passes': '3', 'yellow_cards': '1', 'red_cards': '0', 'position': 'M S', 'team_title': 'Arsenal', 'npg': '1', 'npxG': '1.0773502439260483', 'xGChain': '1.7119230460375547', 'xGBuildup': '1.301953747868538'}, {'id': '6108', 'player_name': 'Rodrigo Bentancur', 'games': '10', 'time': '545', 'goals': '1', 'xG': '0.5164269749075174', 'assists': '0', 'xA': '0.05360686406493187', 'shots': '11', 'key_passes': '1', 'yellow_cards': '4', 'red_cards': '0', 'position': 'M S', 'team_title': 'Tottenham', 'npg': '1', 'npxG': '0.5164269749075174', 'xGChain': '3.7344671729952097', 'xGBuildup': '3.459154887124896'}, {'id': '6326', 'player_name': 'Ibrahima Konaté', 'games': '11', 'time': '889', 'goals': '1', 'xG': '1.209789514541626', 'assists': '1', 'xA': '0.34917103312909603', 'shots': '8', 'key_passes': '3', 'yellow_cards': '3', 'red_cards': '0', 'position': 'D S', 'team_title': 'Liverpool', 'npg': '1', 'npxG': '1.209789514541626', 'xGChain': '7.879582367837429', 'xGBuildup': '7.859243176877499'}, {'id': '6382', 'player_name': 'Pedro Neto', 'games': '11', 'time': '525', 'goals': '1', 'xG': '0.5304845441132784', 'assists': '2', 'xA': '2.1261654049158096', 'shots': '13', 'key_passes': '14', 'yellow_cards': '4', 'red_cards': '0', 'position': 'M S', 'team_title': 'Chelsea', 'npg': '1', 'npxG': '0.5304845441132784', 'xGChain': '3.8884855061769485', 'xGBuildup': '1.9002211019396782'}, {'id': '6492', 'player_name': 'Reiss Nelson', 'games': '9', 'time': '278', 'goals': '1', 'xG': '1.3307774066925049', 'assists': '1', 'xA': '0.7295538149774075', 'shots': '10', 'key_passes': '10', 'yellow_cards': '1', 'red_cards': '0', 'position': 'M S', 'team_title': 'Arsenal,Fulham', 'npg': '1', 'npxG': '1.3307774066925049', 'xGChain': '3.664759583771229', 'xGBuildup': '2.094760086387396'}, {'id': '6615', 'player_name': 'Trevoh Chalobah', 'games': '5', 'time': '450', 'goals': '1', 'xG': '0.3499191850423813', 'assists': '0', 'xA': '0.48408255353569984', 'shots': '5', 'key_passes': '3', 'yellow_cards': '0', 'red_cards': '0', 'position': 'D', 'team_title': 'Crystal Palace', 'npg': '1', 'npxG': '0.3499191850423813', 'xGChain': '0.7040941435843706', 'xGBuildup': '0.6602961588650942'}, {'id': '6665', 'player_name': 'Curtis Jones', 'games': '8', 'time': '410', 'goals': '1', 'xG': '1.5348839834332466', 'assists': '1', 'xA': '0.22088607400655746', 'shots': '8', 'key_passes': '5', 'yellow_cards': '0', 'red_cards': '0', 'position': 'M S', 'team_title': 'Liverpool', 'npg': '1', 'npxG': '1.5348839834332466', 'xGChain': '3.064685447141528', 'xGBuildup': '1.3991558160632849'}, {'id': '6857', 'player_name': 'Morgan Gibbs-White', 'games': '8', 'time': '647', 'goals': '1', 'xG': '1.3696090150624514', 'assists': '0', 'xA': '1.581808179616928', 'shots': '15', 'key_passes': '13', 'yellow_cards': '1', 'red_cards': '1', 'position': 'M', 'team_title': 'Nottingham Forest', 'npg': '1', 'npxG': '1.3696090150624514', 'xGChain': '3.986652135848999', 'xGBuildup': '2.8125472478568554'}, {'id': '6912', 'player_name': 'Pedro Porro', 'games': '11', 'time': '990', 'goals': '1', 'xG': '0.7944704368710518', 'assists': '1', 'xA': '1.472710456699133', 'shots': '19', 'key_passes': '20', 'yellow_cards': '2', 'red_cards': '0', 'position': 'D', 'team_title': 'Tottenham', 'npg': '1', 'npxG': '0.7944704368710518', 'xGChain': '4.8622953444719315', 'xGBuildup': '3.6699360106140375'}, {'id': '7083', 'player_name': 'Christian Nørgaard', 'games': '9', 'time': '792', 'goals': '1', 'xG': '1.5833494868129492', 'assists': '1', 'xA': '0.19358165189623833', 'shots': '12', 'key_passes': '5', 'yellow_cards': '2', 'red_cards': '0', 'position': 'M', 'team_title': 'Brentford', 'npg': '1', 'npxG': '1.5833494868129492', 'xGChain': '2.8445340115576982', 'xGBuildup': '2.052566420286894'}, {'id': '7218', 'player_name': 'Cristian Romero', 'games': '11', 'time': '962', 'goals': '1', 'xG': '1.2029815949499607', 'assists': '0', 'xA': '0.5379867702722549', 'shots': '11', 'key_passes': '6', 'yellow_cards': '1', 'red_cards': '0', 'position': 'D', 'team_title': 'Tottenham', 'npg': '1', 'npxG': '1.2029815949499607', 'xGChain': '4.687882646918297', 'xGBuildup': '4.436505913734436'}, {'id': '7726', 'player_name': 'Ezri Konsa Ngoyo', 'games': '10', 'time': '821', 'goals': '1', 'xG': '0.47486186027526855', 'assists': '0', 'xA': '0.14669684693217278', 'shots': '3', 'key_passes': '2', 'yellow_cards': '0', 'red_cards': '0', 'position': 'D', 'team_title': 'Aston Villa', 'npg': '1', 'npxG': '0.47486186027526855', 'xGChain': '4.194369651377201', 'xGBuildup': '3.8146814182400703'}, {'id': '7762', 'player_name': 'Jean-Ricner Bellegarde', 'games': '10', 'time': '494', 'goals': '1', 'xG': '0.2656138716265559', 'assists': '1', 'xA': '0.33775873482227325', 'shots': '6', 'key_passes': '6', 'yellow_cards': '2', 'red_cards': '0', 'position': 'M S', 'team_title': 'Wolverhampton Wanderers', 'npg': '1', 'npxG': '0.2656138716265559', 'xGChain': '1.627882489003241', 'xGBuildup': '1.1768596936017275'}, {'id': '7892', 'player_name': 'João Félix', 'games': '5', 'time': '101', 'goals': '1', 'xG': '0.6748445834964514', 'assists': '0', 'xA': '0.026980992406606674', 'shots': '7', 'key_passes': '1', 'yellow_cards': '1', 'red_cards': '0', 'position': 'S', 'team_title': 'Chelsea', 'npg': '1', 'npxG': '0.6748445834964514', 'xGChain': '0.9444189909845591', 'xGBuildup': '0.2831444460898638'}, {'id': '7902', 'player_name': 'Matthijs de Ligt', 'games': '11', 'time': '763', 'goals': '1', 'xG': '1.1100782826542854', 'assists': '0', 'xA': '0.04875717684626579', 'shots': '6', 'key_passes': '2', 'yellow_cards': '2', 'red_cards': '0', 'position': 'D S', 'team_title': 'Manchester United', 'npg': '1', 'npxG': '1.1100782826542854', 'xGChain': '2.443522434681654', 'xGBuildup': '2.3707791678607464'}, {'id': '8044', 'player_name': 'Joshua Zirkzee', 'games': '11', 'time': '420', 'goals': '1', 'xG': '2.6935997493565083', 'assists': '1', 'xA': '1.1216295883059502', 'shots': '12', 'key_passes': '6', 'yellow_cards': '1', 'red_cards': '0', 'position': 'F S', 'team_title': 'Manchester United', 'npg': '1', 'npxG': '2.6935997493565083', 'xGChain': '3.6297340244054794', 'xGBuildup': '0.47988350316882133'}, {'id': '8127', 'player_name': 'Amad Diallo Traore', 'games': '9', 'time': '468', 'goals': '1', 'xG': '0.8933382527902722', 'assists': '2', 'xA': '1.00988207757473', 'shots': '12', 'key_passes': '14', 'yellow_cards': '2', 'red_cards': '0', 'position': 'M S', 'team_title': 'Manchester United', 'npg': '1', 'npxG': '0.8933382527902722', 'xGChain': '3.2567379474639893', 'xGBuildup': '1.8691413905471563'}, {'id': '8129', 'player_name': 'Riccardo Calafiori', 'games': '6', 'time': '384', 'goals': '1', 'xG': '0.5488381497561932', 'assists': '0', 'xA': '0.08091676235198975', 'shots': '4', 'key_passes': '2', 'yellow_cards': '1', 'red_cards': '0', 'position': 'D S', 'team_title': 'Arsenal', 'npg': '1', 'npxG': '0.5488381497561932', 'xGChain': '1.778080366551876', 'xGBuildup': '1.738560751080513'}, {'id': '8495', 'player_name': 'Taylor Harwood-Bellis', 'games': '11', 'time': '861', 'goals': '1', 'xG': '1.7264893501996994', 'assists': '0', 'xA': '0.8833814300596714', 'shots': '9', 'key_passes': '6', 'yellow_cards': '4', 'red_cards': '0', 'position': 'D S', 'team_title': 'Southampton', 'npg': '1', 'npxG': '1.7264893501996994', 'xGChain': '2.4273696951568127', 'xGBuildup': '1.7400894798338413'}, {'id': '8563', 'player_name': 'George Hirst', 'games': '8', 'time': '163', 'goals': '1', 'xG': '0.8599511682987213', 'assists': '1', 'xA': '0.34214659593999386', 'shots': '3', 'key_passes': '3', 'yellow_cards': '1', 'red_cards': '0', 'position': 'F S', 'team_title': 'Ipswich', 'npg': '1', 'npxG': '0.8599511682987213', 'xGChain': '1.3288521822541952', 'xGBuildup': '0.1679418459534645'}, {'id': '8646', 'player_name': 'Wout Faes', 'games': '11', 'time': '990', 'goals': '1', 'xG': '1.2339492477476597', 'assists': '0', 'xA': '0.01925680600106716', 'shots': '7', 'key_passes': '1', 'yellow_cards': '1', 'red_cards': '0', 'position': 'D', 'team_title': 'Leicester', 'npg': '1', 'npxG': '1.2339492477476597', 'xGChain': '2.289636199362576', 'xGBuildup': '2.1403271863237023'}, {'id': '8706', 'player_name': 'Eberechi Eze', 'games': '9', 'time': '810', 'goals': '1', 'xG': '2.986836075782776', 'assists': '1', 'xA': '1.6662051603198051', 'shots': '37', 'key_passes': '16', 'yellow_cards': '0', 'red_cards': '0', 'position': 'F M', 'team_title': 'Crystal Palace', 'npg': '1', 'npxG': '2.986836075782776', 'xGChain': '4.7225248999893665', 'xGBuildup': '1.550406876951456'}, {'id': '8859', 'player_name': 'Mikkel Damsgaard', 'games': '11', 'time': '811', 'goals': '1', 'xG': '1.4265991039574146', 'assists': '3', 'xA': '2.833466903306544', 'shots': '8', 'key_passes': '18', 'yellow_cards': '0', 'red_cards': '0', 'position': 'F M S', 'team_title': 'Brentford', 'npg': '1', 'npxG': '1.4265991039574146', 'xGChain': '5.203812953084707', 'xGBuildup': '2.6231850776821375'}, {'id': '8919', 'player_name': 'Leif Davis', 'games': '11', 'time': '990', 'goals': '1', 'xG': '0.43122029304504395', 'assists': '2', 'xA': '3.240241624414921', 'shots': '9', 'key_passes': '27', 'yellow_cards': '2', 'red_cards': '0', 'position': 'D', 'team_title': 'Ipswich', 'npg': '1', 'npxG': '0.43122029304504395', 'xGChain': '2.366231095045805', 'xGBuildup': '0.92682746052742'}, {'id': '8981', 'player_name': 'Jéremy Doku', 'games': '8', 'time': '422', 'goals': '1', 'xG': '0.4819023385643959', 'assists': '1', 'xA': '1.0608169343322515', 'shots': '10', 'key_passes': '9', 'yellow_cards': '0', 'red_cards': '0', 'position': 'F M S', 'team_title': 'Manchester City', 'npg': '1', 'npxG': '0.4819023385643959', 'xGChain': '3.1024406291544437', 'xGBuildup': '1.8261775691062212'}, {'id': '9453', 'player_name': 'Moisés Caicedo', 'games': '11', 'time': '985', 'goals': '1', 'xG': '0.26183731481432915', 'assists': '2', 'xA': '1.5080358609557152', 'shots': '6', 'key_passes': '9', 'yellow_cards': '2', 'red_cards': '0', 'position': 'M', 'team_title': 'Chelsea', 'npg': '1', 'npxG': '0.26183731481432915', 'xGChain': '7.727880701422691', 'xGBuildup': '6.717738002538681'}, {'id': '9492', 'player_name': 'Crysencio Summerville', 'games': '10', 'time': '335', 'goals': '1', 'xG': '0.8418226540088654', 'assists': '0', 'xA': '0.7223077118396759', 'shots': '4', 'key_passes': '7', 'yellow_cards': '1', 'red_cards': '0', 'position': 'F M S', 'team_title': 'West Ham', 'npg': '1', 'npxG': '0.8418226540088654', 'xGChain': '2.1419683238491416', 'xGBuildup': '0.6710022008046508'}, {'id': '9501', 'player_name': 'Fabio Carvalho', 'games': '11', 'time': '254', 'goals': '1', 'xG': '1.4226928651332855', 'assists': '1', 'xA': '0.5770240947604179', 'shots': '6', 'key_passes': '3', 'yellow_cards': '1', 'red_cards': '0', 'position': 'F S', 'team_title': 'Brentford', 'npg': '1', 'npxG': '1.4226928651332855', 'xGChain': '2.6500681564211845', 'xGBuildup': '0.6503511816263199'}, {'id': '9662', 'player_name': 'Dango Ouattara', 'games': '8', 'time': '421', 'goals': '1', 'xG': '1.7674724273383617', 'assists': '1', 'xA': '1.5316805001348257', 'shots': '7', 'key_passes': '5', 'yellow_cards': '0', 'red_cards': '0', 'position': 'M S', 'team_title': 'Bournemouth', 'npg': '1', 'npxG': '1.7674724273383617', 'xGChain': '3.106004424393177', 'xGBuildup': '1.106277832761407'}, {'id': '9680', 'player_name': 'Vitaly Janelt', 'games': '11', 'time': '929', 'goals': '1', 'xG': '0.3199375346302986', 'assists': '3', 'xA': '1.644264760427177', 'shots': '8', 'key_passes': '8', 'yellow_cards': '1', 'red_cards': '0', 'position': 'D M', 'team_title': 'Brentford', 'npg': '1', 'npxG': '0.3199375346302986', 'xGChain': '3.85032329056412', 'xGBuildup': '2.0476668113842607'}, {'id': '9733', 'player_name': 'Nathan Collins', 'games': '11', 'time': '990', 'goals': '1', 'xG': '1.646300457417965', 'assists': '0', 'xA': '0.18541352078318596', 'shots': '9', 'key_passes': '2', 'yellow_cards': '1', 'red_cards': '0', 'position': 'D', 'team_title': 'Brentford', 'npg': '1', 'npxG': '1.646300457417965', 'xGChain': '4.0895599806681275', 'xGBuildup': '3.707540133036673'}, {'id': '9983', 'player_name': 'Beto', 'games': '7', 'time': '75', 'goals': '1', 'xG': '1.2300589680671692', 'assists': '0', 'xA': '0', 'shots': '4', 'key_passes': '0', 'yellow_cards': '0', 'red_cards': '0', 'position': 'S', 'team_title': 'Everton', 'npg': '1', 'npxG': '1.2300589680671692', 'xGChain': '0.5591214299201965', 'xGBuildup': '0'}, {'id': '10177', 'player_name': 'Evan Ferguson', 'games': '6', 'time': '82', 'goals': '1', 'xG': '0.1707068346440792', 'assists': '0', 'xA': '0', 'shots': '3', 'key_passes': '0', 'yellow_cards': '0', 'red_cards': '0', 'position': 'F S', 'team_title': 'Brighton', 'npg': '1', 'npxG': '0.1707068346440792', 'xGChain': '0.1464022509753704', 'xGBuildup': '0'}, {'id': '10527', 'player_name': 'Carlos Baleba', 'games': '9', 'time': '626', 'goals': '1', 'xG': '0.808440824970603', 'assists': '1', 'xA': '0.5576661843806505', 'shots': '16', 'key_passes': '7', 'yellow_cards': '1', 'red_cards': '0', 'position': 'M S', 'team_title': 'Brighton', 'npg': '1', 'npxG': '0.808440824970603', 'xGChain': '4.57156341150403', 'xGBuildup': '3.373573873192072'}, {'id': '10586', 'player_name': 'Tyler Dibling', 'games': '11', 'time': '565', 'goals': '1', 'xG': '0.8191663175821304', 'assists': '0', 'xA': '1.06824441999197', 'shots': '9', 'key_passes': '8', 'yellow_cards': '4', 'red_cards': '0', 'position': 'F M S', 'team_title': 'Southampton', 'npg': '1', 'npxG': '0.8191663175821304', 'xGChain': '2.9117045886814594', 'xGBuildup': '1.2461970746517181'}, {'id': '10717', 'player_name': 'Rodrigo Muniz', 'games': '10', 'time': '320', 'goals': '1', 'xG': '1.4537530988454819', 'assists': '1', 'xA': '0.620203010737896', 'shots': '14', 'key_passes': '5', 'yellow_cards': '1', 'red_cards': '0', 'position': 'F S', 'team_title': 'Fulham', 'npg': '1', 'npxG': '1.4537530988454819', 'xGChain': '2.3374494202435017', 'xGBuildup': '0.48456546291708946'}, {'id': '10741', 'player_name': 'Marcus Tavernier', 'games': '11', 'time': '811', 'goals': '1', 'xG': '3.213934987783432', 'assists': '2', 'xA': '2.1568489242345095', 'shots': '23', 'key_passes': '23', 'yellow_cards': '2', 'red_cards': '0', 'position': 'M S', 'team_title': 'Bournemouth', 'npg': '1', 'npxG': '3.213934987783432', 'xGChain': '7.994510766118765', 'xGBuildup': '3.7603336572647095'}, {'id': '10744', 'player_name': 'Ryan Christie', 'games': '11', 'time': '711', 'goals': '1', 'xG': '0.34361009299755096', 'assists': '0', 'xA': '1.1159699391573668', 'shots': '7', 'key_passes': '12', 'yellow_cards': '5', 'red_cards': '0', 'position': 'M S', 'team_title': 'Bournemouth', 'npg': '1', 'npxG': '0.34361009299755096', 'xGChain': '3.1443662345409393', 'xGBuildup': '2.4200754947960377'}, {'id': '10766', 'player_name': 'Joe Ayodele-Aribo', 'games': '10', 'time': '607', 'goals': '1', 'xG': '1.3334388304501772', 'assists': '0', 'xA': '0.6153282951563597', 'shots': '9', 'key_passes': '3', 'yellow_cards': '0', 'red_cards': '0', 'position': 'M S', 'team_title': 'Southampton', 'npg': '1', 'npxG': '1.3334388304501772', 'xGChain': '2.393650908023119', 'xGBuildup': '1.2890621349215508'}, {'id': '10806', 'player_name': 'Kaoru Mitoma', 'games': '11', 'time': '927', 'goals': '1', 'xG': '3.6948426254093647', 'assists': '2', 'xA': '2.906455248594284', 'shots': '22', 'key_passes': '14', 'yellow_cards': '0', 'red_cards': '0', 'position': 'F M S', 'team_title': 'Brighton', 'npg': '1', 'npxG': '3.6948426254093647', 'xGChain': '8.412799656391144', 'xGBuildup': '3.054900996387005'}, {'id': '10866', 'player_name': 'Luis Sinisterra', 'games': '8', 'time': '200', 'goals': '1', 'xG': '1.6596052329987288', 'assists': '1', 'xA': '1.237250255420804', 'shots': '12', 'key_passes': '7', 'yellow_cards': '0', 'red_cards': '0', 'position': 'M S', 'team_title': 'Bournemouth', 'npg': '1', 'npxG': '1.6596052329987288', 'xGChain': '2.3513959273695946', 'xGBuildup': '0.011425375007092953'}, {'id': '11003', 'player_name': 'Ryan Yates', 'games': '11', 'time': '799', 'goals': '1', 'xG': '1.6914243753999472', 'assists': '0', 'xA': '0.5015693493187428', 'shots': '17', 'key_passes': '11', 'yellow_cards': '3', 'red_cards': '0', 'position': 'M S', 'team_title': 'Nottingham Forest', 'npg': '1', 'npxG': '1.6914243753999472', 'xGChain': '3.0502281188964844', 'xGBuildup': '1.9211139269173145'}, {'id': '11055', 'player_name': 'Rasmus Højlund', 'games': '7', 'time': '427', 'goals': '1', 'xG': '1.008004516363144', 'assists': '0', 'xA': '0.15715262107551098', 'shots': '5', 'key_passes': '4', 'yellow_cards': '0', 'red_cards': '0', 'position': 'F S', 'team_title': 'Manchester United', 'npg': '1', 'npxG': '1.008004516363144', 'xGChain': '1.7377271801233292', 'xGBuildup': '0.5725700259208679'}, {'id': '11269', 'player_name': 'Jack Hinshelwood', 'games': '10', 'time': '850', 'goals': '1', 'xG': '0.840388304553926', 'assists': '0', 'xA': '0.17835776321589947', 'shots': '7', 'key_passes': '6', 'yellow_cards': '2', 'red_cards': '0', 'position': 'D M', 'team_title': 'Brighton', 'npg': '1', 'npxG': '0.840388304553926', 'xGChain': '3.37406949698925', 'xGBuildup': '2.6129179298877716'}, {'id': '11296', 'player_name': 'Cody Gakpo', 'games': '11', 'time': '398', 'goals': '1', 'xG': '0.9664908684790134', 'assists': '1', 'xA': '1.5196633711457253', 'shots': '12', 'key_passes': '11', 'yellow_cards': '2', 'red_cards': '0', 'position': 'M S', 'team_title': 'Liverpool', 'npg': '1', 'npxG': '0.9664908684790134', 'xGChain': '3.7372595351189375', 'xGBuildup': '1.9710036385804415'}, {'id': '11384', 'player_name': 'João Gomes', 'games': '11', 'time': '946', 'goals': '1', 'xG': '0.5704956948757172', 'assists': '0', 'xA': '0.2957555279135704', 'shots': '7', 'key_passes': '5', 'yellow_cards': '4', 'red_cards': '0', 'position': 'M', 'team_title': 'Wolverhampton Wanderers', 'npg': '1', 'npxG': '0.5704956948757172', 'xGChain': '3.344442866742611', 'xGBuildup': '2.631093317642808'}, {'id': '11710', 'player_name': 'Simon Adingra', 'games': '7', 'time': '200', 'goals': '1', 'xG': '0.4186023883521557', 'assists': '1', 'xA': '0.4666984025388956', 'shots': '5', 'key_passes': '2', 'yellow_cards': '0', 'red_cards': '0', 'position': 'M S', 'team_title': 'Brighton', 'npg': '1', 'npxG': '0.4186023883521557', 'xGChain': '0.5652002599090338', 'xGBuildup': '0.26147172786295414'}, {'id': '12123', 'player_name': 'Murillo', 'games': '11', 'time': '990', 'goals': '1', 'xG': '0.8390248510986567', 'assists': '0', 'xA': '0.9048327952623367', 'shots': '9', 'key_passes': '7', 'yellow_cards': '1', 'red_cards': '0', 'position': 'D', 'team_title': 'Nottingham Forest', 'npg': '1', 'npxG': '0.8390248510986567', 'xGChain': '2.805654770694673', 'xGBuildup': '2.525485295802355'}, {'id': '12748', 'player_name': 'Sam Morsy', 'games': '10', 'time': '898', 'goals': '1', 'xG': '0.18155387416481972', 'assists': '1', 'xA': '0.36448466032743454', 'shots': '5', 'key_passes': '7', 'yellow_cards': '4', 'red_cards': '0', 'position': 'M', 'team_title': 'Ipswich', 'npg': '1', 'npxG': '0.18155387416481972', 'xGChain': '2.6124743912369013', 'xGBuildup': '2.394546593539417'}, {'id': '12759', 'player_name': 'Yankuba Minteh', 'games': '7', 'time': '407', 'goals': '1', 'xG': '0.9508809521794319', 'assists': '1', 'xA': '1.358094573020935', 'shots': '7', 'key_passes': '8', 'yellow_cards': '2', 'red_cards': '0', 'position': 'M S', 'team_title': 'Brighton', 'npg': '1', 'npxG': '0.9508809521794319', 'xGChain': '3.3171145617961884', 'xGBuildup': '1.3207888584583998'}, {'id': '12761', 'player_name': 'Yukinari Sugawara', 'games': '10', 'time': '669', 'goals': '1', 'xG': '0.19421781599521637', 'assists': '1', 'xA': '2.3339574206620455', 'shots': '6', 'key_passes': '10', 'yellow_cards': '2', 'red_cards': '0', 'position': 'D S', 'team_title': 'Southampton', 'npg': '1', 'npxG': '0.19421781599521637', 'xGChain': '1.5058299805969', 'xGBuildup': '0.7086788713932037'}, {'id': '13021', 'player_name': 'Ramón Sosa', 'games': '7', 'time': '78', 'goals': '1', 'xG': '0.6561499480158091', 'assists': '0', 'xA': '0.4814912974834442', 'shots': '6', 'key_passes': '4', 'yellow_cards': '0', 'red_cards': '0', 'position': 'S', 'team_title': 'Nottingham Forest', 'npg': '1', 'npxG': '0.6561499480158091', 'xGChain': '1.3318281285464764', 'xGBuildup': '0.19418691098690033'}, {'id': '13066', 'player_name': 'Ferdi Kadioglu', 'games': '6', 'time': '401', 'goals': '1', 'xG': '0.6023932620882988', 'assists': '0', 'xA': '0.16455989610403776', 'shots': '4', 'key_passes': '5', 'yellow_cards': '1', 'red_cards': '0', 'position': 'D M S', 'team_title': 'Brighton', 'npg': '1', 'npxG': '0.6023932620882988', 'xGChain': '2.1883304491639137', 'xGBuildup': '1.5457853525877'}, {'id': '13206', 'player_name': 'Matt O&#039;Riley', 'games': '1', 'time': '31', 'goals': '1', 'xG': '0.5549602508544922', 'assists': '0', 'xA': '0', 'shots': '1', 'key_passes': '0', 'yellow_cards': '0', 'red_cards': '0', 'position': 'S', 'team_title': 'Brighton', 'npg': '1', 'npxG': '0.5549602508544922', 'xGChain': '1.2516529560089111', 'xGBuildup': '0.6966927647590637'}, {'id': '65', 'player_name': 'Timo Werner', 'games': '8', 'time': '253', 'goals': '0', 'xG': '0.9052236042916775', 'assists': '1', 'xA': '0.1705956682562828', 'shots': '7', 'key_passes': '2', 'yellow_cards': '0', 'red_cards': '0', 'position': 'F S', 'team_title': 'Tottenham', 'npg': '0', 'npxG': '0.9052236042916775', 'xGChain': '1.6168753560632467', 'xGBuildup': '0.6203064117580652'}, {'id': '111', 'player_name': 'Jannik Vestergaard', 'games': '4', 'time': '360', 'goals': '0', 'xG': '0.011205383576452732', 'assists': '0', 'xA': '0.0206855908036232', 'shots': '1', 'key_passes': '1', 'yellow_cards': '1', 'red_cards': '0', 'position': 'D', 'team_title': 'Leicester', 'npg': '0', 'npxG': '0.011205383576452732', 'xGChain': '0.5398250669240952', 'xGBuildup': '0.5398250669240952'}, {'id': '181', 'player_name': 'Bernd Leno', 'games': '11', 'time': '990', 'goals': '0', 'xG': '0', 'assists': '1', 'xA': '0.04459531605243683', 'shots': '0', 'key_passes': '1', 'yellow_cards': '2', 'red_cards': '0', 'position': 'GK', 'team_title': 'Fulham', 'npg': '0', 'npxG': '0', 'xGChain': '3.6641260385513306', 'xGBuildup': '3.619530737400055'}, {'id': '314', 'player_name': 'Ilkay Gündogan', 'games': '10', 'time': '624', 'goals': '0', 'xG': '1.2978494688868523', 'assists': '1', 'xA': '0.8824509978294373', 'shots': '11', 'key_passes': '15', 'yellow_cards': '0', 'red_cards': '0', 'position': 'M S', 'team_title': 'Manchester City', 'npg': '0', 'npxG': '1.2978494688868523', 'xGChain': '4.822001814842224', 'xGBuildup': '3.8014915734529495'}, {'id': '486', 'player_name': 'Adam Lallana', 'games': '7', 'time': '282', 'goals': '0', 'xG': '0.15231557562947273', 'assists': '2', 'xA': '0.5301942601799965', 'shots': '3', 'key_passes': '3', 'yellow_cards': '3', 'red_cards': '0', 'position': 'M S', 'team_title': 'Southampton', 'npg': '0', 'npxG': '0.15231557562947273', 'xGChain': '1.6151056997478008', 'xGBuildup': '1.0605952739715576'}, {'id': '489', 'player_name': 'James Milner', 'games': '3', 'time': '176', 'goals': '0', 'xG': '0.19204899668693542', 'assists': '0', 'xA': '0.2607630733400583', 'shots': '2', 'key_passes': '4', 'yellow_cards': '1', 'red_cards': '0', 'position': 'M', 'team_title': 'Brighton', 'npg': '0', 'npxG': '0.19204899668693542', 'xGChain': '0.5119482576847076', 'xGBuildup': '0.20502541214227676'}, {'id': '534', 'player_name': 'Aaron Cresswell', 'games': '4', 'time': '21', 'goals': '0', 'xG': '0.039841603487730026', 'assists': '0', 'xA': '0.0210413821041584', 'shots': '1', 'key_passes': '1', 'yellow_cards': '1', 'red_cards': '0', 'position': 'S', 'team_title': 'West Ham', 'npg': '0', 'npxG': '0.039841603487730026', 'xGChain': '0.08413614332675934', 'xGBuildup': '0.08413614332675934'}, {'id': '579', 'player_name': 'Nathan Aké', 'games': '2', 'time': '75', 'goals': '0', 'xG': '0.05958899110555649', 'assists': '0', 'xA': '0', 'shots': '1', 'key_passes': '0', 'yellow_cards': '0', 'red_cards': '0', 'position': 'D S', 'team_title': 'Manchester City', 'npg': '0', 'npxG': '0.05958899110555649', 'xGChain': '0.15169624984264374', 'xGBuildup': '0.15169624984264374'}, {'id': '585', 'player_name': 'Seamus Coleman', 'games': '1', 'time': '90', 'goals': '0', 'xG': '0.47521984577178955', 'assists': '0', 'xA': '0', 'shots': '1', 'key_passes': '0', 'yellow_cards': '0', 'red_cards': '0', 'position': 'D', 'team_title': 'Everton', 'npg': '0', 'npxG': '0.47521984577178955', 'xGChain': '1.1356315612792969', 'xGBuildup': '0.6604117155075073'}, {'id': '603', 'player_name': 'Nathaniel Clyne', 'games': '5', 'time': '302', 'goals': '0', 'xG': '0.01046830415725708', 'assists': '0', 'xA': '0', 'shots': '1', 'key_passes': '0', 'yellow_cards': '0', 'red_cards': '0', 'position': 'D S', 'team_title': 'Crystal Palace', 'npg': '0', 'npxG': '0.01046830415725708', 'xGChain': '1.1416002213954926', 'xGBuildup': '1.1416002213954926'}, {'id': '618', 'player_name': 'Raheem Sterling', 'games': '4', 'time': '119', 'goals': '0', 'xG': '0.2359183430671692', 'assists': '0', 'xA': '0.0441930890083313', 'shots': '2', 'key_passes': '1', 'yellow_cards': '0', 'red_cards': '0', 'position': 'M S', 'team_title': 'Arsenal', 'npg': '0', 'npxG': '0.2359183430671692', 'xGChain': '0.33159561827778816', 'xGBuildup': '0.051484186202287674'}, {'id': '631', 'player_name': 'Ashley Young', 'games': '9', 'time': '790', 'goals': '0', 'xG': '0.09448207542300224', 'assists': '3', 'xA': '1.0875482857227325', 'shots': '3', 'key_passes': '13', 'yellow_cards': '2', 'red_cards': '1', 'position': 'D', 'team_title': 'Everton', 'npg': '0', 'npxG': '0.09448207542300224', 'xGChain': '2.006912022829056', 'xGBuildup': '1.5582519322633743'}, {'id': '635', 'player_name': 'Alex McCarthy', 'games': '2', 'time': '180', 'goals': '0', 'xG': '0', 'assists': '0', 'xA': '0', 'shots': '0', 'key_passes': '0', 'yellow_cards': '0', 'red_cards': '0', 'position': 'GK', 'team_title': 'Southampton', 'npg': '0', 'npxG': '0', 'xGChain': '0.4999673590064049', 'xGBuildup': '0.4999673590064049'}, {'id': '638', 'player_name': 'Kyle Walker', 'games': '7', 'time': '475', 'goals': '0', 'xG': '0.1098661832511425', 'assists': '0', 'xA': '0.6528090313076973', 'shots': '5', 'key_passes': '6', 'yellow_cards': '1', 'red_cards': '0', 'position': 'D S', 'team_title': 'Manchester City', 'npg': '0', 'npxG': '0.1098661832511425', 'xGChain': '3.7117129266262054', 'xGBuildup': '3.5655986964702606'}, {'id': '646', 'player_name': 'Christian Eriksen', 'games': '8', 'time': '437', 'goals': '0', 'xG': '0.12561319954693317', 'assists': '0', 'xA': '1.6376851983368397', 'shots': '2', 'key_passes': '14', 'yellow_cards': '2', 'red_cards': '0', 'position': 'M S', 'team_title': 'Manchester United', 'npg': '0', 'npxG': '0.12561319954693317', 'xGChain': '4.445333166047931', 'xGBuildup': '4.031266920268536'}, {'id': '652', 'player_name': 'Kieran Trippier', 'games': '5', 'time': '284', 'goals': '0', 'xG': '0.06009542569518089', 'assists': '0', 'xA': '0.15247571468353271', 'shots': '1', 'key_passes': '2', 'yellow_cards': '0', 'red_cards': '0', 'position': 'D S', 'team_title': 'Newcastle United', 'npg': '0', 'npxG': '0.06009542569518089', 'xGChain': '1.4183968156576157', 'xGBuildup': '1.3583014011383057'}, {'id': '660', 'player_name': 'Ben Davies', 'games': '1', 'time': '28', 'goals': '0', 'xG': '0', 'assists': '0', 'xA': '0', 'shots': '0', 'key_passes': '0', 'yellow_cards': '0', 'red_cards': '0', 'position': 'S', 'team_title': 'Tottenham', 'npg': '0', 'npxG': '0', 'xGChain': '0', 'xGBuildup': '0'}, {'id': '668', 'player_name': 'Idrissa Gueye', 'games': '10', 'time': '734', 'goals': '0', 'xG': '0.6948095625266433', 'assists': '0', 'xA': '0.37299320101737976', 'shots': '10', 'key_passes': '4', 'yellow_cards': '1', 'red_cards': '0', 'position': 'M S', 'team_title': 'Everton', 'npg': '0', 'npxG': '0.6948095625266433', 'xGChain': '2.411902168765664', 'xGBuildup': '1.54116590321064'}, {'id': '675', 'player_name': 'Jack Grealish', 'games': '7', 'time': '340', 'goals': '0', 'xG': '0.46725486405193806', 'assists': '1', 'xA': '1.0772398645058274', 'shots': '7', 'key_passes': '15', 'yellow_cards': '2', 'red_cards': '0', 'position': 'M S', 'team_title': 'Manchester City', 'npg': '0', 'npxG': '0.46725486405193806', 'xGChain': '3.630913659930229', 'xGBuildup': '2.287933774292469'}, {'id': '706', 'player_name': 'Lukasz Fabianski', 'games': '4', 'time': '312', 'goals': '0', 'xG': '0', 'assists': '0', 'xA': '0', 'shots': '0', 'key_passes': '0', 'yellow_cards': '0', 'red_cards': '0', 'position': 'GK S', 'team_title': 'West Ham', 'npg': '0', 'npxG': '0', 'xGChain': '0.02261417731642723', 'xGBuildup': '0.02261417731642723'}, {'id': '741', 'player_name': 'Jordan Pickford', 'games': '11', 'time': '990', 'goals': '0', 'xG': '0', 'assists': '0', 'xA': '0', 'shots': '0', 'key_passes': '0', 'yellow_cards': '1', 'red_cards': '0', 'position': 'GK', 'team_title': 'Everton', 'npg': '0', 'npxG': '0', 'xGChain': '1.0186540745198727', 'xGBuildup': '1.0186540745198727'}, {'id': '757', 'player_name': 'Jeffrey Schlupp', 'games': '8', 'time': '55', 'goals': '0', 'xG': '0.09208671748638153', 'assists': '0', 'xA': '0.33485834673047066', 'shots': '2', 'key_passes': '2', 'yellow_cards': '0', 'red_cards': '0', 'position': 'S', 'team_title': 'Crystal Palace', 'npg': '0', 'npxG': '0.09208671748638153', 'xGChain': '0.6843287572264671', 'xGBuildup': '0.25738370092585683'}, {'id': '804', 'player_name': 'Craig Dawson', 'games': '10', 'time': '738', 'goals': '0', 'xG': '0.3769594803452492', 'assists': '0', 'xA': '0.06978518515825272', 'shots': '4', 'key_passes': '2', 'yellow_cards': '1', 'red_cards': '0', 'position': 'D S', 'team_title': 'Wolverhampton Wanderers', 'npg': '0', 'npxG': '0.3769594803452492', 'xGChain': '2.3292105179280043', 'xGBuildup': '2.3170803170651197'}, {'id': '807', 'player_name': 'Jonny Evans', 'games': '5', 'time': '228', 'goals': '0', 'xG': '0.05577276274561882', 'assists': '0', 'xA': '0', 'shots': '1', 'key_passes': '0', 'yellow_cards': '1', 'red_cards': '0', 'position': 'D S', 'team_title': 'Manchester United', 'npg': '0', 'npxG': '0.05577276274561882', 'xGChain': '0.6021050084382296', 'xGBuildup': '0.6021050084382296'}, {'id': '825', 'player_name': 'Adam Smith', 'games': '11', 'time': '613', 'goals': '0', 'xG': '0.2666778862476349', 'assists': '0', 'xA': '0.1453368216753006', 'shots': '1', 'key_passes': '3', 'yellow_cards': '3', 'red_cards': '0', 'position': 'D S', 'team_title': 'Bournemouth', 'npg': '0', 'npxG': '0.2666778862476349', 'xGChain': '2.598942479118705', 'xGBuildup': '2.1869278009980917'}, {'id': '843', 'player_name': 'James Ward-Prowse', 'games': '6', 'time': '310', 'goals': '0', 'xG': '0.059576899744570255', 'assists': '0', 'xA': '0.051551688462495804', 'shots': '2', 'key_passes': '1', 'yellow_cards': '0', 'red_cards': '1', 'position': 'M S', 'team_title': 'Nottingham Forest,West Ham', 'npg': '0', 'npxG': '0.059576899744570255', 'xGChain': '1.1288264691829681', 'xGBuildup': '1.0621067686006427'}, {'id': '885', 'player_name': 'Kyle Walker-Peters', 'games': '9', 'time': '805', 'goals': '0', 'xG': '0.4262155909091234', 'assists': '1', 'xA': '0.6890810644254088', 'shots': '8', 'key_passes': '6', 'yellow_cards': '2', 'red_cards': '0', 'position': 'D', 'team_title': 'Southampton', 'npg': '0', 'npxG': '0.4262155909091234', 'xGChain': '2.5591272078454494', 'xGBuildup': '2.1904215030372143'}, {'id': '910', 'player_name': 'Harrison Reed', 'games': '8', 'time': '44', 'goals': '0', 'xG': '0.01733059622347355', 'assists': '0', 'xA': '0.07896795868873596', 'shots': '1', 'key_passes': '1', 'yellow_cards': '2', 'red_cards': '0', 'position': 'S', 'team_title': 'Fulham', 'npg': '0', 'npxG': '0.01733059622347355', 'xGChain': '0.2145950347185135', 'xGBuildup': '0.2145950347185135'}, {'id': '934', 'player_name': 'Axel Tuanzebe', 'games': '7', 'time': '609', 'goals': '0', 'xG': '0.337050199508667', 'assists': '0', 'xA': '0.5693965200334787', 'shots': '3', 'key_passes': '3', 'yellow_cards': '2', 'red_cards': '0', 'position': 'D', 'team_title': 'Ipswich', 'npg': '0', 'npxG': '0.337050199508667', 'xGChain': '1.6188801638782024', 'xGBuildup': '1.0954352132976055'}, {'id': '971', 'player_name': 'Harry Winks', 'games': '10', 'time': '852', 'goals': '0', 'xG': '0.1328343404456973', 'assists': '2', 'xA': '1.1132869962602854', 'shots': '7', 'key_passes': '13', 'yellow_cards': '3', 'red_cards': '0', 'position': 'M S', 'team_title': 'Leicester', 'npg': '0', 'npxG': '0.1328343404456973', 'xGChain': '2.673179212026298', 'xGBuildup': '2.5311158327385783'}, {'id': '978', 'player_name': 'Sam Johnstone', 'games': '5', 'time': '450', 'goals': '0', 'xG': '0', 'assists': '0', 'xA': '0.04906415939331055', 'shots': '0', 'key_passes': '1', 'yellow_cards': '0', 'red_cards': '0', 'position': 'GK', 'team_title': 'Wolverhampton Wanderers', 'npg': '0', 'npxG': '0', 'xGChain': '0.41057243570685387', 'xGBuildup': '0.41057243570685387'}, {'id': '985', 'player_name': 'Mason Holgate', 'games': '1', 'time': '1', 'goals': '0', 'xG': '0', 'assists': '0', 'xA': '0', 'shots': '0', 'key_passes': '0', 'yellow_cards': '0', 'red_cards': '0', 'position': 'S', 'team_title': 'Everton', 'npg': '0', 'npxG': '0', 'xGChain': '0', 'xGBuildup': '0'}, {'id': '987', 'player_name': 'Joseph Gomez', 'games': '3', 'time': '44', 'goals': '0', 'xG': '0.3433290123939514', 'assists': '0', 'xA': '0', 'shots': '2', 'key_passes': '0', 'yellow_cards': '0', 'red_cards': '0', 'position': 'S', 'team_title': 'Liverpool', 'npg': '0', 'npxG': '0.3433290123939514', 'xGChain': '0.09254589304327965', 'xGBuildup': '0.09254589304327965'}, {'id': '1245', 'player_name': 'Emerson', 'games': '11', 'time': '871', 'goals': '0', 'xG': '0.8890861766412854', 'assists': '0', 'xA': '0.4330827724188566', 'shots': '6', 'key_passes': '9', 'yellow_cards': '3', 'red_cards': '0', 'position': 'D', 'team_title': 'West Ham', 'npg': '0', 'npxG': '0.8890861766412854', 'xGChain': '2.511678397655487', 'xGBuildup': '1.3942093383520842'}, {'id': '1257', 'player_name': 'Alisson', 'games': '6', 'time': '531', 'goals': '0', 'xG': '0', 'assists': '0', 'xA': '0', 'shots': '0', 'key_passes': '0', 'yellow_cards': '0', 'red_cards': '0', 'position': 'GK', 'team_title': 'Liverpool', 'npg': '0', 'npxG': '0', 'xGChain': '3.1046004369854927', 'xGBuildup': '3.1046004369854927'}, {'id': '1297', 'player_name': 'Neto', 'games': '2', 'time': '180', 'goals': '0', 'xG': '0', 'assists': '0', 'xA': '0', 'shots': '0', 'key_passes': '0', 'yellow_cards': '0', 'red_cards': '0', 'position': 'GK', 'team_title': 'Bournemouth', 'npg': '0', 'npxG': '0', 'xGChain': '0.4283316135406494', 'xGBuildup': '0.4283316135406494'}, {'id': '1389', 'player_name': 'Jorginho', 'games': '3', 'time': '155', 'goals': '0', 'xG': '0.03698921576142311', 'assists': '0', 'xA': '0.05949939414858818', 'shots': '1', 'key_passes': '1', 'yellow_cards': '2', 'red_cards': '0', 'position': 'M S', 'team_title': 'Arsenal', 'npg': '0', 'npxG': '0.03698921576142311', 'xGChain': '0.42085400223731995', 'xGBuildup': '0.38386479020118713'}, {'id': '1433', 'player_name': 'Federico Chiesa', 'games': '1', 'time': '15', 'goals': '0', 'xG': '0.42075055837631226', 'assists': '0', 'xA': '0', 'shots': '2', 'key_passes': '0', 'yellow_cards': '0', 'red_cards': '0', 'position': 'S', 'team_title': 'Liverpool', 'npg': '0', 'npxG': '0.42075055837631226', 'xGChain': '0.6185906529426575', 'xGBuildup': '0.19784009456634521'}, {'id': '1537', 'player_name': 'Sasa Lukic', 'games': '7', 'time': '558', 'goals': '0', 'xG': '0', 'assists': '0', 'xA': '0.6170338205993176', 'shots': '0', 'key_passes': '4', 'yellow_cards': '4', 'red_cards': '0', 'position': 'M', 'team_title': 'Fulham', 'npg': '0', 'npxG': '0', 'xGChain': '3.197077676653862', 'xGBuildup': '2.9902655631303787'}, {'id': '1545', 'player_name': 'Emil Krafth', 'games': '3', 'time': '241', 'goals': '0', 'xG': '0.027688954025506973', 'assists': '0', 'xA': '0.05894070118665695', 'shots': '1', 'key_passes': '1', 'yellow_cards': '0', 'red_cards': '0', 'position': 'D S', 'team_title': 'Newcastle United', 'npg': '0', 'npxG': '0.027688954025506973', 'xGChain': '0.7825783044099808', 'xGBuildup': '0.7825783044099808'}, {'id': '1654', 'player_name': 'Ben Mee', 'games': '2', 'time': '2', 'goals': '0', 'xG': '0', 'assists': '0', 'xA': '0', 'shots': '0', 'key_passes': '0', 'yellow_cards': '0', 'red_cards': '0', 'position': 'S', 'team_title': 'Brentford', 'npg': '0', 'npxG': '0', 'xGChain': '0', 'xGBuildup': '0'}, {'id': '1665', 'player_name': 'James Tarkowski', 'games': '11', 'time': '990', 'goals': '0', 'xG': '0.6783798695541918', 'assists': '0', 'xA': '0.9864744395017624', 'shots': '8', 'key_passes': '6', 'yellow_cards': '3', 'red_cards': '0', 'position': 'D', 'team_title': 'Everton', 'npg': '0', 'npxG': '0.6783798695541918', 'xGChain': '1.8687264770269394', 'xGBuildup': '1.8131832107901573'}, {'id': '1683', 'player_name': 'Ryan Fraser', 'games': '4', 'time': '143', 'goals': '0', 'xG': '0.025151601061224937', 'assists': '0', 'xA': '0.12699244916439056', 'shots': '1', 'key_passes': '1', 'yellow_cards': '0', 'red_cards': '1', 'position': 'M S', 'team_title': 'Southampton', 'npg': '0', 'npxG': '0.025151601061224937', 'xGChain': '1.3830639943480492', 'xGBuildup': '1.2309199422597885'}, {'id': '1687', 'player_name': 'Harry Maguire', 'games': '5', 'time': '239', 'goals': '0', 'xG': '0.05378216505050659', 'assists': '0', 'xA': '0.021863987669348717', 'shots': '1', 'key_passes': '1', 'yellow_cards': '3', 'red_cards': '0', 'position': 'D S', 'team_title': 'Manchester United', 'npg': '0', 'npxG': '0.05378216505050659', 'xGChain': '0.7484291791915894', 'xGBuildup': '0.7265651971101761'}, {'id': '1688', 'player_name': 'Andrew Robertson', 'games': '10', 'time': '772', 'goals': '0', 'xG': '0.5348606295883656', 'assists': '0', 'xA': '1.8131349831819534', 'shots': '3', 'key_passes': '12', 'yellow_cards': '1', 'red_cards': '0', 'position': 'D S', 'team_title': 'Liverpool', 'npg': '0', 'npxG': '0.5348606295883656', 'xGChain': '6.370872560888529', 'xGBuildup': '5.278033345937729'}, {'id': '1726', 'player_name': 'Abdoulaye Doucouré', 'games': '9', 'time': '661', 'goals': '0', 'xG': '0.42678113281726837', 'assists': '0', 'xA': '0.27435237588360906', 'shots': '5', 'key_passes': '9', 'yellow_cards': '0', 'red_cards': '0', 'position': 'M S', 'team_title': 'Everton', 'npg': '0', 'npxG': '0.42678113281726837', 'xGChain': '1.4446447268128395', 'xGBuildup': '0.9137284308671951'}, {'id': '1735', 'player_name': 'Jack Stephens', 'games': '7', 'time': '591', 'goals': '0', 'xG': '0.13565029203891754', 'assists': '0', 'xA': '0.26126205921173096', 'shots': '1', 'key_passes': '2', 'yellow_cards': '1', 'red_cards': '1', 'position': 'D', 'team_title': 'Southampton', 'npg': '0', 'npxG': '0.13565029203891754', 'xGChain': '0.920559998601675', 'xGBuildup': '0.920559998601675'}, {'id': '1791', 'player_name': 'Trent Alexander-Arnold', 'games': '11', 'time': '886', 'goals': '0', 'xG': '0.3614134732633829', 'assists': '1', 'xA': '3.3131525591015816', 'shots': '10', 'key_passes': '20', 'yellow_cards': '2', 'red_cards': '0', 'position': 'D', 'team_title': 'Liverpool', 'npg': '0', 'npxG': '0.3614134732633829', 'xGChain': '6.7238262593746185', 'xGBuildup': '4.604517471045256'}, {'id': '1823', 'player_name': 'Lucas Digne', 'games': '11', 'time': '884', 'goals': '0', 'xG': '0.4771345257759094', 'assists': '2', 'xA': '3.9885410591959953', 'shots': '6', 'key_passes': '14', 'yellow_cards': '3', 'red_cards': '0', 'position': 'D', 'team_title': 'Aston Villa', 'npg': '0', 'npxG': '0.4771345257759094', 'xGChain': '4.158662334084511', 'xGBuildup': '3.267899736762047'}, {'id': '2182', 'player_name': 'Jefferson Lerma', 'games': '7', 'time': '411', 'goals': '0', 'xG': '0.06964253261685371', 'assists': '0', 'xA': '0.7469603903591633', 'shots': '5', 'key_passes': '4', 'yellow_cards': '3', 'red_cards': '0', 'position': 'D M S', 'team_title': 'Crystal Palace', 'npg': '0', 'npxG': '0.06964253261685371', 'xGChain': '1.50302877696231', 'xGBuildup': '1.4113235627301037'}, {'id': '2203', 'player_name': 'Emiliano Buendía', 'games': '4', 'time': '8', 'goals': '0', 'xG': '0.12902846932411194', 'assists': '0', 'xA': '0', 'shots': '1', 'key_passes': '0', 'yellow_cards': '0', 'red_cards': '0', 'position': 'S', 'team_title': 'Aston Villa', 'npg': '0', 'npxG': '0.12902846932411194', 'xGChain': '0.1664017103612423', 'xGBuildup': '0.1664017103612423'}, {'id': '2310', 'player_name': 'Alphonse Areola', 'games': '8', 'time': '678', 'goals': '0', 'xG': '0', 'assists': '0', 'xA': '0', 'shots': '0', 'key_passes': '0', 'yellow_cards': '0', 'red_cards': '0', 'position': 'GK', 'team_title': 'West Ham', 'npg': '0', 'npxG': '0', 'xGChain': '0.7087226212024689', 'xGBuildup': '0.7087226212024689'}, {'id': '2478', 'player_name': 'Carlos Soler', 'games': '8', 'time': '252', 'goals': '0', 'xG': '0.24175880663096905', 'assists': '0', 'xA': '0.0986651936545968', 'shots': '5', 'key_passes': '3', 'yellow_cards': '3', 'red_cards': '0', 'position': 'M S', 'team_title': 'West Ham', 'npg': '0', 'npxG': '0.24175880663096905', 'xGChain': '0.5367267169058323', 'xGBuildup': '0.275105245411396'}, {'id': '2496', 'player_name': 'Rodri', 'games': '2', 'time': '59', 'goals': '0', 'xG': '0', 'assists': '0', 'xA': '0.052060868591070175', 'shots': '0', 'key_passes': '1', 'yellow_cards': '0', 'red_cards': '0', 'position': 'M S', 'team_title': 'Manchester City', 'npg': '0', 'npxG': '0', 'xGChain': '1.4455500841140747', 'xGBuildup': '1.4455500841140747'}, {'id': '2517', 'player_name': 'Martin Odegaard', 'games': '4', 'time': '348', 'goals': '0', 'xG': '0.930220952257514', 'assists': '1', 'xA': '1.3654604777693748', 'shots': '5', 'key_passes': '9', 'yellow_cards': '1', 'red_cards': '0', 'position': 'M', 'team_title': 'Arsenal', 'npg': '0', 'npxG': '0.930220952257514', 'xGChain': '3.3882207572460175', 'xGBuildup': '2.1806516721844673'}, {'id': '2958', 'player_name': 'Oleksandr Zinchenko', 'games': '3', 'time': '102', 'goals': '0', 'xG': '0', 'assists': '0', 'xA': '0', 'shots': '0', 'key_passes': '0', 'yellow_cards': '0', 'red_cards': '0', 'position': 'D S', 'team_title': 'Arsenal', 'npg': '0', 'npxG': '0', 'xGChain': '0.9696227386593819', 'xGBuildup': '0.9696227386593819'}, {'id': '3203', 'player_name': 'Issa Diop', 'games': '7', 'time': '384', 'goals': '0', 'xG': '0.18112708628177643', 'assists': '0', 'xA': '0.11575043946504593', 'shots': '3', 'key_passes': '2', 'yellow_cards': '1', 'red_cards': '0', 'position': 'D S', 'team_title': 'Fulham', 'npg': '0', 'npxG': '0.18112708628177643', 'xGChain': '2.0265363603830338', 'xGBuildup': '1.966136410832405'}, {'id': '3278', 'player_name': 'Maxwel Cornet', 'games': '2', 'time': '71', 'goals': '0', 'xG': '0.0751236081123352', 'assists': '0', 'xA': '0', 'shots': '1', 'key_passes': '0', 'yellow_cards': '1', 'red_cards': '0', 'position': 'M S', 'team_title': 'Southampton', 'npg': '0', 'npxG': '0.0751236081123352', 'xGChain': '0.0751236081123352', 'xGBuildup': '0'}, {'id': '3303', 'player_name': 'Ricardo Pereira', 'games': '2', 'time': '152', 'goals': '0', 'xG': '0', 'assists': '0', 'xA': '0', 'shots': '0', 'key_passes': '0', 'yellow_cards': '1', 'red_cards': '0', 'position': 'D', 'team_title': 'Leicester', 'npg': '0', 'npxG': '0', 'xGChain': '0.7257481664419174', 'xGBuildup': '0.7257481664419174'}, {'id': '3635', 'player_name': 'Bernardo Silva', 'games': '11', 'time': '827', 'goals': '0', 'xG': '1.9721983596682549', 'assists': '3', 'xA': '2.7877951059490442', 'shots': '17', 'key_passes': '23', 'yellow_cards': '2', 'red_cards': '0', 'position': 'M S', 'team_title': 'Manchester City', 'npg': '0', 'npxG': '1.9721983596682549', 'xGChain': '6.625407956540585', 'xGBuildup': '3.4648128747940063'}, {'id': '3697', 'player_name': 'Odsonne Edouard', 'games': '6', 'time': '131', 'goals': '0', 'xG': '0.32568828761577606', 'assists': '0', 'xA': '0.10593332909047604', 'shots': '5', 'key_passes': '2', 'yellow_cards': '0', 'red_cards': '0', 'position': 'M S', 'team_title': 'Crystal Palace,Leicester', 'npg': '0', 'npxG': '0.32568828761577606', 'xGChain': '0.6215433776378632', 'xGBuildup': '0.18992176093161106'}, {'id': '4120', 'player_name': 'Álex Moreno', 'games': '8', 'time': '636', 'goals': '0', 'xG': '0.16840623132884502', 'assists': '1', 'xA': '0.8366510048508644', 'shots': '5', 'key_passes': '4', 'yellow_cards': '2', 'red_cards': '0', 'position': 'D', 'team_title': 'Nottingham Forest', 'npg': '0', 'npxG': '0.16840623132884502', 'xGChain': '2.1309818997979164', 'xGBuildup': '1.3475618064403534'}, {'id': '4401', 'player_name': 'Emiliano Martinez', 'games': '11', 'time': '990', 'goals': '0', 'xG': '0', 'assists': '0', 'xA': '0', 'shots': '0', 'key_passes': '0', 'yellow_cards': '1', 'red_cards': '0', 'position': 'GK', 'team_title': 'Aston Villa', 'npg': '0', 'npxG': '0', 'xGChain': '1.4087577350437641', 'xGBuildup': '1.4087577350437641'}, {'id': '5061', 'player_name': 'Kepa', 'games': '6', 'time': '540', 'goals': '0', 'xG': '0', 'assists': '0', 'xA': '0.025899898260831833', 'shots': '0', 'key_passes': '1', 'yellow_cards': '0', 'red_cards': '0', 'position': 'GK', 'team_title': 'Bournemouth', 'npg': '0', 'npxG': '0', 'xGChain': '0.5283678658306599', 'xGBuildup': '0.5283678658306599'}, {'id': '5136', 'player_name': 'Estupiñán', 'games': '8', 'time': '519', 'goals': '0', 'xG': '0.43845745362341404', 'assists': '0', 'xA': '0.9610214289277792', 'shots': '5', 'key_passes': '8', 'yellow_cards': '2', 'red_cards': '0', 'position': 'D S', 'team_title': 'Brighton', 'npg': '0', 'npxG': '0.43845745362341404', 'xGChain': '2.725501134991646', 'xGBuildup': '1.703080341219902'}, {'id': '5221', 'player_name': 'Leon Bailey', 'games': '10', 'time': '510', 'goals': '0', 'xG': '0.84160166233778', 'assists': '2', 'xA': '1.7862511612474918', 'shots': '9', 'key_passes': '8', 'yellow_cards': '2', 'red_cards': '0', 'position': 'M S', 'team_title': 'Aston Villa', 'npg': '0', 'npxG': '0.84160166233778', 'xGChain': '2.9385139141231775', 'xGBuildup': '1.3901111353188753'}, {'id': '5543', 'player_name': 'Gabriel Jesus', 'games': '9', 'time': '104', 'goals': '0', 'xG': '0.5086402744054794', 'assists': '0', 'xA': '0.30690932273864746', 'shots': '6', 'key_passes': '3', 'yellow_cards': '3', 'red_cards': '0', 'position': 'F S', 'team_title': 'Arsenal', 'npg': '0', 'npxG': '0.5086402744054794', 'xGChain': '1.13639485090971', 'xGBuildup': '0.4703463315963745'}, {'id': '5545', 'player_name': 'Wilfred Ndidi', 'games': '11', 'time': '930', 'goals': '0', 'xG': '0.62111627869308', 'assists': '4', 'xA': '2.13533384911716', 'shots': '10', 'key_passes': '9', 'yellow_cards': '3', 'red_cards': '0', 'position': 'M', 'team_title': 'Leicester', 'npg': '0', 'npxG': '0.62111627869308', 'xGChain': '6.050252862274647', 'xGBuildup': '3.5006858659908175'}, {'id': '5552', 'player_name': 'Nick Pope', 'games': '11', 'time': '990', 'goals': '0', 'xG': '0', 'assists': '0', 'xA': '0', 'shots': '0', 'key_passes': '0', 'yellow_cards': '1', 'red_cards': '0', 'position': 'GK', 'team_title': 'Newcastle United', 'npg': '0', 'npxG': '0', 'xGChain': '1.7941271774470806', 'xGBuildup': '1.7941271774470806'}, {'id': '5553', 'player_name': 'Declan Rice', 'games': '10', 'time': '843', 'goals': '0', 'xG': '0.8273034133017063', 'assists': '1', 'xA': '1.8705792650580406', 'shots': '10', 'key_passes': '14', 'yellow_cards': '2', 'red_cards': '1', 'position': 'M', 'team_title': 'Arsenal', 'npg': '0', 'npxG': '0.8273034133017063', 'xGChain': '4.281500861048698', 'xGBuildup': '2.4528265222907066'}, {'id': '5560', 'player_name': 'Scott McTominay', 'games': '2', 'time': '15', 'goals': '0', 'xG': '0.12602733075618744', 'assists': '0', 'xA': '0', 'shots': '1', 'key_passes': '0', 'yellow_cards': '0', 'red_cards': '0', 'position': 'S', 'team_title': 'Manchester United', 'npg': '0', 'npxG': '0.12602733075618744', 'xGChain': '0.12602733075618744', 'xGBuildup': '0'}, {'id': '5584', 'player_name': 'Aaron Wan-Bissaka', 'games': '10', 'time': '816', 'goals': '0', 'xG': '0.10580152831971645', 'assists': '0', 'xA': '0.3980767074972391', 'shots': '3', 'key_passes': '8', 'yellow_cards': '0', 'red_cards': '0', 'position': 'D S', 'team_title': 'West Ham', 'npg': '0', 'npxG': '0.10580152831971645', 'xGChain': '1.3833751417696476', 'xGBuildup': '1.114176619797945'}, {'id': '5590', 'player_name': 'Tosin Adarabioyo', 'games': '4', 'time': '180', 'goals': '0', 'xG': '0', 'assists': '0', 'xA': '0.01392056792974472', 'shots': '0', 'key_passes': '1', 'yellow_cards': '1', 'red_cards': '0', 'position': 'D S', 'team_title': 'Chelsea', 'npg': '0', 'npxG': '0', 'xGChain': '1.5821245312690735', 'xGBuildup': '1.5821245312690735'}, {'id': '5603', 'player_name': 'Aaron Ramsdale', 'games': '9', 'time': '810', 'goals': '0', 'xG': '0', 'assists': '0', 'xA': '0', 'shots': '0', 'key_passes': '0', 'yellow_cards': '1', 'red_cards': '0', 'position': 'GK', 'team_title': 'Southampton', 'npg': '0', 'npxG': '0', 'xGChain': '0.645891822874546', 'xGBuildup': '0.645891822874546'}, {'id': '5675', 'player_name': 'Ismaila Sarr', 'games': '11', 'time': '474', 'goals': '0', 'xG': '1.5289625115692616', 'assists': '0', 'xA': '1.4375363904982805', 'shots': '11', 'key_passes': '9', 'yellow_cards': '1', 'red_cards': '0', 'position': 'F M S', 'team_title': 'Crystal Palace', 'npg': '0', 'npxG': '1.5289625115692616', 'xGChain': '3.5744324792176485', 'xGBuildup': '1.0916734542697668'}, {'id': '5682', 'player_name': 'Gonçalo Guedes', 'games': '8', 'time': '100', 'goals': '0', 'xG': '0.07120131142437458', 'assists': '1', 'xA': '0.4364391192793846', 'shots': '2', 'key_passes': '3', 'yellow_cards': '1', 'red_cards': '0', 'position': 'S', 'team_title': 'Wolverhampton Wanderers', 'npg': '0', 'npxG': '0.07120131142437458', 'xGChain': '0.5403024926781654', 'xGBuildup': '0.09761025756597519'}, {'id': '5712', 'player_name': 'Diego Carlos', 'games': '6', 'time': '468', 'goals': '0', 'xG': '0.8065099269151688', 'assists': '0', 'xA': '0', 'shots': '2', 'key_passes': '0', 'yellow_cards': '0', 'red_cards': '0', 'position': 'D S', 'team_title': 'Aston Villa', 'npg': '0', 'npxG': '0.8065099269151688', 'xGChain': '1.834453422576189', 'xGBuildup': '1.834453422576189'}, {'id': '5722', 'player_name': 'Ibrahim Sangare', 'games': '3', 'time': '217', 'goals': '0', 'xG': '0.016365941613912582', 'assists': '0', 'xA': '0.008213658817112446', 'shots': '1', 'key_passes': '1', 'yellow_cards': '2', 'red_cards': '0', 'position': 'M', 'team_title': 'Nottingham Forest', 'npg': '0', 'npxG': '0.016365941613912582', 'xGChain': '0.6643093824386597', 'xGBuildup': '0.639729768037796'}, {'id': '5789', 'player_name': 'Boubacar Kamara', 'games': '3', 'time': '25', 'goals': '0', 'xG': '0', 'assists': '0', 'xA': '0', 'shots': '0', 'key_passes': '0', 'yellow_cards': '1', 'red_cards': '0', 'position': 'S', 'team_title': 'Aston Villa', 'npg': '0', 'npxG': '0', 'xGChain': '0', 'xGBuildup': '0'}, {'id': '5956', 'player_name': 'Youri Tielemans', 'games': '11', 'time': '979', 'goals': '0', 'xG': '0.43475569412112236', 'assists': '3', 'xA': '3.205501100048423', 'shots': '9', 'key_passes': '24', 'yellow_cards': '3', 'red_cards': '0', 'position': 'M', 'team_title': 'Aston Villa', 'npg': '0', 'npxG': '0.43475569412112236', 'xGChain': '8.655094370245934', 'xGBuildup': '7.031075220555067'}, {'id': '5973', 'player_name': 'Kenny Tete', 'games': '11', 'time': '963', 'goals': '0', 'xG': '1.2313095517456532', 'assists': '0', 'xA': '0.11761357821524143', 'shots': '17', 'key_passes': '2', 'yellow_cards': '2', 'red_cards': '0', 'position': 'D', 'team_title': 'Fulham', 'npg': '0', 'npxG': '1.2313095517456532', 'xGChain': '4.354562133550644', 'xGBuildup': '3.816023074090481'}, {'id': '6026', 'player_name': 'Richarlison', 'games': '5', 'time': '78', 'goals': '0', 'xG': '0.3241162896156311', 'assists': '1', 'xA': '0.6825265288352966', 'shots': '1', 'key_passes': '2', 'yellow_cards': '1', 'red_cards': '0', 'position': 'S', 'team_title': 'Tottenham', 'npg': '0', 'npxG': '0.3241162896156311', 'xGChain': '0.6825265288352966', 'xGBuildup': '0'}, {'id': '6034', 'player_name': 'Philip Billing', 'games': '2', 'time': '15', 'goals': '0', 'xG': '0', 'assists': '0', 'xA': '0', 'shots': '0', 'key_passes': '0', 'yellow_cards': '0', 'red_cards': '0', 'position': 'S', 'team_title': 'Bournemouth', 'npg': '0', 'npxG': '0', 'xGChain': '0.03709999844431877', 'xGBuildup': '0.03709999844431877'}, {'id': '6042', 'player_name': 'Jan Bednarek', 'games': '11', 'time': '985', 'goals': '0', 'xG': '0.007854734547436237', 'assists': '0', 'xA': '0.24208732694387436', 'shots': '1', 'key_passes': '3', 'yellow_cards': '3', 'red_cards': '0', 'position': 'D', 'team_title': 'Southampton', 'npg': '0', 'npxG': '0.007854734547436237', 'xGChain': '3.6488070832565427', 'xGBuildup': '3.5879162326455116'}, {'id': '6044', 'player_name': 'Charlie Taylor', 'games': '5', 'time': '204', 'goals': '0', 'xG': '0', 'assists': '0', 'xA': '0.05513033643364906', 'shots': '0', 'key_passes': '1', 'yellow_cards': '1', 'red_cards': '0', 'position': 'D S', 'team_title': 'Southampton', 'npg': '0', 'npxG': '0', 'xGChain': '0.6397589445114136', 'xGBuildup': '0.5846286118030548'}, {'id': '6048', 'player_name': 'Lewis Dunk', 'games': '8', 'time': '710', 'goals': '0', 'xG': '0.3704197257757187', 'assists': '0', 'xA': '0.3716043122112751', 'shots': '3', 'key_passes': '3', 'yellow_cards': '2', 'red_cards': '0', 'position': 'D', 'team_title': 'Brighton', 'npg': '0', 'npxG': '0.3704197257757187', 'xGChain': '3.556677509099245', 'xGBuildup': '3.5383902080357075'}, {'id': '6054', 'player_name': 'Ederson', 'games': '11', 'time': '990', 'goals': '0', 'xG': '0', 'assists': '1', 'xA': '0.20122335851192474', 'shots': '0', 'key_passes': '1', 'yellow_cards': '3', 'red_cards': '0', 'position': 'GK', 'team_title': 'Manchester City', 'npg': '0', 'npxG': '0', 'xGChain': '2.666765185073018', 'xGBuildup': '2.666765185073018'}, {'id': '6055', 'player_name': 'Phil Foden', 'games': '8', 'time': '443', 'goals': '0', 'xG': '0.9454916846007109', 'assists': '1', 'xA': '2.6076707765460014', 'shots': '15', 'key_passes': '17', 'yellow_cards': '0', 'red_cards': '0', 'position': 'M S', 'team_title': 'Manchester City', 'npg': '0', 'npxG': '0.9454916846007109', 'xGChain': '4.118003040552139', 'xGBuildup': '2.0205893740057945'}, {'id': '6063', 'player_name': 'Jacob Murphy', 'games': '9', 'time': '493', 'goals': '0', 'xG': '0.42256050929427147', 'assists': '2', 'xA': '1.110089112073183', 'shots': '7', 'key_passes': '7', 'yellow_cards': '1', 'red_cards': '0', 'position': 'F S', 'team_title': 'Newcastle United', 'npg': '0', 'npxG': '0.42256050929427147', 'xGChain': '2.1306786499917507', 'xGBuildup': '0.7628941759467125'}, {'id': '6080', 'player_name': 'Victor Lindelöf', 'games': '4', 'time': '49', 'goals': '0', 'xG': '0', 'assists': '0', 'xA': '0.05152770131826401', 'shots': '0', 'key_passes': '1', 'yellow_cards': '1', 'red_cards': '0', 'position': 'S', 'team_title': 'Manchester United', 'npg': '0', 'npxG': '0', 'xGChain': '0.1046961210668087', 'xGBuildup': '0.05316841974854469'}, {'id': '6088', 'player_name': 'Orel Mangala', 'games': '8', 'time': '447', 'goals': '0', 'xG': '0.2619098871946335', 'assists': '0', 'xA': '0.2297586426138878', 'shots': '6', 'key_passes': '3', 'yellow_cards': '0', 'red_cards': '0', 'position': 'M S', 'team_title': 'Everton', 'npg': '0', 'npxG': '0.2619098871946335', 'xGChain': '1.7476047948002815', 'xGBuildup': '1.3402580078691244'}, {'id': '6098', 'player_name': 'Niclas Füllkrug', 'games': '3', 'time': '58', 'goals': '0', 'xG': '0.2593321204185486', 'assists': '0', 'xA': '0', 'shots': '2', 'key_passes': '0', 'yellow_cards': '0', 'red_cards': '0', 'position': 'S', 'team_title': 'West Ham', 'npg': '0', 'npxG': '0.2593321204185486', 'xGChain': '0.3679511845111847', 'xGBuildup': '0.1086190789937973'}, {'id': '6104', 'player_name': 'Will Hughes', 'games': '9', 'time': '459', 'goals': '0', 'xG': '0.3014046773314476', 'assists': '0', 'xA': '0.2671193312853575', 'shots': '5', 'key_passes': '9', 'yellow_cards': '5', 'red_cards': '0', 'position': 'M S', 'team_title': 'Crystal Palace', 'npg': '0', 'npxG': '0.3014046773314476', 'xGChain': '1.1040757559239864', 'xGBuildup': '0.6989321187138557'}, {'id': '6145', 'player_name': 'Daichi Kamada', 'games': '11', 'time': '627', 'goals': '0', 'xG': '0.4982820674777031', 'assists': '0', 'xA': '0.5873613301664591', 'shots': '8', 'key_passes': '12', 'yellow_cards': '2', 'red_cards': '1', 'position': 'M S', 'team_title': 'Crystal Palace', 'npg': '0', 'npxG': '0.4982820674777031', 'xGChain': '2.6406544195488095', 'xGBuildup': '1.9468925278633833'}, {'id': '6157', 'player_name': 'Timothy Castagne', 'games': '2', 'time': '27', 'goals': '0', 'xG': '0.08018729835748672', 'assists': '0', 'xA': '0', 'shots': '2', 'key_passes': '0', 'yellow_cards': '0', 'red_cards': '0', 'position': 'S', 'team_title': 'Fulham', 'npg': '0', 'npxG': '0.08018729835748672', 'xGChain': '0.39182599633932114', 'xGBuildup': '0.37635399028658867'}, {'id': '6163', 'player_name': 'Nélson Semedo', 'games': '9', 'time': '786', 'goals': '0', 'xG': '0.5210947347804904', 'assists': '2', 'xA': '0.7815361972898245', 'shots': '5', 'key_passes': '6', 'yellow_cards': '4', 'red_cards': '0', 'position': 'D', 'team_title': 'Wolverhampton Wanderers', 'npg': '0', 'npxG': '0.5210947347804904', 'xGChain': '2.508859308436513', 'xGBuildup': '1.4855196811258793'}, {'id': '6174', 'player_name': 'Nikola Milenkovic', 'games': '10', 'time': '900', 'goals': '0', 'xG': '1.8078351244330406', 'assists': '1', 'xA': '0.5814476609230042', 'shots': '8', 'key_passes': '4', 'yellow_cards': '1', 'red_cards': '0', 'position': 'D', 'team_title': 'Nottingham Forest', 'npg': '0', 'npxG': '1.8078351244330406', 'xGChain': '2.3226586170494556', 'xGBuildup': '1.5670159347355366'}, {'id': '6219', 'player_name': 'Enes Ünal', 'games': '8', 'time': '137', 'goals': '0', 'xG': '0.40479331091046333', 'assists': '0', 'xA': '0.16882450506091118', 'shots': '7', 'key_passes': '2', 'yellow_cards': '1', 'red_cards': '0', 'position': 'F S', 'team_title': 'Bournemouth', 'npg': '0', 'npxG': '0.40479331091046333', 'xGChain': '0.44559923745691776', 'xGBuildup': '0.05491173081099987'}, {'id': '6221', 'player_name': 'Pau Torres', 'games': '11', 'time': '990', 'goals': '0', 'xG': '0.13554370403289795', 'assists': '0', 'xA': '0.018877271562814713', 'shots': '3', 'key_passes': '1', 'yellow_cards': '1', 'red_cards': '0', 'position': 'D', 'team_title': 'Aston Villa', 'npg': '0', 'npxG': '0.13554370403289795', 'xGChain': '4.217810124158859', 'xGBuildup': '4.204615503549576'}, {'id': '6310', 'player_name': 'Boubakary Soumare', 'games': '5', 'time': '132', 'goals': '0', 'xG': '0.06183089315891266', 'assists': '0', 'xA': '0.009648771956562996', 'shots': '1', 'key_passes': '1', 'yellow_cards': '2', 'red_cards': '0', 'position': 'M S', 'team_title': 'Leicester', 'npg': '0', 'npxG': '0.06183089315891266', 'xGChain': '1.6212621368467808', 'xGBuildup': '1.5497824884951115'}, {'id': '6314', 'player_name': 'Joachim Andersen', 'games': '8', 'time': '698', 'goals': '0', 'xG': '0.25243957806378603', 'assists': '0', 'xA': '0.10517191886901855', 'shots': '9', 'key_passes': '1', 'yellow_cards': '1', 'red_cards': '1', 'position': 'D', 'team_title': 'Crystal Palace,Fulham', 'npg': '0', 'npxG': '0.25243957806378603', 'xGChain': '3.5522527396678925', 'xGBuildup': '3.5228581726551056'}, {'id': '6345', 'player_name': 'Jadon Sancho', 'games': '5', 'time': '325', 'goals': '0', 'xG': '0.10478504747152328', 'assists': '3', 'xA': '1.2044463455677032', 'shots': '1', 'key_passes': '8', 'yellow_cards': '1', 'red_cards': '0', 'position': 'M S', 'team_title': 'Chelsea', 'npg': '0', 'npxG': '0.10478504747152328', 'xGChain': '2.365598887205124', 'xGBuildup': '1.1425248458981514'}, {'id': '6418', 'player_name': 'Hamza Choudhury', 'games': '1', 'time': '11', 'goals': '0', 'xG': '0', 'assists': '0', 'xA': '0', 'shots': '0', 'key_passes': '0', 'yellow_cards': '0', 'red_cards': '0', 'position': 'S', 'team_title': 'Leicester', 'npg': '0', 'npxG': '0', 'xGChain': '0', 'xGBuildup': '0'}, {'id': '6424', 'player_name': 'Ben Johnson', 'games': '6', 'time': '398', 'goals': '0', 'xG': '0.03212675452232361', 'assists': '1', 'xA': '0.5162577740848064', 'shots': '1', 'key_passes': '2', 'yellow_cards': '1', 'red_cards': '0', 'position': 'D M S', 'team_title': 'Ipswich', 'npg': '0', 'npxG': '0.03212675452232361', 'xGChain': '0.7009703442454338', 'xGBuildup': '0.18471256643533707'}, {'id': '6482', 'player_name': 'Eddie Nketiah', 'games': '7', 'time': '489', 'goals': '0', 'xG': '0.9659855552017689', 'assists': '0', 'xA': '0.4737574830651283', 'shots': '17', 'key_passes': '7', 'yellow_cards': '1', 'red_cards': '0', 'position': 'F M S', 'team_title': 'Crystal Palace', 'npg': '0', 'npxG': '0.9659855552017689', 'xGChain': '2.6446682289242744', 'xGBuildup': '1.6039048805832863'}, {'id': '6490', 'player_name': 'Manuel Akanji', 'games': '9', 'time': '783', 'goals': '0', 'xG': '0.14647049829363823', 'assists': '0', 'xA': '0.2826728895306587', 'shots': '5', 'key_passes': '6', 'yellow_cards': '1', 'red_cards': '0', 'position': 'D', 'team_title': 'Manchester City', 'npg': '0', 'npxG': '0.14647049829363823', 'xGChain': '7.019590884447098', 'xGBuildup': '6.922849506139755'}, {'id': '6630', 'player_name': 'Joe Willock', 'games': '9', 'time': '312', 'goals': '0', 'xG': '0.4011719152331352', 'assists': '1', 'xA': '1.449927557259798', 'shots': '6', 'key_passes': '11', 'yellow_cards': '1', 'red_cards': '0', 'position': 'M S', 'team_title': 'Newcastle United', 'npg': '0', 'npxG': '0.4011719152331352', 'xGChain': '2.289490684866905', 'xGBuildup': '0.8722743531689048'}, {'id': '6722', 'player_name': 'Konstantinos Mavropanos', 'games': '9', 'time': '651', 'goals': '0', 'xG': '0.19606037065386772', 'assists': '0', 'xA': '0', 'shots': '6', 'key_passes': '0', 'yellow_cards': '1', 'red_cards': '0', 'position': 'D S', 'team_title': 'West Ham', 'npg': '0', 'npxG': '0.19606037065386772', 'xGChain': '1.479995483532548', 'xGBuildup': '1.4330892115831375'}, {'id': '6816', 'player_name': 'Jean-Clair Todibo', 'games': '8', 'time': '495', 'goals': '0', 'xG': '0.09884825348854065', 'assists': '0', 'xA': '0.02975625265389681', 'shots': '2', 'key_passes': '2', 'yellow_cards': '0', 'red_cards': '0', 'position': 'D S', 'team_title': 'West Ham', 'npg': '0', 'npxG': '0.09884825348854065', 'xGChain': '1.0543964393436909', 'xGBuildup': '1.0543964393436909'}, {'id': '6820', 'player_name': 'David Brooks', 'games': '4', 'time': '35', 'goals': '0', 'xG': '0.07475805282592773', 'assists': '0', 'xA': '0.1351032853126526', 'shots': '1', 'key_passes': '1', 'yellow_cards': '0', 'red_cards': '0', 'position': 'S', 'team_title': 'Bournemouth', 'npg': '0', 'npxG': '0.07475805282592773', 'xGChain': '0.09431219659745693', 'xGBuildup': '0.019554143771529198'}, {'id': '6827', 'player_name': 'Bobby Reid', 'games': '6', 'time': '162', 'goals': '0', 'xG': '0.06903266999870539', 'assists': '0', 'xA': '0.09133073687553406', 'shots': '3', 'key_passes': '1', 'yellow_cards': '0', 'red_cards': '0', 'position': 'F M S', 'team_title': 'Leicester', 'npg': '0', 'npxG': '0.06903266999870539', 'xGChain': '0.5771224908530712', 'xGBuildup': '0.5080898404121399'}, {'id': '6835', 'player_name': 'Tom Cairney', 'games': '8', 'time': '99', 'goals': '0', 'xG': '0', 'assists': '0', 'xA': '0.981491768732667', 'shots': '0', 'key_passes': '3', 'yellow_cards': '2', 'red_cards': '0', 'position': 'S', 'team_title': 'Fulham', 'npg': '0', 'npxG': '0', 'xGChain': '2.488152176141739', 'xGBuildup': '2.488152176141739'}, {'id': '6850', 'player_name': 'Willy Boly', 'games': '2', 'time': '91', 'goals': '0', 'xG': '0.08295150846242905', 'assists': '0', 'xA': '0', 'shots': '1', 'key_passes': '0', 'yellow_cards': '0', 'red_cards': '0', 'position': 'D S', 'team_title': 'Nottingham Forest', 'npg': '0', 'npxG': '0.08295150846242905', 'xGChain': '0.08671405166387558', 'xGBuildup': '0.08671405166387558'}, {'id': '6851', 'player_name': 'Conor Coady', 'games': '1', 'time': '4', 'goals': '0', 'xG': '0', 'assists': '0', 'xA': '0', 'shots': '0', 'key_passes': '0', 'yellow_cards': '1', 'red_cards': '0', 'position': 'S', 'team_title': 'Leicester', 'npg': '0', 'npxG': '0', 'xGChain': '0', 'xGBuildup': '0'}, {'id': '6852', 'player_name': 'Matt Doherty', 'games': '5', 'time': '205', 'goals': '0', 'xG': '0.08508986979722977', 'assists': '0', 'xA': '0.09465531259775162', 'shots': '2', 'key_passes': '1', 'yellow_cards': '0', 'red_cards': '0', 'position': 'D S', 'team_title': 'Wolverhampton Wanderers', 'npg': '0', 'npxG': '0.08508986979722977', 'xGChain': '1.0054470896720886', 'xGBuildup': '0.9203572124242783'}, {'id': '6885', 'player_name': 'Axel Disasi', 'games': '2', 'time': '93', 'goals': '0', 'xG': '0', 'assists': '0', 'xA': '0', 'shots': '0', 'key_passes': '0', 'yellow_cards': '0', 'red_cards': '0', 'position': 'D S', 'team_title': 'Chelsea', 'npg': '0', 'npxG': '0', 'xGChain': '0', 'xGBuildup': '0'}, {'id': '6888', 'player_name': 'William Saliba', 'games': '10', 'time': '839', 'goals': '0', 'xG': '0', 'assists': '0', 'xA': '0.5203959345817566', 'shots': '0', 'key_passes': '2', 'yellow_cards': '2', 'red_cards': '1', 'position': 'D', 'team_title': 'Arsenal', 'npg': '0', 'npxG': '0', 'xGChain': '4.369116455316544', 'xGBuildup': '4.369116455316544'}, {'id': '6903', 'player_name': 'Matz Sels', 'games': '11', 'time': '990', 'goals': '0', 'xG': '0', 'assists': '0', 'xA': '0', 'shots': '0', 'key_passes': '0', 'yellow_cards': '2', 'red_cards': '0', 'position': 'GK', 'team_title': 'Nottingham Forest', 'npg': '0', 'npxG': '0', 'xGChain': '0.6732225073501468', 'xGBuildup': '0.6732225073501468'}, {'id': '7027', 'player_name': 'Arijanet Muric', 'games': '10', 'time': '900', 'goals': '0', 'xG': '0', 'assists': '0', 'xA': '0', 'shots': '0', 'key_passes': '0', 'yellow_cards': '1', 'red_cards': '0', 'position': 'GK', 'team_title': 'Ipswich', 'npg': '0', 'npxG': '0', 'xGChain': '0.9725384600460529', 'xGBuildup': '0.9725384600460529'}, {'id': '7047', 'player_name': 'Mark Flekken', 'games': '11', 'time': '990', 'goals': '0', 'xG': '0', 'assists': '0', 'xA': '0', 'shots': '0', 'key_passes': '0', 'yellow_cards': '0', 'red_cards': '0', 'position': 'GK', 'team_title': 'Brentford', 'npg': '0', 'npxG': '0', 'xGChain': '2.6506957868114114', 'xGBuildup': '2.6506957868114114'}, {'id': '7078', 'player_name': 'Sean Longstaff', 'games': '10', 'time': '508', 'goals': '0', 'xG': '0.24765390902757645', 'assists': '0', 'xA': '0.09255623631179333', 'shots': '3', 'key_passes': '2', 'yellow_cards': '2', 'red_cards': '0', 'position': 'M S', 'team_title': 'Newcastle United', 'npg': '0', 'npxG': '0.24765390902757645', 'xGChain': '1.4335213005542755', 'xGBuildup': '1.272144339978695'}, {'id': '7134', 'player_name': 'Marc Cucurella', 'games': '10', 'time': '751', 'goals': '0', 'xG': '0.016726769506931305', 'assists': '0', 'xA': '0.1265256181359291', 'shots': '1', 'key_passes': '2', 'yellow_cards': '6', 'red_cards': '0', 'position': 'D S', 'team_title': 'Chelsea', 'npg': '0', 'npxG': '0.016726769506931305', 'xGChain': '4.280009262263775', 'xGBuildup': '4.263282492756844'}, {'id': '7166', 'player_name': 'Mathias Jensen', 'games': '6', 'time': '346', 'goals': '0', 'xG': '0.17481287848204374', 'assists': '1', 'xA': '0.6136879026889801', 'shots': '3', 'key_passes': '7', 'yellow_cards': '1', 'red_cards': '0', 'position': 'M S', 'team_title': 'Brentford', 'npg': '0', 'npxG': '0.17481287848204374', 'xGChain': '1.9874464962631464', 'xGBuildup': '1.2912628501653671'}, {'id': '7198', 'player_name': 'Oliver Skipp', 'games': '6', 'time': '403', 'goals': '0', 'xG': '0.029214464128017426', 'assists': '0', 'xA': '0.13237480632960796', 'shots': '1', 'key_passes': '3', 'yellow_cards': '2', 'red_cards': '0', 'position': 'M S', 'team_title': 'Leicester', 'npg': '0', 'npxG': '0.029214464128017426', 'xGChain': '0.8262281008064747', 'xGBuildup': '0.6646388350054622'}, {'id': '7235', 'player_name': 'Jason Steele', 'games': '2', 'time': '180', 'goals': '0', 'xG': '0', 'assists': '0', 'xA': '0', 'shots': '0', 'key_passes': '0', 'yellow_cards': '0', 'red_cards': '0', 'position': 'GK', 'team_title': 'Brighton', 'npg': '0', 'npxG': '0', 'xGChain': '0.4078828990459442', 'xGBuildup': '0.4078828990459442'}, {'id': '7240', 'player_name': 'Benoit Badiashile Mukinayi', 'games': '1', 'time': '29', 'goals': '0', 'xG': '0', 'assists': '0', 'xA': '0', 'shots': '0', 'key_passes': '0', 'yellow_cards': '0', 'red_cards': '0', 'position': 'S', 'team_title': 'Chelsea', 'npg': '0', 'npxG': '0', 'xGChain': '0.1603420376777649', 'xGBuildup': '0.1603420376777649'}, {'id': '7281', 'player_name': 'Diogo Dalot', 'games': '11', 'time': '959', 'goals': '0', 'xG': '0.6456167008727789', 'assists': '1', 'xA': '1.4397514909505844', 'shots': '3', 'key_passes': '9', 'yellow_cards': '3', 'red_cards': '0', 'position': 'D', 'team_title': 'Manchester United', 'npg': '0', 'npxG': '0.6456167008727789', 'xGChain': '4.775665022432804', 'xGBuildup': '3.5335834696888924'}, {'id': '7298', 'player_name': 'Ben White', 'games': '9', 'time': '681', 'goals': '0', 'xG': '0.11389949358999729', 'assists': '1', 'xA': '0.41159897297620773', 'shots': '4', 'key_passes': '3', 'yellow_cards': '2', 'red_cards': '0', 'position': 'D S', 'team_title': 'Arsenal', 'npg': '0', 'npxG': '0.11389949358999729', 'xGChain': '2.0501031391322613', 'xGBuildup': '1.9552976004779339'}, {'id': '7332', 'player_name': 'Max Kilman', 'games': '11', 'time': '990', 'goals': '0', 'xG': '1.1399784162640572', 'assists': '1', 'xA': '0.3153066523373127', 'shots': '4', 'key_passes': '6', 'yellow_cards': '3', 'red_cards': '0', 'position': 'D', 'team_title': 'West Ham', 'npg': '0', 'npxG': '1.1399784162640572', 'xGChain': '2.5100820139050484', 'xGBuildup': '2.2033907994627953'}, {'id': '7333', 'player_name': 'Caleb Okoli', 'games': '7', 'time': '630', 'goals': '0', 'xG': '0.33432834409177303', 'assists': '0', 'xA': '0', 'shots': '3', 'key_passes': '0', 'yellow_cards': '1', 'red_cards': '0', 'position': 'D', 'team_title': 'Leicester', 'npg': '0', 'npxG': '0.33432834409177303', 'xGChain': '2.0771385356783867', 'xGBuildup': '2.058438703417778'}, {'id': '7352', 'player_name': 'Tyler Adams', 'games': '3', 'time': '97', 'goals': '0', 'xG': '0.020240508019924164', 'assists': '0', 'xA': '0.09805268608033657', 'shots': '1', 'key_passes': '2', 'yellow_cards': '1', 'red_cards': '0', 'position': 'M S', 'team_title': 'Bournemouth', 'npg': '0', 'npxG': '0.020240508019924164', 'xGChain': '0.2667720839381218', 'xGBuildup': '0.1484788917005062'}, {'id': '7382', 'player_name': 'Dan Burn', 'games': '11', 'time': '990', 'goals': '0', 'xG': '0.7322981357574463', 'assists': '0', 'xA': '0.10920710489153862', 'shots': '7', 'key_passes': '2', 'yellow_cards': '5', 'red_cards': '0', 'position': 'D', 'team_title': 'Newcastle United', 'npg': '0', 'npxG': '0.7322981357574463', 'xGChain': '3.864399738609791', 'xGBuildup': '3.796283610165119'}, {'id': '7420', 'player_name': 'Miguel Almirón', 'games': '5', 'time': '103', 'goals': '0', 'xG': '0.29766908288002014', 'assists': '0', 'xA': '0.11923523992300034', 'shots': '4', 'key_passes': '1', 'yellow_cards': '0', 'red_cards': '0', 'position': 'F S', 'team_title': 'Newcastle United', 'npg': '0', 'npxG': '0.29766908288002014', 'xGChain': '0.43954867124557495', 'xGBuildup': '0.141879603266716'}, {'id': '7438', 'player_name': 'James Garner', 'games': '4', 'time': '251', 'goals': '0', 'xG': '0.06381696462631226', 'assists': '0', 'xA': '0.015559188090264797', 'shots': '2', 'key_passes': '1', 'yellow_cards': '1', 'red_cards': '0', 'position': 'D S', 'team_title': 'Everton', 'npg': '0', 'npxG': '0.06381696462631226', 'xGChain': '0.15876759588718414', 'xGBuildup': '0.14198049157857895'}, {'id': '7546', 'player_name': 'Harvey Elliott', 'games': '1', 'time': '5', 'goals': '0', 'xG': '0', 'assists': '0', 'xA': '0', 'shots': '0', 'key_passes': '0', 'yellow_cards': '0', 'red_cards': '0', 'position': 'S', 'team_title': 'Liverpool', 'npg': '0', 'npxG': '0', 'xGChain': '0', 'xGBuildup': '0'}, {'id': '7582', 'player_name': 'Mark Travers', 'games': '3', 'time': '270', 'goals': '0', 'xG': '0', 'assists': '0', 'xA': '0', 'shots': '0', 'key_passes': '0', 'yellow_cards': '0', 'red_cards': '0', 'position': 'GK', 'team_title': 'Bournemouth', 'npg': '0', 'npxG': '0', 'xGChain': '0.5100627075880766', 'xGBuildup': '0.5100627075880766'}, {'id': '7589', 'player_name': 'Wesley Fofana', 'games': '10', 'time': '869', 'goals': '0', 'xG': '0.17787889018654823', 'assists': '0', 'xA': '0.5068396311253309', 'shots': '2', 'key_passes': '5', 'yellow_cards': '6', 'red_cards': '0', 'position': 'D', 'team_title': 'Chelsea', 'npg': '0', 'npxG': '0.17787889018654823', 'xGChain': '4.3827840611338615', 'xGBuildup': '3.8789674807339907'}, {'id': '7699', 'player_name': 'Adam Webster', 'games': '3', 'time': '83', 'goals': '0', 'xG': '0', 'assists': '0', 'xA': '0', 'shots': '0', 'key_passes': '0', 'yellow_cards': '0', 'red_cards': '0', 'position': 'D S', 'team_title': 'Brighton', 'npg': '0', 'npxG': '0', 'xGChain': '0.5351234897971153', 'xGBuildup': '0.5351234897971153'}, {'id': '7702', 'player_name': 'Dean Henderson', 'games': '11', 'time': '990', 'goals': '0', 'xG': '0.010927668772637844', 'assists': '0', 'xA': '0', 'shots': '1', 'key_passes': '0', 'yellow_cards': '1', 'red_cards': '0', 'position': 'GK', 'team_title': 'Crystal Palace', 'npg': '0', 'npxG': '0.010927668772637844', 'xGChain': '0.6052734684199095', 'xGBuildup': '0.6052734684199095'}, {'id': '7723', 'player_name': 'John McGinn', 'games': '9', 'time': '571', 'goals': '0', 'xG': '0.5518768206238747', 'assists': '0', 'xA': '0.4765108451247215', 'shots': '8', 'key_passes': '4', 'yellow_cards': '2', 'red_cards': '0', 'position': 'M S', 'team_title': 'Aston Villa', 'npg': '0', 'npxG': '0.5518768206238747', 'xGChain': '2.953194320201874', 'xGBuildup': '2.363927621394396'}, {'id': '7768', 'player_name': 'Mason Mount', 'games': '3', 'time': '155', 'goals': '0', 'xG': '0.5107078030705452', 'assists': '0', 'xA': '0.096683818846941', 'shots': '2', 'key_passes': '4', 'yellow_cards': '2', 'red_cards': '0', 'position': 'M S', 'team_title': 'Manchester United', 'npg': '0', 'npxG': '0.5107078030705452', 'xGChain': '1.0648856274783611', 'xGBuildup': '0.4701629877090454'}, {'id': '7814', 'player_name': 'Taiwo Awoniyi', 'games': '8', 'time': '88', 'goals': '0', 'xG': '0.5624362155795097', 'assists': '0', 'xA': '0', 'shots': '4', 'key_passes': '0', 'yellow_cards': '0', 'red_cards': '0', 'position': 'F S', 'team_title': 'Nottingham Forest', 'npg': '0', 'npxG': '0.5624362155795097', 'xGChain': '0.7250148132443428', 'xGBuildup': '0.16257860697805882'}, {'id': '7904', 'player_name': 'Caoimhin Kelleher', 'games': '5', 'time': '450', 'goals': '0', 'xG': '0', 'assists': '0', 'xA': '0', 'shots': '0', 'key_passes': '0', 'yellow_cards': '0', 'red_cards': '0', 'position': 'GK', 'team_title': 'Liverpool', 'npg': '0', 'npxG': '0', 'xGChain': '0.9855566918849945', 'xGBuildup': '0.9855566918849945'}, {'id': '7931', 'player_name': 'Takehiro Tomiyasu', 'games': '1', 'time': '3', 'goals': '0', 'xG': '0.16684184968471527', 'assists': '0', 'xA': '0', 'shots': '1', 'key_passes': '0', 'yellow_cards': '0', 'red_cards': '0', 'position': 'S', 'team_title': 'Arsenal', 'npg': '0', 'npxG': '0.16684184968471527', 'xGChain': '0', 'xGBuildup': '0'}, {'id': '7943', 'player_name': 'Igor Julio', 'games': '6', 'time': '467', 'goals': '0', 'xG': '0.08350001275539398', 'assists': '0', 'xA': '0', 'shots': '1', 'key_passes': '0', 'yellow_cards': '3', 'red_cards': '0', 'position': 'D S', 'team_title': 'Brighton', 'npg': '0', 'npxG': '0.08350001275539398', 'xGChain': '2.8249089308083057', 'xGBuildup': '2.8249089308083057'}, {'id': '7958', 'player_name': 'Sandro Tonali', 'games': '9', 'time': '410', 'goals': '0', 'xG': '0.5231800861656666', 'assists': '1', 'xA': '0.24125026259571314', 'shots': '6', 'key_passes': '4', 'yellow_cards': '3', 'red_cards': '0', 'position': 'M S', 'team_title': 'Newcastle United', 'npg': '0', 'npxG': '0.5231800861656666', 'xGChain': '2.133165717124939', 'xGBuildup': '1.6532292515039444'}, {'id': '7988', 'player_name': 'Billy Gilmour', 'games': '2', 'time': '94', 'goals': '0', 'xG': '0.08454305678606033', 'assists': '0', 'xA': '0', 'shots': '1', 'key_passes': '0', 'yellow_cards': '0', 'red_cards': '0', 'position': 'M S', 'team_title': 'Brighton', 'npg': '0', 'npxG': '0.08454305678606033', 'xGChain': '1.1755258962512016', 'xGBuildup': '1.1755258962512016'}, {'id': '8067', 'player_name': 'Reece James', 'games': '4', 'time': '246', 'goals': '0', 'xG': '0', 'assists': '0', 'xA': '0', 'shots': '0', 'key_passes': '0', 'yellow_cards': '0', 'red_cards': '0', 'position': 'D S', 'team_title': 'Chelsea', 'npg': '0', 'npxG': '0', 'xGChain': '0.45731113851070404', 'xGBuildup': '0.45731113851070404'}, {'id': '8090', 'player_name': 'Lloyd Kelly', 'games': '7', 'time': '211', 'goals': '0', 'xG': '0.13068492710590363', 'assists': '1', 'xA': '0.3348408639431', 'shots': '1', 'key_passes': '1', 'yellow_cards': '1', 'red_cards': '0', 'position': 'D S', 'team_title': 'Newcastle United', 'npg': '0', 'npxG': '0.13068492710590363', 'xGChain': '0.6700900942087173', 'xGBuildup': '0.33524923026561737'}, {'id': '8204', 'player_name': 'Neco Williams', 'games': '9', 'time': '354', 'goals': '0', 'xG': '0.9754558354616165', 'assists': '0', 'xA': '0.2699844464659691', 'shots': '9', 'key_passes': '4', 'yellow_cards': '3', 'red_cards': '0', 'position': 'D S', 'team_title': 'Nottingham Forest', 'npg': '0', 'npxG': '0.9754558354616165', 'xGChain': '1.6112515032291412', 'xGBuildup': '0.5480157360434532'}, {'id': '8214', 'player_name': 'Tyrick Mitchell', 'games': '11', 'time': '948', 'goals': '0', 'xG': '0.24931326881051064', 'assists': '1', 'xA': '2.203275188803673', 'shots': '4', 'key_passes': '12', 'yellow_cards': '0', 'red_cards': '0', 'position': 'D', 'team_title': 'Crystal Palace', 'npg': '0', 'npxG': '0.24931326881051064', 'xGChain': '4.786923110485077', 'xGBuildup': '3.194940485060215'}, {'id': '8224', 'player_name': 'William Smallbone', 'games': '4', 'time': '244', 'goals': '0', 'xG': '0.2582741677761078', 'assists': '0', 'xA': '0.20604629814624786', 'shots': '4', 'key_passes': '3', 'yellow_cards': '0', 'red_cards': '0', 'position': 'M S', 'team_title': 'Southampton', 'npg': '0', 'npxG': '0.2582741677761078', 'xGChain': '1.28419678658247', 'xGBuildup': '1.1761329732835293'}, {'id': '8226', 'player_name': 'Tariq Lamptey', 'games': '1', 'time': '6', 'goals': '0', 'xG': '0', 'assists': '1', 'xA': '0.11369522660970688', 'shots': '0', 'key_passes': '1', 'yellow_cards': '0', 'red_cards': '0', 'position': 'S', 'team_title': 'Brighton', 'npg': '0', 'npxG': '0', 'xGChain': '0.11369522660970688', 'xGBuildup': '0'}, {'id': '8252', 'player_name': 'Nicolás Domínguez', 'games': '9', 'time': '515', 'goals': '0', 'xG': '0.8772522881627083', 'assists': '0', 'xA': '0.059898147359490395', 'shots': '8', 'key_passes': '2', 'yellow_cards': '3', 'red_cards': '0', 'position': 'M S', 'team_title': 'Nottingham Forest', 'npg': '0', 'npxG': '0.8772522881627083', 'xGChain': '1.7950084507465363', 'xGBuildup': '1.435131167061627'}, {'id': '8267', 'player_name': 'Guido Rodríguez', 'games': '11', 'time': '818', 'goals': '0', 'xG': '0.10219005774706602', 'assists': '0', 'xA': '0.03272109106183052', 'shots': '6', 'key_passes': '1', 'yellow_cards': '3', 'red_cards': '0', 'position': 'M', 'team_title': 'West Ham', 'npg': '0', 'npxG': '0.10219005774706602', 'xGChain': '2.0787043794989586', 'xGBuildup': '2.020251639187336'}, {'id': '8285', 'player_name': 'Sander Berge', 'games': '9', 'time': '521', 'goals': '0', 'xG': '0', 'assists': '0', 'xA': '0.32882547564804554', 'shots': '0', 'key_passes': '9', 'yellow_cards': '0', 'red_cards': '0', 'position': 'M S', 'team_title': 'Fulham', 'npg': '0', 'npxG': '0', 'xGChain': '1.8117479160428047', 'xGBuildup': '1.5202446281909943'}, {'id': '8291', 'player_name': 'Daniel Podence', 'games': '2', 'time': '36', 'goals': '0', 'xG': '0.044891152530908585', 'assists': '0', 'xA': '0', 'shots': '1', 'key_passes': '0', 'yellow_cards': '0', 'red_cards': '0', 'position': 'S', 'team_title': 'Wolverhampton Wanderers', 'npg': '0', 'npxG': '0.044891152530908585', 'xGChain': '0.044891152530908585', 'xGBuildup': '0'}, {'id': '8327', 'player_name': 'Bruno Guimarães', 'games': '11', 'time': '985', 'goals': '0', 'xG': '0.5965583007782698', 'assists': '1', 'xA': '0.7273466493934393', 'shots': '14', 'key_passes': '7', 'yellow_cards': '2', 'red_cards': '0', 'position': 'M', 'team_title': 'Newcastle United', 'npg': '0', 'npxG': '0.5965583007782698', 'xGChain': '3.4916749745607376', 'xGBuildup': '2.601879008114338'}, {'id': '8379', 'player_name': 'Alexis Mac Allister', 'games': '11', 'time': '788', 'goals': '0', 'xG': '0.3393756225705147', 'assists': '0', 'xA': '1.1300759296864271', 'shots': '6', 'key_passes': '10', 'yellow_cards': '4', 'red_cards': '0', 'position': 'M S', 'team_title': 'Liverpool', 'npg': '0', 'npxG': '0.3393756225705147', 'xGChain': '7.51992167532444', 'xGBuildup': '6.508444104343653'}, {'id': '8430', 'player_name': 'Chris Richards', 'games': '4', 'time': '349', 'goals': '0', 'xG': '0.13703089952468872', 'assists': '0', 'xA': '0', 'shots': '1', 'key_passes': '0', 'yellow_cards': '1', 'red_cards': '0', 'position': 'D', 'team_title': 'Crystal Palace', 'npg': '0', 'npxG': '0.13703089952468872', 'xGChain': '0.8461181744933128', 'xGBuildup': '0.8461181744933128'}, {'id': '8476', 'player_name': 'Jarrad Branthwaite', 'games': '4', 'time': '184', 'goals': '0', 'xG': '0', 'assists': '0', 'xA': '0', 'shots': '0', 'key_passes': '0', 'yellow_cards': '0', 'red_cards': '0', 'position': 'D S', 'team_title': 'Everton', 'npg': '0', 'npxG': '0', 'xGChain': '0.406061265617609', 'xGBuildup': '0.406061265617609'}, {'id': '8489', 'player_name': 'Jorge Cuenca', 'games': '1', 'time': '1', 'goals': '0', 'xG': '0', 'assists': '0', 'xA': '0', 'shots': '0', 'key_passes': '0', 'yellow_cards': '0', 'red_cards': '0', 'position': 'S', 'team_title': 'Fulham', 'npg': '0', 'npxG': '0', 'xGChain': '0', 'xGBuildup': '0'}, {'id': '8496', 'player_name': 'Tommy Doyle', 'games': '8', 'time': '246', 'goals': '0', 'xG': '0.1348968306556344', 'assists': '1', 'xA': '0.1488692620769143', 'shots': '4', 'key_passes': '3', 'yellow_cards': '0', 'red_cards': '0', 'position': 'M S', 'team_title': 'Wolverhampton Wanderers', 'npg': '0', 'npxG': '0.1348968306556344', 'xGChain': '0.49104626197367907', 'xGBuildup': '0.24771422520279884'}, {'id': '8666', 'player_name': 'Cheick Oumar Doucoure', 'games': '5', 'time': '124', 'goals': '0', 'xG': '0.09687843546271324', 'assists': '0', 'xA': '0', 'shots': '3', 'key_passes': '0', 'yellow_cards': '0', 'red_cards': '0', 'position': 'M S', 'team_title': 'Crystal Palace', 'npg': '0', 'npxG': '0.09687843546271324', 'xGChain': '1.1123169288039207', 'xGBuildup': '1.068849565461278'}, {'id': '8719', 'player_name': 'Kalvin Phillips', 'games': '7', 'time': '557', 'goals': '0', 'xG': '0.31580966524779797', 'assists': '0', 'xA': '0.09477787278592587', 'shots': '6', 'key_passes': '2', 'yellow_cards': '1', 'red_cards': '1', 'position': 'M', 'team_title': 'Ipswich', 'npg': '0', 'npxG': '0.31580966524779797', 'xGChain': '1.5684104319661856', 'xGBuildup': '1.4743966814130545'}, {'id': '8720', 'player_name': 'Jack Harrison', 'games': '11', 'time': '639', 'goals': '0', 'xG': '0.8307317942380905', 'assists': '0', 'xA': '1.3411112613976002', 'shots': '10', 'key_passes': '9', 'yellow_cards': '0', 'red_cards': '0', 'position': 'M S', 'team_title': 'Everton', 'npg': '0', 'npxG': '0.8307317942380905', 'xGChain': '2.331442581489682', 'xGBuildup': '0.4163710866123438'}, {'id': '8756', 'player_name': 'Dara O&#039;Shea', 'games': '8', 'time': '699', 'goals': '0', 'xG': '0.7239946275949478', 'assists': '0', 'xA': '0', 'shots': '9', 'key_passes': '0', 'yellow_cards': '1', 'red_cards': '0', 'position': 'D', 'team_title': 'Ipswich', 'npg': '0', 'npxG': '0.7239946275949478', 'xGChain': '1.0767922326922417', 'xGBuildup': '1.0767922326922417'}, {'id': '8780', 'player_name': 'Joël Veltman', 'games': '10', 'time': '874', 'goals': '0', 'xG': '0.10032586194574833', 'assists': '0', 'xA': '0.4272068366408348', 'shots': '2', 'key_passes': '3', 'yellow_cards': '1', 'red_cards': '0', 'position': 'D', 'team_title': 'Brighton', 'npg': '0', 'npxG': '0.10032586194574833', 'xGChain': '4.288085633888841', 'xGBuildup': '3.81182998791337'}, {'id': '8808', 'player_name': 'Wataru Endo', 'games': '5', 'time': '15', 'goals': '0', 'xG': '0', 'assists': '0', 'xA': '0.022258281707763672', 'shots': '0', 'key_passes': '1', 'yellow_cards': '0', 'red_cards': '0', 'position': 'S', 'team_title': 'Liverpool', 'npg': '0', 'npxG': '0', 'xGChain': '0.11491286009550095', 'xGBuildup': '0.11491286009550095'}, {'id': '8831', 'player_name': 'Iyenoma Destiny Udogie', 'games': '11', 'time': '929', 'goals': '0', 'xG': '0.3497059941291809', 'assists': '1', 'xA': '0.9168924018740654', 'shots': '5', 'key_passes': '11', 'yellow_cards': '2', 'red_cards': '0', 'position': 'D', 'team_title': 'Tottenham', 'npg': '0', 'npxG': '0.3497059941291809', 'xGChain': '5.915198884904385', 'xGBuildup': '5.508229695260525'}, {'id': '8845', 'player_name': 'Hee-Chan Hwang', 'games': '6', 'time': '250', 'goals': '0', 'xG': '0', 'assists': '0', 'xA': '0.27098802849650383', 'shots': '0', 'key_passes': '2', 'yellow_cards': '0', 'red_cards': '0', 'position': 'M S', 'team_title': 'Wolverhampton Wanderers', 'npg': '0', 'npxG': '0', 'xGChain': '0.9821671061217785', 'xGBuildup': '0.7111790776252747'}, {'id': '8852', 'player_name': 'Konstantinos Tsimikas', 'games': '6', 'time': '218', 'goals': '0', 'xG': '0.10366923734545708', 'assists': '0', 'xA': '0.831640362739563', 'shots': '2', 'key_passes': '3', 'yellow_cards': '0', 'red_cards': '0', 'position': 'D S', 'team_title': 'Liverpool', 'npg': '0', 'npxG': '0.10366923734545708', 'xGChain': '1.668687229976058', 'xGBuildup': '1.5650180261582136'}, {'id': '8853', 'player_name': 'Maxence Lacroix', 'games': '8', 'time': '720', 'goals': '0', 'xG': '0.16295535024255514', 'assists': '1', 'xA': '0.6190028935670853', 'shots': '4', 'key_passes': '3', 'yellow_cards': '3', 'red_cards': '0', 'position': 'D', 'team_title': 'Crystal Palace', 'npg': '0', 'npxG': '0.16295535024255514', 'xGChain': '1.1489406395703554', 'xGBuildup': '1.037721762433648'}, {'id': '8858', 'player_name': 'Guglielmo Vicario', 'games': '11', 'time': '990', 'goals': '0', 'xG': '0', 'assists': '0', 'xA': '0', 'shots': '0', 'key_passes': '0', 'yellow_cards': '1', 'red_cards': '0', 'position': 'GK', 'team_title': 'Tottenham', 'npg': '0', 'npxG': '0', 'xGChain': '3.395418204367161', 'xGBuildup': '3.395418204367161'}, {'id': '8864', 'player_name': 'Matthew Cash', 'games': '6', 'time': '431', 'goals': '0', 'xG': '0.0228233952075243', 'assists': '0', 'xA': '0.4765537641942501', 'shots': '1', 'key_passes': '2', 'yellow_cards': '1', 'red_cards': '0', 'position': 'D', 'team_title': 'Aston Villa', 'npg': '0', 'npxG': '0.0228233952075243', 'xGChain': '1.7320582419633865', 'xGBuildup': '1.7320582419633865'}, {'id': '8905', 'player_name': 'Conor Townsend', 'games': '1', 'time': '1', 'goals': '0', 'xG': '0', 'assists': '0', 'xA': '0.03007659874856472', 'shots': '0', 'key_passes': '1', 'yellow_cards': '0', 'red_cards': '0', 'position': 'S', 'team_title': 'Ipswich', 'npg': '0', 'npxG': '0', 'xGChain': '0.03007659874856472', 'xGBuildup': '0'}, {'id': '8940', 'player_name': 'Antonee Robinson', 'games': '11', 'time': '990', 'goals': '0', 'xG': '0.22165943309664726', 'assists': '3', 'xA': '1.1096693649888039', 'shots': '7', 'key_passes': '10', 'yellow_cards': '2', 'red_cards': '0', 'position': 'D', 'team_title': 'Fulham', 'npg': '0', 'npxG': '0.22165943309664726', 'xGChain': '6.681511964648962', 'xGBuildup': '6.177275445312262'}, {'id': '8941', 'player_name': 'Jacob Ramsey', 'games': '10', 'time': '649', 'goals': '0', 'xG': '0.5220721643418074', 'assists': '2', 'xA': '1.3868568325415254', 'shots': '10', 'key_passes': '8', 'yellow_cards': '1', 'red_cards': '0', 'position': 'M S', 'team_title': 'Aston Villa', 'npg': '0', 'npxG': '0.5220721643418074', 'xGChain': '4.797543071210384', 'xGBuildup': '3.5254533030092716'}, {'id': '8961', 'player_name': 'Rúben Dias', 'games': '9', 'time': '721', 'goals': '0', 'xG': '0.766279049217701', 'assists': '0', 'xA': '0.16512998193502426', 'shots': '11', 'key_passes': '4', 'yellow_cards': '3', 'red_cards': '0', 'position': 'D S', 'team_title': 'Manchester City', 'npg': '0', 'npxG': '0.766279049217701', 'xGChain': '5.8969919085502625', 'xGBuildup': '5.812596946954727'}, {'id': '8965', 'player_name': 'Vladimir Coufal', 'games': '5', 'time': '222', 'goals': '0', 'xG': '0.029832908883690834', 'assists': '0', 'xA': '0.1218288242816925', 'shots': '1', 'key_passes': '1', 'yellow_cards': '1', 'red_cards': '0', 'position': 'D S', 'team_title': 'West Ham', 'npg': '0', 'npxG': '0.029832908883690834', 'xGChain': '0.7636226117610931', 'xGBuildup': '0.6417937874794006'}, {'id': '9017', 'player_name': 'Malo Gusto', 'games': '9', 'time': '745', 'goals': '0', 'xG': '0.9824844859540462', 'assists': '0', 'xA': '0.23011429980397224', 'shots': '13', 'key_passes': '5', 'yellow_cards': '2', 'red_cards': '0', 'position': 'D', 'team_title': 'Chelsea', 'npg': '0', 'npxG': '0.9824844859540462', 'xGChain': '4.04162535071373', 'xGBuildup': '2.9930625408887863'}, {'id': '9021', 'player_name': 'Pape Sarr', 'games': '11', 'time': '427', 'goals': '0', 'xG': '0.6626676600426435', 'assists': '2', 'xA': '1.2705853935331106', 'shots': '11', 'key_passes': '6', 'yellow_cards': '1', 'red_cards': '0', 'position': 'M S', 'team_title': 'Tottenham', 'npg': '0', 'npxG': '0.6626676600426435', 'xGChain': '2.5370228812098503', 'xGBuildup': '1.727879662066698'}, {'id': '9098', 'player_name': 'Robert Sánchez', 'games': '11', 'time': '990', 'goals': '0', 'xG': '0', 'assists': '0', 'xA': '0', 'shots': '0', 'key_passes': '0', 'yellow_cards': '2', 'red_cards': '0', 'position': 'GK', 'team_title': 'Chelsea', 'npg': '0', 'npxG': '0', 'xGChain': '3.3706261720508337', 'xGBuildup': '3.3706261720508337'}, {'id': '9105', 'player_name': 'Radu Dragusin', 'games': '4', 'time': '274', 'goals': '0', 'xG': '0.03630290925502777', 'assists': '0', 'xA': '0', 'shots': '1', 'key_passes': '0', 'yellow_cards': '0', 'red_cards': '0', 'position': 'D S', 'team_title': 'Tottenham', 'npg': '0', 'npxG': '0.03630290925502777', 'xGChain': '0.9761526063084602', 'xGBuildup': '0.9761526063084602'}, {'id': '9154', 'player_name': 'Elliot Anderson', 'games': '11', 'time': '630', 'goals': '0', 'xG': '0.9547300599515438', 'assists': '3', 'xA': '2.0646366560831666', 'shots': '15', 'key_passes': '14', 'yellow_cards': '3', 'red_cards': '0', 'position': 'M S', 'team_title': 'Nottingham Forest', 'npg': '0', 'npxG': '0.9547300599515438', 'xGChain': '3.773536179214716', 'xGBuildup': '2.0599303543567657'}, {'id': '9156', 'player_name': 'Kevin Schade', 'games': '11', 'time': '487', 'goals': '0', 'xG': '1.4683191776275635', 'assists': '0', 'xA': '0.12891153618693352', 'shots': '9', 'key_passes': '2', 'yellow_cards': '1', 'red_cards': '0', 'position': 'F M S', 'team_title': 'Brentford', 'npg': '0', 'npxG': '1.4683191776275635', 'xGChain': '3.034099493175745', 'xGBuildup': '1.5132298097014427'}, {'id': '9251', 'player_name': 'Christian Walton', 'games': '1', 'time': '90', 'goals': '0', 'xG': '0', 'assists': '0', 'xA': '0', 'shots': '0', 'key_passes': '0', 'yellow_cards': '0', 'red_cards': '0', 'position': 'GK', 'team_title': 'Ipswich', 'npg': '0', 'npxG': '0', 'xGChain': '0', 'xGBuildup': '0'}, {'id': '9284', 'player_name': 'Jakub Moder', 'games': '2', 'time': '2', 'goals': '0', 'xG': '0', 'assists': '0', 'xA': '0.02918834425508976', 'shots': '0', 'key_passes': '1', 'yellow_cards': '0', 'red_cards': '0', 'position': 'S', 'team_title': 'Brighton', 'npg': '0', 'npxG': '0', 'xGChain': '0.0772198848426342', 'xGBuildup': '0.0772198848426342'}, {'id': '9415', 'player_name': 'Jaden Philogene-Bidace', 'games': '7', 'time': '182', 'goals': '0', 'xG': '0.5531791038811207', 'assists': '0', 'xA': '0', 'shots': '5', 'key_passes': '0', 'yellow_cards': '1', 'red_cards': '1', 'position': 'M S', 'team_title': 'Aston Villa', 'npg': '0', 'npxG': '0.5531791038811207', 'xGChain': '0.714646378532052', 'xGBuildup': '0.502604003995657'}, {'id': '9451', 'player_name': 'Chimuanya Ugochukwu', 'games': '5', 'time': '171', 'goals': '0', 'xG': '0.43911412358283997', 'assists': '0', 'xA': '0.10788759589195251', 'shots': '1', 'key_passes': '2', 'yellow_cards': '1', 'red_cards': '0', 'position': 'M S', 'team_title': 'Southampton', 'npg': '0', 'npxG': '0.43911412358283997', 'xGChain': '0.10788759589195251', 'xGBuildup': '0.0751236081123352'}, {'id': '9509', 'player_name': 'Daniel Jebbison', 'games': '2', 'time': '12', 'goals': '0', 'xG': '0', 'assists': '0', 'xA': '0.02117341011762619', 'shots': '0', 'key_passes': '1', 'yellow_cards': '0', 'red_cards': '0', 'position': 'S', 'team_title': 'Bournemouth', 'npg': '0', 'npxG': '0', 'xGChain': '0.02117341011762619', 'xGBuildup': '0'}, {'id': '9512', 'player_name': 'Valentino Livramento', 'games': '11', 'time': '706', 'goals': '0', 'xG': '0', 'assists': '0', 'xA': '0.30755273438990116', 'shots': '0', 'key_passes': '5', 'yellow_cards': '0', 'red_cards': '0', 'position': 'D S', 'team_title': 'Newcastle United', 'npg': '0', 'npxG': '0', 'xGChain': '3.1134654879570007', 'xGBuildup': '2.8583215922117233'}, {'id': '9524', 'player_name': 'Anthony Elanga', 'games': '11', 'time': '670', 'goals': '0', 'xG': '0.8348561245948076', 'assists': '2', 'xA': '1.5632484909147024', 'shots': '10', 'key_passes': '14', 'yellow_cards': '1', 'red_cards': '0', 'position': 'M S', 'team_title': 'Nottingham Forest', 'npg': '0', 'npxG': '0.8348561245948076', 'xGChain': '2.1789893601089716', 'xGBuildup': '1.2189565505832434'}, {'id': '9554', 'player_name': 'Tim Iroegbunam', 'games': '6', 'time': '380', 'goals': '0', 'xG': '0.1938968524336815', 'assists': '0', 'xA': '0.09728063642978668', 'shots': '4', 'key_passes': '2', 'yellow_cards': '2', 'red_cards': '0', 'position': 'M S', 'team_title': 'Everton', 'npg': '0', 'npxG': '0.1938968524336815', 'xGChain': '1.504760891199112', 'xGBuildup': '1.2135834842920303'}, {'id': '9556', 'player_name': 'William Osula', 'games': '4', 'time': '9', 'goals': '0', 'xG': '0', 'assists': '0', 'xA': '0', 'shots': '0', 'key_passes': '0', 'yellow_cards': '0', 'red_cards': '0', 'position': 'S', 'team_title': 'Newcastle United', 'npg': '0', 'npxG': '0', 'xGChain': '0', 'xGBuildup': '0'}, {'id': '9630', 'player_name': 'Kamaldeen Sulemana', 'games': '2', 'time': '12', 'goals': '0', 'xG': '0.052806008607149124', 'assists': '0', 'xA': '0', 'shots': '1', 'key_passes': '0', 'yellow_cards': '0', 'red_cards': '0', 'position': 'S', 'team_title': 'Southampton', 'npg': '0', 'npxG': '0.052806008607149124', 'xGChain': '0.052806008607149124', 'xGBuildup': '0'}, {'id': '9676', 'player_name': 'David Raya', 'games': '11', 'time': '990', 'goals': '0', 'xG': '0', 'assists': '0', 'xA': '0', 'shots': '0', 'key_passes': '0', 'yellow_cards': '2', 'red_cards': '0', 'position': 'GK', 'team_title': 'Arsenal', 'npg': '0', 'npxG': '0', 'xGChain': '1.7047351151704788', 'xGBuildup': '1.7047351151704788'}, {'id': '9677', 'player_name': 'Kristoffer Ajer', 'games': '8', 'time': '648', 'goals': '0', 'xG': '0.373125821352005', 'assists': '0', 'xA': '0.3193165808916092', 'shots': '1', 'key_passes': '3', 'yellow_cards': '3', 'red_cards': '0', 'position': 'D', 'team_title': 'Brentford', 'npg': '0', 'npxG': '0.373125821352005', 'xGChain': '2.064242210239172', 'xGBuildup': '1.4071312882006168'}, {'id': '9681', 'player_name': 'Frank Onyeka', 'games': '2', 'time': '18', 'goals': '0', 'xG': '0', 'assists': '0', 'xA': '0', 'shots': '0', 'key_passes': '0', 'yellow_cards': '0', 'red_cards': '0', 'position': 'S', 'team_title': 'Brentford', 'npg': '0', 'npxG': '0', 'xGChain': '0', 'xGBuildup': '0'}, {'id': '9685', 'player_name': 'Mads Roerslev', 'games': '9', 'time': '434', 'goals': '0', 'xG': '0.015006943605840206', 'assists': '1', 'xA': '1.2812464088201523', 'shots': '1', 'key_passes': '7', 'yellow_cards': '1', 'red_cards': '0', 'position': 'D S', 'team_title': 'Brentford', 'npg': '0', 'npxG': '0.015006943605840206', 'xGChain': '2.964067231863737', 'xGBuildup': '1.9490882866084576'}, {'id': '9739', 'player_name': 'Kiernan Dewsbury-Hall', 'games': '3', 'time': '26', 'goals': '0', 'xG': '0', 'assists': '0', 'xA': '0.10975684970617294', 'shots': '0', 'key_passes': '1', 'yellow_cards': '0', 'red_cards': '0', 'position': 'S', 'team_title': 'Chelsea', 'npg': '0', 'npxG': '0', 'xGChain': '0.22267432510852814', 'xGBuildup': '0.1129174754023552'}, {'id': '9740', 'player_name': 'José Sá', 'games': '6', 'time': '540', 'goals': '0', 'xG': '0', 'assists': '0', 'xA': '0.02413841150701046', 'shots': '0', 'key_passes': '1', 'yellow_cards': '0', 'red_cards': '0', 'position': 'GK', 'team_title': 'Wolverhampton Wanderers', 'npg': '0', 'npxG': '0', 'xGChain': '0.4032676462084055', 'xGBuildup': '0.37912923470139503'}, {'id': '9752', 'player_name': 'Jesper Lindstrom', 'games': '7', 'time': '345', 'goals': '0', 'xG': '0.8966400064527988', 'assists': '0', 'xA': '1.0293883755803108', 'shots': '12', 'key_passes': '7', 'yellow_cards': '0', 'red_cards': '0', 'position': 'M S', 'team_title': 'Everton', 'npg': '0', 'npxG': '0.8966400064527988', 'xGChain': '1.6451728343963623', 'xGBuildup': '0.7371908947825432'}, {'id': '9788', 'player_name': 'Dominik Szoboszlai', 'games': '11', 'time': '746', 'goals': '0', 'xG': '1.3391199950128794', 'assists': '1', 'xA': '1.7455288097262383', 'shots': '13', 'key_passes': '14', 'yellow_cards': '3', 'red_cards': '0', 'position': 'M S', 'team_title': 'Liverpool', 'npg': '0', 'npxG': '1.3391199950128794', 'xGChain': '8.652544528245926', 'xGBuildup': '6.294816587120295'}, {'id': '9958', 'player_name': 'Yerson Mosquera', 'games': '5', 'time': '448', 'goals': '0', 'xG': '0.4660062603652477', 'assists': '0', 'xA': '0.09450100734829903', 'shots': '2', 'key_passes': '2', 'yellow_cards': '2', 'red_cards': '0', 'position': 'D', 'team_title': 'Wolverhampton Wanderers', 'npg': '0', 'npxG': '0.4660062603652477', 'xGChain': '1.0699441889300942', 'xGBuildup': '0.9818695159628987'}, {'id': '10004', 'player_name': 'Romeo Lavia', 'games': '6', 'time': '359', 'goals': '0', 'xG': '0', 'assists': '1', 'xA': '0.6548607535660267', 'shots': '0', 'key_passes': '5', 'yellow_cards': '1', 'red_cards': '0', 'position': 'M S', 'team_title': 'Chelsea', 'npg': '0', 'npxG': '0', 'xGChain': '1.2688104510307312', 'xGBuildup': '0.6413282305002213'}, {'id': '10012', 'player_name': 'Jakub Kiwior', 'games': '4', 'time': '89', 'goals': '0', 'xG': '0', 'assists': '0', 'xA': '0', 'shots': '0', 'key_passes': '0', 'yellow_cards': '0', 'red_cards': '0', 'position': 'S', 'team_title': 'Arsenal', 'npg': '0', 'npxG': '0', 'xGChain': '0', 'xGBuildup': '0'}, {'id': '10025', 'player_name': 'Lamare Bogarde', 'games': '2', 'time': '171', 'goals': '0', 'xG': '0', 'assists': '0', 'xA': '0.15340229868888855', 'shots': '0', 'key_passes': '1', 'yellow_cards': '1', 'red_cards': '0', 'position': 'D', 'team_title': 'Aston Villa', 'npg': '0', 'npxG': '0', 'xGChain': '1.7147477380931377', 'xGBuildup': '1.5613454096019268'}, {'id': '10036', 'player_name': 'Jeremy Sarmiento', 'games': '1', 'time': '4', 'goals': '0', 'xG': '0', 'assists': '0', 'xA': '0', 'shots': '0', 'key_passes': '0', 'yellow_cards': '0', 'red_cards': '0', 'position': 'S', 'team_title': 'Brighton', 'npg': '0', 'npxG': '0', 'xGChain': '0.09746789187192917', 'xGBuildup': '0.09746789187192917'}, {'id': '10050', 'player_name': 'Micky van de Ven', 'games': '8', 'time': '716', 'goals': '0', 'xG': '0.2344387136399746', 'assists': '2', 'xA': '1.1784075498580933', 'shots': '4', 'key_passes': '2', 'yellow_cards': '4', 'red_cards': '0', 'position': 'D', 'team_title': 'Tottenham', 'npg': '0', 'npxG': '0.2344387136399746', 'xGChain': '4.282705754041672', 'xGBuildup': '3.1042982637882233'}, {'id': '10072', 'player_name': 'Samuel Edozie', 'games': '2', 'time': '57', 'goals': '0', 'xG': '0', 'assists': '0', 'xA': '0.08171311765909195', 'shots': '0', 'key_passes': '1', 'yellow_cards': '1', 'red_cards': '0', 'position': 'S', 'team_title': 'Southampton', 'npg': '0', 'npxG': '0', 'xGChain': '0.6017810702323914', 'xGBuildup': '0.5200679302215576'}, {'id': '10120', 'player_name': 'Conor Bradley', 'games': '6', 'time': '130', 'goals': '0', 'xG': '0.6405927538871765', 'assists': '0', 'xA': '0', 'shots': '2', 'key_passes': '0', 'yellow_cards': '0', 'red_cards': '0', 'position': 'S', 'team_title': 'Liverpool', 'npg': '0', 'npxG': '0.6405927538871765', 'xGChain': '2.0747462268918753', 'xGBuildup': '1.4341534432023764'}, {'id': '10126', 'player_name': 'James McAtee', 'games': '1', 'time': '1', 'goals': '0', 'xG': '0', 'assists': '0', 'xA': '0', 'shots': '0', 'key_passes': '0', 'yellow_cards': '0', 'red_cards': '0', 'position': 'S', 'team_title': 'Manchester City', 'npg': '0', 'npxG': '0', 'xGChain': '0', 'xGBuildup': '0'}, {'id': '10166', 'player_name': 'Kasey McAteer', 'games': '5', 'time': '27', 'goals': '0', 'xG': '0.03443240188062191', 'assists': '0', 'xA': '0', 'shots': '2', 'key_passes': '0', 'yellow_cards': '0', 'red_cards': '0', 'position': 'S', 'team_title': 'Leicester', 'npg': '0', 'npxG': '0.03443240188062191', 'xGChain': '0.7105915248394012', 'xGBuildup': '0.7105915248394012'}, {'id': '10184', 'player_name': 'Archie Gray', 'games': '5', 'time': '34', 'goals': '0', 'xG': '0', 'assists': '0', 'xA': '0', 'shots': '0', 'key_passes': '0', 'yellow_cards': '0', 'red_cards': '0', 'position': 'S', 'team_title': 'Tottenham', 'npg': '0', 'npxG': '0', 'xGChain': '0.08465122431516647', 'xGBuildup': '0.08465122431516647'}, {'id': '10187', 'player_name': 'Jarell Quansah', 'games': '1', 'time': '47', 'goals': '0', 'xG': '0', 'assists': '0', 'xA': '0', 'shots': '0', 'key_passes': '0', 'yellow_cards': '0', 'red_cards': '0', 'position': 'D', 'team_title': 'Liverpool', 'npg': '0', 'npxG': '0', 'xGChain': '0', 'xGBuildup': '0'}, {'id': '10216', 'player_name': 'Lewis Hall', 'games': '11', 'time': '782', 'goals': '0', 'xG': '0', 'assists': '1', 'xA': '1.763850387185812', 'shots': '0', 'key_passes': '12', 'yellow_cards': '3', 'red_cards': '0', 'position': 'D S', 'team_title': 'Newcastle United', 'npg': '0', 'npxG': '0', 'xGChain': '5.622532837092876', 'xGBuildup': '4.270305946469307'}, {'id': '10291', 'player_name': 'Vitalii Mykolenko', 'games': '9', 'time': '745', 'goals': '0', 'xG': '0.11155811557546258', 'assists': '0', 'xA': '0.45980301313102245', 'shots': '4', 'key_passes': '5', 'yellow_cards': '0', 'red_cards': '0', 'position': 'D', 'team_title': 'Everton', 'npg': '0', 'npxG': '0.11155811557546258', 'xGChain': '2.3238243982195854', 'xGBuildup': '1.8253345116972923'}, {'id': '10293', 'player_name': 'Toti', 'games': '9', 'time': '743', 'goals': '0', 'xG': '0.011178994551301003', 'assists': '1', 'xA': '0.6282144412398338', 'shots': '1', 'key_passes': '2', 'yellow_cards': '4', 'red_cards': '0', 'position': 'D', 'team_title': 'Wolverhampton Wanderers', 'npg': '0', 'npxG': '0.011178994551301003', 'xGChain': '0.8633870165795088', 'xGBuildup': '0.7721876408904791'}, {'id': '10301', 'player_name': 'Jens Cajuste', 'games': '5', 'time': '268', 'goals': '0', 'xG': '0.019567854702472687', 'assists': '0', 'xA': '0.0638226680457592', 'shots': '1', 'key_passes': '2', 'yellow_cards': '1', 'red_cards': '0', 'position': 'M S', 'team_title': 'Ipswich', 'npg': '0', 'npxG': '0.019567854702472687', 'xGChain': '0.5954564064741135', 'xGBuildup': '0.5316337533295155'}, {'id': '10327', 'player_name': 'Chiquinho', 'games': '1', 'time': '5', 'goals': '0', 'xG': '0', 'assists': '0', 'xA': '0.016207994893193245', 'shots': '0', 'key_passes': '1', 'yellow_cards': '0', 'red_cards': '0', 'position': 'S', 'team_title': 'Wolverhampton Wanderers', 'npg': '0', 'npxG': '0', 'xGChain': '0.06109914928674698', 'xGBuildup': '0.06109914928674698'}, {'id': '10348', 'player_name': 'Omari Hutchinson', 'games': '10', 'time': '887', 'goals': '0', 'xG': '0.746975788846612', 'assists': '1', 'xA': '1.5060416106134653', 'shots': '14', 'key_passes': '10', 'yellow_cards': '4', 'red_cards': '0', 'position': 'M', 'team_title': 'Ipswich', 'npg': '0', 'npxG': '0.746975788846612', 'xGChain': '4.065555110573769', 'xGBuildup': '2.0532005690038204'}, {'id': '10696', 'player_name': 'Noussair Mazraoui', 'games': '11', 'time': '837', 'goals': '0', 'xG': '0.24036013055592775', 'assists': '1', 'xA': '0.20557907689362764', 'shots': '5', 'key_passes': '4', 'yellow_cards': '1', 'red_cards': '0', 'position': 'D S', 'team_title': 'Manchester United', 'npg': '0', 'npxG': '0.24036013055592775', 'xGChain': '3.0001432076096535', 'xGBuildup': '2.6676867678761482'}, {'id': '10697', 'player_name': 'Ryan Gravenberch', 'games': '11', 'time': '990', 'goals': '0', 'xG': '0.14913491252809763', 'assists': '0', 'xA': '0.5979742519557476', 'shots': '6', 'key_passes': '4', 'yellow_cards': '2', 'red_cards': '0', 'position': 'M', 'team_title': 'Liverpool', 'npg': '0', 'npxG': '0.14913491252809763', 'xGChain': '6.157423846423626', 'xGBuildup': '5.973518002778292'}, {'id': '10718', 'player_name': 'Jay Stansfield', 'games': '1', 'time': '1', 'goals': '0', 'xG': '0', 'assists': '0', 'xA': '0', 'shots': '0', 'key_passes': '0', 'yellow_cards': '0', 'red_cards': '0', 'position': 'S', 'team_title': 'Fulham', 'npg': '0', 'npxG': '0', 'xGChain': '0', 'xGBuildup': '0'}, {'id': '10721', 'player_name': 'Sepp van den Berg', 'games': '9', 'time': '732', 'goals': '0', 'xG': '0.6298583298921585', 'assists': '0', 'xA': '0.06820862367749214', 'shots': '7', 'key_passes': '2', 'yellow_cards': '0', 'red_cards': '0', 'position': 'D S', 'team_title': 'Brentford', 'npg': '0', 'npxG': '0.6298583298921585', 'xGChain': '2.207232759334147', 'xGBuildup': '1.7810511076822877'}, {'id': '10758', 'player_name': 'Harry Toffolo', 'games': '1', 'time': '25', 'goals': '0', 'xG': '0.022599829360842705', 'assists': '0', 'xA': '0', 'shots': '1', 'key_passes': '0', 'yellow_cards': '0', 'red_cards': '0', 'position': 'S', 'team_title': 'Nottingham Forest', 'npg': '0', 'npxG': '0.022599829360842705', 'xGChain': '0.022599829360842705', 'xGBuildup': '0'}, {'id': '10764', 'player_name': 'Djed Spence', 'games': '3', 'time': '54', 'goals': '0', 'xG': '0', 'assists': '0', 'xA': '0', 'shots': '0', 'key_passes': '0', 'yellow_cards': '1', 'red_cards': '0', 'position': 'S', 'team_title': 'Tottenham', 'npg': '0', 'npxG': '0', 'xGChain': '0', 'xGBuildup': '0'}, {'id': '10802', 'player_name': 'Lisandro Martínez', 'games': '10', 'time': '891', 'goals': '0', 'xG': '1.1232068538665771', 'assists': '0', 'xA': '0.107435442507267', 'shots': '7', 'key_passes': '3', 'yellow_cards': '4', 'red_cards': '0', 'position': 'D', 'team_title': 'Manchester United', 'npg': '0', 'npxG': '1.1232068538665771', 'xGChain': '5.219772040843964', 'xGBuildup': '4.475312076508999'}, {'id': '10805', 'player_name': 'Levi Colwill', 'games': '11', 'time': '990', 'goals': '0', 'xG': '0.5614423751831055', 'assists': '0', 'xA': '0.6197349904105067', 'shots': '3', 'key_passes': '3', 'yellow_cards': '3', 'red_cards': '0', 'position': 'D', 'team_title': 'Chelsea', 'npg': '0', 'npxG': '0.5614423751831055', 'xGChain': '6.772589951753616', 'xGBuildup': '6.1832758486270905'}, {'id': '10807', 'player_name': 'Jan Paul van Hecke', 'games': '9', 'time': '728', 'goals': '0', 'xG': '0.10240570828318596', 'assists': '1', 'xA': '0.5960588194429874', 'shots': '3', 'key_passes': '3', 'yellow_cards': '2', 'red_cards': '0', 'position': 'D S', 'team_title': 'Brighton', 'npg': '0', 'npxG': '0.10240570828318596', 'xGChain': '4.197965130209923', 'xGBuildup': '3.881611168384552'}, {'id': '10809', 'player_name': 'Keane Lewis-Potter', 'games': '11', 'time': '780', 'goals': '0', 'xG': '0.731459217146039', 'assists': '1', 'xA': '1.3327374272048473', 'shots': '10', 'key_passes': '9', 'yellow_cards': '1', 'red_cards': '0', 'position': 'D M S', 'team_title': 'Brentford', 'npg': '0', 'npxG': '0.731459217146039', 'xGChain': '2.667374989017844', 'xGBuildup': '0.8077434729784727'}, {'id': '10822', 'player_name': 'Wilson Odobert', 'games': '3', 'time': '167', 'goals': '0', 'xG': '0.7416317705065012', 'assists': '0', 'xA': '0.050035580061376095', 'shots': '6', 'key_passes': '3', 'yellow_cards': '0', 'red_cards': '0', 'position': 'F S', 'team_title': 'Tottenham', 'npg': '0', 'npxG': '0.7416317705065012', 'xGChain': '1.5612449571490288', 'xGBuildup': '0.8033932447433472'}, {'id': '10845', 'player_name': 'Flynn Downes', 'games': '10', 'time': '898', 'goals': '0', 'xG': '0.6749084424227476', 'assists': '0', 'xA': '1.2941725589334965', 'shots': '5', 'key_passes': '12', 'yellow_cards': '4', 'red_cards': '0', 'position': 'M', 'team_title': 'Southampton', 'npg': '0', 'npxG': '0.6749084424227476', 'xGChain': '4.64359126240015', 'xGBuildup': '3.286537539213896'}, {'id': '10847', 'player_name': 'Rico Lewis', 'games': '10', 'time': '779', 'goals': '0', 'xG': '1.033872827887535', 'assists': '2', 'xA': '0.2541711740195751', 'shots': '4', 'key_passes': '5', 'yellow_cards': '1', 'red_cards': '0', 'position': 'D M S', 'team_title': 'Manchester City', 'npg': '0', 'npxG': '1.033872827887535', 'xGChain': '5.696172010153532', 'xGBuildup': '4.582451444119215'}, {'id': '10864', 'player_name': 'Marcos Senesi', 'games': '9', 'time': '777', 'goals': '0', 'xG': '0.6097416877746582', 'assists': '0', 'xA': '0.19967559166252613', 'shots': '1', 'key_passes': '4', 'yellow_cards': '4', 'red_cards': '0', 'position': 'D', 'team_title': 'Bournemouth', 'npg': '0', 'npxG': '0.6097416877746582', 'xGChain': '2.931787870824337', 'xGBuildup': '2.7518555521965027'}, {'id': '10913', 'player_name': 'André Onana', 'games': '11', 'time': '990', 'goals': '0', 'xG': '0', 'assists': '0', 'xA': '0.31468600034713745', 'shots': '0', 'key_passes': '1', 'yellow_cards': '0', 'red_cards': '0', 'position': 'GK', 'team_title': 'Manchester United', 'npg': '0', 'npxG': '0', 'xGChain': '2.90349517762661', 'xGBuildup': '2.5888092070817947'}, {'id': '10945', 'player_name': 'Santiago Bueno', 'games': '6', 'time': '443', 'goals': '0', 'xG': '0.08826123178005219', 'assists': '0', 'xA': '0', 'shots': '1', 'key_passes': '0', 'yellow_cards': '0', 'red_cards': '0', 'position': 'D S', 'team_title': 'Wolverhampton Wanderers', 'npg': '0', 'npxG': '0.08826123178005219', 'xGChain': '1.5462135449051857', 'xGBuildup': '1.5462135449051857'}, {'id': '11000', 'player_name': 'Matheus Nunes', 'games': '8', 'time': '288', 'goals': '0', 'xG': '0.19964437186717987', 'assists': '2', 'xA': '1.1955829225480556', 'shots': '3', 'key_passes': '9', 'yellow_cards': '0', 'red_cards': '0', 'position': 'M S', 'team_title': 'Manchester City', 'npg': '0', 'npxG': '0.19964437186717987', 'xGChain': '1.8886141777038574', 'xGBuildup': '0.7327628135681152'}, {'id': '11058', 'player_name': 'Julio Enciso', 'games': '7', 'time': '64', 'goals': '0', 'xG': '0.16035919077694416', 'assists': '0', 'xA': '0.31042042188346386', 'shots': '5', 'key_passes': '4', 'yellow_cards': '0', 'red_cards': '0', 'position': 'S', 'team_title': 'Brighton', 'npg': '0', 'npxG': '0.16035919077694416', 'xGChain': '0.40472826547920704', 'xGBuildup': '0.06262125074863434'}, {'id': '11094', 'player_name': 'Antony', 'games': '2', 'time': '24', 'goals': '0', 'xG': '0.055743854492902756', 'assists': '0', 'xA': '0.12602733075618744', 'shots': '2', 'key_passes': '1', 'yellow_cards': '0', 'red_cards': '0', 'position': 'S', 'team_title': 'Manchester United', 'npg': '0', 'npxG': '0.055743854492902756', 'xGChain': '0.14897801727056503', 'xGBuildup': '0'}, {'id': '11132', 'player_name': 'Ethan Nwaneri', 'games': '5', 'time': '35', 'goals': '0', 'xG': '0.052524885162711143', 'assists': '0', 'xA': '0.10444483906030655', 'shots': '2', 'key_passes': '1', 'yellow_cards': '0', 'red_cards': '0', 'position': 'S', 'team_title': 'Arsenal', 'npg': '0', 'npxG': '0.052524885162711143', 'xGChain': '0.7420421093702316', 'xGBuildup': '0.5850723721086979'}, {'id': '11146', 'player_name': 'Ryan Trevitt', 'games': '1', 'time': '1', 'goals': '0', 'xG': '0', 'assists': '0', 'xA': '0', 'shots': '0', 'key_passes': '0', 'yellow_cards': '0', 'red_cards': '0', 'position': 'S', 'team_title': 'Brentford', 'npg': '0', 'npxG': '0', 'xGChain': '0', 'xGBuildup': '0'}, {'id': '11167', 'player_name': 'Chadi Riad', 'games': '1', 'time': '90', 'goals': '0', 'xG': '0', 'assists': '0', 'xA': '0', 'shots': '0', 'key_passes': '0', 'yellow_cards': '0', 'red_cards': '0', 'position': 'D', 'team_title': 'Crystal Palace', 'npg': '0', 'npxG': '0', 'xGChain': '0.3966957628726959', 'xGBuildup': '0.3966957628726959'}, {'id': '11174', 'player_name': 'Kobbie Mainoo', 'games': '7', 'time': '577', 'goals': '0', 'xG': '0.11723510548472404', 'assists': '0', 'xA': '0.6999991163611412', 'shots': '4', 'key_passes': '3', 'yellow_cards': '4', 'red_cards': '0', 'position': 'M', 'team_title': 'Manchester United', 'npg': '0', 'npxG': '0.11723510548472404', 'xGChain': '1.8604432865977287', 'xGBuildup': '1.0432090945541859'}, {'id': '11297', 'player_name': 'Carlos Alcaraz', 'games': '1', 'time': '5', 'goals': '0', 'xG': '0.039343107491731644', 'assists': '0', 'xA': '0.05025682970881462', 'shots': '1', 'key_passes': '1', 'yellow_cards': '0', 'red_cards': '0', 'position': 'S', 'team_title': 'Southampton', 'npg': '0', 'npxG': '0.039343107491731644', 'xGChain': '0.07209058851003647', 'xGBuildup': '0.032747477293014526'}, {'id': '11305', 'player_name': 'Mykhailo Mudryk', 'games': '7', 'time': '133', 'goals': '0', 'xG': '0.1225307434797287', 'assists': '0', 'xA': '1.0799011290073395', 'shots': '1', 'key_passes': '2', 'yellow_cards': '0', 'red_cards': '0', 'position': 'M S', 'team_title': 'Chelsea', 'npg': '0', 'npxG': '0.1225307434797287', 'xGChain': '1.4741904512047768', 'xGBuildup': '0.2717585638165474'}, {'id': '11310', 'player_name': 'Brajan Gruda', 'games': '4', 'time': '49', 'goals': '0', 'xG': '0', 'assists': '0', 'xA': '0.0772198848426342', 'shots': '0', 'key_passes': '2', 'yellow_cards': '0', 'red_cards': '0', 'position': 'S', 'team_title': 'Brighton', 'npg': '0', 'npxG': '0', 'xGChain': '0.654648695141077', 'xGBuildup': '0.5774287637323141'}, {'id': '11317', 'player_name': 'Danilo', 'games': '1', 'time': '14', 'goals': '0', 'xG': '0', 'assists': '0', 'xA': '0', 'shots': '0', 'key_passes': '0', 'yellow_cards': '0', 'red_cards': '0', 'position': 'M', 'team_title': 'Nottingham Forest', 'npg': '0', 'npxG': '0', 'xGChain': '0', 'xGBuildup': '0'}, {'id': '11356', 'player_name': 'Enzo Fernández', 'games': '10', 'time': '602', 'goals': '0', 'xG': '0.31775905564427376', 'assists': '1', 'xA': '0.9053786359727383', 'shots': '5', 'key_passes': '12', 'yellow_cards': '1', 'red_cards': '0', 'position': 'M S', 'team_title': 'Chelsea', 'npg': '0', 'npxG': '0.31775905564427376', 'xGChain': '3.950880389660597', 'xGBuildup': '2.88363010622561'}, {'id': '11359', 'player_name': 'James Bree', 'games': '1', 'time': '12', 'goals': '0', 'xG': '0', 'assists': '0', 'xA': '0.027616329491138458', 'shots': '0', 'key_passes': '1', 'yellow_cards': '0', 'red_cards': '0', 'position': 'S', 'team_title': 'Southampton', 'npg': '0', 'npxG': '0', 'xGChain': '0.020174087956547737', 'xGBuildup': '0.020174087956547737'}, {'id': '11360', 'player_name': 'Paul Onuachu', 'games': '5', 'time': '47', 'goals': '0', 'xG': '0.06547609902918339', 'assists': '0', 'xA': '0.052806008607149124', 'shots': '3', 'key_passes': '1', 'yellow_cards': '1', 'red_cards': '0', 'position': 'S', 'team_title': 'Southampton', 'npg': '0', 'npxG': '0.06547609902918339', 'xGChain': '0.09066577441990376', 'xGBuildup': '0'}, {'id': '11367', 'player_name': 'Victor Kristiansen', 'games': '10', 'time': '868', 'goals': '0', 'xG': '0', 'assists': '0', 'xA': '0.3737938404083252', 'shots': '0', 'key_passes': '8', 'yellow_cards': '1', 'red_cards': '0', 'position': 'D', 'team_title': 'Leicester', 'npg': '0', 'npxG': '0', 'xGChain': '2.274778988212347', 'xGBuildup': '2.1580956764519215'}, {'id': '11383', 'player_name': 'Renato Veiga', 'games': '5', 'time': '136', 'goals': '0', 'xG': '0.13544834405183792', 'assists': '0', 'xA': '0', 'shots': '3', 'key_passes': '0', 'yellow_cards': '2', 'red_cards': '0', 'position': 'M S', 'team_title': 'Chelsea', 'npg': '0', 'npxG': '0.13544834405183792', 'xGChain': '0.8124905750155449', 'xGBuildup': '0.798570029437542'}, {'id': '11385', 'player_name': 'Yasin Ayari', 'games': '9', 'time': '490', 'goals': '0', 'xG': '0.618009902536869', 'assists': '0', 'xA': '0.7797734178602695', 'shots': '8', 'key_passes': '9', 'yellow_cards': '2', 'red_cards': '0', 'position': 'M S', 'team_title': 'Brighton', 'npg': '0', 'npxG': '0.618009902536869', 'xGChain': '1.7965164445340633', 'xGBuildup': '1.2589684128761292'}, {'id': '11486', 'player_name': 'Illia Zabarnyi', 'games': '11', 'time': '990', 'goals': '0', 'xG': '0.4036499857902527', 'assists': '0', 'xA': '0.06154754012823105', 'shots': '2', 'key_passes': '1', 'yellow_cards': '1', 'red_cards': '0', 'position': 'D', 'team_title': 'Bournemouth', 'npg': '0', 'npxG': '0.4036499857902527', 'xGChain': '2.495458956807852', 'xGBuildup': '2.4339114166796207'}, {'id': '11618', 'player_name': 'Samuel Amo-Ameyaw', 'games': '1', 'time': '5', 'goals': '0', 'xG': '0.032747477293014526', 'assists': '0', 'xA': '0.039343107491731644', 'shots': '1', 'key_passes': '1', 'yellow_cards': '0', 'red_cards': '0', 'position': 'S', 'team_title': 'Southampton', 'npg': '0', 'npxG': '0.032747477293014526', 'xGChain': '0.07209058851003647', 'xGBuildup': '0'}, {'id': '11633', 'player_name': 'Marc Guiu', 'games': '1', 'time': '17', 'goals': '0', 'xG': '0', 'assists': '0', 'xA': '0', 'shots': '0', 'key_passes': '0', 'yellow_cards': '0', 'red_cards': '0', 'position': 'S', 'team_title': 'Chelsea', 'npg': '0', 'npxG': '0', 'xGChain': '0', 'xGBuildup': '0'}, {'id': '11707', 'player_name': 'Jurriën Timber', 'games': '9', 'time': '704', 'goals': '0', 'xG': '0.35544752329587936', 'assists': '1', 'xA': '0.6966781914234161', 'shots': '6', 'key_passes': '10', 'yellow_cards': '3', 'red_cards': '0', 'position': 'D S', 'team_title': 'Arsenal', 'npg': '0', 'npxG': '0.35544752329587936', 'xGChain': '2.4329552687704563', 'xGBuildup': '2.019664440304041'}, {'id': '11709', 'player_name': 'Milos Kerkez', 'games': '11', 'time': '938', 'goals': '0', 'xG': '0.20695333741605282', 'assists': '2', 'xA': '1.2686922773718834', 'shots': '7', 'key_passes': '10', 'yellow_cards': '2', 'red_cards': '0', 'position': 'D', 'team_title': 'Bournemouth', 'npg': '0', 'npxG': '0.20695333741605282', 'xGChain': '2.8928255438804626', 'xGBuildup': '1.8051968775689602'}, {'id': '11711', 'player_name': 'Bart Verbruggen', 'games': '9', 'time': '810', 'goals': '0', 'xG': '0', 'assists': '0', 'xA': '0', 'shots': '0', 'key_passes': '0', 'yellow_cards': '2', 'red_cards': '0', 'position': 'GK', 'team_title': 'Brighton', 'npg': '0', 'npxG': '0', 'xGChain': '1.68498888425529', 'xGBuildup': '1.68498888425529'}, {'id': '11719', 'player_name': 'Chiedozie Ogbene', 'games': '5', 'time': '237', 'goals': '0', 'xG': '0', 'assists': '0', 'xA': '0.07338971272110939', 'shots': '0', 'key_passes': '2', 'yellow_cards': '0', 'red_cards': '0', 'position': 'M S', 'team_title': 'Ipswich', 'npg': '0', 'npxG': '0', 'xGChain': '0.08639794308692217', 'xGBuildup': '0.013008230365812778'}, {'id': '11728', 'player_name': 'Calvin Bassey', 'games': '11', 'time': '990', 'goals': '0', 'xG': '0.2771231746301055', 'assists': '0', 'xA': '0', 'shots': '6', 'key_passes': '0', 'yellow_cards': '3', 'red_cards': '0', 'position': 'D', 'team_title': 'Fulham', 'npg': '0', 'npxG': '0.2771231746301055', 'xGChain': '3.8513394072651863', 'xGBuildup': '3.8163008764386177'}, {'id': '11735', 'player_name': 'Sávio', 'games': '8', 'time': '554', 'goals': '0', 'xG': '1.5736125074326992', 'assists': '2', 'xA': '2.6337049957364798', 'shots': '15', 'key_passes': '18', 'yellow_cards': '2', 'red_cards': '0', 'position': 'F M S', 'team_title': 'Manchester City', 'npg': '0', 'npxG': '1.5736125074326992', 'xGChain': '4.343574613332748', 'xGBuildup': '1.1380762979388237'}, {'id': '11745', 'player_name': 'Julián Araujo', 'games': '8', 'time': '353', 'goals': '0', 'xG': '0', 'assists': '0', 'xA': '0', 'shots': '0', 'key_passes': '0', 'yellow_cards': '1', 'red_cards': '0', 'position': 'D S', 'team_title': 'Bournemouth', 'npg': '0', 'npxG': '0', 'xGChain': '1.139654466882348', 'xGBuildup': '1.139654466882348'}, {'id': '11766', 'player_name': 'Manuel Ugarte', 'games': '6', 'time': '282', 'goals': '0', 'xG': '0.02312275394797325', 'assists': '0', 'xA': '0.5072909593582153', 'shots': '1', 'key_passes': '1', 'yellow_cards': '2', 'red_cards': '0', 'position': 'M S', 'team_title': 'Manchester United', 'npg': '0', 'npxG': '0.02312275394797325', 'xGChain': '1.7724072262644768', 'xGBuildup': '1.7724072262644768'}, {'id': '11772', 'player_name': 'Yehor Yarmolyuk', 'games': '7', 'time': '124', 'goals': '0', 'xG': '0.1864568442106247', 'assists': '0', 'xA': '0.015751954168081284', 'shots': '3', 'key_passes': '1', 'yellow_cards': '1', 'red_cards': '0', 'position': 'M S', 'team_title': 'Brentford', 'npg': '0', 'npxG': '0.1864568442106247', 'xGChain': '0.4879872128367424', 'xGBuildup': '0.2857784144580364'}, {'id': '11807', 'player_name': 'Ian Maatsen', 'games': '9', 'time': '115', 'goals': '0', 'xG': '0.010048355907201767', 'assists': '0', 'xA': '0.7016814202070236', 'shots': '1', 'key_passes': '7', 'yellow_cards': '0', 'red_cards': '0', 'position': 'S', 'team_title': 'Aston Villa', 'npg': '0', 'npxG': '0.010048355907201767', 'xGChain': '2.754878468811512', 'xGBuildup': '2.3692536214366555'}, {'id': '11815', 'player_name': 'Ben Brereton Díaz', 'games': '7', 'time': '404', 'goals': '0', 'xG': '1.3112603276968002', 'assists': '0', 'xA': '0.1556207612156868', 'shots': '11', 'key_passes': '3', 'yellow_cards': '1', 'red_cards': '0', 'position': 'F M S', 'team_title': 'Southampton', 'npg': '0', 'npxG': '1.3112603276968002', 'xGChain': '2.001358740031719', 'xGBuildup': '0.5646974295377731'}, {'id': '11926', 'player_name': 'Edson Álvarez', 'games': '8', 'time': '411', 'goals': '0', 'xG': '0.09138322994112968', 'assists': '0', 'xA': '0.15495584812015295', 'shots': '3', 'key_passes': '4', 'yellow_cards': '2', 'red_cards': '1', 'position': 'D M S', 'team_title': 'West Ham', 'npg': '0', 'npxG': '0.09138322994112968', 'xGChain': '0.8522465787827969', 'xGBuildup': '0.6059074942022562'}, {'id': '11943', 'player_name': 'Dean Huijsen', 'games': '5', 'time': '214', 'goals': '0', 'xG': '0.1995042786002159', 'assists': '0', 'xA': '0.10644965060055256', 'shots': '2', 'key_passes': '4', 'yellow_cards': '1', 'red_cards': '0', 'position': 'D S', 'team_title': 'Bournemouth', 'npg': '0', 'npxG': '0.1995042786002159', 'xGChain': '0.9711486529558897', 'xGBuildup': '0.7659240681678057'}, {'id': '12014', 'player_name': 'Jake O&#039;Brien', 'games': '1', 'time': '19', 'goals': '0', 'xG': '0', 'assists': '0', 'xA': '0', 'shots': '0', 'key_passes': '0', 'yellow_cards': '1', 'red_cards': '0', 'position': 'S', 'team_title': 'Everton', 'npg': '0', 'npxG': '0', 'xGChain': '0.10426479578018188', 'xGBuildup': '0.10426479578018188'}, {'id': '12149', 'player_name': 'Alex Scott', 'games': '8', 'time': '261', 'goals': '0', 'xG': '0.0798612916842103', 'assists': '0', 'xA': '0.2395208366215229', 'shots': '3', 'key_passes': '5', 'yellow_cards': '0', 'red_cards': '0', 'position': 'M S', 'team_title': 'Bournemouth', 'npg': '0', 'npxG': '0.0798612916842103', 'xGChain': '1.694986336864531', 'xGBuildup': '1.3756042569875717'}, {'id': '12272', 'player_name': 'Myles Lewis-Skelly', 'games': '2', 'time': '11', 'goals': '0', 'xG': '0', 'assists': '0', 'xA': '0', 'shots': '0', 'key_passes': '0', 'yellow_cards': '1', 'red_cards': '0', 'position': 'S', 'team_title': 'Arsenal', 'npg': '0', 'npxG': '0', 'xGChain': '0.09494198858737946', 'xGBuildup': '0.09494198858737946'}, {'id': '12408', 'player_name': 'Daniel Muñoz', 'games': '11', 'time': '910', 'goals': '0', 'xG': '1.4858251735568047', 'assists': '1', 'xA': '1.3194137550890446', 'shots': '10', 'key_passes': '11', 'yellow_cards': '4', 'red_cards': '0', 'position': 'D', 'team_title': 'Crystal Palace', 'npg': '0', 'npxG': '1.4858251735568047', 'xGChain': '4.398186348378658', 'xGBuildup': '2.8609593138098717'}, {'id': '12409', 'player_name': 'Adam Wharton', 'games': '8', 'time': '635', 'goals': '0', 'xG': '0.2038054820150137', 'assists': '0', 'xA': '0.6202060170471668', 'shots': '9', 'key_passes': '8', 'yellow_cards': '0', 'red_cards': '0', 'position': 'M', 'team_title': 'Crystal Palace', 'npg': '0', 'npxG': '0.2038054820150137', 'xGChain': '2.200185479596257', 'xGBuildup': '1.6853581918403506'}, {'id': '12461', 'player_name': 'Toby Collyer', 'games': '1', 'time': '39', 'goals': '0', 'xG': '0', 'assists': '0', 'xA': '0.017393389716744423', 'shots': '0', 'key_passes': '1', 'yellow_cards': '0', 'red_cards': '0', 'position': 'S', 'team_title': 'Manchester United', 'npg': '0', 'npxG': '0', 'xGChain': '0.5418434739112854', 'xGBuildup': '0.5244500637054443'}, {'id': '12603', 'player_name': 'Mikey Moore', 'games': '4', 'time': '81', 'goals': '0', 'xG': '0.05237334221601486', 'assists': '0', 'xA': '0', 'shots': '1', 'key_passes': '0', 'yellow_cards': '0', 'red_cards': '0', 'position': 'F S', 'team_title': 'Tottenham', 'npg': '0', 'npxG': '0.05237334221601486', 'xGChain': '0.3548663482069969', 'xGBuildup': '0.30249300599098206'}, {'id': '12633', 'player_name': 'Yunus Konak', 'games': '4', 'time': '13', 'goals': '0', 'xG': '0.10903885960578918', 'assists': '0', 'xA': '0', 'shots': '1', 'key_passes': '0', 'yellow_cards': '0', 'red_cards': '0', 'position': 'S', 'team_title': 'Brentford', 'npg': '0', 'npxG': '0.10903885960578918', 'xGChain': '0.10903885960578918', 'xGBuildup': '0'}, {'id': '12745', 'player_name': 'Jacob Greaves', 'games': '7', 'time': '630', 'goals': '0', 'xG': '0.7821923438459635', 'assists': '0', 'xA': '0', 'shots': '5', 'key_passes': '0', 'yellow_cards': '1', 'red_cards': '0', 'position': 'D', 'team_title': 'Ipswich', 'npg': '0', 'npxG': '0.7821923438459635', 'xGChain': '1.5700285583734512', 'xGBuildup': '1.5700285583734512'}, {'id': '12746', 'player_name': 'Luke Woolfenden', 'games': '5', 'time': '369', 'goals': '0', 'xG': '0.0580514557659626', 'assists': '0', 'xA': '0', 'shots': '1', 'key_passes': '0', 'yellow_cards': '1', 'red_cards': '0', 'position': 'D S', 'team_title': 'Ipswich', 'npg': '0', 'npxG': '0.0580514557659626', 'xGChain': '0.20070099830627441', 'xGBuildup': '0.20070099830627441'}, {'id': '12747', 'player_name': 'Massimo Luongo', 'games': '5', 'time': '147', 'goals': '0', 'xG': '0', 'assists': '0', 'xA': '0', 'shots': '0', 'key_passes': '0', 'yellow_cards': '0', 'red_cards': '0', 'position': 'M S', 'team_title': 'Ipswich', 'npg': '0', 'npxG': '0', 'xGChain': '0', 'xGBuildup': '0'}, {'id': '12749', 'player_name': 'Wes Burns', 'games': '8', 'time': '423', 'goals': '0', 'xG': '0.1900392286479473', 'assists': '0', 'xA': '1.3953060507774353', 'shots': '3', 'key_passes': '4', 'yellow_cards': '1', 'red_cards': '0', 'position': 'M S', 'team_title': 'Ipswich', 'npg': '0', 'npxG': '0.1900392286479473', 'xGChain': '1.755240086466074', 'xGBuildup': '0.6443884409964085'}, {'id': '12750', 'player_name': 'Conor Chaplin', 'games': '9', 'time': '273', 'goals': '0', 'xG': '0.18321989476680756', 'assists': '1', 'xA': '0.4540877565741539', 'shots': '4', 'key_passes': '3', 'yellow_cards': '1', 'red_cards': '0', 'position': 'M S', 'team_title': 'Ipswich', 'npg': '0', 'npxG': '0.18321989476680756', 'xGChain': '0.9196403250098228', 'xGBuildup': '0.43539485335350037'}, {'id': '12751', 'player_name': 'Ali Al-Hamadi', 'games': '3', 'time': '24', 'goals': '0', 'xG': '0', 'assists': '0', 'xA': '0.057140130549669266', 'shots': '0', 'key_passes': '1', 'yellow_cards': '2', 'red_cards': '0', 'position': 'S', 'team_title': 'Ipswich', 'npg': '0', 'npxG': '0', 'xGChain': '0.057140130549669266', 'xGBuildup': '0.057140130549669266'}, {'id': '12753', 'player_name': 'Marcus Harness', 'games': '2', 'time': '37', 'goals': '0', 'xG': '0', 'assists': '0', 'xA': '0', 'shots': '0', 'key_passes': '0', 'yellow_cards': '0', 'red_cards': '0', 'position': 'S', 'team_title': 'Ipswich', 'npg': '0', 'npxG': '0', 'xGChain': '0', 'xGBuildup': '0'}, {'id': '12754', 'player_name': 'Jack Taylor', 'games': '6', 'time': '108', 'goals': '0', 'xG': '0.192556862719357', 'assists': '0', 'xA': '0', 'shots': '5', 'key_passes': '0', 'yellow_cards': '2', 'red_cards': '0', 'position': 'S', 'team_title': 'Ipswich', 'npg': '0', 'npxG': '0.192556862719357', 'xGChain': '1.4370409846305847', 'xGBuildup': '1.4240327551960945'}, {'id': '12755', 'player_name': 'Cameron Burgess', 'games': '4', 'time': '360', 'goals': '0', 'xG': '0.14793798699975014', 'assists': '0', 'xA': '0.04493486136198044', 'shots': '4', 'key_passes': '1', 'yellow_cards': '0', 'red_cards': '0', 'position': 'D', 'team_title': 'Ipswich', 'npg': '0', 'npxG': '0.14793798699975014', 'xGChain': '0.9965063333511353', 'xGBuildup': '0.9515714645385742'}, {'id': '12756', 'player_name': 'Rodrigo Gomes', 'games': '5', 'time': '104', 'goals': '0', 'xG': '0.04844758007675409', 'assists': '0', 'xA': '0', 'shots': '2', 'key_passes': '0', 'yellow_cards': '0', 'red_cards': '0', 'position': 'M S', 'team_title': 'Wolverhampton Wanderers', 'npg': '0', 'npxG': '0.04844758007675409', 'xGChain': '0.04844758007675409', 'xGBuildup': '0'}, {'id': '12757', 'player_name': 'Harrison Armstrong', 'games': '1', 'time': '1', 'goals': '0', 'xG': '0', 'assists': '0', 'xA': '0', 'shots': '0', 'key_passes': '0', 'yellow_cards': '0', 'red_cards': '0', 'position': 'S', 'team_title': 'Everton', 'npg': '0', 'npxG': '0', 'xGChain': '0', 'xGBuildup': '0'}, {'id': '12758', 'player_name': 'Mats Wieffer', 'games': '7', 'time': '229', 'goals': '0', 'xG': '0.3589936550706625', 'assists': '1', 'xA': '0.23436692915856838', 'shots': '2', 'key_passes': '4', 'yellow_cards': '0', 'red_cards': '0', 'position': 'M S', 'team_title': 'Brighton', 'npg': '0', 'npxG': '0.3589936550706625', 'xGChain': '1.896999318152666', 'xGBuildup': '1.3774567171931267'}, {'id': '12765', 'player_name': 'Eric da Silva Moreira', 'games': '1', 'time': '1', 'goals': '0', 'xG': '0', 'assists': '0', 'xA': '0', 'shots': '0', 'key_passes': '0', 'yellow_cards': '0', 'red_cards': '0', 'position': 'S', 'team_title': 'Nottingham Forest', 'npg': '0', 'npxG': '0', 'xGChain': '0', 'xGBuildup': '0'}, {'id': '12766', 'player_name': 'Jota Silva', 'games': '10', 'time': '190', 'goals': '0', 'xG': '0.40394848585128784', 'assists': '1', 'xA': '0.7470964323729277', 'shots': '4', 'key_passes': '4', 'yellow_cards': '1', 'red_cards': '0', 'position': 'S', 'team_title': 'Nottingham Forest', 'npg': '0', 'npxG': '0.40394848585128784', 'xGChain': '0.8257313948124647', 'xGBuildup': '0.006775896064937115'}, {'id': '12774', 'player_name': 'Andy Irving', 'games': '3', 'time': '24', 'goals': '0', 'xG': '0.0210413821041584', 'assists': '0', 'xA': '0', 'shots': '1', 'key_passes': '0', 'yellow_cards': '1', 'red_cards': '0', 'position': 'S', 'team_title': 'West Ham', 'npg': '0', 'npxG': '0.0210413821041584', 'xGChain': '0.08413614332675934', 'xGBuildup': '0.06309476494789124'}, {'id': '12775', 'player_name': 'Kosta Nedeljkovic', 'games': '3', 'time': '89', 'goals': '0', 'xG': '0', 'assists': '0', 'xA': '0', 'shots': '0', 'key_passes': '0', 'yellow_cards': '0', 'red_cards': '0', 'position': 'S', 'team_title': 'Aston Villa', 'npg': '0', 'npxG': '0', 'xGChain': '0.16700515523552895', 'xGBuildup': '0.16700515523552895'}, {'id': '12910', 'player_name': 'Mads Hermansen', 'games': '11', 'time': '990', 'goals': '0', 'xG': '0', 'assists': '0', 'xA': '0', 'shots': '0', 'key_passes': '0', 'yellow_cards': '0', 'red_cards': '0', 'position': 'GK', 'team_title': 'Leicester', 'npg': '0', 'npxG': '0', 'xGChain': '1.7798629254102707', 'xGBuildup': '1.7798629254102707'}, {'id': '12911', 'player_name': 'Abdul Fatawu', 'games': '11', 'time': '571', 'goals': '0', 'xG': '0.46604868955910206', 'assists': '2', 'xA': '1.4724965319037437', 'shots': '13', 'key_passes': '6', 'yellow_cards': '0', 'red_cards': '0', 'position': 'D F M S', 'team_title': 'Leicester', 'npg': '0', 'npxG': '0.46604868955910206', 'xGChain': '2.3615895370021462', 'xGBuildup': '1.3566849753260612'}, {'id': '12912', 'player_name': 'Lucas Bergvall', 'games': '5', 'time': '31', 'goals': '0', 'xG': '0.13792484626173973', 'assists': '0', 'xA': '0.3241162896156311', 'shots': '2', 'key_passes': '1', 'yellow_cards': '0', 'red_cards': '0', 'position': 'S', 'team_title': 'Tottenham', 'npg': '0', 'npxG': '0.13792484626173973', 'xGChain': '0.13792484626173973', 'xGBuildup': '0'}, {'id': '12946', 'player_name': 'Roman Dixon', 'games': '1', 'time': '90', 'goals': '0', 'xG': '0', 'assists': '0', 'xA': '0', 'shots': '0', 'key_passes': '0', 'yellow_cards': '0', 'red_cards': '0', 'position': 'D', 'team_title': 'Everton', 'npg': '0', 'npxG': '0', 'xGChain': '0.08859848231077194', 'xGBuildup': '0.08859848231077194'}, {'id': '12947', 'player_name': 'George Edmundson', 'games': '1', 'time': '1', 'goals': '0', 'xG': '0', 'assists': '0', 'xA': '0', 'shots': '0', 'key_passes': '0', 'yellow_cards': '0', 'red_cards': '0', 'position': 'S', 'team_title': 'Ipswich', 'npg': '0', 'npxG': '0', 'xGChain': '0', 'xGBuildup': '0'}, {'id': '12948', 'player_name': 'Mateus Fernandes', 'games': '10', 'time': '719', 'goals': '0', 'xG': '1.1188840121030807', 'assists': '1', 'xA': '1.5620147660374641', 'shots': '7', 'key_passes': '8', 'yellow_cards': '3', 'red_cards': '0', 'position': 'M S', 'team_title': 'Southampton', 'npg': '0', 'npxG': '1.1188840121030807', 'xGChain': '4.085569009184837', 'xGBuildup': '1.9175522923469543'}, {'id': '13019', 'player_name': 'Jack Clarke', 'games': '9', 'time': '342', 'goals': '0', 'xG': '0.8130062222480774', 'assists': '1', 'xA': '0.7805557623505592', 'shots': '7', 'key_passes': '5', 'yellow_cards': '1', 'red_cards': '0', 'position': 'M S', 'team_title': 'Ipswich', 'npg': '0', 'npxG': '0.8130062222480774', 'xGChain': '1.6985289752483368', 'xGBuildup': '0.2639392539858818'}, {'id': '13020', 'player_name': 'Bilal El Khannouss', 'games': '7', 'time': '197', 'goals': '0', 'xG': '0.1158916987478733', 'assists': '0', 'xA': '0.5863035954535007', 'shots': '2', 'key_passes': '5', 'yellow_cards': '0', 'red_cards': '0', 'position': 'M S', 'team_title': 'Leicester', 'npg': '0', 'npxG': '0.1158916987478733', 'xGChain': '0.33730607479810715', 'xGBuildup': '0.14284102246165276'}, {'id': '13022', 'player_name': 'André', 'games': '7', 'time': '371', 'goals': '0', 'xG': '0.05370125826448202', 'assists': '0', 'xA': '0.12393552251160145', 'shots': '2', 'key_passes': '3', 'yellow_cards': '2', 'red_cards': '0', 'position': 'M S', 'team_title': 'Wolverhampton Wanderers', 'npg': '0', 'npxG': '0.05370125826448202', 'xGChain': '1.5187319703400135', 'xGBuildup': '1.3835188187658787'}, {'id': '13026', 'player_name': 'Luis Guilherme', 'games': '2', 'time': '7', 'goals': '0', 'xG': '0', 'assists': '0', 'xA': '0', 'shots': '0', 'key_passes': '0', 'yellow_cards': '0', 'red_cards': '0', 'position': 'S', 'team_title': 'West Ham', 'npg': '0', 'npxG': '0', 'xGChain': '0', 'xGBuildup': '0'}, {'id': '13038', 'player_name': 'Justin Devenny', 'games': '1', 'time': '77', 'goals': '0', 'xG': '0.04416843503713608', 'assists': '0', 'xA': '0.28808486461639404', 'shots': '1', 'key_passes': '2', 'yellow_cards': '0', 'red_cards': '0', 'position': 'M', 'team_title': 'Crystal Palace', 'npg': '0', 'npxG': '0.04416843503713608', 'xGChain': '0.1572875678539276', 'xGBuildup': '0.09672978520393372'}, {'id': '13039', 'player_name': 'Asher Agbinone', 'games': '2', 'time': '2', 'goals': '0', 'xG': '0.015191496349871159', 'assists': '0', 'xA': '0.023866645991802216', 'shots': '1', 'key_passes': '1', 'yellow_cards': '0', 'red_cards': '0', 'position': 'S', 'team_title': 'Crystal Palace', 'npg': '0', 'npxG': '0.015191496349871159', 'xGChain': '0.036948622204363346', 'xGBuildup': '0.01308197621256113'}, {'id': '13060', 'player_name': 'Ross Stewart', 'games': '4', 'time': '120', 'goals': '0', 'xG': '0.12977846339344978', 'assists': '0', 'xA': '0', 'shots': '2', 'key_passes': '0', 'yellow_cards': '1', 'red_cards': '0', 'position': 'F S', 'team_title': 'Southampton', 'npg': '0', 'npxG': '0.12977846339344978', 'xGChain': '0.19294807687401772', 'xGBuildup': '0.13781774044036865'}, {'id': '13068', 'player_name': 'Morato', 'games': '5', 'time': '53', 'goals': '0', 'xG': '0', 'assists': '0', 'xA': '0', 'shots': '0', 'key_passes': '0', 'yellow_cards': '0', 'red_cards': '0', 'position': 'S', 'team_title': 'Nottingham Forest', 'npg': '0', 'npxG': '0', 'xGChain': '0.0805721003562212', 'xGBuildup': '0.0805721003562212'}, {'id': '13092', 'player_name': 'Carlos Forbs', 'games': '5', 'time': '168', 'goals': '0', 'xG': '0.11073242872953415', 'assists': '0', 'xA': '0.03507748618721962', 'shots': '1', 'key_passes': '1', 'yellow_cards': '2', 'red_cards': '0', 'position': 'M S', 'team_title': 'Wolverhampton Wanderers', 'npg': '0', 'npxG': '0.11073242872953415', 'xGChain': '0.4441770389676094', 'xGBuildup': '0.29836712777614594'}, {'id': '13103', 'player_name': 'Vítezslav Jaros', 'games': '1', 'time': '9', 'goals': '0', 'xG': '0', 'assists': '0', 'xA': '0', 'shots': '0', 'key_passes': '0', 'yellow_cards': '0', 'red_cards': '0', 'position': 'S', 'team_title': 'Liverpool', 'npg': '0', 'npxG': '0', 'xGChain': '0', 'xGBuildup': '0'}, {'id': '13130', 'player_name': 'Caleb Kporha', 'games': '1', 'time': '1', 'goals': '0', 'xG': '0', 'assists': '0', 'xA': '0', 'shots': '0', 'key_passes': '0', 'yellow_cards': '0', 'red_cards': '0', 'position': 'S', 'team_title': 'Crystal Palace', 'npg': '0', 'npxG': '0', 'xGChain': '0.01308197621256113', 'xGBuildup': '0.01308197621256113'}, {'id': '13133', 'player_name': 'Harry Clarke', 'games': '2', 'time': '98', 'goals': '0', 'xG': '0', 'assists': '0', 'xA': '0', 'shots': '0', 'key_passes': '0', 'yellow_cards': '0', 'red_cards': '1', 'position': 'D S', 'team_title': 'Ipswich', 'npg': '0', 'npxG': '0', 'xGChain': '0.13693657517433167', 'xGBuildup': '0.13693657517433167'}, {'id': '13134', 'player_name': 'Ryan Manning', 'games': '5', 'time': '349', 'goals': '0', 'xG': '0.06889019906520844', 'assists': '0', 'xA': '0.38887426257133484', 'shots': '1', 'key_passes': '7', 'yellow_cards': '1', 'red_cards': '0', 'position': 'D M', 'team_title': 'Southampton', 'npg': '0', 'npxG': '0.06889019906520844', 'xGChain': '0.9748959764838219', 'xGBuildup': '0.7749390676617622'}, {'id': '13185', 'player_name': 'Jahmai Simpson-Pusey', 'games': '1', 'time': '90', 'goals': '0', 'xG': '0', 'assists': '0', 'xA': '0', 'shots': '0', 'key_passes': '0', 'yellow_cards': '1', 'red_cards': '0', 'position': 'D', 'team_title': 'Manchester City', 'npg': '0', 'npxG': '0', 'xGChain': '0.9961417317390442', 'xGBuildup': '0.9961417317390442'}]\n"
     ]
    }
   ],
   "source": [
    "import requests\n",
    "from bs4 import BeautifulSoup\n",
    "import jsonb\n",
    "import re\n",
    "import pandas as pd\n",
    "from itables import show\n",
    "import json\n",
    "\n",
    "def get_parsed_html(url: str):\n",
    "    headers = {\n",
    "        \"User-Agent\": \"Mozilla/5.0 (Windows NT 10.0; Win64; x64) AppleWebKit/537.36 (KHTML, like Gecko) Chrome/85.0.4183.121 Safari/537.36\"\n",
    "    }\n",
    "    try:\n",
    "        response = requests.get(url, headers=headers)\n",
    "        response.raise_for_status()\n",
    "        soup = BeautifulSoup(response.text, 'html.parser')\n",
    "        return soup\n",
    "    except requests.exceptions.RequestException as e:\n",
    "        print(f\"Error fetching the page: {e}\")\n",
    "        return None\n",
    "\n",
    "def extract_players_data(soup):\n",
    "    try:\n",
    "        scripts = soup.find_all('script')\n",
    "        for script in scripts:\n",
    "            if 'var playersData' in script.text:\n",
    "                match = re.search(r\"var playersData\\s*=\\s*JSON\\.parse\\((.*?)\\);\", script.text, re.DOTALL)\n",
    "                if match:\n",
    "                    json_data = match.group(1)\n",
    "                    clean_data = json_data.strip(\"'\").encode('utf-8').decode('unicode_escape')\n",
    "                    players_data = json.loads(clean_data)\n",
    "                    return players_data\n",
    "        print(\"playersData not found in scripts.\")\n",
    "        return None\n",
    "    except Exception as e:\n",
    "        print(f\"Error extracting playersData: {e}\")\n",
    "        return None\n",
    "\n",
    "url = \"https://understat.com/league/EPL/2024\"\n",
    "parsed_html = get_parsed_html(url)\n",
    "\n",
    "if parsed_html:\n",
    "    players_data = extract_players_data(parsed_html)\n",
    "    if players_data:\n",
    "        print(\"Extracted playersData:\")\n",
    "        print(players_data)\n",
    "    else:\n",
    "        print(\"No playersData found.\")"
   ]
  },
  {
   "cell_type": "code",
   "execution_count": null,
   "metadata": {},
   "outputs": [],
   "source": [
    "import requests\n",
    "from bs4 import BeautifulSoup\n",
    "import jsonb\n",
    "import re\n",
    "import pandas as pd\n",
    "from itables import show\n",
    "\n",
    "def get_parsed_html(url: str):\n",
    "    headers = {\n",
    "        \"User-Agent\": \"Mozilla/5.0 (Windows NT 10.0; Win64; x64) AppleWebKit/537.36 (KHTML, like Gecko) Chrome/85.0.4183.121 Safari/537.36\"\n",
    "    }\n",
    "    try:\n",
    "        response = requests.get(url, headers=headers)\n",
    "        response.raise_for_status()\n",
    "        soup = BeautifulSoup(response.text, 'html.parser')\n",
    "        return soup\n",
    "    except requests.exceptions.RequestException as e:\n",
    "        print(f\"Error fetching the page: {e}\")\n",
    "        return None\n",
    "\n",
    "def extract_players_data(soup):\n",
    "    try:\n",
    "        scripts = soup.find_all('script')\n",
    "        for script in scripts:\n",
    "            if 'var playersData' in script.text:\n",
    "                match = re.search(r\"var playersData\\s*=\\s*JSON\\.parse\\((.*?)\\);\", script.text, re.DOTALL)\n",
    "                if match:\n",
    "                    json_data = match.group(1)\n",
    "                    clean_data = json_data.strip(\"'\").encode('utf-8').decode('unicode_escape')\n",
    "                    players_data = json.loads(clean_data)\n",
    "                    return players_data\n",
    "        print(\"playersData not found in scripts.\")\n",
    "        return None\n",
    "    except Exception as e:\n",
    "        print(f\"Error extracting playersData: {e}\")\n",
    "        return None\n",
    "\n",
    "url = \"https://understat.com/league/EPL/2024\"\n",
    "parsed_html = get_parsed_html(url)\n",
    "\n",
    "if parsed_html:\n",
    "    players_data = extract_players_data(parsed_html)\n",
    "    if players_data:\n",
    "        print(\"Extracted playersData:\")\n",
    "        print(players_data)\n",
    "    else:\n",
    "        print(\"No playersData found.\")\n",
    "\n",
    "understat_leagues = [\n",
    "    \"EPL\",\n",
    "    \"La_liga\",\n",
    "    \"Bundesliga\",\n",
    "    \"Serie_A\",\n",
    "    \"Ligue_1\",\n",
    "    \"RFPL\"\n",
    "]\n",
    "\n",
    "def get_understat_url(league_name, year=\"2024\"):\n",
    "    \"\"\"\n",
    "    Constructs the Understat league URL based on the league name.\n",
    "\n",
    "    Args:\n",
    "        league_name (str): The name of the league (e.g., \"EPL\", \"La_liga\").\n",
    "        year (str): The season year (default is \"2024\").\n",
    "\n",
    "    Returns:\n",
    "        str: The constructed URL for the given league and year.\n",
    "    \"\"\"\n",
    "    base_url = \"https://understat.com/league/\"\n",
    "    if league_name not in understat_leagues:\n",
    "        return f\"League name '{league_name}' is not valid. Available options: {', '.join(understat_leagues)}\"\n",
    "    return f\"{base_url}{league_name}/{year}\"\n",
    "\n",
    "df = pd.DataFrame(players_data)\n",
    "\n",
    "numerical_columns = ['games', 'time', 'goals', 'xG', 'assists', 'xA', 'shots', \n",
    "                     'key_passes', 'yellow_cards', 'red_cards', 'npg', 'npxG', \n",
    "                     'xGChain', 'xGBuildup']\n",
    "df[numerical_columns] = df[numerical_columns].apply(pd.to_numeric)\n",
    "\n",
    "features = ['goals', 'shots', 'xG', 'xA', 'npg', 'npxG', 'xGChain', 'xGBuildup']\n",
    "X = df[features]"
   ]
  },
  {
   "cell_type": "code",
   "execution_count": 19,
   "metadata": {},
   "outputs": [
    {
     "name": "stdout",
     "output_type": "stream",
     "text": [
      "Cluster Means:\n",
      "             goals      shots        xG        xA       npg      npxG  \\\n",
      "Cluster                                                                \n",
      "0        0.112403   2.213178  0.209627  0.174752  0.112403  0.209627   \n",
      "1        2.092593  16.703704  2.415188  1.591065  1.962963  2.274231   \n",
      "2        5.454545  28.590909  5.232070  1.954902  5.090909  4.920683   \n",
      "3        0.366667   7.091667  0.616203  0.915004  0.366667  0.616203   \n",
      "\n",
      "          xGChain  xGBuildup  \n",
      "Cluster                       \n",
      "0        0.900113   0.645100  \n",
      "1        5.030772   2.172732  \n",
      "2        7.471729   1.919010  \n",
      "3        3.939192   3.115098  \n"
     ]
    },
    {
     "data": {
      "application/vnd.plotly.v1+json": {
       "config": {
        "plotlyServerURL": "https://plot.ly"
       },
       "data": [
        {
         "customdata": [
          [
           "Erling Haaland",
           "Manchester City",
           12,
           0,
           12.19233638048172,
           0.8076825514435768,
           56,
           "Playmakers"
          ],
          [
           "Mohamed Salah",
           "Liverpool",
           8,
           6,
           6.820769935846329,
           4.119314484298229,
           33,
           "Playmakers"
          ],
          [
           "Chris Wood",
           "Nottingham Forest",
           8,
           0,
           5.410878539085388,
           0.9723502080887556,
           21,
           "Playmakers"
          ],
          [
           "Bryan Mbeumo",
           "Brentford",
           8,
           1,
           3.876813374459744,
           2.668507620692253,
           22,
           "Playmakers"
          ],
          [
           "Cole Palmer",
           "Chelsea",
           7,
           5,
           4.462653700262308,
           5.694535098969936,
           36,
           "Playmakers"
          ],
          [
           "Danny Welbeck",
           "Brighton",
           6,
           2,
           5.4741688296198845,
           0.6503015272319317,
           31,
           "Playmakers"
          ],
          [
           "Yoane Wissa",
           "Brentford",
           6,
           1,
           4.773863971233368,
           0.3643055185675621,
           15,
           "Playmakers"
          ],
          [
           "Liam Delap",
           "Ipswich",
           6,
           1,
           3.7847188264131546,
           0.8839982524514198,
           17,
           "Playmakers"
          ],
          [
           "Nicolas Jackson",
           "Chelsea",
           6,
           3,
           6.447972226887941,
           1.4042654149234295,
           25,
           "Playmakers"
          ],
          [
           "Matheus Cunha",
           "Wolverhampton Wanderers",
           5,
           2,
           2.673553194850683,
           3.440244935452938,
           31,
           "Playmakers"
          ],
          [
           "Ollie Watkins",
           "Aston Villa",
           5,
           2,
           7.316819779574871,
           1.4366883859038353,
           26,
           "Playmakers"
          ],
          [
           "Luis Díaz",
           "Liverpool",
           5,
           2,
           3.5787587631493807,
           2.001560683362186,
           18,
           "Playmakers"
          ],
          [
           "Dominic Solanke",
           "Tottenham",
           4,
           1,
           6.258076209574938,
           0.6110040321946144,
           24,
           "Playmakers"
          ],
          [
           "Raúl Jiménez",
           "Fulham",
           4,
           2,
           5.331250585615635,
           2.8686302825808525,
           27,
           "Playmakers"
          ],
          [
           "Kai Havertz",
           "Arsenal",
           4,
           1,
           5.9272512048482895,
           1.1521874573081732,
           28,
           "Playmakers"
          ],
          [
           "Alexander Isak",
           "Newcastle United",
           4,
           2,
           4.7289333157241344,
           1.3217075616121292,
           26,
           "Playmakers"
          ],
          [
           "Brennan Johnson",
           "Tottenham",
           4,
           0,
           5.288712278008461,
           0.9397517926990986,
           33,
           "Playmakers"
          ],
          [
           "Noni Madueke",
           "Chelsea",
           4,
           0,
           3.8883137926459312,
           0.861623004078865,
           31,
           "Playmakers"
          ],
          [
           "Antoine Semenyo",
           "Bournemouth",
           4,
           1,
           5.208117000758648,
           2.578628594055772,
           48,
           "Playmakers"
          ],
          [
           "Evanilson",
           "Bournemouth",
           4,
           0,
           4.381535226479173,
           0.7508833184838295,
           19,
           "Playmakers"
          ],
          [
           "Bukayo Saka",
           "Arsenal",
           3,
           7,
           3.1735004149377346,
           6.512149639427662,
           31,
           "Playmakers"
          ],
          [
           "Alejandro Garnacho",
           "Manchester United",
           3,
           1,
           4.1065501645207405,
           0.96752124466002,
           31,
           "Playmakers"
          ]
         ],
         "hovertemplate": "Cluster Label=%{customdata[7]}<br>PCA1=%{x}<br>PCA2=%{y}<br>player_name=%{customdata[0]}<br>team_title=%{customdata[1]}<br>goals=%{customdata[2]}<br>assists=%{customdata[3]}<br>xG=%{customdata[4]}<br>xA=%{customdata[5]}<br>shots=%{customdata[6]}<extra></extra>",
         "legendgroup": "Playmakers",
         "marker": {
          "color": "#636efa",
          "symbol": "circle"
         },
         "mode": "markers",
         "name": "Playmakers",
         "orientation": "v",
         "showlegend": true,
         "type": "scatter",
         "x": [
          16.169845224312326,
          11.122199547388792,
          7.491237143439607,
          7.00331633650827,
          9.46075334189846,
          7.9247946588111,
          6.323815824393526,
          5.734373487884186,
          8.410615076574077,
          6.322623089614057,
          8.453000392173827,
          6.229887284893851,
          6.721099980632192,
          6.586392453989714,
          7.021147651130416,
          5.739608384403872,
          6.849885584787146,
          5.377280136978635,
          8.204092330273365,
          4.5599188899350676,
          6.782530523349241,
          5.153050386702885
         ],
         "xaxis": "x",
         "y": [
          -6.462830458799185,
          0.8066435760945685,
          -3.5656907954851795,
          -1.1170365267415898,
          0.4215904891640885,
          -1.932099444832188,
          -2.6131278683565413,
          -2.5706677539803686,
          -2.5200444357929963,
          -0.10528464825359445,
          -2.265296380032766,
          0.056911168678306444,
          -2.125911844142978,
          -0.4906011354607639,
          -1.565666470349032,
          -2.2114051948755318,
          -1.3312793955453823,
          -1.687000946295174,
          -0.6391365161973255,
          -2.4531562004968226,
          2.2588783301607718,
          -1.2661182011979362
         ],
         "yaxis": "y"
        },
        {
         "customdata": [
          [
           "Jamie Vardy",
           "Leicester",
           4,
           1,
           3.332536891102791,
           0.8984279930591583,
           12,
           "All-Rounders"
          ],
          [
           "Harvey Barnes",
           "Newcastle United",
           4,
           1,
           2.039169277995825,
           1.7315004169940948,
           18,
           "All-Rounders"
          ],
          [
           "Jørgen Strand Larsen",
           "Wolverhampton Wanderers",
           4,
           1,
           2.546615205705166,
           1.3164223115891218,
           15,
           "All-Rounders"
          ],
          [
           "Jhon Durán",
           "Aston Villa",
           4,
           0,
           2.7376702651381493,
           0.0569250509142875,
           14,
           "All-Rounders"
          ],
          [
           "Son Heung-Min",
           "Tottenham",
           3,
           3,
           1.4013580325990915,
           3.347576178610325,
           16,
           "All-Rounders"
          ],
          [
           "Jarrod Bowen",
           "West Ham",
           3,
           2,
           2.467731537297368,
           3.7842036932706833,
           24,
           "All-Rounders"
          ],
          [
           "Mateo Kovacic",
           "Manchester City",
           3,
           0,
           0.8774153850972652,
           1.5581321120262146,
           20,
           "All-Rounders"
          ],
          [
           "Harry Wilson",
           "Fulham",
           3,
           0,
           0.7900689840316772,
           0,
           4,
           "All-Rounders"
          ],
          [
           "Jean-Philippe Mateta",
           "Crystal Palace",
           3,
           0,
           4.177545731887221,
           0.6433053780347109,
           20,
           "All-Rounders"
          ],
          [
           "Rayan Ait Nouri",
           "Wolverhampton Wanderers",
           3,
           2,
           1.9832261838018892,
           1.0508314333856106,
           13,
           "All-Rounders"
          ],
          [
           "Dwight McNeil",
           "Everton",
           3,
           3,
           0.8971882537007332,
           3.411686078179628,
           15,
           "All-Rounders"
          ],
          [
           "James Maddison",
           "Tottenham",
           3,
           3,
           2.507845513522625,
           2.687141908332705,
           18,
           "All-Rounders"
          ],
          [
           "Emile Smith-Rowe",
           "Fulham",
           3,
           2,
           2.669769890606404,
           1.329787015914917,
           18,
           "All-Rounders"
          ],
          [
           "Gabriel Martinelli",
           "Arsenal",
           3,
           2,
           3.0686974823474884,
           2.0737641230225563,
           14,
           "All-Rounders"
          ],
          [
           "João Pedro",
           "Brighton",
           3,
           1,
           1.6146122757345438,
           1.0843373034149408,
           8,
           "All-Rounders"
          ],
          [
           "Josko Gvardiol",
           "Manchester City",
           3,
           0,
           1.027506809681654,
           0.8256040755659342,
           16,
           "All-Rounders"
          ],
          [
           "Facundo Buonanotte",
           "Leicester",
           3,
           2,
           2.591978505253792,
           2.447038574144244,
           20,
           "All-Rounders"
          ],
          [
           "Morgan Rogers",
           "Aston Villa",
           3,
           2,
           3.044670846313238,
           2.8276890181005,
           20,
           "All-Rounders"
          ],
          [
           "Sammie Szmodics",
           "Ipswich",
           3,
           0,
           3.4842576310038567,
           0.1148019321262836,
           11,
           "All-Rounders"
          ],
          [
           "Joelinton",
           "Newcastle United",
           2,
           0,
           1.9614861607551572,
           0.6593366786837578,
           18,
           "All-Rounders"
          ],
          [
           "Alex Iwobi",
           "Fulham",
           2,
           2,
           1.642299523577094,
           3.89580032415688,
           17,
           "All-Rounders"
          ],
          [
           "John Stones",
           "Manchester City",
           2,
           0,
           0.6664973199367523,
           0,
           2,
           "All-Rounders"
          ],
          [
           "Jordan Ayew",
           "Crystal Palace,Leicester",
           2,
           0,
           2.426449054852128,
           0.1071890583261847,
           14,
           "All-Rounders"
          ],
          [
           "Bruno Fernandes",
           "Manchester United",
           2,
           3,
           4.414181990548968,
           3.147118240594864,
           34,
           "All-Rounders"
          ],
          [
           "Michael Keane",
           "Everton",
           2,
           0,
           0.7946690190583467,
           0.1236345618963241,
           8,
           "All-Rounders"
          ],
          [
           "Dominic Calvert-Lewin",
           "Everton",
           2,
           1,
           4.278142210096121,
           0.5794389843940735,
           26,
           "All-Rounders"
          ],
          [
           "Yves Bissouma",
           "Tottenham",
           2,
           0,
           0.1485525518655777,
           0.1525784693658352,
           2,
           "All-Rounders"
          ],
          [
           "Gabriel",
           "Arsenal",
           2,
           0,
           2.5315187387168407,
           0.4351861178874969,
           12,
           "All-Rounders"
          ],
          [
           "Callum Hudson-Odoi",
           "Nottingham Forest",
           2,
           0,
           1.0123927220702171,
           1.267253523692489,
           17,
           "All-Rounders"
          ],
          [
           "Dejan Kulusevski",
           "Tottenham",
           2,
           2,
           2.052295833826065,
           2.7973768543452024,
           17,
           "All-Rounders"
          ],
          [
           "Diogo Jota",
           "Liverpool",
           2,
           2,
           3.803277149796486,
           0.8164496086537838,
           14,
           "All-Rounders"
          ],
          [
           "Georginio Rutter",
           "Brighton",
           2,
           2,
           2.313791275024414,
           1.4666455909609797,
           23,
           "All-Rounders"
          ],
          [
           "Justin Kluivert",
           "Bournemouth",
           2,
           2,
           2.1623218338936567,
           1.2022605650126934,
           17,
           "All-Rounders"
          ],
          [
           "Lucas Paquetá",
           "West Ham",
           2,
           0,
           2.0754304118454456,
           0.8723230473697186,
           14,
           "All-Rounders"
          ],
          [
           "Stephy Mavididi",
           "Leicester",
           2,
           0,
           1.9125254303216932,
           0.8707215301692486,
           10,
           "All-Rounders"
          ],
          [
           "Leandro Trossard",
           "Arsenal",
           2,
           0,
           2.2703492790460587,
           1.1600875817239285,
           14,
           "All-Rounders"
          ],
          [
           "Anthony Gordon",
           "Newcastle United",
           2,
           1,
           3.46157468855381,
           2.3106232695281506,
           15,
           "All-Rounders"
          ],
          [
           "Tomas Soucek",
           "West Ham",
           2,
           0,
           2.64112314209342,
           0.4661024510860443,
           17,
           "All-Rounders"
          ],
          [
           "Iliman Ndiaye",
           "Everton",
           2,
           0,
           1.3893688842654228,
           0.510427812114358,
           12,
           "All-Rounders"
          ],
          [
           "Amadou Onana",
           "Aston Villa",
           2,
           0,
           1.9774937815964224,
           0.1173226470127701,
           11,
           "All-Rounders"
          ],
          [
           "Cameron Archer",
           "Southampton",
           2,
           0,
           4.494936011731625,
           0.0989528149366378,
           15,
           "All-Rounders"
          ],
          [
           "Darwin Núñez",
           "Liverpool",
           2,
           1,
           1.940767489373684,
           0.8792700562626123,
           11,
           "All-Rounders"
          ],
          [
           "Mohammed Kudus",
           "West Ham",
           2,
           0,
           3.237882561981678,
           1.042060848325491,
           27,
           "All-Rounders"
          ],
          [
           "Kevin De Bruyne",
           "Manchester City",
           1,
           1,
           1.002325709909201,
           2.120722249150276,
           15,
           "All-Rounders"
          ],
          [
           "Michail Antonio",
           "West Ham",
           1,
           1,
           2.649308728054166,
           1.583192678168416,
           17,
           "All-Rounders"
          ],
          [
           "Adama Traoré",
           "Fulham",
           1,
           3,
           3.8419568091630936,
           2.9538220167160034,
           20,
           "All-Rounders"
          ],
          [
           "Andreas Pereira",
           "Fulham",
           1,
           0,
           2.407408770173788,
           2.4102235678583384,
           18,
           "All-Rounders"
          ],
          [
           "Danny Ings",
           "West Ham",
           1,
           1,
           0.8129885420203209,
           0.6295180916786194,
           5,
           "All-Rounders"
          ],
          [
           "Pablo Sarabia",
           "Wolverhampton Wanderers",
           1,
           0,
           0.93792612105608,
           0.2517122328281402,
           4,
           "All-Rounders"
          ],
          [
           "Christopher Nkunku",
           "Chelsea",
           1,
           0,
           2.0951280407607555,
           0.275710005313158,
           7,
           "All-Rounders"
          ],
          [
           "Adam Armstrong",
           "Southampton",
           1,
           0,
           1.0655140168964865,
           0.1068922290578484,
           13,
           "All-Rounders"
          ],
          [
           "Mikel Merino",
           "Arsenal",
           1,
           0,
           1.0773502439260485,
           0.3800057470798492,
           6,
           "All-Rounders"
          ],
          [
           "Trevoh Chalobah",
           "Crystal Palace",
           1,
           0,
           0.3499191850423813,
           0.4840825535356998,
           5,
           "All-Rounders"
          ],
          [
           "Morgan Gibbs-White",
           "Nottingham Forest",
           1,
           0,
           1.3696090150624514,
           1.581808179616928,
           15,
           "All-Rounders"
          ],
          [
           "Jean-Ricner Bellegarde",
           "Wolverhampton Wanderers",
           1,
           1,
           0.2656138716265559,
           0.3377587348222732,
           6,
           "All-Rounders"
          ],
          [
           "João Félix",
           "Chelsea",
           1,
           0,
           0.6748445834964514,
           0.0269809924066066,
           7,
           "All-Rounders"
          ],
          [
           "Joshua Zirkzee",
           "Manchester United",
           1,
           1,
           2.6935997493565083,
           1.1216295883059502,
           12,
           "All-Rounders"
          ],
          [
           "Riccardo Calafiori",
           "Arsenal",
           1,
           0,
           0.5488381497561932,
           0.0809167623519897,
           4,
           "All-Rounders"
          ],
          [
           "George Hirst",
           "Ipswich",
           1,
           1,
           0.8599511682987213,
           0.3421465959399938,
           3,
           "All-Rounders"
          ],
          [
           "Eberechi Eze",
           "Crystal Palace",
           1,
           1,
           2.986836075782776,
           1.6662051603198051,
           37,
           "All-Rounders"
          ],
          [
           "Mikkel Damsgaard",
           "Brentford",
           1,
           3,
           1.4265991039574146,
           2.833466903306544,
           8,
           "All-Rounders"
          ],
          [
           "Crysencio Summerville",
           "West Ham",
           1,
           0,
           0.8418226540088654,
           0.7223077118396759,
           4,
           "All-Rounders"
          ],
          [
           "Fabio Carvalho",
           "Brentford",
           1,
           1,
           1.4226928651332855,
           0.5770240947604179,
           6,
           "All-Rounders"
          ],
          [
           "Dango Ouattara",
           "Bournemouth",
           1,
           1,
           1.7674724273383615,
           1.5316805001348257,
           7,
           "All-Rounders"
          ],
          [
           "Beto",
           "Everton",
           1,
           0,
           1.2300589680671692,
           0,
           4,
           "All-Rounders"
          ],
          [
           "Evan Ferguson",
           "Brighton",
           1,
           0,
           0.1707068346440792,
           0,
           3,
           "All-Rounders"
          ],
          [
           "Rodrigo Muniz",
           "Fulham",
           1,
           1,
           1.453753098845482,
           0.620203010737896,
           14,
           "All-Rounders"
          ],
          [
           "Marcus Tavernier",
           "Bournemouth",
           1,
           2,
           3.213934987783432,
           2.156848924234509,
           23,
           "All-Rounders"
          ],
          [
           "Kaoru Mitoma",
           "Brighton",
           1,
           2,
           3.6948426254093647,
           2.906455248594284,
           22,
           "All-Rounders"
          ],
          [
           "Luis Sinisterra",
           "Bournemouth",
           1,
           1,
           1.6596052329987288,
           1.237250255420804,
           12,
           "All-Rounders"
          ],
          [
           "Ryan Yates",
           "Nottingham Forest",
           1,
           0,
           1.6914243753999472,
           0.5015693493187428,
           17,
           "All-Rounders"
          ],
          [
           "Rasmus Højlund",
           "Manchester United",
           1,
           0,
           1.008004516363144,
           0.1571526210755109,
           5,
           "All-Rounders"
          ],
          [
           "Simon Adingra",
           "Brighton",
           1,
           1,
           0.4186023883521557,
           0.4666984025388956,
           5,
           "All-Rounders"
          ],
          [
           "Ramón Sosa",
           "Nottingham Forest",
           1,
           0,
           0.6561499480158091,
           0.4814912974834442,
           6,
           "All-Rounders"
          ],
          [
           "Ferdi Kadioglu",
           "Brighton",
           1,
           0,
           0.6023932620882988,
           0.1645598961040377,
           4,
           "All-Rounders"
          ],
          [
           "Matt O&#039;Riley",
           "Brighton",
           1,
           0,
           0.5549602508544922,
           0,
           1,
           "All-Rounders"
          ],
          [
           "Timo Werner",
           "Tottenham",
           0,
           1,
           0.9052236042916776,
           0.1705956682562828,
           7,
           "All-Rounders"
          ],
          [
           "Jannik Vestergaard",
           "Leicester",
           0,
           0,
           0.0112053835764527,
           0.0206855908036232,
           1,
           "All-Rounders"
          ],
          [
           "Adam Lallana",
           "Southampton",
           0,
           2,
           0.1523155756294727,
           0.5301942601799965,
           3,
           "All-Rounders"
          ],
          [
           "James Milner",
           "Brighton",
           0,
           0,
           0.1920489966869354,
           0.2607630733400583,
           2,
           "All-Rounders"
          ],
          [
           "Aaron Cresswell",
           "West Ham",
           0,
           0,
           0.03984160348773,
           0.0210413821041584,
           1,
           "All-Rounders"
          ],
          [
           "Nathan Aké",
           "Manchester City",
           0,
           0,
           0.0595889911055564,
           0,
           1,
           "All-Rounders"
          ],
          [
           "Seamus Coleman",
           "Everton",
           0,
           0,
           0.4752198457717895,
           0,
           1,
           "All-Rounders"
          ],
          [
           "Nathaniel Clyne",
           "Crystal Palace",
           0,
           0,
           0.010468304157257,
           0,
           1,
           "All-Rounders"
          ],
          [
           "Raheem Sterling",
           "Arsenal",
           0,
           0,
           0.2359183430671692,
           0.0441930890083313,
           2,
           "All-Rounders"
          ],
          [
           "Ashley Young",
           "Everton",
           0,
           3,
           0.0944820754230022,
           1.0875482857227323,
           3,
           "All-Rounders"
          ],
          [
           "Alex McCarthy",
           "Southampton",
           0,
           0,
           0,
           0,
           0,
           "All-Rounders"
          ],
          [
           "Kieran Trippier",
           "Newcastle United",
           0,
           0,
           0.0600954256951808,
           0.1524757146835327,
           1,
           "All-Rounders"
          ],
          [
           "Ben Davies",
           "Tottenham",
           0,
           0,
           0,
           0,
           0,
           "All-Rounders"
          ],
          [
           "Idrissa Gueye",
           "Everton",
           0,
           0,
           0.6948095625266433,
           0.3729932010173797,
           10,
           "All-Rounders"
          ],
          [
           "Lukasz Fabianski",
           "West Ham",
           0,
           0,
           0,
           0,
           0,
           "All-Rounders"
          ],
          [
           "Jordan Pickford",
           "Everton",
           0,
           0,
           0,
           0,
           0,
           "All-Rounders"
          ],
          [
           "Jeffrey Schlupp",
           "Crystal Palace",
           0,
           0,
           0.0920867174863815,
           0.3348583467304706,
           2,
           "All-Rounders"
          ],
          [
           "Craig Dawson",
           "Wolverhampton Wanderers",
           0,
           0,
           0.3769594803452492,
           0.0697851851582527,
           4,
           "All-Rounders"
          ],
          [
           "Jonny Evans",
           "Manchester United",
           0,
           0,
           0.0557727627456188,
           0,
           1,
           "All-Rounders"
          ],
          [
           "Adam Smith",
           "Bournemouth",
           0,
           0,
           0.2666778862476349,
           0.1453368216753006,
           1,
           "All-Rounders"
          ],
          [
           "James Ward-Prowse",
           "Nottingham Forest,West Ham",
           0,
           0,
           0.0595768997445702,
           0.0515516884624958,
           2,
           "All-Rounders"
          ],
          [
           "Harrison Reed",
           "Fulham",
           0,
           0,
           0.0173305962234735,
           0.0789679586887359,
           1,
           "All-Rounders"
          ],
          [
           "Axel Tuanzebe",
           "Ipswich",
           0,
           0,
           0.337050199508667,
           0.5693965200334787,
           3,
           "All-Rounders"
          ],
          [
           "Sam Johnstone",
           "Wolverhampton Wanderers",
           0,
           0,
           0,
           0.0490641593933105,
           0,
           "All-Rounders"
          ],
          [
           "Mason Holgate",
           "Everton",
           0,
           0,
           0,
           0,
           0,
           "All-Rounders"
          ],
          [
           "Joseph Gomez",
           "Liverpool",
           0,
           0,
           0.3433290123939514,
           0,
           2,
           "All-Rounders"
          ],
          [
           "Emerson",
           "West Ham",
           0,
           0,
           0.8890861766412854,
           0.4330827724188566,
           6,
           "All-Rounders"
          ],
          [
           "Neto",
           "Bournemouth",
           0,
           0,
           0,
           0,
           0,
           "All-Rounders"
          ],
          [
           "Jorginho",
           "Arsenal",
           0,
           0,
           0.0369892157614231,
           0.0594993941485881,
           1,
           "All-Rounders"
          ],
          [
           "Federico Chiesa",
           "Liverpool",
           0,
           0,
           0.4207505583763122,
           0,
           2,
           "All-Rounders"
          ],
          [
           "Emil Krafth",
           "Newcastle United",
           0,
           0,
           0.0276889540255069,
           0.0589407011866569,
           1,
           "All-Rounders"
          ],
          [
           "Ben Mee",
           "Brentford",
           0,
           0,
           0,
           0,
           0,
           "All-Rounders"
          ],
          [
           "Ryan Fraser",
           "Southampton",
           0,
           0,
           0.0251516010612249,
           0.1269924491643905,
           1,
           "All-Rounders"
          ],
          [
           "Harry Maguire",
           "Manchester United",
           0,
           0,
           0.0537821650505065,
           0.0218639876693487,
           1,
           "All-Rounders"
          ],
          [
           "Abdoulaye Doucouré",
           "Everton",
           0,
           0,
           0.4267811328172683,
           0.274352375883609,
           5,
           "All-Rounders"
          ],
          [
           "Jack Stephens",
           "Southampton",
           0,
           0,
           0.1356502920389175,
           0.2612620592117309,
           1,
           "All-Rounders"
          ],
          [
           "Jefferson Lerma",
           "Crystal Palace",
           0,
           0,
           0.0696425326168537,
           0.7469603903591633,
           5,
           "All-Rounders"
          ],
          [
           "Emiliano Buendía",
           "Aston Villa",
           0,
           0,
           0.1290284693241119,
           0,
           1,
           "All-Rounders"
          ],
          [
           "Alphonse Areola",
           "West Ham",
           0,
           0,
           0,
           0,
           0,
           "All-Rounders"
          ],
          [
           "Carlos Soler",
           "West Ham",
           0,
           0,
           0.241758806630969,
           0.0986651936545968,
           5,
           "All-Rounders"
          ],
          [
           "Rodri",
           "Manchester City",
           0,
           0,
           0,
           0.0520608685910701,
           0,
           "All-Rounders"
          ],
          [
           "Oleksandr Zinchenko",
           "Arsenal",
           0,
           0,
           0,
           0,
           0,
           "All-Rounders"
          ],
          [
           "Issa Diop",
           "Fulham",
           0,
           0,
           0.1811270862817764,
           0.1157504394650459,
           3,
           "All-Rounders"
          ],
          [
           "Maxwel Cornet",
           "Southampton",
           0,
           0,
           0.0751236081123352,
           0,
           1,
           "All-Rounders"
          ],
          [
           "Ricardo Pereira",
           "Leicester",
           0,
           0,
           0,
           0,
           0,
           "All-Rounders"
          ],
          [
           "Bernardo Silva",
           "Manchester City",
           0,
           3,
           1.9721983596682549,
           2.787795105949044,
           17,
           "All-Rounders"
          ],
          [
           "Odsonne Edouard",
           "Crystal Palace,Leicester",
           0,
           0,
           0.325688287615776,
           0.105933329090476,
           5,
           "All-Rounders"
          ],
          [
           "Álex Moreno",
           "Nottingham Forest",
           0,
           1,
           0.168406231328845,
           0.8366510048508644,
           5,
           "All-Rounders"
          ],
          [
           "Emiliano Martinez",
           "Aston Villa",
           0,
           0,
           0,
           0,
           0,
           "All-Rounders"
          ],
          [
           "Kepa",
           "Bournemouth",
           0,
           0,
           0,
           0.0258998982608318,
           0,
           "All-Rounders"
          ],
          [
           "Gabriel Jesus",
           "Arsenal",
           0,
           0,
           0.5086402744054794,
           0.3069093227386474,
           6,
           "All-Rounders"
          ],
          [
           "Nick Pope",
           "Newcastle United",
           0,
           0,
           0,
           0,
           0,
           "All-Rounders"
          ],
          [
           "Scott McTominay",
           "Manchester United",
           0,
           0,
           0.1260273307561874,
           0,
           1,
           "All-Rounders"
          ],
          [
           "Aaron Wan-Bissaka",
           "West Ham",
           0,
           0,
           0.1058015283197164,
           0.3980767074972391,
           3,
           "All-Rounders"
          ],
          [
           "Tosin Adarabioyo",
           "Chelsea",
           0,
           0,
           0,
           0.0139205679297447,
           0,
           "All-Rounders"
          ],
          [
           "Aaron Ramsdale",
           "Southampton",
           0,
           0,
           0,
           0,
           0,
           "All-Rounders"
          ],
          [
           "Gonçalo Guedes",
           "Wolverhampton Wanderers",
           0,
           1,
           0.0712013114243745,
           0.4364391192793846,
           2,
           "All-Rounders"
          ],
          [
           "Diego Carlos",
           "Aston Villa",
           0,
           0,
           0.8065099269151688,
           0,
           2,
           "All-Rounders"
          ],
          [
           "Ibrahim Sangare",
           "Nottingham Forest",
           0,
           0,
           0.0163659416139125,
           0.0082136588171124,
           1,
           "All-Rounders"
          ],
          [
           "Boubacar Kamara",
           "Aston Villa",
           0,
           0,
           0,
           0,
           0,
           "All-Rounders"
          ],
          [
           "Richarlison",
           "Tottenham",
           0,
           1,
           0.3241162896156311,
           0.6825265288352966,
           1,
           "All-Rounders"
          ],
          [
           "Philip Billing",
           "Bournemouth",
           0,
           0,
           0,
           0,
           0,
           "All-Rounders"
          ],
          [
           "Charlie Taylor",
           "Southampton",
           0,
           0,
           0,
           0.055130336433649,
           0,
           "All-Rounders"
          ],
          [
           "Jacob Murphy",
           "Newcastle United",
           0,
           2,
           0.4225605092942714,
           1.110089112073183,
           7,
           "All-Rounders"
          ],
          [
           "Victor Lindelöf",
           "Manchester United",
           0,
           0,
           0,
           0.051527701318264,
           0,
           "All-Rounders"
          ],
          [
           "Orel Mangala",
           "Everton",
           0,
           0,
           0.2619098871946335,
           0.2297586426138878,
           6,
           "All-Rounders"
          ],
          [
           "Niclas Füllkrug",
           "West Ham",
           0,
           0,
           0.2593321204185486,
           0,
           2,
           "All-Rounders"
          ],
          [
           "Will Hughes",
           "Crystal Palace",
           0,
           0,
           0.3014046773314476,
           0.2671193312853575,
           5,
           "All-Rounders"
          ],
          [
           "Timothy Castagne",
           "Fulham",
           0,
           0,
           0.0801872983574867,
           0,
           2,
           "All-Rounders"
          ],
          [
           "Nélson Semedo",
           "Wolverhampton Wanderers",
           0,
           2,
           0.5210947347804904,
           0.7815361972898245,
           5,
           "All-Rounders"
          ],
          [
           "Enes Ünal",
           "Bournemouth",
           0,
           0,
           0.4047933109104633,
           0.1688245050609111,
           7,
           "All-Rounders"
          ],
          [
           "Boubakary Soumare",
           "Leicester",
           0,
           0,
           0.0618308931589126,
           0.0096487719565629,
           1,
           "All-Rounders"
          ],
          [
           "Jadon Sancho",
           "Chelsea",
           0,
           3,
           0.1047850474715232,
           1.2044463455677032,
           1,
           "All-Rounders"
          ],
          [
           "Hamza Choudhury",
           "Leicester",
           0,
           0,
           0,
           0,
           0,
           "All-Rounders"
          ],
          [
           "Ben Johnson",
           "Ipswich",
           0,
           1,
           0.0321267545223236,
           0.5162577740848064,
           1,
           "All-Rounders"
          ],
          [
           "Joe Willock",
           "Newcastle United",
           0,
           1,
           0.4011719152331352,
           1.449927557259798,
           6,
           "All-Rounders"
          ],
          [
           "Konstantinos Mavropanos",
           "West Ham",
           0,
           0,
           0.1960603706538677,
           0,
           6,
           "All-Rounders"
          ],
          [
           "Jean-Clair Todibo",
           "West Ham",
           0,
           0,
           0.0988482534885406,
           0.0297562526538968,
           2,
           "All-Rounders"
          ],
          [
           "David Brooks",
           "Bournemouth",
           0,
           0,
           0.0747580528259277,
           0.1351032853126526,
           1,
           "All-Rounders"
          ],
          [
           "Bobby Reid",
           "Leicester",
           0,
           0,
           0.0690326699987053,
           0.091330736875534,
           3,
           "All-Rounders"
          ],
          [
           "Willy Boly",
           "Nottingham Forest",
           0,
           0,
           0.082951508462429,
           0,
           1,
           "All-Rounders"
          ],
          [
           "Conor Coady",
           "Leicester",
           0,
           0,
           0,
           0,
           0,
           "All-Rounders"
          ],
          [
           "Matt Doherty",
           "Wolverhampton Wanderers",
           0,
           0,
           0.0850898697972297,
           0.0946553125977516,
           2,
           "All-Rounders"
          ],
          [
           "Axel Disasi",
           "Chelsea",
           0,
           0,
           0,
           0,
           0,
           "All-Rounders"
          ],
          [
           "Matz Sels",
           "Nottingham Forest",
           0,
           0,
           0,
           0,
           0,
           "All-Rounders"
          ],
          [
           "Arijanet Muric",
           "Ipswich",
           0,
           0,
           0,
           0,
           0,
           "All-Rounders"
          ],
          [
           "Mark Flekken",
           "Brentford",
           0,
           0,
           0,
           0,
           0,
           "All-Rounders"
          ],
          [
           "Sean Longstaff",
           "Newcastle United",
           0,
           0,
           0.2476539090275764,
           0.0925562363117933,
           3,
           "All-Rounders"
          ],
          [
           "Mathias Jensen",
           "Brentford",
           0,
           1,
           0.1748128784820437,
           0.6136879026889801,
           3,
           "All-Rounders"
          ],
          [
           "Oliver Skipp",
           "Leicester",
           0,
           0,
           0.0292144641280174,
           0.1323748063296079,
           1,
           "All-Rounders"
          ],
          [
           "Jason Steele",
           "Brighton",
           0,
           0,
           0,
           0,
           0,
           "All-Rounders"
          ],
          [
           "Benoit Badiashile Mukinayi",
           "Chelsea",
           0,
           0,
           0,
           0,
           0,
           "All-Rounders"
          ],
          [
           "Ben White",
           "Arsenal",
           0,
           1,
           0.1138994935899972,
           0.4115989729762077,
           4,
           "All-Rounders"
          ],
          [
           "Caleb Okoli",
           "Leicester",
           0,
           0,
           0.334328344091773,
           0,
           3,
           "All-Rounders"
          ],
          [
           "Tyler Adams",
           "Bournemouth",
           0,
           0,
           0.0202405080199241,
           0.0980526860803365,
           1,
           "All-Rounders"
          ],
          [
           "Miguel Almirón",
           "Newcastle United",
           0,
           0,
           0.2976690828800201,
           0.1192352399230003,
           4,
           "All-Rounders"
          ],
          [
           "James Garner",
           "Everton",
           0,
           0,
           0.0638169646263122,
           0.0155591880902647,
           2,
           "All-Rounders"
          ],
          [
           "Harvey Elliott",
           "Liverpool",
           0,
           0,
           0,
           0,
           0,
           "All-Rounders"
          ],
          [
           "Mark Travers",
           "Bournemouth",
           0,
           0,
           0,
           0,
           0,
           "All-Rounders"
          ],
          [
           "Adam Webster",
           "Brighton",
           0,
           0,
           0,
           0,
           0,
           "All-Rounders"
          ],
          [
           "Dean Henderson",
           "Crystal Palace",
           0,
           0,
           0.0109276687726378,
           0,
           1,
           "All-Rounders"
          ],
          [
           "Mason Mount",
           "Manchester United",
           0,
           0,
           0.5107078030705452,
           0.096683818846941,
           2,
           "All-Rounders"
          ],
          [
           "Taiwo Awoniyi",
           "Nottingham Forest",
           0,
           0,
           0.5624362155795097,
           0,
           4,
           "All-Rounders"
          ],
          [
           "Caoimhin Kelleher",
           "Liverpool",
           0,
           0,
           0,
           0,
           0,
           "All-Rounders"
          ],
          [
           "Takehiro Tomiyasu",
           "Arsenal",
           0,
           0,
           0.1668418496847152,
           0,
           1,
           "All-Rounders"
          ],
          [
           "Sandro Tonali",
           "Newcastle United",
           0,
           1,
           0.5231800861656666,
           0.2412502625957131,
           6,
           "All-Rounders"
          ],
          [
           "Billy Gilmour",
           "Brighton",
           0,
           0,
           0.0845430567860603,
           0,
           1,
           "All-Rounders"
          ],
          [
           "Reece James",
           "Chelsea",
           0,
           0,
           0,
           0,
           0,
           "All-Rounders"
          ],
          [
           "Lloyd Kelly",
           "Newcastle United",
           0,
           1,
           0.1306849271059036,
           0.3348408639431,
           1,
           "All-Rounders"
          ],
          [
           "Neco Williams",
           "Nottingham Forest",
           0,
           0,
           0.9754558354616164,
           0.2699844464659691,
           9,
           "All-Rounders"
          ],
          [
           "William Smallbone",
           "Southampton",
           0,
           0,
           0.2582741677761078,
           0.2060462981462478,
           4,
           "All-Rounders"
          ],
          [
           "Tariq Lamptey",
           "Brighton",
           0,
           1,
           0,
           0.1136952266097068,
           0,
           "All-Rounders"
          ],
          [
           "Nicolás Domínguez",
           "Nottingham Forest",
           0,
           0,
           0.8772522881627083,
           0.0598981473594903,
           8,
           "All-Rounders"
          ],
          [
           "Guido Rodríguez",
           "West Ham",
           0,
           0,
           0.102190057747066,
           0.0327210910618305,
           6,
           "All-Rounders"
          ],
          [
           "Sander Berge",
           "Fulham",
           0,
           0,
           0,
           0.3288254756480455,
           0,
           "All-Rounders"
          ],
          [
           "Daniel Podence",
           "Wolverhampton Wanderers",
           0,
           0,
           0.0448911525309085,
           0,
           1,
           "All-Rounders"
          ],
          [
           "Chris Richards",
           "Crystal Palace",
           0,
           0,
           0.1370308995246887,
           0,
           1,
           "All-Rounders"
          ],
          [
           "Jarrad Branthwaite",
           "Everton",
           0,
           0,
           0,
           0,
           0,
           "All-Rounders"
          ],
          [
           "Jorge Cuenca",
           "Fulham",
           0,
           0,
           0,
           0,
           0,
           "All-Rounders"
          ],
          [
           "Tommy Doyle",
           "Wolverhampton Wanderers",
           0,
           1,
           0.1348968306556344,
           0.1488692620769143,
           4,
           "All-Rounders"
          ],
          [
           "Cheick Oumar Doucoure",
           "Crystal Palace",
           0,
           0,
           0.0968784354627132,
           0,
           3,
           "All-Rounders"
          ],
          [
           "Kalvin Phillips",
           "Ipswich",
           0,
           0,
           0.3158096652477979,
           0.0947778727859258,
           6,
           "All-Rounders"
          ],
          [
           "Jack Harrison",
           "Everton",
           0,
           0,
           0.8307317942380905,
           1.3411112613976002,
           10,
           "All-Rounders"
          ],
          [
           "Dara O&#039;Shea",
           "Ipswich",
           0,
           0,
           0.7239946275949478,
           0,
           9,
           "All-Rounders"
          ],
          [
           "Wataru Endo",
           "Liverpool",
           0,
           0,
           0,
           0.0222582817077636,
           0,
           "All-Rounders"
          ],
          [
           "Hee-Chan Hwang",
           "Wolverhampton Wanderers",
           0,
           0,
           0,
           0.2709880284965038,
           0,
           "All-Rounders"
          ],
          [
           "Konstantinos Tsimikas",
           "Liverpool",
           0,
           0,
           0.103669237345457,
           0.831640362739563,
           2,
           "All-Rounders"
          ],
          [
           "Maxence Lacroix",
           "Crystal Palace",
           0,
           1,
           0.1629553502425551,
           0.6190028935670853,
           4,
           "All-Rounders"
          ],
          [
           "Matthew Cash",
           "Aston Villa",
           0,
           0,
           0.0228233952075243,
           0.4765537641942501,
           1,
           "All-Rounders"
          ],
          [
           "Conor Townsend",
           "Ipswich",
           0,
           0,
           0,
           0.0300765987485647,
           0,
           "All-Rounders"
          ],
          [
           "Vladimir Coufal",
           "West Ham",
           0,
           0,
           0.0298329088836908,
           0.1218288242816925,
           1,
           "All-Rounders"
          ],
          [
           "Radu Dragusin",
           "Tottenham",
           0,
           0,
           0.0363029092550277,
           0,
           1,
           "All-Rounders"
          ],
          [
           "Christian Walton",
           "Ipswich",
           0,
           0,
           0,
           0,
           0,
           "All-Rounders"
          ],
          [
           "Jakub Moder",
           "Brighton",
           0,
           0,
           0,
           0.0291883442550897,
           0,
           "All-Rounders"
          ],
          [
           "Jaden Philogene-Bidace",
           "Aston Villa",
           0,
           0,
           0.5531791038811207,
           0,
           5,
           "All-Rounders"
          ],
          [
           "Chimuanya Ugochukwu",
           "Southampton",
           0,
           0,
           0.4391141235828399,
           0.1078875958919525,
           1,
           "All-Rounders"
          ],
          [
           "Daniel Jebbison",
           "Bournemouth",
           0,
           0,
           0,
           0.0211734101176261,
           0,
           "All-Rounders"
          ],
          [
           "Tim Iroegbunam",
           "Everton",
           0,
           0,
           0.1938968524336815,
           0.0972806364297866,
           4,
           "All-Rounders"
          ],
          [
           "William Osula",
           "Newcastle United",
           0,
           0,
           0,
           0,
           0,
           "All-Rounders"
          ],
          [
           "Kamaldeen Sulemana",
           "Southampton",
           0,
           0,
           0.0528060086071491,
           0,
           1,
           "All-Rounders"
          ],
          [
           "David Raya",
           "Arsenal",
           0,
           0,
           0,
           0,
           0,
           "All-Rounders"
          ],
          [
           "Kristoffer Ajer",
           "Brentford",
           0,
           0,
           0.373125821352005,
           0.3193165808916092,
           1,
           "All-Rounders"
          ],
          [
           "Frank Onyeka",
           "Brentford",
           0,
           0,
           0,
           0,
           0,
           "All-Rounders"
          ],
          [
           "Kiernan Dewsbury-Hall",
           "Chelsea",
           0,
           0,
           0,
           0.1097568497061729,
           0,
           "All-Rounders"
          ],
          [
           "José Sá",
           "Wolverhampton Wanderers",
           0,
           0,
           0,
           0.0241384115070104,
           0,
           "All-Rounders"
          ],
          [
           "Jesper Lindstrom",
           "Everton",
           0,
           0,
           0.8966400064527988,
           1.0293883755803108,
           12,
           "All-Rounders"
          ],
          [
           "Yerson Mosquera",
           "Wolverhampton Wanderers",
           0,
           0,
           0.4660062603652477,
           0.094501007348299,
           2,
           "All-Rounders"
          ],
          [
           "Romeo Lavia",
           "Chelsea",
           0,
           1,
           0,
           0.6548607535660267,
           0,
           "All-Rounders"
          ],
          [
           "Jakub Kiwior",
           "Arsenal",
           0,
           0,
           0,
           0,
           0,
           "All-Rounders"
          ],
          [
           "Lamare Bogarde",
           "Aston Villa",
           0,
           0,
           0,
           0.1534022986888885,
           0,
           "All-Rounders"
          ],
          [
           "Jeremy Sarmiento",
           "Brighton",
           0,
           0,
           0,
           0,
           0,
           "All-Rounders"
          ],
          [
           "Samuel Edozie",
           "Southampton",
           0,
           0,
           0,
           0.0817131176590919,
           0,
           "All-Rounders"
          ],
          [
           "Conor Bradley",
           "Liverpool",
           0,
           0,
           0.6405927538871765,
           0,
           2,
           "All-Rounders"
          ],
          [
           "James McAtee",
           "Manchester City",
           0,
           0,
           0,
           0,
           0,
           "All-Rounders"
          ],
          [
           "Kasey McAteer",
           "Leicester",
           0,
           0,
           0.0344324018806219,
           0,
           2,
           "All-Rounders"
          ],
          [
           "Archie Gray",
           "Tottenham",
           0,
           0,
           0,
           0,
           0,
           "All-Rounders"
          ],
          [
           "Jarell Quansah",
           "Liverpool",
           0,
           0,
           0,
           0,
           0,
           "All-Rounders"
          ],
          [
           "Vitalii Mykolenko",
           "Everton",
           0,
           0,
           0.1115581155754625,
           0.4598030131310224,
           4,
           "All-Rounders"
          ],
          [
           "Toti",
           "Wolverhampton Wanderers",
           0,
           1,
           0.011178994551301,
           0.6282144412398338,
           1,
           "All-Rounders"
          ],
          [
           "Jens Cajuste",
           "Ipswich",
           0,
           0,
           0.0195678547024726,
           0.0638226680457592,
           1,
           "All-Rounders"
          ],
          [
           "Chiquinho",
           "Wolverhampton Wanderers",
           0,
           0,
           0,
           0.0162079948931932,
           0,
           "All-Rounders"
          ],
          [
           "Jay Stansfield",
           "Fulham",
           0,
           0,
           0,
           0,
           0,
           "All-Rounders"
          ],
          [
           "Sepp van den Berg",
           "Brentford",
           0,
           0,
           0.6298583298921585,
           0.0682086236774921,
           7,
           "All-Rounders"
          ],
          [
           "Harry Toffolo",
           "Nottingham Forest",
           0,
           0,
           0.0225998293608427,
           0,
           1,
           "All-Rounders"
          ],
          [
           "Djed Spence",
           "Tottenham",
           0,
           0,
           0,
           0,
           0,
           "All-Rounders"
          ],
          [
           "Wilson Odobert",
           "Tottenham",
           0,
           0,
           0.7416317705065012,
           0.050035580061376,
           6,
           "All-Rounders"
          ],
          [
           "Santiago Bueno",
           "Wolverhampton Wanderers",
           0,
           0,
           0.0882612317800521,
           0,
           1,
           "All-Rounders"
          ],
          [
           "Matheus Nunes",
           "Manchester City",
           0,
           2,
           0.1996443718671798,
           1.1955829225480556,
           3,
           "All-Rounders"
          ],
          [
           "Julio Enciso",
           "Brighton",
           0,
           0,
           0.1603591907769441,
           0.3104204218834638,
           5,
           "All-Rounders"
          ],
          [
           "Antony",
           "Manchester United",
           0,
           0,
           0.0557438544929027,
           0.1260273307561874,
           2,
           "All-Rounders"
          ],
          [
           "Ethan Nwaneri",
           "Arsenal",
           0,
           0,
           0.0525248851627111,
           0.1044448390603065,
           2,
           "All-Rounders"
          ],
          [
           "Ryan Trevitt",
           "Brentford",
           0,
           0,
           0,
           0,
           0,
           "All-Rounders"
          ],
          [
           "Chadi Riad",
           "Crystal Palace",
           0,
           0,
           0,
           0,
           0,
           "All-Rounders"
          ],
          [
           "Kobbie Mainoo",
           "Manchester United",
           0,
           0,
           0.117235105484724,
           0.6999991163611412,
           4,
           "All-Rounders"
          ],
          [
           "Carlos Alcaraz",
           "Southampton",
           0,
           0,
           0.0393431074917316,
           0.0502568297088146,
           1,
           "All-Rounders"
          ],
          [
           "Mykhailo Mudryk",
           "Chelsea",
           0,
           0,
           0.1225307434797287,
           1.0799011290073397,
           1,
           "All-Rounders"
          ],
          [
           "Brajan Gruda",
           "Brighton",
           0,
           0,
           0,
           0.0772198848426342,
           0,
           "All-Rounders"
          ],
          [
           "Danilo",
           "Nottingham Forest",
           0,
           0,
           0,
           0,
           0,
           "All-Rounders"
          ],
          [
           "James Bree",
           "Southampton",
           0,
           0,
           0,
           0.0276163294911384,
           0,
           "All-Rounders"
          ],
          [
           "Paul Onuachu",
           "Southampton",
           0,
           0,
           0.0654760990291833,
           0.0528060086071491,
           3,
           "All-Rounders"
          ],
          [
           "Victor Kristiansen",
           "Leicester",
           0,
           0,
           0,
           0.3737938404083252,
           0,
           "All-Rounders"
          ],
          [
           "Renato Veiga",
           "Chelsea",
           0,
           0,
           0.1354483440518379,
           0,
           3,
           "All-Rounders"
          ],
          [
           "Yasin Ayari",
           "Brighton",
           0,
           0,
           0.618009902536869,
           0.7797734178602695,
           8,
           "All-Rounders"
          ],
          [
           "Illia Zabarnyi",
           "Bournemouth",
           0,
           0,
           0.4036499857902527,
           0.061547540128231,
           2,
           "All-Rounders"
          ],
          [
           "Samuel Amo-Ameyaw",
           "Southampton",
           0,
           0,
           0.0327474772930145,
           0.0393431074917316,
           1,
           "All-Rounders"
          ],
          [
           "Marc Guiu",
           "Chelsea",
           0,
           0,
           0,
           0,
           0,
           "All-Rounders"
          ],
          [
           "Bart Verbruggen",
           "Brighton",
           0,
           0,
           0,
           0,
           0,
           "All-Rounders"
          ],
          [
           "Chiedozie Ogbene",
           "Ipswich",
           0,
           0,
           0,
           0.0733897127211093,
           0,
           "All-Rounders"
          ],
          [
           "Sávio",
           "Manchester City",
           0,
           2,
           1.5736125074326992,
           2.63370499573648,
           15,
           "All-Rounders"
          ],
          [
           "Julián Araujo",
           "Bournemouth",
           0,
           0,
           0,
           0,
           0,
           "All-Rounders"
          ],
          [
           "Manuel Ugarte",
           "Manchester United",
           0,
           0,
           0.0231227539479732,
           0.5072909593582153,
           1,
           "All-Rounders"
          ],
          [
           "Yehor Yarmolyuk",
           "Brentford",
           0,
           0,
           0.1864568442106247,
           0.0157519541680812,
           3,
           "All-Rounders"
          ],
          [
           "Ben Brereton Díaz",
           "Southampton",
           0,
           0,
           1.3112603276968002,
           0.1556207612156868,
           11,
           "All-Rounders"
          ],
          [
           "Edson Álvarez",
           "West Ham",
           0,
           0,
           0.0913832299411296,
           0.1549558481201529,
           3,
           "All-Rounders"
          ],
          [
           "Dean Huijsen",
           "Bournemouth",
           0,
           0,
           0.1995042786002159,
           0.1064496506005525,
           2,
           "All-Rounders"
          ],
          [
           "Jake O&#039;Brien",
           "Everton",
           0,
           0,
           0,
           0,
           0,
           "All-Rounders"
          ],
          [
           "Alex Scott",
           "Bournemouth",
           0,
           0,
           0.0798612916842103,
           0.2395208366215229,
           3,
           "All-Rounders"
          ],
          [
           "Myles Lewis-Skelly",
           "Arsenal",
           0,
           0,
           0,
           0,
           0,
           "All-Rounders"
          ],
          [
           "Adam Wharton",
           "Crystal Palace",
           0,
           0,
           0.2038054820150137,
           0.6202060170471668,
           9,
           "All-Rounders"
          ],
          [
           "Toby Collyer",
           "Manchester United",
           0,
           0,
           0,
           0.0173933897167444,
           0,
           "All-Rounders"
          ],
          [
           "Mikey Moore",
           "Tottenham",
           0,
           0,
           0.0523733422160148,
           0,
           1,
           "All-Rounders"
          ],
          [
           "Yunus Konak",
           "Brentford",
           0,
           0,
           0.1090388596057891,
           0,
           1,
           "All-Rounders"
          ],
          [
           "Jacob Greaves",
           "Ipswich",
           0,
           0,
           0.7821923438459635,
           0,
           5,
           "All-Rounders"
          ],
          [
           "Luke Woolfenden",
           "Ipswich",
           0,
           0,
           0.0580514557659626,
           0,
           1,
           "All-Rounders"
          ],
          [
           "Massimo Luongo",
           "Ipswich",
           0,
           0,
           0,
           0,
           0,
           "All-Rounders"
          ],
          [
           "Wes Burns",
           "Ipswich",
           0,
           0,
           0.1900392286479473,
           1.3953060507774353,
           3,
           "All-Rounders"
          ],
          [
           "Conor Chaplin",
           "Ipswich",
           0,
           1,
           0.1832198947668075,
           0.4540877565741539,
           4,
           "All-Rounders"
          ],
          [
           "Ali Al-Hamadi",
           "Ipswich",
           0,
           0,
           0,
           0.0571401305496692,
           0,
           "All-Rounders"
          ],
          [
           "Marcus Harness",
           "Ipswich",
           0,
           0,
           0,
           0,
           0,
           "All-Rounders"
          ],
          [
           "Jack Taylor",
           "Ipswich",
           0,
           0,
           0.192556862719357,
           0,
           5,
           "All-Rounders"
          ],
          [
           "Cameron Burgess",
           "Ipswich",
           0,
           0,
           0.1479379869997501,
           0.0449348613619804,
           4,
           "All-Rounders"
          ],
          [
           "Rodrigo Gomes",
           "Wolverhampton Wanderers",
           0,
           0,
           0.048447580076754,
           0,
           2,
           "All-Rounders"
          ],
          [
           "Harrison Armstrong",
           "Everton",
           0,
           0,
           0,
           0,
           0,
           "All-Rounders"
          ],
          [
           "Mats Wieffer",
           "Brighton",
           0,
           1,
           0.3589936550706625,
           0.2343669291585683,
           2,
           "All-Rounders"
          ],
          [
           "Eric da Silva Moreira",
           "Nottingham Forest",
           0,
           0,
           0,
           0,
           0,
           "All-Rounders"
          ],
          [
           "Jota Silva",
           "Nottingham Forest",
           0,
           1,
           0.4039484858512878,
           0.7470964323729277,
           4,
           "All-Rounders"
          ],
          [
           "Andy Irving",
           "West Ham",
           0,
           0,
           0.0210413821041584,
           0,
           1,
           "All-Rounders"
          ],
          [
           "Kosta Nedeljkovic",
           "Aston Villa",
           0,
           0,
           0,
           0,
           0,
           "All-Rounders"
          ],
          [
           "Mads Hermansen",
           "Leicester",
           0,
           0,
           0,
           0,
           0,
           "All-Rounders"
          ],
          [
           "Lucas Bergvall",
           "Tottenham",
           0,
           0,
           0.1379248462617397,
           0.3241162896156311,
           2,
           "All-Rounders"
          ],
          [
           "Roman Dixon",
           "Everton",
           0,
           0,
           0,
           0,
           0,
           "All-Rounders"
          ],
          [
           "George Edmundson",
           "Ipswich",
           0,
           0,
           0,
           0,
           0,
           "All-Rounders"
          ],
          [
           "Jack Clarke",
           "Ipswich",
           0,
           1,
           0.8130062222480774,
           0.7805557623505592,
           7,
           "All-Rounders"
          ],
          [
           "Bilal El Khannouss",
           "Leicester",
           0,
           0,
           0.1158916987478733,
           0.5863035954535007,
           2,
           "All-Rounders"
          ],
          [
           "André",
           "Wolverhampton Wanderers",
           0,
           0,
           0.053701258264482,
           0.1239355225116014,
           2,
           "All-Rounders"
          ],
          [
           "Luis Guilherme",
           "West Ham",
           0,
           0,
           0,
           0,
           0,
           "All-Rounders"
          ],
          [
           "Justin Devenny",
           "Crystal Palace",
           0,
           0,
           0.044168435037136,
           0.288084864616394,
           1,
           "All-Rounders"
          ],
          [
           "Asher Agbinone",
           "Crystal Palace",
           0,
           0,
           0.0151914963498711,
           0.0238666459918022,
           1,
           "All-Rounders"
          ],
          [
           "Ross Stewart",
           "Southampton",
           0,
           0,
           0.1297784633934497,
           0,
           2,
           "All-Rounders"
          ],
          [
           "Morato",
           "Nottingham Forest",
           0,
           0,
           0,
           0,
           0,
           "All-Rounders"
          ],
          [
           "Carlos Forbs",
           "Wolverhampton Wanderers",
           0,
           0,
           0.1107324287295341,
           0.0350774861872196,
           1,
           "All-Rounders"
          ],
          [
           "Vítezslav Jaros",
           "Liverpool",
           0,
           0,
           0,
           0,
           0,
           "All-Rounders"
          ],
          [
           "Caleb Kporha",
           "Crystal Palace",
           0,
           0,
           0,
           0,
           0,
           "All-Rounders"
          ],
          [
           "Harry Clarke",
           "Ipswich",
           0,
           0,
           0,
           0,
           0,
           "All-Rounders"
          ],
          [
           "Ryan Manning",
           "Southampton",
           0,
           0,
           0.0688901990652084,
           0.3888742625713348,
           1,
           "All-Rounders"
          ],
          [
           "Jahmai Simpson-Pusey",
           "Manchester City",
           0,
           0,
           0,
           0,
           0,
           "All-Rounders"
          ]
         ],
         "hovertemplate": "Cluster Label=%{customdata[7]}<br>PCA1=%{x}<br>PCA2=%{y}<br>player_name=%{customdata[0]}<br>team_title=%{customdata[1]}<br>goals=%{customdata[2]}<br>assists=%{customdata[3]}<br>xG=%{customdata[4]}<br>xA=%{customdata[5]}<br>shots=%{customdata[6]}<extra></extra>",
         "legendgroup": "All-Rounders",
         "marker": {
          "color": "#EF553B",
          "symbol": "circle"
         },
         "mode": "markers",
         "name": "All-Rounders",
         "orientation": "v",
         "showlegend": true,
         "type": "scatter",
         "x": [
          3.191508385647934,
          3.852390629066224,
          3.904601125515865,
          3.291305808903605,
          3.8086957937981163,
          3.8725555480204044,
          3.1594272209932135,
          0.5297018282453361,
          3.6387647786549873,
          2.719737235892672,
          3.0141671391002745,
          4.510596997279575,
          4.042814488928903,
          4.01388808838718,
          2.1099751779989715,
          3.508557065226069,
          3.971009698262492,
          5.021701389151628,
          2.9981411962258537,
          2.826363243323507,
          4.08008226493929,
          -0.11179087582935217,
          1.9477746167783256,
          5.817639418290074,
          0.39925560383118025,
          3.808336935007837,
          -0.01051731406482229,
          2.4328027965226195,
          2.3544310886397737,
          3.3925370544099613,
          3.512263417779279,
          2.831018980438554,
          1.9809534993350557,
          1.580641380210957,
          2.1575577770239045,
          2.498726485395751,
          2.8808284874541314,
          2.740683292845396,
          1.7647313952385837,
          1.7278226042308487,
          3.11884238632127,
          1.7993960448906288,
          3.7320786663045284,
          1.3484530785397906,
          2.4937745711744803,
          4.400679597479708,
          2.7922466773518764,
          -0.22109678297302268,
          -0.32235468416680824,
          0.8002754925634359,
          0.21172920763862046,
          0.09903702724515281,
          -0.5838307571916042,
          1.6199328693665376,
          -0.4270231992191468,
          -0.4378121963032174,
          1.7997410630865565,
          -0.34899729841283295,
          -0.3799073015326684,
          3.6733417414580134,
          1.8656933146507844,
          -0.038787930154130394,
          0.4396187768785375,
          1.1150715860506597,
          -0.3548969297957324,
          -1.1026309657224838,
          0.7994964151078249,
          4.032351655434203,
          4.488793459881012,
          0.9638752620700727,
          1.3279096546652436,
          -0.13996047543094078,
          -0.6151888772673269,
          -0.30671341725770185,
          -0.2486725797116722,
          -0.7195780026906056,
          -0.6676734693132442,
          -1.72346115800896,
          -1.1544059451822728,
          -1.5336318575616905,
          -1.8292984049388645,
          -1.805775881925305,
          -1.3453830492113639,
          -1.5677947795923148,
          -1.6203438179805119,
          -0.8979833713284827,
          -1.7968109925650801,
          -1.4228007433303198,
          -1.931847879503983,
          -0.3532673564452856,
          -1.925739984557474,
          -1.6567181683081156,
          -1.5374829601142364,
          -0.8591322328301467,
          -1.6864071727616825,
          -1.0225665747146209,
          -1.4839763023993358,
          -1.789530647211675,
          -1.0271710831678638,
          -1.805711574659577,
          -1.931847879503983,
          -1.6025670669155698,
          -0.4172824671109376,
          -1.8161591917764597,
          -1.7323131900832025,
          -1.461971851586936,
          -1.636149454359647,
          -1.931847879503983,
          -1.4716213013284307,
          -1.6437676608581664,
          -1.0141640608541282,
          -1.47143932260379,
          -1.0152974435374482,
          -1.760266133466601,
          -1.7404279902925062,
          -1.3940570267831989,
          -1.5252419298649995,
          -1.6699611107478272,
          -1.0986834669355485,
          -1.825698972017977,
          -1.7358295368411818,
          2.3852149078617497,
          -1.3379970586191736,
          -0.8373259775509981,
          -1.5513545221586835,
          -1.7810931697480588,
          -1.0042335184503979,
          -1.4472695476376607,
          -1.7872829804607513,
          -1.2534557414258594,
          -1.5002045244700655,
          -1.7573980489518357,
          -1.559104417491472,
          -0.8550230990015781,
          -1.6934193183887676,
          -1.931847879503983,
          -1.3696407724143258,
          -1.921827488762245,
          -1.748188367872102,
          -0.5678934877035087,
          -1.8934143133150245,
          -0.9813242871105592,
          -1.607888855567419,
          -1.1691070353497834,
          -1.680900188689344,
          -0.5686694071473841,
          -1.2150985501878433,
          -1.4126399707599195,
          -0.9455053222312688,
          -1.931847879503983,
          -1.5720955337327596,
          -0.4872766217170769,
          -1.1234332631776933,
          -1.4797799358124324,
          -1.7787168959089539,
          -1.565779217034384,
          -1.8093518150012886,
          -1.931847879503983,
          -1.4907330228971511,
          -1.931847879503983,
          -1.7500162659553837,
          -1.6691735994590509,
          -1.2159177276148205,
          -1.2377336436678368,
          -1.030535024013397,
          -1.6189882195826213,
          -1.8216822138248492,
          -1.8885408731096551,
          -0.9950668845125428,
          -1.0245994022416394,
          -1.781205999344324,
          -1.434017673108992,
          -1.748954974544996,
          -1.931847879503983,
          -1.794084325672783,
          -1.7873156237709473,
          -1.712377239522868,
          -1.2773437475578469,
          -1.2656590951742897,
          -1.6656574869182779,
          -1.7825902583263584,
          -0.7255744590473099,
          -1.5143210463949857,
          -1.8083320711326214,
          -1.5572366513484608,
          -0.504964297724799,
          -1.1809395727105165,
          -1.8787305929781557,
          -0.5489036156689289,
          -1.0090245790078691,
          -1.3734594228478307,
          -1.8485147838692257,
          -1.5718935925213542,
          -1.8221742213586913,
          -1.931847879503983,
          -1.5020971622075452,
          -1.4300429581939504,
          -1.0038244387907584,
          -0.11153513904857791,
          -0.7628379481889744,
          -1.893895262640344,
          -1.613161593060808,
          -1.073613201238539,
          -1.1465426987906149,
          -1.2528613633193122,
          -1.91779638973534,
          -1.6342872860963484,
          -1.5970267827541378,
          -1.931847879503983,
          -1.90192264313385,
          -1.1847372789557522,
          -1.5607818542384866,
          -1.9219558714972829,
          -1.214472239843883,
          -1.931847879503983,
          -1.8425416049265217,
          -1.471413575421535,
          -1.077096255807426,
          -1.931847879503983,
          -1.8500725240637232,
          -1.8181711040941573,
          -0.14100165742505433,
          -1.245839945610822,
          -1.4569706409876768,
          -1.931847879503983,
          -1.4384738596557503,
          -1.9055226395502398,
          -1.7532064363088604,
          -0.9621438571537062,
          -1.931847879503983,
          -1.6204167985368567,
          -1.9089843113106435,
          -1.931847879503983,
          -0.9534196620336223,
          -1.4576869615734407,
          -1.6972809121957508,
          -1.9103097056068028,
          -1.931847879503983,
          -0.6399585543326499,
          -1.8653375865685888,
          -1.931847879503983,
          -0.8403517325614912,
          -1.4119773269201827,
          -0.9137989594132839,
          -1.4217519808417112,
          -1.7371228998194845,
          -1.5864804775540648,
          -1.931847879503983,
          -1.8247037631627885,
          -1.0367598136191278,
          -1.82824218577118,
          -1.212002990281744,
          -1.7398129583255797,
          -1.931847879503983,
          -1.9178186470979879,
          -1.713721661343118,
          -1.2145673356744313,
          -1.4845948388162455,
          -0.5000908097747817,
          -0.9053466171377879,
          -1.8392986538969893,
          -1.931847879503983,
          -1.4767468626922537,
          -1.894047519606343,
          1.3785955397788645,
          -1.62403700221062,
          -1.2322343397440736,
          -1.5582232856373686,
          -0.17777006942630755,
          -1.4784745869693676,
          -1.4415382199280349,
          -1.9036868542173386,
          -1.2397735572379505,
          -1.9062048643197371,
          -0.636377562614794,
          -1.7820724014010858,
          -1.7611673680572089,
          -1.8001038299072643,
          -0.792624491424572,
          -1.7934598571940947,
          -1.931847879503983,
          -0.8884019233894398,
          -1.2899679758662483,
          -1.89866140125704,
          -1.931847879503983,
          -1.1827344806965019,
          -1.3675299404077828,
          -1.796376154249386,
          -1.931847879503983,
          -1.0920320983094332,
          -1.931847879503983,
          -1.1302802428480554,
          -1.849472361438584,
          -1.8867412223202584,
          -1.4511221995255572,
          -1.6281466772979445,
          -1.9079181908488387,
          -1.931847879503983,
          -0.5610281274480878,
          -1.5124370176156186,
          -1.3674722094747624,
          -1.931847879503983,
          -1.7308616698193302,
          -1.858622236439776,
          -1.7094557421385432,
          -1.9100860476358879,
          -1.7018514767276662,
          -1.931847879503983,
          -1.9283145501557157,
          -1.894862487384855,
          -1.4797650202199204,
          -1.662798558621727
         ],
         "xaxis": "x",
         "y": [
          -2.1479575424359227,
          -0.808223536464191,
          -1.0690910991386704,
          -2.053385717137338,
          1.5073566314916682,
          0.15598902724706928,
          1.4474758628688655,
          -2.123161911555461,
          -1.7185023096251633,
          -0.8061150341822931,
          0.8279461842586484,
          1.2237395704583918,
          0.32948425713259416,
          -0.41052031627781216,
          -0.9313411966342301,
          2.742772578620949,
          -0.12755157745596105,
          1.1086998077455599,
          -2.357742974738771,
          0.8890826353800165,
          2.823347635873815,
          -1.3485876415210465,
          -1.3440178715780156,
          1.8780041012695012,
          -1.1180505348868424,
          -2.0055084047228857,
          -0.2943158291155822,
          0.045734807819950894,
          1.3868756212110556,
          0.9524510714662052,
          -0.715367741211018,
          -0.7786800615894582,
          0.04164376650408143,
          -0.2874152330332829,
          0.33031927516898896,
          -0.39208867859721924,
          0.25138297367273427,
          -0.5112591633176191,
          0.20825182960742833,
          -0.42105121009767504,
          -1.8935721821111144,
          -0.9550240339332012,
          -0.7749604388561493,
          0.6000950729290786,
          0.09074943274990574,
          1.0721395597634886,
          1.7912334198847286,
          -1.038428214037205,
          -1.1459739482098166,
          -1.1206362696494894,
          -1.0625165664212812,
          -0.5615811317926559,
          -0.7663829310207246,
          0.9121831689662125,
          -0.3914650881374573,
          -1.1862302207938706,
          -0.8475937117764251,
          -0.28858406260271235,
          -1.103543215526157,
          -0.06843404754809132,
          1.5168501782549237,
          -0.5708858150249442,
          -0.7364291127372754,
          -0.18186403908304968,
          -1.571770395311489,
          -1.3036311121975273,
          -0.8741591122174833,
          1.687315727218599,
          1.5682648562293515,
          -0.9173460920318437,
          -0.19900509452993645,
          -0.9632282904312379,
          -1.007338013273241,
          -0.9753604793976843,
          -0.29141290165246886,
          -0.9009449865486425,
          -0.5601427174857456,
          -0.551498668684349,
          0.033671217263720805,
          -0.6799129957076775,
          -0.8554376183958655,
          -0.8262353958066349,
          -0.5463147828090239,
          -0.16987650434267332,
          -0.8823496995962262,
          0.572441998242315,
          -0.5803310401272753,
          0.024398132566767056,
          -0.9038817288003252,
          0.15551723421158786,
          -0.8892471081341974,
          -0.24466623924215378,
          -0.5639418628330816,
          0.49836975353945034,
          -0.5335326979045335,
          0.553807434587873,
          -0.20663465314961002,
          -0.7412544045052348,
          0.00675421581629766,
          -0.6190907104496639,
          -0.9038817288003252,
          -0.9569033678044474,
          0.07077519734881213,
          -0.6266896560679522,
          -0.6390553610880048,
          -0.839243290760609,
          -0.38480164228477365,
          -0.9038817288003252,
          -0.04048438891990723,
          -0.4399800882709475,
          -0.2559273486613535,
          -0.25139511273034976,
          0.2868880504130026,
          -0.8389822155205247,
          -0.4452364031855977,
          -0.725831614881847,
          0.051854545499753234,
          -0.2763965556287046,
          0.3618778998341028,
          -0.9161117520689446,
          -0.4342184301359068,
          2.3251515951172705,
          -0.775001277460828,
          0.37107864746603747,
          0.0077868574304346206,
          -0.5518737499901398,
          -0.5339774506412222,
          0.25717623503087333,
          -0.923438122609826,
          -0.018561560907439992,
          0.1253967998560846,
          -0.4858969537248911,
          -0.6183329106546542,
          0.021858058685320984,
          -0.4890106135792463,
          -0.9038817288003252,
          -0.6230385278294911,
          -0.879872701350446,
          -0.49434997212121856,
          0.11804368764861688,
          -0.840319439047284,
          0.03235544039522513,
          -0.8737497903627194,
          -0.3797709809146498,
          -0.686137747669755,
          0.36822498254049446,
          -0.8733306204080812,
          0.09419260258199434,
          0.48525682441241613,
          -0.9038817288003252,
          -0.5039625014177965,
          0.33807456601816305,
          -0.039545999192405146,
          -0.24448497266873237,
          -0.8508338536749559,
          -0.5537252560370375,
          -0.8757785934336411,
          -0.9038817288003252,
          -0.286528670163874,
          -0.9038817288003252,
          -0.468210075522362,
          -0.2745096651234706,
          0.8114991492433502,
          -0.09974785583921915,
          0.233254208491711,
          -0.4044889795296715,
          -0.6399229112756302,
          -0.8001174014310732,
          0.49619876175992345,
          0.32008366335141275,
          -0.756646673341106,
          -0.8141822781401907,
          -0.8262757783005608,
          -0.9038817288003252,
          -0.5737978996588942,
          -0.5575799742356548,
          -0.5171042223624218,
          -0.6234926387520042,
          -0.8852903546430984,
          -0.2660849993909602,
          -0.9587915727627535,
          0.16842294580483286,
          -0.17167122516180452,
          -0.6079357412521675,
          -0.5407897138729304,
          -0.5818251102427694,
          -0.13196278475790998,
          -0.8395522800576309,
          -0.18085471230343575,
          0.38530114963399176,
          0.25939190461127476,
          -0.9117605148617965,
          -0.40167374171899145,
          -0.6411017697343484,
          -0.9038817288003252,
          -0.6915744714644942,
          -0.23981638596116536,
          -0.00600455503344297,
          -0.05473148564572241,
          -0.4519263414685791,
          -0.8208555346872614,
          -0.29032005309035047,
          0.41475860206498893,
          -0.029728260096883133,
          0.3937084400566428,
          -0.8868642068229762,
          -0.430600153848355,
          -0.28522784532284384,
          -0.9038817288003252,
          -0.8425517001536507,
          -0.7256057550842547,
          -0.9497005731513214,
          -0.8919016849454886,
          -0.09705488189099955,
          -0.9038817288003252,
          -0.91289966864821,
          0.19932673187735214,
          0.1260425765968024,
          -0.9038817288003252,
          -0.7687068133309389,
          -0.644873002204888,
          -0.1703203273185722,
          -0.36838168973582164,
          -0.12316356284575247,
          -0.9038817288003252,
          0.193328954349501,
          -0.8408060040143217,
          -0.5210893021372558,
          -0.07081199813722644,
          -0.9038817288003252,
          -0.457902073435938,
          -0.84910022870676,
          -0.9038817288003252,
          0.5029283834172922,
          -0.14860466292805144,
          -0.5314186209555115,
          -0.8580350022349637,
          -0.9038817288003252,
          0.13869028178990433,
          -0.9085522132895704,
          -0.9038817288003252,
          -0.4768821404059061,
          0.06702481913203837,
          0.17150658028252028,
          -0.7406228719157111,
          -0.8492274575815346,
          -0.4765556075574978,
          -0.9038817288003252,
          -0.6471625951228457,
          0.1447438191658978,
          -0.8702139127135657,
          -0.13605344011277487,
          -0.4865108985530302,
          -0.9038817288003252,
          -0.8800802211084187,
          -0.8925603382625172,
          0.6587822572357565,
          -0.43231277849806105,
          0.09976780774970022,
          0.573780542298934,
          -0.8877521544550978,
          -0.9038817288003252,
          0.18654808443924095,
          -0.8539391909135229,
          0.8980220571245346,
          -0.16636160680296577,
          0.4316844052553253,
          -0.7411188340257462,
          -0.6600498084842372,
          -0.44150336504005205,
          -0.39733621618003934,
          -0.8364074309860142,
          0.10610666797777912,
          -0.8424406262201828,
          0.44098090592693134,
          -0.5546459248713563,
          -0.7170809765112358,
          -0.9209930394586053,
          -0.14571955764736708,
          -0.7940293278065494,
          -0.9038817288003252,
          0.18715986070433335,
          -0.42427881135047213,
          -0.8446696779737877,
          -0.9038817288003252,
          -0.04885519105311338,
          -0.31575622156842537,
          -0.9136901581942621,
          -0.9038817288003252,
          0.05258988936070354,
          -0.9038817288003252,
          -0.5992715473797353,
          -0.8674965379720212,
          -0.7958054073864852,
          0.24794521527172805,
          -0.8004492010410009,
          -0.8465457858619583,
          -0.9038817288003252,
          -0.4464578668549294,
          -0.5889348635596219,
          0.04351674989651611,
          -0.9038817288003252,
          -0.7340639750370064,
          -0.8882003264857211,
          -0.8493974463673304,
          -0.851740007768982,
          -0.7083033499710146,
          -0.9038817288003252,
          -0.8954158113028505,
          -0.8152640972608706,
          -0.23924215927217152,
          -0.259234958337849
         ],
         "yaxis": "y"
        },
        {
         "customdata": [
          [
           "Marc Guehi",
           "Crystal Palace",
           2,
           0,
           1.5871607586741447,
           0.0487082507461309,
           6,
           "Defenders"
          ],
          [
           "James Justin",
           "Leicester",
           2,
           1,
           0.4674228429794311,
           0.5461153779178858,
           8,
           "Defenders"
          ],
          [
           "Ethan Pinnock",
           "Brentford",
           2,
           0,
           0.8028032584115863,
           0.7735196352005005,
           8,
           "Defenders"
          ],
          [
           "Fabian Schär",
           "Newcastle United",
           1,
           0,
           0.4731566337868571,
           0.0690275356173515,
           11,
           "Defenders"
          ],
          [
           "Marcus Rashford",
           "Manchester United",
           1,
           1,
           0.8756322860717773,
           1.8967064060270784,
           10,
           "Defenders"
          ],
          [
           "Ross Barkley",
           "Aston Villa",
           1,
           1,
           0.9806250454857944,
           0.3010348659008741,
           7,
           "Defenders"
          ],
          [
           "Ola Aina",
           "Nottingham Forest",
           1,
           0,
           0.1135107418522238,
           0.8367399983108044,
           4,
           "Defenders"
          ],
          [
           "Virgil van Dijk",
           "Liverpool",
           1,
           1,
           0.5912207905203104,
           0.4480435196310282,
           5,
           "Defenders"
          ],
          [
           "Mario Lemina",
           "Wolverhampton Wanderers",
           1,
           2,
           1.0050526866689324,
           0.3818733096122741,
           11,
           "Defenders"
          ],
          [
           "Lewis Cook",
           "Bournemouth",
           1,
           3,
           0.7380610480904579,
           2.3296538591384888,
           8,
           "Defenders"
          ],
          [
           "Casemiro",
           "Manchester United",
           1,
           0,
           0.9967881552875042,
           1.7771615758538246,
           15,
           "Defenders"
          ],
          [
           "Thomas Partey",
           "Arsenal",
           1,
           0,
           0.3902366310358047,
           0.4513196833431721,
           7,
           "Defenders"
          ],
          [
           "Rodrigo Bentancur",
           "Tottenham",
           1,
           0,
           0.5164269749075174,
           0.0536068640649318,
           11,
           "Defenders"
          ],
          [
           "Ibrahima Konaté",
           "Liverpool",
           1,
           1,
           1.209789514541626,
           0.349171033129096,
           8,
           "Defenders"
          ],
          [
           "Pedro Neto",
           "Chelsea",
           1,
           2,
           0.5304845441132784,
           2.1261654049158096,
           13,
           "Defenders"
          ],
          [
           "Reiss Nelson",
           "Arsenal,Fulham",
           1,
           1,
           1.3307774066925049,
           0.7295538149774075,
           10,
           "Defenders"
          ],
          [
           "Curtis Jones",
           "Liverpool",
           1,
           1,
           1.5348839834332466,
           0.2208860740065574,
           8,
           "Defenders"
          ],
          [
           "Pedro Porro",
           "Tottenham",
           1,
           1,
           0.7944704368710518,
           1.472710456699133,
           19,
           "Defenders"
          ],
          [
           "Christian Nørgaard",
           "Brentford",
           1,
           1,
           1.5833494868129492,
           0.1935816518962383,
           12,
           "Defenders"
          ],
          [
           "Cristian Romero",
           "Tottenham",
           1,
           0,
           1.2029815949499607,
           0.5379867702722549,
           11,
           "Defenders"
          ],
          [
           "Ezri Konsa Ngoyo",
           "Aston Villa",
           1,
           0,
           0.4748618602752685,
           0.1466968469321727,
           3,
           "Defenders"
          ],
          [
           "Matthijs de Ligt",
           "Manchester United",
           1,
           0,
           1.1100782826542854,
           0.0487571768462657,
           6,
           "Defenders"
          ],
          [
           "Amad Diallo Traore",
           "Manchester United",
           1,
           2,
           0.8933382527902722,
           1.00988207757473,
           12,
           "Defenders"
          ],
          [
           "Taylor Harwood-Bellis",
           "Southampton",
           1,
           0,
           1.7264893501996994,
           0.8833814300596714,
           9,
           "Defenders"
          ],
          [
           "Wout Faes",
           "Leicester",
           1,
           0,
           1.2339492477476597,
           0.0192568060010671,
           7,
           "Defenders"
          ],
          [
           "Leif Davis",
           "Ipswich",
           1,
           2,
           0.4312202930450439,
           3.240241624414921,
           9,
           "Defenders"
          ],
          [
           "Jéremy Doku",
           "Manchester City",
           1,
           1,
           0.4819023385643959,
           1.0608169343322515,
           10,
           "Defenders"
          ],
          [
           "Moisés Caicedo",
           "Chelsea",
           1,
           2,
           0.2618373148143291,
           1.5080358609557152,
           6,
           "Defenders"
          ],
          [
           "Vitaly Janelt",
           "Brentford",
           1,
           3,
           0.3199375346302986,
           1.644264760427177,
           8,
           "Defenders"
          ],
          [
           "Nathan Collins",
           "Brentford",
           1,
           0,
           1.646300457417965,
           0.1854135207831859,
           9,
           "Defenders"
          ],
          [
           "Carlos Baleba",
           "Brighton",
           1,
           1,
           0.808440824970603,
           0.5576661843806505,
           16,
           "Defenders"
          ],
          [
           "Tyler Dibling",
           "Southampton",
           1,
           0,
           0.8191663175821304,
           1.06824441999197,
           9,
           "Defenders"
          ],
          [
           "Ryan Christie",
           "Bournemouth",
           1,
           0,
           0.3436100929975509,
           1.1159699391573668,
           7,
           "Defenders"
          ],
          [
           "Joe Ayodele-Aribo",
           "Southampton",
           1,
           0,
           1.3334388304501772,
           0.6153282951563597,
           9,
           "Defenders"
          ],
          [
           "Jack Hinshelwood",
           "Brighton",
           1,
           0,
           0.840388304553926,
           0.1783577632158994,
           7,
           "Defenders"
          ],
          [
           "Cody Gakpo",
           "Liverpool",
           1,
           1,
           0.9664908684790134,
           1.5196633711457253,
           12,
           "Defenders"
          ],
          [
           "João Gomes",
           "Wolverhampton Wanderers",
           1,
           0,
           0.5704956948757172,
           0.2957555279135704,
           7,
           "Defenders"
          ],
          [
           "Murillo",
           "Nottingham Forest",
           1,
           0,
           0.8390248510986567,
           0.9048327952623368,
           9,
           "Defenders"
          ],
          [
           "Sam Morsy",
           "Ipswich",
           1,
           1,
           0.1815538741648197,
           0.3644846603274345,
           5,
           "Defenders"
          ],
          [
           "Yankuba Minteh",
           "Brighton",
           1,
           1,
           0.950880952179432,
           1.358094573020935,
           7,
           "Defenders"
          ],
          [
           "Yukinari Sugawara",
           "Southampton",
           1,
           1,
           0.1942178159952163,
           2.333957420662045,
           6,
           "Defenders"
          ],
          [
           "Bernd Leno",
           "Fulham",
           0,
           1,
           0,
           0.0445953160524368,
           0,
           "Defenders"
          ],
          [
           "Ilkay Gündogan",
           "Manchester City",
           0,
           1,
           1.2978494688868525,
           0.8824509978294373,
           11,
           "Defenders"
          ],
          [
           "Kyle Walker",
           "Manchester City",
           0,
           0,
           0.1098661832511425,
           0.6528090313076973,
           5,
           "Defenders"
          ],
          [
           "Christian Eriksen",
           "Manchester United",
           0,
           0,
           0.1256131995469331,
           1.6376851983368397,
           2,
           "Defenders"
          ],
          [
           "Jack Grealish",
           "Manchester City",
           0,
           1,
           0.467254864051938,
           1.0772398645058274,
           7,
           "Defenders"
          ],
          [
           "Kyle Walker-Peters",
           "Southampton",
           0,
           1,
           0.4262155909091234,
           0.6890810644254088,
           8,
           "Defenders"
          ],
          [
           "Harry Winks",
           "Leicester",
           0,
           2,
           0.1328343404456973,
           1.1132869962602854,
           7,
           "Defenders"
          ],
          [
           "Alisson",
           "Liverpool",
           0,
           0,
           0,
           0,
           0,
           "Defenders"
          ],
          [
           "Sasa Lukic",
           "Fulham",
           0,
           0,
           0,
           0.6170338205993176,
           0,
           "Defenders"
          ],
          [
           "James Tarkowski",
           "Everton",
           0,
           0,
           0.6783798695541918,
           0.9864744395017624,
           8,
           "Defenders"
          ],
          [
           "Andrew Robertson",
           "Liverpool",
           0,
           0,
           0.5348606295883656,
           1.8131349831819532,
           3,
           "Defenders"
          ],
          [
           "Trent Alexander-Arnold",
           "Liverpool",
           0,
           1,
           0.3614134732633829,
           3.3131525591015816,
           10,
           "Defenders"
          ],
          [
           "Lucas Digne",
           "Aston Villa",
           0,
           2,
           0.4771345257759094,
           3.9885410591959953,
           6,
           "Defenders"
          ],
          [
           "Martin Odegaard",
           "Arsenal",
           0,
           1,
           0.930220952257514,
           1.3654604777693748,
           5,
           "Defenders"
          ],
          [
           "Estupiñán",
           "Brighton",
           0,
           0,
           0.438457453623414,
           0.9610214289277792,
           5,
           "Defenders"
          ],
          [
           "Leon Bailey",
           "Aston Villa",
           0,
           2,
           0.84160166233778,
           1.7862511612474918,
           9,
           "Defenders"
          ],
          [
           "Wilfred Ndidi",
           "Leicester",
           0,
           4,
           0.62111627869308,
           2.13533384911716,
           10,
           "Defenders"
          ],
          [
           "Declan Rice",
           "Arsenal",
           0,
           1,
           0.8273034133017063,
           1.8705792650580408,
           10,
           "Defenders"
          ],
          [
           "Ismaila Sarr",
           "Crystal Palace",
           0,
           0,
           1.5289625115692616,
           1.4375363904982803,
           11,
           "Defenders"
          ],
          [
           "Youri Tielemans",
           "Aston Villa",
           0,
           3,
           0.4347556941211223,
           3.205501100048423,
           9,
           "Defenders"
          ],
          [
           "Kenny Tete",
           "Fulham",
           0,
           0,
           1.2313095517456532,
           0.1176135782152414,
           17,
           "Defenders"
          ],
          [
           "Jan Bednarek",
           "Southampton",
           0,
           0,
           0.0078547345474362,
           0.2420873269438743,
           1,
           "Defenders"
          ],
          [
           "Lewis Dunk",
           "Brighton",
           0,
           0,
           0.3704197257757187,
           0.3716043122112751,
           3,
           "Defenders"
          ],
          [
           "Ederson",
           "Manchester City",
           0,
           1,
           0,
           0.2012233585119247,
           0,
           "Defenders"
          ],
          [
           "Phil Foden",
           "Manchester City",
           0,
           1,
           0.9454916846007108,
           2.607670776546001,
           15,
           "Defenders"
          ],
          [
           "Daichi Kamada",
           "Crystal Palace",
           0,
           0,
           0.4982820674777031,
           0.5873613301664591,
           8,
           "Defenders"
          ],
          [
           "Nikola Milenkovic",
           "Nottingham Forest",
           0,
           1,
           1.8078351244330408,
           0.5814476609230042,
           8,
           "Defenders"
          ],
          [
           "Pau Torres",
           "Aston Villa",
           0,
           0,
           0.1355437040328979,
           0.0188772715628147,
           3,
           "Defenders"
          ],
          [
           "Joachim Andersen",
           "Crystal Palace,Fulham",
           0,
           0,
           0.252439578063786,
           0.1051719188690185,
           9,
           "Defenders"
          ],
          [
           "Eddie Nketiah",
           "Crystal Palace",
           0,
           0,
           0.9659855552017688,
           0.4737574830651283,
           17,
           "Defenders"
          ],
          [
           "Manuel Akanji",
           "Manchester City",
           0,
           0,
           0.1464704982936382,
           0.2826728895306587,
           5,
           "Defenders"
          ],
          [
           "Tom Cairney",
           "Fulham",
           0,
           0,
           0,
           0.981491768732667,
           0,
           "Defenders"
          ],
          [
           "William Saliba",
           "Arsenal",
           0,
           0,
           0,
           0.5203959345817566,
           0,
           "Defenders"
          ],
          [
           "Marc Cucurella",
           "Chelsea",
           0,
           0,
           0.0167267695069313,
           0.1265256181359291,
           1,
           "Defenders"
          ],
          [
           "Diogo Dalot",
           "Manchester United",
           0,
           1,
           0.6456167008727789,
           1.4397514909505844,
           3,
           "Defenders"
          ],
          [
           "Max Kilman",
           "West Ham",
           0,
           1,
           1.1399784162640572,
           0.3153066523373127,
           4,
           "Defenders"
          ],
          [
           "Dan Burn",
           "Newcastle United",
           0,
           0,
           0.7322981357574463,
           0.1092071048915386,
           7,
           "Defenders"
          ],
          [
           "Wesley Fofana",
           "Chelsea",
           0,
           0,
           0.1778788901865482,
           0.5068396311253309,
           2,
           "Defenders"
          ],
          [
           "John McGinn",
           "Aston Villa",
           0,
           0,
           0.5518768206238747,
           0.4765108451247215,
           8,
           "Defenders"
          ],
          [
           "Igor Julio",
           "Brighton",
           0,
           0,
           0.0835000127553939,
           0,
           1,
           "Defenders"
          ],
          [
           "Tyrick Mitchell",
           "Crystal Palace",
           0,
           1,
           0.2493132688105106,
           2.203275188803673,
           4,
           "Defenders"
          ],
          [
           "Bruno Guimarães",
           "Newcastle United",
           0,
           1,
           0.5965583007782698,
           0.7273466493934393,
           14,
           "Defenders"
          ],
          [
           "Alexis Mac Allister",
           "Liverpool",
           0,
           0,
           0.3393756225705147,
           1.1300759296864271,
           6,
           "Defenders"
          ],
          [
           "Joël Veltman",
           "Brighton",
           0,
           0,
           0.1003258619457483,
           0.4272068366408348,
           2,
           "Defenders"
          ],
          [
           "Iyenoma Destiny Udogie",
           "Tottenham",
           0,
           1,
           0.3497059941291809,
           0.9168924018740654,
           5,
           "Defenders"
          ],
          [
           "Guglielmo Vicario",
           "Tottenham",
           0,
           0,
           0,
           0,
           0,
           "Defenders"
          ],
          [
           "Antonee Robinson",
           "Fulham",
           0,
           3,
           0.2216594330966472,
           1.109669364988804,
           7,
           "Defenders"
          ],
          [
           "Jacob Ramsey",
           "Aston Villa",
           0,
           2,
           0.5220721643418074,
           1.3868568325415254,
           10,
           "Defenders"
          ],
          [
           "Rúben Dias",
           "Manchester City",
           0,
           0,
           0.766279049217701,
           0.1651299819350242,
           11,
           "Defenders"
          ],
          [
           "Malo Gusto",
           "Chelsea",
           0,
           0,
           0.9824844859540462,
           0.2301142998039722,
           13,
           "Defenders"
          ],
          [
           "Pape Sarr",
           "Tottenham",
           0,
           2,
           0.6626676600426435,
           1.2705853935331106,
           11,
           "Defenders"
          ],
          [
           "Robert Sánchez",
           "Chelsea",
           0,
           0,
           0,
           0,
           0,
           "Defenders"
          ],
          [
           "Elliot Anderson",
           "Nottingham Forest",
           0,
           3,
           0.9547300599515438,
           2.0646366560831666,
           15,
           "Defenders"
          ],
          [
           "Kevin Schade",
           "Brentford",
           0,
           0,
           1.4683191776275637,
           0.1289115361869335,
           9,
           "Defenders"
          ],
          [
           "Valentino Livramento",
           "Newcastle United",
           0,
           0,
           0,
           0.3075527343899011,
           0,
           "Defenders"
          ],
          [
           "Anthony Elanga",
           "Nottingham Forest",
           0,
           2,
           0.8348561245948076,
           1.5632484909147024,
           10,
           "Defenders"
          ],
          [
           "Mads Roerslev",
           "Brentford",
           0,
           1,
           0.0150069436058402,
           1.2812464088201525,
           1,
           "Defenders"
          ],
          [
           "Dominik Szoboszlai",
           "Liverpool",
           0,
           1,
           1.3391199950128794,
           1.7455288097262385,
           13,
           "Defenders"
          ],
          [
           "Micky van de Ven",
           "Tottenham",
           0,
           2,
           0.2344387136399746,
           1.1784075498580933,
           4,
           "Defenders"
          ],
          [
           "Lewis Hall",
           "Newcastle United",
           0,
           1,
           0,
           1.763850387185812,
           0,
           "Defenders"
          ],
          [
           "Omari Hutchinson",
           "Ipswich",
           0,
           1,
           0.746975788846612,
           1.5060416106134653,
           14,
           "Defenders"
          ],
          [
           "Noussair Mazraoui",
           "Manchester United",
           0,
           1,
           0.2403601305559277,
           0.2055790768936276,
           5,
           "Defenders"
          ],
          [
           "Ryan Gravenberch",
           "Liverpool",
           0,
           0,
           0.1491349125280976,
           0.5979742519557476,
           6,
           "Defenders"
          ],
          [
           "Lisandro Martínez",
           "Manchester United",
           0,
           0,
           1.1232068538665771,
           0.107435442507267,
           7,
           "Defenders"
          ],
          [
           "Levi Colwill",
           "Chelsea",
           0,
           0,
           0.5614423751831055,
           0.6197349904105067,
           3,
           "Defenders"
          ],
          [
           "Jan Paul van Hecke",
           "Brighton",
           0,
           1,
           0.1024057082831859,
           0.5960588194429874,
           3,
           "Defenders"
          ],
          [
           "Keane Lewis-Potter",
           "Brentford",
           0,
           1,
           0.731459217146039,
           1.3327374272048471,
           10,
           "Defenders"
          ],
          [
           "Flynn Downes",
           "Southampton",
           0,
           0,
           0.6749084424227476,
           1.2941725589334965,
           5,
           "Defenders"
          ],
          [
           "Rico Lewis",
           "Manchester City",
           0,
           2,
           1.033872827887535,
           0.2541711740195751,
           4,
           "Defenders"
          ],
          [
           "Marcos Senesi",
           "Bournemouth",
           0,
           0,
           0.6097416877746582,
           0.1996755916625261,
           1,
           "Defenders"
          ],
          [
           "André Onana",
           "Manchester United",
           0,
           0,
           0,
           0.3146860003471374,
           0,
           "Defenders"
          ],
          [
           "Enzo Fernández",
           "Chelsea",
           0,
           1,
           0.3177590556442737,
           0.9053786359727384,
           5,
           "Defenders"
          ],
          [
           "Jurriën Timber",
           "Arsenal",
           0,
           1,
           0.3554475232958793,
           0.6966781914234161,
           6,
           "Defenders"
          ],
          [
           "Milos Kerkez",
           "Bournemouth",
           0,
           2,
           0.2069533374160528,
           1.2686922773718834,
           7,
           "Defenders"
          ],
          [
           "Calvin Bassey",
           "Fulham",
           0,
           0,
           0.2771231746301055,
           0,
           6,
           "Defenders"
          ],
          [
           "Ian Maatsen",
           "Aston Villa",
           0,
           0,
           0.0100483559072017,
           0.7016814202070236,
           1,
           "Defenders"
          ],
          [
           "Daniel Muñoz",
           "Crystal Palace",
           0,
           1,
           1.4858251735568049,
           1.3194137550890446,
           10,
           "Defenders"
          ],
          [
           "Abdul Fatawu",
           "Leicester",
           0,
           2,
           0.466048689559102,
           1.4724965319037435,
           13,
           "Defenders"
          ],
          [
           "Mateus Fernandes",
           "Southampton",
           0,
           1,
           1.1188840121030807,
           1.562014766037464,
           7,
           "Defenders"
          ]
         ],
         "hovertemplate": "Cluster Label=%{customdata[7]}<br>PCA1=%{x}<br>PCA2=%{y}<br>player_name=%{customdata[0]}<br>team_title=%{customdata[1]}<br>goals=%{customdata[2]}<br>assists=%{customdata[3]}<br>xG=%{customdata[4]}<br>xA=%{customdata[5]}<br>shots=%{customdata[6]}<extra></extra>",
         "legendgroup": "Defenders",
         "marker": {
          "color": "#00cc96",
          "symbol": "circle"
         },
         "mode": "markers",
         "name": "Defenders",
         "orientation": "v",
         "showlegend": true,
         "type": "scatter",
         "x": [
          1.1095490346536367,
          0.9075474479881689,
          1.4049550091727285,
          0.08805720333273637,
          1.3611686624800456,
          0.18396818434359422,
          -0.1206624167037987,
          1.046313068932488,
          0.7705055457231555,
          1.288750845672073,
          1.4965463714747789,
          0.9580326676641188,
          0.4709291754241423,
          1.9776838693821925,
          1.0691968784515922,
          0.9527213191899869,
          0.6449362034786157,
          1.6742433391153844,
          0.9030394033821022,
          1.2923436840019966,
          0.1917095730607669,
          0.2516036647458771,
          0.7875752887275993,
          0.9538407474238484,
          0.31572952895740575,
          0.8093458283904635,
          0.4293481852867267,
          1.5183629646703902,
          0.5570282232115202,
          1.1726354157206977,
          1.1707685181632514,
          0.48821411803852316,
          0.2894236416548469,
          0.5789244313246766,
          0.3531285407029849,
          1.0764919451476562,
          0.22558566299739108,
          0.5780539248263412,
          -0.22604826584387813,
          0.6300678593267268,
          0.07820090960678186,
          -0.9334092449348845,
          0.8491402375515735,
          -0.4301232053644957,
          -0.09536189370521081,
          -0.1433456599933528,
          -0.41784287223478817,
          -0.45444306919939864,
          -1.0933219824677571,
          -0.9001265217537656,
          -0.3254967065367253,
          0.6963746431427936,
          1.3835799402970859,
          0.9115626161997264,
          0.07406979462279598,
          -0.5037186380238573,
          0.18943592061022338,
          0.9421792700672561,
          0.5874283610327636,
          0.6567837372830653,
          1.9224348064016732,
          0.7969310057158747,
          -0.8238839668774047,
          -0.4878949709231645,
          -1.1490574889502443,
          1.0597263074743968,
          -0.42124468572580387,
          0.2673604826751828,
          -0.558842622749462,
          -0.3469787387588392,
          0.2299901020647073,
          0.37581012474430364,
          -0.9548701854045094,
          -0.5901002249203419,
          -0.6789824328088863,
          0.19881165319506566,
          -0.3110298591243873,
          -0.07767883015902625,
          -0.4425401854737661,
          -0.32734100967137697,
          -1.0694608010237558,
          0.2117201581395114,
          0.1853481468471889,
          0.835166494337947,
          -0.536119717687864,
          0.36090618784786027,
          -1.014774602791238,
          0.639040136180349,
          0.45715710046566854,
          0.7049784509559873,
          0.3427611412868868,
          -0.0033669591330158645,
          -1.0214707176566942,
          0.8470954776892561,
          0.07834117057298615,
          -1.0243556655427866,
          0.02726696391729297,
          -0.790066879130298,
          2.123582591137694,
          -0.20480592144379844,
          -0.018836612578892027,
          0.5447428596701455,
          -0.7043748875662688,
          0.28205677143292457,
          0.4448490984786325,
          0.507187911219321,
          -0.4391344415854901,
          -0.07649015604642188,
          0.22127872007778432,
          0.37536039066011534,
          -0.6842030952158011,
          -1.085614575448144,
          -0.26733555354459687,
          -0.5958673281136391,
          -0.40991407220558723,
          -0.43311458672455494,
          -0.9581085617560968,
          0.8747263106878697,
          -0.02896091485111852,
          0.42614463827704896
         ],
         "xaxis": "x",
         "y": [
          -0.5397738128129616,
          0.47717527155234124,
          1.0089028369751436,
          0.03554371860731741,
          1.4630849574870965,
          -0.33132024407591176,
          0.7223283954446769,
          2.6554702343290026,
          0.48118510912103235,
          1.7877144848102358,
          1.1614967278493258,
          2.5432998516632694,
          0.8563898343256302,
          3.55578749082933,
          0.9493207055735741,
          0.2055346465820495,
          -0.4882773286561976,
          1.6065376100440725,
          -0.25161045064046783,
          1.4530075076175386,
          1.1658002106018437,
          -0.06886929218695573,
          0.2737928589558797,
          -0.24555193356010285,
          -0.2570882752118943,
          0.6934198051588882,
          0.3808855000207603,
          3.7496547245547687,
          0.8990222320507355,
          0.7278537706343127,
          1.0594587432686806,
          -0.029493907362778522,
          0.7377480427247397,
          -0.4419833369710886,
          0.34494240956371486,
          0.5815280038552092,
          0.48047154199281883,
          0.4836616802304005,
          0.3941360340044376,
          0.15062110424623856,
          0.16635680630854494,
          1.4637068080343993,
          1.6482129396129588,
          1.641094773574517,
          2.372229645715699,
          1.0734687449005416,
          0.6989213905537666,
          1.1399002067685489,
          1.1052406495836604,
          1.307889234410207,
          0.4343345518146558,
          3.234640188104,
          3.609512195003935,
          2.7588316434699394,
          0.9466691398870929,
          0.6051911148069803,
          0.6817758276037874,
          2.429622998203572,
          1.4550062475115948,
          0.29482981997855107,
          5.02834532019488,
          1.2876737456070178,
          1.5190382451014082,
          1.4107779494079384,
          0.900197729283519,
          1.4646028537933142,
          0.5360706653635635,
          -0.1209943320699507,
          1.7790744584295475,
          1.3283352956888237,
          0.16850174480570423,
          3.649232508043666,
          1.0882249367278007,
          2.1260588829104883,
          1.9004823884612196,
          1.9513002489211821,
          0.3277430015489933,
          1.3626781978856304,
          1.8327398712016114,
          0.7271720007799026,
          0.896050905421244,
          2.2167164197642197,
          1.0090331939481172,
          3.809149394360406,
          1.7783007896758776,
          2.9702092531193403,
          1.2934415135394455,
          3.533594919181032,
          1.9604446127461428,
          2.6755934137159603,
          0.9744400277805664,
          0.6236205463143398,
          1.2773975078957702,
          1.2079817427848563,
          -0.08924733036090247,
          1.1106179839166046,
          0.38102639636474184,
          1.0291194534310688,
          3.817794928744821,
          1.690959447228093,
          2.7848872943546703,
          1.1070806515490024,
          0.8770784631031677,
          3.170696707524186,
          1.7955891650204912,
          3.2586001789967827,
          1.8588248270513017,
          0.21731692108525183,
          1.7428662688916368,
          2.0201606712601325,
          0.7895429369502269,
          0.9495008859551797,
          1.3941434840183367,
          0.6247758245007075,
          0.8739048042693198,
          1.4746473495116557,
          0.9658979794558334,
          1.2420312304114474,
          0.5567637189683745,
          0.9592656429083681
         ],
         "yaxis": "y"
        }
       ],
       "layout": {
        "legend": {
         "orientation": "h",
         "title": {
          "text": "Cluster Description"
         },
         "tracegroupgap": 0,
         "x": 1,
         "xanchor": "right",
         "y": 1.02,
         "yanchor": "bottom"
        },
        "template": {
         "data": {
          "bar": [
           {
            "error_x": {
             "color": "#2a3f5f"
            },
            "error_y": {
             "color": "#2a3f5f"
            },
            "marker": {
             "line": {
              "color": "#E5ECF6",
              "width": 0.5
             },
             "pattern": {
              "fillmode": "overlay",
              "size": 10,
              "solidity": 0.2
             }
            },
            "type": "bar"
           }
          ],
          "barpolar": [
           {
            "marker": {
             "line": {
              "color": "#E5ECF6",
              "width": 0.5
             },
             "pattern": {
              "fillmode": "overlay",
              "size": 10,
              "solidity": 0.2
             }
            },
            "type": "barpolar"
           }
          ],
          "carpet": [
           {
            "aaxis": {
             "endlinecolor": "#2a3f5f",
             "gridcolor": "white",
             "linecolor": "white",
             "minorgridcolor": "white",
             "startlinecolor": "#2a3f5f"
            },
            "baxis": {
             "endlinecolor": "#2a3f5f",
             "gridcolor": "white",
             "linecolor": "white",
             "minorgridcolor": "white",
             "startlinecolor": "#2a3f5f"
            },
            "type": "carpet"
           }
          ],
          "choropleth": [
           {
            "colorbar": {
             "outlinewidth": 0,
             "ticks": ""
            },
            "type": "choropleth"
           }
          ],
          "contour": [
           {
            "colorbar": {
             "outlinewidth": 0,
             "ticks": ""
            },
            "colorscale": [
             [
              0,
              "#0d0887"
             ],
             [
              0.1111111111111111,
              "#46039f"
             ],
             [
              0.2222222222222222,
              "#7201a8"
             ],
             [
              0.3333333333333333,
              "#9c179e"
             ],
             [
              0.4444444444444444,
              "#bd3786"
             ],
             [
              0.5555555555555556,
              "#d8576b"
             ],
             [
              0.6666666666666666,
              "#ed7953"
             ],
             [
              0.7777777777777778,
              "#fb9f3a"
             ],
             [
              0.8888888888888888,
              "#fdca26"
             ],
             [
              1,
              "#f0f921"
             ]
            ],
            "type": "contour"
           }
          ],
          "contourcarpet": [
           {
            "colorbar": {
             "outlinewidth": 0,
             "ticks": ""
            },
            "type": "contourcarpet"
           }
          ],
          "heatmap": [
           {
            "colorbar": {
             "outlinewidth": 0,
             "ticks": ""
            },
            "colorscale": [
             [
              0,
              "#0d0887"
             ],
             [
              0.1111111111111111,
              "#46039f"
             ],
             [
              0.2222222222222222,
              "#7201a8"
             ],
             [
              0.3333333333333333,
              "#9c179e"
             ],
             [
              0.4444444444444444,
              "#bd3786"
             ],
             [
              0.5555555555555556,
              "#d8576b"
             ],
             [
              0.6666666666666666,
              "#ed7953"
             ],
             [
              0.7777777777777778,
              "#fb9f3a"
             ],
             [
              0.8888888888888888,
              "#fdca26"
             ],
             [
              1,
              "#f0f921"
             ]
            ],
            "type": "heatmap"
           }
          ],
          "heatmapgl": [
           {
            "colorbar": {
             "outlinewidth": 0,
             "ticks": ""
            },
            "colorscale": [
             [
              0,
              "#0d0887"
             ],
             [
              0.1111111111111111,
              "#46039f"
             ],
             [
              0.2222222222222222,
              "#7201a8"
             ],
             [
              0.3333333333333333,
              "#9c179e"
             ],
             [
              0.4444444444444444,
              "#bd3786"
             ],
             [
              0.5555555555555556,
              "#d8576b"
             ],
             [
              0.6666666666666666,
              "#ed7953"
             ],
             [
              0.7777777777777778,
              "#fb9f3a"
             ],
             [
              0.8888888888888888,
              "#fdca26"
             ],
             [
              1,
              "#f0f921"
             ]
            ],
            "type": "heatmapgl"
           }
          ],
          "histogram": [
           {
            "marker": {
             "pattern": {
              "fillmode": "overlay",
              "size": 10,
              "solidity": 0.2
             }
            },
            "type": "histogram"
           }
          ],
          "histogram2d": [
           {
            "colorbar": {
             "outlinewidth": 0,
             "ticks": ""
            },
            "colorscale": [
             [
              0,
              "#0d0887"
             ],
             [
              0.1111111111111111,
              "#46039f"
             ],
             [
              0.2222222222222222,
              "#7201a8"
             ],
             [
              0.3333333333333333,
              "#9c179e"
             ],
             [
              0.4444444444444444,
              "#bd3786"
             ],
             [
              0.5555555555555556,
              "#d8576b"
             ],
             [
              0.6666666666666666,
              "#ed7953"
             ],
             [
              0.7777777777777778,
              "#fb9f3a"
             ],
             [
              0.8888888888888888,
              "#fdca26"
             ],
             [
              1,
              "#f0f921"
             ]
            ],
            "type": "histogram2d"
           }
          ],
          "histogram2dcontour": [
           {
            "colorbar": {
             "outlinewidth": 0,
             "ticks": ""
            },
            "colorscale": [
             [
              0,
              "#0d0887"
             ],
             [
              0.1111111111111111,
              "#46039f"
             ],
             [
              0.2222222222222222,
              "#7201a8"
             ],
             [
              0.3333333333333333,
              "#9c179e"
             ],
             [
              0.4444444444444444,
              "#bd3786"
             ],
             [
              0.5555555555555556,
              "#d8576b"
             ],
             [
              0.6666666666666666,
              "#ed7953"
             ],
             [
              0.7777777777777778,
              "#fb9f3a"
             ],
             [
              0.8888888888888888,
              "#fdca26"
             ],
             [
              1,
              "#f0f921"
             ]
            ],
            "type": "histogram2dcontour"
           }
          ],
          "mesh3d": [
           {
            "colorbar": {
             "outlinewidth": 0,
             "ticks": ""
            },
            "type": "mesh3d"
           }
          ],
          "parcoords": [
           {
            "line": {
             "colorbar": {
              "outlinewidth": 0,
              "ticks": ""
             }
            },
            "type": "parcoords"
           }
          ],
          "pie": [
           {
            "automargin": true,
            "type": "pie"
           }
          ],
          "scatter": [
           {
            "fillpattern": {
             "fillmode": "overlay",
             "size": 10,
             "solidity": 0.2
            },
            "type": "scatter"
           }
          ],
          "scatter3d": [
           {
            "line": {
             "colorbar": {
              "outlinewidth": 0,
              "ticks": ""
             }
            },
            "marker": {
             "colorbar": {
              "outlinewidth": 0,
              "ticks": ""
             }
            },
            "type": "scatter3d"
           }
          ],
          "scattercarpet": [
           {
            "marker": {
             "colorbar": {
              "outlinewidth": 0,
              "ticks": ""
             }
            },
            "type": "scattercarpet"
           }
          ],
          "scattergeo": [
           {
            "marker": {
             "colorbar": {
              "outlinewidth": 0,
              "ticks": ""
             }
            },
            "type": "scattergeo"
           }
          ],
          "scattergl": [
           {
            "marker": {
             "colorbar": {
              "outlinewidth": 0,
              "ticks": ""
             }
            },
            "type": "scattergl"
           }
          ],
          "scattermapbox": [
           {
            "marker": {
             "colorbar": {
              "outlinewidth": 0,
              "ticks": ""
             }
            },
            "type": "scattermapbox"
           }
          ],
          "scatterpolar": [
           {
            "marker": {
             "colorbar": {
              "outlinewidth": 0,
              "ticks": ""
             }
            },
            "type": "scatterpolar"
           }
          ],
          "scatterpolargl": [
           {
            "marker": {
             "colorbar": {
              "outlinewidth": 0,
              "ticks": ""
             }
            },
            "type": "scatterpolargl"
           }
          ],
          "scatterternary": [
           {
            "marker": {
             "colorbar": {
              "outlinewidth": 0,
              "ticks": ""
             }
            },
            "type": "scatterternary"
           }
          ],
          "surface": [
           {
            "colorbar": {
             "outlinewidth": 0,
             "ticks": ""
            },
            "colorscale": [
             [
              0,
              "#0d0887"
             ],
             [
              0.1111111111111111,
              "#46039f"
             ],
             [
              0.2222222222222222,
              "#7201a8"
             ],
             [
              0.3333333333333333,
              "#9c179e"
             ],
             [
              0.4444444444444444,
              "#bd3786"
             ],
             [
              0.5555555555555556,
              "#d8576b"
             ],
             [
              0.6666666666666666,
              "#ed7953"
             ],
             [
              0.7777777777777778,
              "#fb9f3a"
             ],
             [
              0.8888888888888888,
              "#fdca26"
             ],
             [
              1,
              "#f0f921"
             ]
            ],
            "type": "surface"
           }
          ],
          "table": [
           {
            "cells": {
             "fill": {
              "color": "#EBF0F8"
             },
             "line": {
              "color": "white"
             }
            },
            "header": {
             "fill": {
              "color": "#C8D4E3"
             },
             "line": {
              "color": "white"
             }
            },
            "type": "table"
           }
          ]
         },
         "layout": {
          "annotationdefaults": {
           "arrowcolor": "#2a3f5f",
           "arrowhead": 0,
           "arrowwidth": 1
          },
          "autotypenumbers": "strict",
          "coloraxis": {
           "colorbar": {
            "outlinewidth": 0,
            "ticks": ""
           }
          },
          "colorscale": {
           "diverging": [
            [
             0,
             "#8e0152"
            ],
            [
             0.1,
             "#c51b7d"
            ],
            [
             0.2,
             "#de77ae"
            ],
            [
             0.3,
             "#f1b6da"
            ],
            [
             0.4,
             "#fde0ef"
            ],
            [
             0.5,
             "#f7f7f7"
            ],
            [
             0.6,
             "#e6f5d0"
            ],
            [
             0.7,
             "#b8e186"
            ],
            [
             0.8,
             "#7fbc41"
            ],
            [
             0.9,
             "#4d9221"
            ],
            [
             1,
             "#276419"
            ]
           ],
           "sequential": [
            [
             0,
             "#0d0887"
            ],
            [
             0.1111111111111111,
             "#46039f"
            ],
            [
             0.2222222222222222,
             "#7201a8"
            ],
            [
             0.3333333333333333,
             "#9c179e"
            ],
            [
             0.4444444444444444,
             "#bd3786"
            ],
            [
             0.5555555555555556,
             "#d8576b"
            ],
            [
             0.6666666666666666,
             "#ed7953"
            ],
            [
             0.7777777777777778,
             "#fb9f3a"
            ],
            [
             0.8888888888888888,
             "#fdca26"
            ],
            [
             1,
             "#f0f921"
            ]
           ],
           "sequentialminus": [
            [
             0,
             "#0d0887"
            ],
            [
             0.1111111111111111,
             "#46039f"
            ],
            [
             0.2222222222222222,
             "#7201a8"
            ],
            [
             0.3333333333333333,
             "#9c179e"
            ],
            [
             0.4444444444444444,
             "#bd3786"
            ],
            [
             0.5555555555555556,
             "#d8576b"
            ],
            [
             0.6666666666666666,
             "#ed7953"
            ],
            [
             0.7777777777777778,
             "#fb9f3a"
            ],
            [
             0.8888888888888888,
             "#fdca26"
            ],
            [
             1,
             "#f0f921"
            ]
           ]
          },
          "colorway": [
           "#636efa",
           "#EF553B",
           "#00cc96",
           "#ab63fa",
           "#FFA15A",
           "#19d3f3",
           "#FF6692",
           "#B6E880",
           "#FF97FF",
           "#FECB52"
          ],
          "font": {
           "color": "#2a3f5f"
          },
          "geo": {
           "bgcolor": "white",
           "lakecolor": "white",
           "landcolor": "#E5ECF6",
           "showlakes": true,
           "showland": true,
           "subunitcolor": "white"
          },
          "hoverlabel": {
           "align": "left"
          },
          "hovermode": "closest",
          "mapbox": {
           "style": "light"
          },
          "paper_bgcolor": "white",
          "plot_bgcolor": "#E5ECF6",
          "polar": {
           "angularaxis": {
            "gridcolor": "white",
            "linecolor": "white",
            "ticks": ""
           },
           "bgcolor": "#E5ECF6",
           "radialaxis": {
            "gridcolor": "white",
            "linecolor": "white",
            "ticks": ""
           }
          },
          "scene": {
           "xaxis": {
            "backgroundcolor": "#E5ECF6",
            "gridcolor": "white",
            "gridwidth": 2,
            "linecolor": "white",
            "showbackground": true,
            "ticks": "",
            "zerolinecolor": "white"
           },
           "yaxis": {
            "backgroundcolor": "#E5ECF6",
            "gridcolor": "white",
            "gridwidth": 2,
            "linecolor": "white",
            "showbackground": true,
            "ticks": "",
            "zerolinecolor": "white"
           },
           "zaxis": {
            "backgroundcolor": "#E5ECF6",
            "gridcolor": "white",
            "gridwidth": 2,
            "linecolor": "white",
            "showbackground": true,
            "ticks": "",
            "zerolinecolor": "white"
           }
          },
          "shapedefaults": {
           "line": {
            "color": "#2a3f5f"
           }
          },
          "ternary": {
           "aaxis": {
            "gridcolor": "white",
            "linecolor": "white",
            "ticks": ""
           },
           "baxis": {
            "gridcolor": "white",
            "linecolor": "white",
            "ticks": ""
           },
           "bgcolor": "#E5ECF6",
           "caxis": {
            "gridcolor": "white",
            "linecolor": "white",
            "ticks": ""
           }
          },
          "title": {
           "x": 0.05
          },
          "xaxis": {
           "automargin": true,
           "gridcolor": "white",
           "linecolor": "white",
           "ticks": "",
           "title": {
            "standoff": 15
           },
           "zerolinecolor": "white",
           "zerolinewidth": 2
          },
          "yaxis": {
           "automargin": true,
           "gridcolor": "white",
           "linecolor": "white",
           "ticks": "",
           "title": {
            "standoff": 15
           },
           "zerolinecolor": "white",
           "zerolinewidth": 2
          }
         }
        },
        "title": {
         "text": "Enhanced Interactive Player Clusters"
        },
        "xaxis": {
         "anchor": "y",
         "domain": [
          0,
          1
         ],
         "title": {
          "text": "PCA Component 1"
         }
        },
        "yaxis": {
         "anchor": "x",
         "domain": [
          0,
          1
         ],
         "title": {
          "text": "PCA Component 2"
         }
        }
       }
      }
     },
     "metadata": {},
     "output_type": "display_data"
    }
   ],
   "source": [
    "import pandas as pd\n",
    "from sklearn.cluster import KMeans\n",
    "from sklearn.preprocessing import StandardScaler\n",
    "from sklearn.decomposition import PCA\n",
    "import plotly.express as px\n",
    "\n",
    "scaler = StandardScaler()\n",
    "X_scaled = scaler.fit_transform(X)\n",
    "\n",
    "kmeans = KMeans(n_clusters=4, random_state=42)\n",
    "df['Cluster'] = kmeans.fit_predict(X_scaled)\n",
    "\n",
    "cluster_means = df.groupby('Cluster')[features].mean()\n",
    "print(\"Cluster Means:\\n\", cluster_means)\n",
    "\n",
    "def assign_cluster_labels(cluster_means):\n",
    "    labels = {}\n",
    "    sorted_clusters = cluster_means[['goals', 'xA', 'xGBuildup']].idxmax()\n",
    "    labels[sorted_clusters['goals']] = 'High Scorers'\n",
    "    labels[sorted_clusters['xA']] = 'Playmakers'\n",
    "    labels[sorted_clusters['xGBuildup']] = 'Defenders'\n",
    "    for cluster in cluster_means.index:\n",
    "        if cluster not in labels:\n",
    "            labels[cluster] = 'All-Rounders'\n",
    "    return labels\n",
    "\n",
    "cluster_labels = assign_cluster_labels(cluster_means)\n",
    "\n",
    "df['Cluster Label'] = df['Cluster'].map(cluster_labels)\n",
    "\n",
    "pca = PCA(n_components=2)\n",
    "X_pca = pca.fit_transform(X_scaled)\n",
    "df['PCA1'] = X_pca[:, 0]\n",
    "df['PCA2'] = X_pca[:, 1]\n",
    "\n",
    "fig = px.scatter(\n",
    "    df, x='PCA1', y='PCA2', color='Cluster Label', \n",
    "    title=\"Enhanced Interactive Player Clusters\",\n",
    "    hover_data=['player_name', 'team_title', 'goals', 'assists', 'xG', 'xA', 'shots', 'Cluster Label']\n",
    ")\n",
    "\n",
    "fig.update_layout(\n",
    "    legend_title=\"Cluster Description\",\n",
    "    legend=dict(\n",
    "        orientation=\"h\",\n",
    "        yanchor=\"bottom\",\n",
    "        y=1.02,\n",
    "        xanchor=\"right\",\n",
    "        x=1\n",
    "    ),\n",
    "    xaxis_title=\"PCA Component 1\",\n",
    "    yaxis_title=\"PCA Component 2\",\n",
    ")\n",
    "\n",
    "fig.show()\n"
   ]
  },
  {
   "cell_type": "code",
   "execution_count": 24,
   "metadata": {},
   "outputs": [
    {
     "name": "stdout",
     "output_type": "stream",
     "text": [
      "Top 5 players similar to Nicolas Jackson:\n",
      "\n",
      "       player_name        team_title  Similarity Score\n",
      "10   Ollie Watkins       Aston Villa          0.012453\n",
      "0   Erling Haaland   Manchester City          0.014927\n",
      "16  Alexander Isak  Newcastle United          0.019684\n",
      "15     Kai Havertz           Arsenal          0.020653\n",
      "5    Danny Welbeck          Brighton          0.022462\n"
     ]
    }
   ],
   "source": [
    "import pandas as pd\n",
    "from sklearn.preprocessing import StandardScaler\n",
    "from scipy.spatial.distance import cdist\n",
    "\n",
    "def find_similar_players(player_name, df, X_scaled, top_n=5):\n",
    "    if player_name not in df['player_name'].values:\n",
    "        return f\"Player {player_name} not found in the dataset.\"\n",
    "    \n",
    "    player_idx = df[df['player_name'] == player_name].index[0]\n",
    "    \n",
    "    distances = cdist([X_scaled[player_idx]], X_scaled, metric='euclidean')[0]\n",
    "    print(distances)\n",
    "    \n",
    "    similar_idx = distances.argsort()[1:top_n+1]\n",
    "    \n",
    "    similar_players = df.iloc[similar_idx][['player_name', 'team_title']]\n",
    "    similar_players['Similarity Score'] = distances[similar_idx]\n",
    "    return similar_players\n",
    "\n",
    "target_player = \"Erling Haaland\"\n",
    "similar_players = find_similar_players(target_player, df, X_scaled, top_n=2)\n",
    "print(f\"Top 5 players similar to {target_player}:\\n\")\n",
    "print(similar_players)"
   ]
  },
  {
   "cell_type": "code",
   "execution_count": 22,
   "metadata": {},
   "outputs": [
    {
     "data": {
      "text/html": [
       "<table id=\"itables_5087de27_95fe_45ee_925a_fa23746e54e7\" class=\"display nowrap\" data-quarto-disable-processing=\"true\" style=\"table-layout:auto;width:auto;margin:auto;caption-side:bottom\">\n",
       "<thead>\n",
       "    <tr style=\"text-align: right;\">\n",
       "      \n",
       "      <th>id</th>\n",
       "      <th>player_name</th>\n",
       "      <th>games</th>\n",
       "      <th>time</th>\n",
       "      <th>goals</th>\n",
       "      <th>xG</th>\n",
       "      <th>assists</th>\n",
       "      <th>xA</th>\n",
       "      <th>shots</th>\n",
       "      <th>key_passes</th>\n",
       "      <th>yellow_cards</th>\n",
       "      <th>red_cards</th>\n",
       "      <th>position</th>\n",
       "      <th>team_title</th>\n",
       "      <th>npg</th>\n",
       "      <th>npxG</th>\n",
       "      <th>xGChain</th>\n",
       "      <th>xGBuildup</th>\n",
       "      <th>Cluster</th>\n",
       "      <th>Cluster Label</th>\n",
       "      <th>PCA1</th>\n",
       "      <th>PCA2</th>\n",
       "    </tr>\n",
       "  </thead><tbody><tr>\n",
       "<td style=\"vertical-align:middle; text-align:left\">\n",
       "<div style=\"float:left; margin-right: 10px;\">\n",
       "<a href=https://mwouts.github.io/itables/><svg class=\"main-svg\" xmlns=\"http://www.w3.org/2000/svg\" xmlns:xlink=\"http://www.w3.org/1999/xlink\"\n",
       "width=\"64\" viewBox=\"0 0 500 400\" style=\"font-family: 'Droid Sans', sans-serif;\">\n",
       "    <g style=\"fill:#d9d7fc\">\n",
       "        <path d=\"M100,400H500V357H100Z\" />\n",
       "        <path d=\"M100,300H400V257H100Z\" />\n",
       "        <path d=\"M0,200H400V157H0Z\" />\n",
       "        <path d=\"M100,100H500V57H100Z\" />\n",
       "        <path d=\"M100,350H500V307H100Z\" />\n",
       "        <path d=\"M100,250H400V207H100Z\" />\n",
       "        <path d=\"M0,150H400V107H0Z\" />\n",
       "        <path d=\"M100,50H500V7H100Z\" />\n",
       "    </g>\n",
       "    <g style=\"fill:#1a1366;stroke:#1a1366;\">\n",
       "   <rect x=\"100\" y=\"7\" width=\"400\" height=\"43\">\n",
       "    <animate\n",
       "      attributeName=\"width\"\n",
       "      values=\"0;400;0\"\n",
       "      dur=\"5s\"\n",
       "      repeatCount=\"indefinite\" />\n",
       "      <animate\n",
       "      attributeName=\"x\"\n",
       "      values=\"100;100;500\"\n",
       "      dur=\"5s\"\n",
       "      repeatCount=\"indefinite\" />\n",
       "  </rect>\n",
       "        <rect x=\"0\" y=\"107\" width=\"400\" height=\"43\">\n",
       "    <animate\n",
       "      attributeName=\"width\"\n",
       "      values=\"0;400;0\"\n",
       "      dur=\"3.5s\"\n",
       "      repeatCount=\"indefinite\" />\n",
       "    <animate\n",
       "      attributeName=\"x\"\n",
       "      values=\"0;0;400\"\n",
       "      dur=\"3.5s\"\n",
       "      repeatCount=\"indefinite\" />\n",
       "  </rect>\n",
       "        <rect x=\"100\" y=\"207\" width=\"300\" height=\"43\">\n",
       "    <animate\n",
       "      attributeName=\"width\"\n",
       "      values=\"0;300;0\"\n",
       "      dur=\"3s\"\n",
       "      repeatCount=\"indefinite\" />\n",
       "    <animate\n",
       "      attributeName=\"x\"\n",
       "      values=\"100;100;400\"\n",
       "      dur=\"3s\"\n",
       "      repeatCount=\"indefinite\" />\n",
       "  </rect>\n",
       "        <rect x=\"100\" y=\"307\" width=\"400\" height=\"43\">\n",
       "    <animate\n",
       "      attributeName=\"width\"\n",
       "      values=\"0;400;0\"\n",
       "      dur=\"4s\"\n",
       "      repeatCount=\"indefinite\" />\n",
       "      <animate\n",
       "      attributeName=\"x\"\n",
       "      values=\"100;100;500\"\n",
       "      dur=\"4s\"\n",
       "      repeatCount=\"indefinite\" />\n",
       "  </rect>\n",
       "        <g style=\"fill:transparent;stroke-width:8; stroke-linejoin:round\" rx=\"5\">\n",
       "            <g transform=\"translate(45 50) rotate(-45)\">\n",
       "                <circle r=\"33\" cx=\"0\" cy=\"0\" />\n",
       "                <rect x=\"-8\" y=\"32\" width=\"16\" height=\"30\" />\n",
       "            </g>\n",
       "\n",
       "            <g transform=\"translate(450 152)\">\n",
       "                <polyline points=\"-15,-20 -35,-20 -35,40 25,40 25,20\" />\n",
       "                <rect x=\"-15\" y=\"-40\" width=\"60\" height=\"60\" />\n",
       "            </g>\n",
       "\n",
       "            <g transform=\"translate(50 352)\">\n",
       "                <polygon points=\"-35,-5 0,-40 35,-5\" />\n",
       "                <polygon points=\"-35,10 0,45 35,10\" />\n",
       "            </g>\n",
       "\n",
       "            <g transform=\"translate(75 250)\">\n",
       "                <polyline points=\"-30,30 -60,0 -30,-30\" />\n",
       "                <polyline points=\"0,30 -30,0 0,-30\" />\n",
       "            </g>\n",
       "\n",
       "            <g transform=\"translate(425 250) rotate(180)\">\n",
       "                <polyline points=\"-30,30 -60,0 -30,-30\" />\n",
       "                <polyline points=\"0,30 -30,0 0,-30\" />\n",
       "            </g>\n",
       "        </g>\n",
       "    </g>\n",
       "</svg>\n",
       "</a>\n",
       "</div>\n",
       "<div>\n",
       "Loading ITables v2.2.3 from the internet...\n",
       "(need <a href=https://mwouts.github.io/itables/troubleshooting.html>help</a>?)</td>\n",
       "</div>\n",
       "</tr></tbody>\n",
       "</table>\n",
       "<link href=\"https://www.unpkg.com/dt_for_itables@2.0.13/dt_bundle.css\" rel=\"stylesheet\">\n",
       "<script type=\"module\">\n",
       "    import {DataTable, jQuery as $} from 'https://www.unpkg.com/dt_for_itables@2.0.13/dt_bundle.js';\n",
       "\n",
       "    document.querySelectorAll(\"#itables_5087de27_95fe_45ee_925a_fa23746e54e7:not(.dataTable)\").forEach(table => {\n",
       "        if (!(table instanceof HTMLTableElement))\n",
       "            return;\n",
       "\n",
       "        // Define the table data\n",
       "        const data = [[\"8260\", \"Erling Haaland\", 11, 990, 12, 12.192336, 0, 0.807683, 56, 5, 2, 0, \"F\", \"Manchester City\", 11, 11.431168, 9.736067, 1.015768, 2, \"Playmakers\", 16.169845, -6.46283], [\"1250\", \"Mohamed Salah\", 11, 970, 8, 6.82077, 6, 4.119314, 33, 21, 0, 0, \"M\", \"Liverpool\", 6, 5.298432, 13.500557, 4.794453, 2, \"Playmakers\", 11.1222, 0.806644], [\"4456\", \"Chris Wood\", 11, 925, 8, 5.410879, 0, 0.97235, 21, 6, 1, 0, \"F\", \"Nottingham Forest\", 7, 4.64971, 5.238515, 0.882583, 2, \"Playmakers\", 7.491237, -3.565691], [\"6552\", \"Bryan Mbeumo\", 11, 989, 8, 3.876813, 1, 2.668508, 22, 18, 2, 0, \"F M\", \"Brentford\", 6, 2.354476, 6.44416, 2.516166, 2, \"Playmakers\", 7.003316, -1.117037], [\"8497\", \"Cole Palmer\", 11, 966, 7, 4.462654, 5, 5.694535, 36, 29, 3, 0, \"M\", \"Chelsea\", 6, 3.701485, 9.817931, 2.351981, 2, \"Playmakers\", 9.460753, 0.42159], [\"501\", \"Danny Welbeck\", 11, 955, 6, 5.474169, 2, 0.650302, 31, 10, 1, 0, \"F\", \"Brighton\", 6, 5.474169, 7.51793, 2.952997, 2, \"Playmakers\", 7.924795, -1.932099], [\"5786\", \"Yoane Wissa\", 8, 568, 6, 4.773864, 1, 0.364306, 15, 4, 1, 0, \"F S\", \"Brentford\", 6, 4.773864, 6.598452, 1.561802, 2, \"Playmakers\", 6.323816, -2.613128], [\"8868\", \"Liam Delap\", 11, 804, 6, 3.784719, 1, 0.883998, 17, 8, 3, 0, \"F S\", \"Ipswich\", 6, 3.784719, 5.336406, 1.028125, 2, \"Playmakers\", 5.734373, -2.570668], [\"10048\", \"Nicolas Jackson\", 11, 910, 6, 6.447972, 3, 1.404265, 25, 12, 4, 0, \"F\", \"Chelsea\", 6, 6.447972, 8.442602, 1.377934, 2, \"Playmakers\", 8.410615, -2.520044], [\"7080\", \"Matheus Cunha\", 11, 898, 5, 2.673553, 2, 3.440245, 31, 20, 1, 0, \"F M S\", \"Wolverhampton Wanderers\", 5, 2.673553, 6.538295, 2.208481, 2, \"Playmakers\", 6.322623, -0.105285], [\"8865\", \"Ollie Watkins\", 11, 879, 5, 7.31682, 2, 1.436688, 26, 9, 0, 0, \"F\", \"Aston Villa\", 5, 7.31682, 8.279234, 1.769786, 2, \"Playmakers\", 8.453, -2.265296], [\"10408\", \"Luis D\\u00edaz\", 11, 661, 5, 3.578759, 2, 2.001561, 18, 15, 0, 0, \"M S\", \"Liverpool\", 5, 3.578759, 8.433439, 3.609152, 2, \"Playmakers\", 6.229887, 0.056911], [\"755\", \"Jamie Vardy\", 10, 858, 4, 3.332537, 1, 0.898428, 12, 7, 3, 0, \"F\", \"Leicester\", 3, 2.571368, 3.513971, 0.044175, 1, \"All-Rounders\", 3.191508, -2.147958], [\"1679\", \"Dominic Solanke\", 9, 802, 4, 6.258076, 1, 0.611004, 24, 4, 0, 0, \"F\", \"Tottenham\", 4, 6.258076, 7.160403, 1.662315, 2, \"Playmakers\", 6.7211, -2.125912], [\"4105\", \"Ra\\u00fal Jim\\u00e9nez\", 11, 671, 4, 5.331251, 2, 2.86863, 27, 10, 0, 0, \"F S\", \"Fulham\", 3, 4.570082, 7.646256, 1.792851, 2, \"Playmakers\", 6.586392, -0.490601], [\"5220\", \"Kai Havertz\", 11, 990, 4, 5.927251, 1, 1.152187, 28, 9, 2, 0, \"F\", \"Arsenal\", 4, 5.927251, 7.791099, 1.955283, 2, \"Playmakers\", 7.021148, -1.565666], [\"5232\", \"Alexander Isak\", 9, 768, 4, 4.728933, 2, 1.321708, 26, 10, 0, 0, \"F\", \"Newcastle United\", 4, 4.728933, 5.566929, 0.455139, 2, \"Playmakers\", 5.739608, -2.211405], [\"6681\", \"Harvey Barnes\", 11, 497, 4, 2.039169, 1, 1.7315, 18, 9, 0, 0, \"F S\", \"Newcastle United\", 4, 2.039169, 4.694885, 1.569133, 1, \"All-Rounders\", 3.852391, -0.808224], [\"10760\", \"Brennan Johnson\", 11, 882, 4, 5.288712, 0, 0.939752, 33, 9, 2, 0, \"F S\", \"Tottenham\", 4, 5.288712, 7.796375, 2.207127, 2, \"Playmakers\", 6.849886, -1.331279], [\"11070\", \"J\\u00f8rgen Strand Larsen\", 11, 925, 4, 2.546615, 1, 1.316422, 15, 6, 1, 0, \"F\", \"Wolverhampton Wanderers\", 4, 2.546615, 4.797872, 1.656052, 1, \"All-Rounders\", 3.904601, -1.069091], [\"11357\", \"Noni Madueke\", 10, 794, 4, 3.888314, 0, 0.861623, 31, 10, 2, 0, \"M\", \"Chelsea\", 4, 3.888314, 4.94937, 1.624478, 2, \"Playmakers\", 5.37728, -1.687001], [\"11363\", \"Antoine Semenyo\", 11, 973, 4, 5.208117, 1, 2.578629, 48, 13, 4, 0, \"F M\", \"Bournemouth\", 4, 5.208117, 9.020717, 1.853271, 2, \"Playmakers\", 8.204092, -0.639137], [\"11366\", \"Jhon Dur\\u00e1n\", 11, 235, 4, 2.73767, 0, 0.056925, 14, 1, 1, 0, \"S\", \"Aston Villa\", 4, 2.73767, 3.19967, 1.333001, 1, \"All-Rounders\", 3.291306, -2.053386], [\"12963\", \"Evanilson\", 10, 728, 4, 4.381535, 0, 0.750883, 19, 6, 0, 0, \"F S\", \"Bournemouth\", 4, 3.620366, 4.24427, 0.385933, 2, \"Playmakers\", 4.559919, -2.453156], [\"453\", \"Son Heung-Min\", 8, 668, 3, 1.401358, 3, 3.347576, 16, 20, 0, 0, \"F\", \"Tottenham\", 3, 1.401358, 6.643101, 3.202765, 1, \"All-Rounders\", 3.808696, 1.507357], [\"1776\", \"Jarrod Bowen\", 11, 974, 3, 2.467732, 2, 3.784204, 24, 24, 0, 0, \"F M\", \"West Ham\", 2, 1.706563, 4.658833, 0.79211, 1, \"All-Rounders\", 3.872556, 0.155989], [\"2254\", \"Mateo Kovacic\", 11, 894, 3, 0.877415, 0, 1.558132, 20, 14, 3, 0, \"M S\", \"Manchester City\", 3, 0.877415, 5.833313, 4.514666, 1, \"All-Rounders\", 3.159427, 1.447476], [\"5596\", \"Harry Wilson\", 7, 56, 3, 0.790069, 0, 0.0, 4, 0, 2, 0, \"S\", \"Fulham\", 3, 0.790069, 0.790069, 0.0, 0, \"All-Rounders\", 0.529702, -2.123162], [\"5735\", \"Jean-Philippe Mateta\", 11, 757, 3, 4.177546, 0, 0.643305, 20, 9, 1, 0, \"F S\", \"Crystal Palace\", 2, 3.416377, 4.163547, 0.744747, 1, \"All-Rounders\", 3.638765, -1.718502], [\"6674\", \"Rayan Ait Nouri\", 11, 942, 3, 1.983226, 2, 1.050831, 13, 11, 4, 0, \"D M\", \"Wolverhampton Wanderers\", 3, 1.983226, 4.216119, 1.483904, 1, \"All-Rounders\", 2.719737, -0.806115], [\"6756\", \"Dwight McNeil\", 10, 891, 3, 0.897188, 3, 3.411686, 15, 26, 1, 0, \"M\", \"Everton\", 3, 0.897188, 4.412067, 2.196888, 1, \"All-Rounders\", 3.014167, 0.827946], [\"6818\", \"James Maddison\", 11, 715, 3, 2.507846, 3, 2.687142, 18, 19, 2, 0, \"M S\", \"Tottenham\", 3, 2.507846, 7.226298, 3.687225, 1, \"All-Rounders\", 4.510597, 1.22374], [\"7230\", \"Emile Smith-Rowe\", 11, 823, 3, 2.66977, 2, 1.329787, 18, 14, 1, 0, \"M S\", \"Fulham\", 3, 2.66977, 6.637226, 3.240662, 1, \"All-Rounders\", 4.042814, 0.329484], [\"7322\", \"Bukayo Saka\", 10, 848, 3, 3.1735, 7, 6.51215, 31, 28, 1, 0, \"F M\", \"Arsenal\", 3, 3.1735, 8.06851, 2.900337, 2, \"Playmakers\", 6.782531, 2.258878], [\"7752\", \"Gabriel Martinelli\", 11, 699, 3, 3.068697, 2, 2.073764, 14, 12, 0, 0, \"F M S\", \"Arsenal\", 3, 3.068697, 5.918433, 1.582128, 1, \"All-Rounders\", 4.013888, -0.41052], [\"8272\", \"Jo\\u00e3o Pedro\", 5, 303, 3, 1.614612, 1, 1.084337, 8, 4, 1, 0, \"M S\", \"Brighton\", 3, 1.614612, 3.436309, 1.216605, 1, \"All-Rounders\", 2.109975, -0.931341], [\"9790\", \"Josko Gvardiol\", 11, 939, 3, 1.027507, 0, 0.825604, 16, 10, 0, 0, \"D S\", \"Manchester City\", 3, 1.027507, 8.406613, 6.99761, 1, \"All-Rounders\", 3.508557, 2.742773], [\"10552\", \"Alejandro Garnacho\", 11, 710, 3, 4.10655, 1, 0.967521, 31, 10, 1, 0, \"M S\", \"Manchester United\", 3, 4.10655, 6.250517, 1.312257, 2, \"Playmakers\", 5.15305, -1.266118], [\"11362\", \"Facundo Buonanotte\", 10, 739, 3, 2.591979, 2, 2.447039, 20, 17, 5, 0, \"F M S\", \"Leicester\", 3, 2.591979, 4.435306, 2.125088, 1, \"All-Rounders\", 3.97101, -0.127552], [\"12412\", \"Morgan Rogers\", 11, 916, 3, 3.044671, 2, 2.827689, 20, 16, 3, 0, \"F M\", \"Aston Villa\", 3, 3.044671, 7.631687, 3.546071, 1, \"All-Rounders\", 5.021701, 1.1087], [\"12752\", \"Sammie Szmodics\", 11, 561, 3, 3.484258, 0, 0.114802, 11, 3, 1, 0, \"M S\", \"Ipswich\", 3, 3.484258, 3.701611, 0.170116, 1, \"All-Rounders\", 2.998141, -2.357743], [\"87\", \"Joelinton\", 11, 933, 2, 1.961486, 0, 0.659337, 18, 11, 4, 0, \"F M\", \"Newcastle United\", 2, 1.961486, 5.904663, 3.9978, 1, \"All-Rounders\", 2.826363, 0.889083], [\"500\", \"Alex Iwobi\", 11, 954, 2, 1.6423, 2, 3.8958, 17, 21, 1, 0, \"D F M\", \"Fulham\", 2, 1.6423, 8.985034, 4.054937, 1, \"All-Rounders\", 4.080082, 2.823348], [\"586\", \"John Stones\", 6, 229, 2, 0.666497, 0, 0.0, 2, 0, 1, 0, \"D S\", \"Manchester City\", 2, 0.666497, 0.780482, 0.780482, 0, \"All-Rounders\", -0.111791, -1.348588], [\"672\", \"Jordan Ayew\", 11, 508, 2, 2.426449, 0, 0.107189, 14, 4, 4, 0, \"F M S\", \"Crystal Palace,Leicester\", 2, 2.426449, 2.964779, 1.116752, 1, \"All-Rounders\", 1.947775, -1.344018], [\"1228\", \"Bruno Fernandes\", 11, 931, 2, 4.414182, 3, 3.147118, 34, 22, 1, 1, \"F M\", \"Manchester United\", 1, 3.653013, 9.040109, 3.911219, 1, \"All-Rounders\", 5.817639, 1.878004], [\"1653\", \"Michael Keane\", 9, 810, 2, 0.794669, 0, 0.123635, 8, 1, 4, 0, \"D\", \"Everton\", 2, 0.794669, 1.160065, 1.131124, 0, \"All-Rounders\", 0.399256, -1.118051], [\"5555\", \"Dominic Calvert-Lewin\", 11, 917, 2, 4.278142, 1, 0.579439, 26, 4, 1, 0, \"F\", \"Everton\", 2, 4.278142, 3.574086, 0.38934, 1, \"All-Rounders\", 3.808337, -2.005508], [\"5609\", \"Yves Bissouma\", 8, 402, 2, 0.148553, 0, 0.152578, 2, 3, 2, 0, \"M S\", \"Tottenham\", 2, 0.148553, 2.217385, 2.002608, 0, \"All-Rounders\", -0.010517, -0.294316], [\"5613\", \"Gabriel\", 11, 958, 2, 2.531519, 0, 0.435186, 12, 4, 1, 0, \"D\", \"Arsenal\", 2, 2.531519, 3.904481, 3.512181, 1, \"All-Rounders\", 2.432803, 0.045735], [\"6456\", \"Callum Hudson-Odoi\", 11, 809, 2, 1.012393, 0, 1.267254, 17, 18, 1, 0, \"M S\", \"Nottingham Forest\", 2, 1.012393, 5.615783, 4.011771, 1, \"All-Rounders\", 2.354431, 1.386876], [\"6691\", \"Dejan Kulusevski\", 11, 868, 2, 2.052296, 2, 2.797377, 17, 30, 3, 0, \"F M S\", \"Tottenham\", 2, 2.052296, 6.571651, 2.172477, 1, \"All-Rounders\", 3.392537, 0.952451], [\"6854\", \"Diogo Jota\", 7, 507, 2, 3.803277, 2, 0.81645, 14, 3, 1, 0, \"F\", \"Liverpool\", 2, 3.803277, 5.853131, 1.719906, 1, \"All-Rounders\", 3.512263, -0.715368], [\"6937\", \"Georginio Rutter\", 10, 630, 2, 2.313791, 2, 1.466646, 23, 9, 1, 0, \"F M S\", \"Brighton\", 2, 2.313791, 3.667817, 0.880324, 1, \"All-Rounders\", 2.831019, -0.77868], [\"6963\", \"Justin Kluivert\", 11, 627, 2, 2.162322, 2, 1.202261, 17, 11, 4, 0, \"M S\", \"Bournemouth\", 1, 1.401153, 3.735422, 2.022863, 1, \"All-Rounders\", 1.980953, 0.041644], [\"7365\", \"Lucas Paquet\\u00e1\", 11, 828, 2, 2.07543, 0, 0.872323, 14, 12, 4, 0, \"M S\", \"West Ham\", 1, 1.314262, 3.373042, 1.664149, 1, \"All-Rounders\", 1.580641, -0.287415], [\"7484\", \"Stephy Mavididi\", 10, 619, 2, 1.912525, 0, 0.870722, 10, 10, 2, 0, \"M S\", \"Leicester\", 2, 1.912525, 4.602301, 3.066906, 1, \"All-Rounders\", 2.157558, 0.330319], [\"7603\", \"Marc Guehi\", 11, 990, 2, 1.587161, 0, 0.048708, 6, 4, 1, 0, \"D M\", \"Crystal Palace\", 2, 1.587161, 2.48733, 2.457858, 3, \"Defenders\", 1.109549, -0.539774], [\"7698\", \"Leandro Trossard\", 11, 591, 2, 2.270349, 0, 1.160088, 14, 11, 0, 1, \"F M S\", \"Arsenal\", 2, 2.270349, 4.707334, 1.50848, 1, \"All-Rounders\", 2.498726, -0.392089], [\"7753\", \"James Justin\", 10, 895, 2, 0.467423, 1, 0.546115, 8, 5, 1, 0, \"D\", \"Leicester\", 2, 0.467423, 3.379376, 3.115977, 3, \"Defenders\", 0.907547, 0.477175], [\"8150\", \"Anthony Gordon\", 10, 865, 2, 3.461575, 1, 2.310623, 15, 23, 0, 0, \"F\", \"Newcastle United\", 1, 1.939237, 4.566249, 1.852952, 1, \"All-Rounders\", 2.880828, 0.251383], [\"8288\", \"Tomas Soucek\", 10, 652, 2, 2.641123, 0, 0.466102, 17, 9, 3, 0, \"M S\", \"West Ham\", 2, 2.641123, 4.894093, 2.020754, 1, \"All-Rounders\", 2.740683, -0.511259], [\"9307\", \"Iliman Ndiaye\", 11, 822, 2, 1.389369, 0, 0.510428, 12, 5, 1, 0, \"M S\", \"Everton\", 2, 1.389369, 4.326387, 2.858562, 1, \"All-Rounders\", 1.764731, 0.208252], [\"9667\", \"Amadou Onana\", 10, 743, 2, 1.977494, 0, 0.117323, 11, 3, 3, 0, \"M\", \"Aston Villa\", 2, 1.977494, 3.032348, 2.729851, 1, \"All-Rounders\", 1.727823, -0.421051], [\"9678\", \"Ethan Pinnock\", 11, 990, 2, 0.802803, 0, 0.77352, 8, 5, 1, 0, \"D\", \"Brentford\", 2, 0.802803, 4.197629, 3.979382, 3, \"Defenders\", 1.404955, 1.008903], [\"9912\", \"Cameron Archer\", 11, 602, 2, 4.494936, 0, 0.098953, 15, 1, 0, 0, \"F S\", \"Southampton\", 2, 3.733767, 4.036845, 0.699105, 1, \"All-Rounders\", 3.118842, -1.893572], [\"10720\", \"Darwin N\\u00fa\\u00f1ez\", 8, 425, 2, 1.940767, 1, 0.87927, 11, 3, 2, 0, \"F S\", \"Liverpool\", 2, 1.940767, 3.561061, 0.741024, 1, \"All-Rounders\", 1.799396, -0.955024], [\"12027\", \"Mohammed Kudus\", 8, 671, 2, 3.237883, 0, 1.042061, 27, 5, 0, 1, \"F M\", \"West Ham\", 2, 3.237883, 5.149686, 1.324684, 1, \"All-Rounders\", 3.732079, -0.77496], [\"76\", \"Fabian Sch\\u00e4r\", 9, 747, 1, 0.473157, 0, 0.069028, 11, 1, 4, 1, \"D\", \"Newcastle United\", 1, 0.473157, 2.339607, 2.195987, 3, \"Defenders\", 0.088057, 0.035544], [\"447\", \"Kevin De Bruyne\", 5, 374, 1, 1.002326, 1, 2.120722, 15, 16, 1, 0, \"M S\", \"Manchester City\", 1, 1.002326, 3.417499, 1.666884, 1, \"All-Rounders\", 1.348453, 0.600095], [\"531\", \"Michail Antonio\", 11, 685, 1, 2.649309, 1, 1.583193, 17, 8, 1, 0, \"F S\", \"West Ham\", 1, 2.649309, 4.933053, 1.588062, 1, \"All-Rounders\", 2.493775, 0.090749], [\"556\", \"Marcus Rashford\", 11, 783, 1, 0.875632, 1, 1.896706, 10, 10, 2, 0, \"M S\", \"Manchester United\", 1, 0.875632, 5.064429, 2.966595, 3, \"Defenders\", 1.361169, 1.463085], [\"592\", \"Ross Barkley\", 8, 237, 1, 0.980625, 1, 0.301035, 7, 5, 3, 0, \"M S\", \"Aston Villa\", 1, 0.980625, 2.256594, 1.589247, 3, \"Defenders\", 0.183968, -0.33132], [\"725\", \"Ola Aina\", 11, 965, 1, 0.113511, 0, 0.83674, 4, 5, 1, 0, \"D\", \"Nottingham Forest\", 1, 0.113511, 2.784213, 2.587662, 3, \"Defenders\", -0.120662, 0.722328], [\"833\", \"Virgil van Dijk\", 11, 990, 1, 0.591221, 1, 0.448044, 5, 5, 1, 0, \"D\", \"Liverpool\", 1, 0.591221, 6.402765, 5.9878, 3, \"Defenders\", 1.046313, 2.65547], [\"900\", \"Adama Traor\\u00e9\", 11, 733, 1, 3.841957, 3, 2.953822, 20, 18, 2, 0, \"F M S\", \"Fulham\", 1, 3.841957, 8.602759, 1.984045, 1, \"All-Rounders\", 4.40068, 1.07214], [\"922\", \"Andreas Pereira\", 11, 866, 1, 2.407409, 0, 2.410224, 18, 30, 2, 0, \"M\", \"Fulham\", 1, 1.64624, 5.688554, 3.806611, 1, \"All-Rounders\", 2.792247, 1.791233], [\"986\", \"Danny Ings\", 5, 61, 1, 0.812989, 1, 0.629518, 5, 1, 0, 0, \"S\", \"West Ham\", 1, 0.812989, 1.442507, 0.0, 0, \"All-Rounders\", -0.221097, -1.038428], [\"1299\", \"Mario Lemina\", 11, 887, 1, 1.005053, 2, 0.381873, 11, 5, 2, 0, \"M S\", \"Wolverhampton Wanderers\", 1, 1.005053, 3.637033, 2.759699, 3, \"Defenders\", 0.770506, 0.481185], [\"1789\", \"Lewis Cook\", 11, 990, 1, 0.738061, 3, 2.329654, 8, 16, 3, 0, \"M\", \"Bournemouth\", 1, 0.738061, 4.606667, 3.370675, 3, \"Defenders\", 1.288751, 1.787714], [\"2199\", \"Pablo Sarabia\", 5, 172, 1, 0.937926, 0, 0.251712, 4, 3, 0, 0, \"M S\", \"Wolverhampton Wanderers\", 1, 0.937926, 1.196382, 0.258456, 0, \"All-Rounders\", -0.322355, -1.145974], [\"2248\", \"Casemiro\", 10, 624, 1, 0.996788, 0, 1.777162, 15, 13, 1, 0, \"M S\", \"Manchester United\", 1, 0.996788, 4.214648, 2.841204, 3, \"Defenders\", 1.496546, 1.161497], [\"2328\", \"Thomas Partey\", 11, 984, 1, 0.390237, 0, 0.45132, 7, 7, 2, 0, \"D M\", \"Arsenal\", 1, 0.390237, 6.176874, 5.700555, 3, \"Defenders\", 0.958033, 2.5433], [\"3300\", \"Christopher Nkunku\", 10, 124, 1, 2.095128, 0, 0.27571, 7, 4, 1, 0, \"M S\", \"Chelsea\", 1, 2.095128, 2.778672, 0.495877, 0, \"All-Rounders\", 0.800275, -1.120636], [\"4419\", \"Adam Armstrong\", 8, 454, 1, 1.065514, 0, 0.106892, 13, 3, 2, 0, \"F M S\", \"Southampton\", 1, 1.065514, 1.292555, 0.633589, 0, \"All-Rounders\", 0.211729, -1.062517], [\"5304\", \"Mikel Merino\", 5, 281, 1, 1.07735, 0, 0.380006, 6, 3, 1, 0, \"M S\", \"Arsenal\", 1, 1.07735, 1.711923, 1.301954, 0, \"All-Rounders\", 0.099037, -0.561581], [\"6108\", \"Rodrigo Bentancur\", 10, 545, 1, 0.516427, 0, 0.053607, 11, 1, 4, 0, \"M S\", \"Tottenham\", 1, 0.516427, 3.734467, 3.459155, 3, \"Defenders\", 0.470929, 0.85639], [\"6326\", \"Ibrahima Konat\\u00e9\", 11, 889, 1, 1.20979, 1, 0.349171, 8, 3, 3, 0, \"D S\", \"Liverpool\", 1, 1.20979, 7.879582, 7.859243, 3, \"Defenders\", 1.977684, 3.555787], [\"6382\", \"Pedro Neto\", 11, 525, 1, 0.530485, 2, 2.126165, 13, 14, 4, 0, \"M S\", \"Chelsea\", 1, 0.530485, 3.888486, 1.900221, 3, \"Defenders\", 1.069197, 0.949321], [\"6492\", \"Reiss Nelson\", 9, 278, 1, 1.330777, 1, 0.729554, 10, 10, 1, 0, \"M S\", \"Arsenal,Fulham\", 1, 1.330777, 3.66476, 2.09476, 3, \"Defenders\", 0.952721, 0.205535], [\"6615\", \"Trevoh Chalobah\", 5, 450, 1, 0.349919, 0, 0.484083, 5, 3, 0, 0, \"D\", \"Crystal Palace\", 1, 0.349919, 0.704094, 0.660296, 0, \"All-Rounders\", -0.583831, -0.766383], [\"6665\", \"Curtis Jones\", 8, 410, 1, 1.534884, 1, 0.220886, 8, 5, 0, 0, \"M S\", \"Liverpool\", 1, 1.534884, 3.064685, 1.399156, 3, \"Defenders\", 0.644936, -0.488277], [\"6857\", \"Morgan Gibbs-White\", 8, 647, 1, 1.369609, 0, 1.581808, 15, 13, 1, 1, \"M\", \"Nottingham Forest\", 1, 1.369609, 3.986652, 2.812547, 1, \"All-Rounders\", 1.619933, 0.912183], [\"6912\", \"Pedro Porro\", 11, 990, 1, 0.79447, 1, 1.47271, 19, 20, 2, 0, \"D\", \"Tottenham\", 1, 0.79447, 4.862295, 3.669936, 3, \"Defenders\", 1.674243, 1.606538], [\"7083\", \"Christian N\\u00f8rgaard\", 9, 792, 1, 1.583349, 1, 0.193582, 12, 5, 2, 0, \"M\", \"Brentford\", 1, 1.583349, 2.844534, 2.052566, 3, \"Defenders\", 0.903039, -0.25161], [\"7218\", \"Cristian Romero\", 11, 962, 1, 1.202982, 0, 0.537987, 11, 6, 1, 0, \"D\", \"Tottenham\", 1, 1.202982, 4.687883, 4.436506, 3, \"Defenders\", 1.292344, 1.453008], [\"7726\", \"Ezri Konsa Ngoyo\", 10, 821, 1, 0.474862, 0, 0.146697, 3, 2, 0, 0, \"D\", \"Aston Villa\", 1, 0.474862, 4.19437, 3.814681, 3, \"Defenders\", 0.19171, 1.1658], [\"7762\", \"Jean-Ricner Bellegarde\", 10, 494, 1, 0.265614, 1, 0.337759, 6, 6, 2, 0, \"M S\", \"Wolverhampton Wanderers\", 1, 0.265614, 1.627882, 1.17686, 0, \"All-Rounders\", -0.427023, -0.391465], [\"7892\", \"Jo\\u00e3o F\\u00e9lix\", 5, 101, 1, 0.674845, 0, 0.026981, 7, 1, 1, 0, \"S\", \"Chelsea\", 1, 0.674845, 0.944419, 0.283144, 0, \"All-Rounders\", -0.437812, -1.18623], [\"7902\", \"Matthijs de Ligt\", 11, 763, 1, 1.110078, 0, 0.048757, 6, 2, 2, 0, \"D S\", \"Manchester United\", 1, 1.110078, 2.443522, 2.370779, 3, \"Defenders\", 0.251604, -0.068869], [\"8044\", \"Joshua Zirkzee\", 11, 420, 1, 2.6936, 1, 1.12163, 12, 6, 1, 0, \"F S\", \"Manchester United\", 1, 2.6936, 3.629734, 0.479884, 1, \"All-Rounders\", 1.799741, -0.847594], [\"8127\", \"Amad Diallo Traore\", 9, 468, 1, 0.893338, 2, 1.009882, 12, 14, 2, 0, \"M S\", \"Manchester United\", 1, 0.893338, 3.256738, 1.869141, 3, \"Defenders\", 0.787575, 0.273793], [\"8129\", \"Riccardo Calafiori\", 6, 384, 1, 0.548838, 0, 0.080917, 4, 2, 1, 0, \"D S\", \"Arsenal\", 1, 0.548838, 1.77808, 1.738561, 0, \"All-Rounders\", -0.348997, -0.288584], [\"8495\", \"Taylor Harwood-Bellis\", 11, 861, 1, 1.726489, 0, 0.883381, 9, 6, 4, 0, \"D S\", \"Southampton\", 1, 1.726489, 2.42737, 1.740089, 3, \"Defenders\", 0.953841, -0.245552], [\"8563\", \"George Hirst\", 8, 163, 1, 0.859951, 1, 0.342147, 3, 3, 1, 0, \"F S\", \"Ipswich\", 1, 0.859951, 1.328852, 0.167942, 0, \"All-Rounders\", -0.379907, -1.103543], [\"8646\", \"Wout Faes\", 11, 990, 1, 1.233949, 0, 0.019257, 7, 1, 1, 0, \"D\", \"Leicester\", 1, 1.233949, 2.289636, 2.140327, 3, \"Defenders\", 0.31573, -0.257088], [\"8706\", \"Eberechi Eze\", 9, 810, 1, 2.986836, 1, 1.666205, 37, 16, 0, 0, \"F M\", \"Crystal Palace\", 1, 2.986836, 4.722525, 1.550407, 1, \"All-Rounders\", 3.673342, -0.068434], [\"8859\", \"Mikkel Damsgaard\", 11, 811, 1, 1.426599, 3, 2.833467, 8, 18, 0, 0, \"F M S\", \"Brentford\", 1, 1.426599, 5.203813, 2.623185, 1, \"All-Rounders\", 1.865693, 1.51685], [\"8919\", \"Leif Davis\", 11, 990, 1, 0.43122, 2, 3.240242, 9, 27, 2, 0, \"D\", \"Ipswich\", 1, 0.43122, 2.366231, 0.926827, 3, \"Defenders\", 0.809346, 0.69342], [\"8981\", \"J\\u00e9remy Doku\", 8, 422, 1, 0.481902, 1, 1.060817, 10, 9, 0, 0, \"F M S\", \"Manchester City\", 1, 0.481902, 3.102441, 1.826178, 3, \"Defenders\", 0.429348, 0.380886], [\"9453\", \"Mois\\u00e9s Caicedo\", 11, 985, 1, 0.261837, 2, 1.508036, 6, 9, 2, 0, \"M\", \"Chelsea\", 1, 0.261837, 7.727881, 6.717738, 3, \"Defenders\", 1.518363, 3.749655], [\"9492\", \"Crysencio Summerville\", 10, 335, 1, 0.841823, 0, 0.722308, 4, 7, 1, 0, \"F M S\", \"West Ham\", 1, 0.841823, 2.141968, 0.671002, 0, \"All-Rounders\", -0.038788, -0.570886], [\"9501\", \"Fabio Carvalho\", 11, 254, 1, 1.422693, 1, 0.577024, 6, 3, 1, 0, \"F S\", \"Brentford\", 1, 1.422693, 2.650068, 0.650351, 0, \"All-Rounders\", 0.439619, -0.736429], [\"9662\", \"Dango Ouattara\", 8, 421, 1, 1.767472, 1, 1.531681, 7, 5, 0, 0, \"M S\", \"Bournemouth\", 1, 1.767472, 3.106004, 1.106278, 1, \"All-Rounders\", 1.115072, -0.181864], [\"9680\", \"Vitaly Janelt\", 11, 929, 1, 0.319938, 3, 1.644265, 8, 8, 1, 0, \"D M\", \"Brentford\", 1, 0.319938, 3.850323, 2.047667, 3, \"Defenders\", 0.557028, 0.899022], [\"9733\", \"Nathan Collins\", 11, 990, 1, 1.6463, 0, 0.185414, 9, 2, 1, 0, \"D\", \"Brentford\", 1, 1.6463, 4.08956, 3.70754, 3, \"Defenders\", 1.172635, 0.727854], [\"9983\", \"Beto\", 7, 75, 1, 1.230059, 0, 0.0, 4, 0, 0, 0, \"S\", \"Everton\", 1, 1.230059, 0.559121, 0.0, 0, \"All-Rounders\", -0.354897, -1.57177], [\"10177\", \"Evan Ferguson\", 6, 82, 1, 0.170707, 0, 0.0, 3, 0, 0, 0, \"F S\", \"Brighton\", 1, 0.170707, 0.146402, 0.0, 0, \"All-Rounders\", -1.102631, -1.303631], [\"10527\", \"Carlos Baleba\", 9, 626, 1, 0.808441, 1, 0.557666, 16, 7, 1, 0, \"M S\", \"Brighton\", 1, 0.808441, 4.571563, 3.373574, 3, \"Defenders\", 1.170769, 1.059459], [\"10586\", \"Tyler Dibling\", 11, 565, 1, 0.819166, 0, 1.068244, 9, 8, 4, 0, \"F M S\", \"Southampton\", 1, 0.819166, 2.911705, 1.246197, 3, \"Defenders\", 0.488214, -0.029494], [\"10717\", \"Rodrigo Muniz\", 10, 320, 1, 1.453753, 1, 0.620203, 14, 5, 1, 0, \"F S\", \"Fulham\", 1, 1.453753, 2.337449, 0.484565, 0, \"All-Rounders\", 0.799496, -0.874159], [\"10741\", \"Marcus Tavernier\", 11, 811, 1, 3.213935, 2, 2.156849, 23, 23, 2, 0, \"M S\", \"Bournemouth\", 1, 3.213935, 7.994511, 3.760334, 1, \"All-Rounders\", 4.032352, 1.687316], [\"10744\", \"Ryan Christie\", 11, 711, 1, 0.34361, 0, 1.11597, 7, 12, 5, 0, \"M S\", \"Bournemouth\", 1, 0.34361, 3.144366, 2.420075, 3, \"Defenders\", 0.289424, 0.737748], [\"10766\", \"Joe Ayodele-Aribo\", 10, 607, 1, 1.333439, 0, 0.615328, 9, 3, 0, 0, \"M S\", \"Southampton\", 1, 1.333439, 2.393651, 1.289062, 3, \"Defenders\", 0.578924, -0.441983], [\"10806\", \"Kaoru Mitoma\", 11, 927, 1, 3.694843, 2, 2.906455, 22, 14, 0, 0, \"F M S\", \"Brighton\", 1, 3.694843, 8.4128, 3.054901, 1, \"All-Rounders\", 4.488793, 1.568265], [\"10866\", \"Luis Sinisterra\", 8, 200, 1, 1.659605, 1, 1.23725, 12, 7, 0, 0, \"M S\", \"Bournemouth\", 1, 1.659605, 2.351396, 0.011425, 1, \"All-Rounders\", 0.963875, -0.917346], [\"11003\", \"Ryan Yates\", 11, 799, 1, 1.691424, 0, 0.501569, 17, 11, 3, 0, \"M S\", \"Nottingham Forest\", 1, 1.691424, 3.050228, 1.921114, 1, \"All-Rounders\", 1.32791, -0.199005], [\"11055\", \"Rasmus H\\u00f8jlund\", 7, 427, 1, 1.008005, 0, 0.157153, 5, 4, 0, 0, \"F S\", \"Manchester United\", 1, 1.008005, 1.737727, 0.57257, 0, \"All-Rounders\", -0.13996, -0.963228], [\"11269\", \"Jack Hinshelwood\", 10, 850, 1, 0.840388, 0, 0.178358, 7, 6, 2, 0, \"D M\", \"Brighton\", 1, 0.840388, 3.374069, 2.612918, 3, \"Defenders\", 0.353129, 0.344942], [\"11296\", \"Cody Gakpo\", 11, 398, 1, 0.966491, 1, 1.519663, 12, 11, 2, 0, \"M S\", \"Liverpool\", 1, 0.966491, 3.73726, 1.971004, 3, \"Defenders\", 1.076492, 0.581528], [\"11384\", \"Jo\\u00e3o Gomes\", 11, 946, 1, 0.570496, 0, 0.295756, 7, 5, 4, 0, \"M\", \"Wolverhampton Wanderers\", 1, 0.570496, 3.344443, 2.631093, 3, \"Defenders\", 0.225586, 0.480472], [\"11710\", \"Simon Adingra\", 7, 200, 1, 0.418602, 1, 0.466698, 5, 2, 0, 0, \"M S\", \"Brighton\", 1, 0.418602, 0.5652, 0.261472, 0, \"All-Rounders\", -0.615189, -1.007338], [\"12123\", \"Murillo\", 11, 990, 1, 0.839025, 0, 0.904833, 9, 7, 1, 0, \"D\", \"Nottingham Forest\", 1, 0.839025, 2.805655, 2.525485, 3, \"Defenders\", 0.578054, 0.483662], [\"12748\", \"Sam Morsy\", 10, 898, 1, 0.181554, 1, 0.364485, 5, 7, 4, 0, \"M\", \"Ipswich\", 1, 0.181554, 2.612474, 2.394547, 3, \"Defenders\", -0.226048, 0.394136], [\"12759\", \"Yankuba Minteh\", 7, 407, 1, 0.950881, 1, 1.358095, 7, 8, 2, 0, \"M S\", \"Brighton\", 1, 0.950881, 3.317115, 1.320789, 3, \"Defenders\", 0.630068, 0.150621], [\"12761\", \"Yukinari Sugawara\", 10, 669, 1, 0.194218, 1, 2.333957, 6, 10, 2, 0, \"D S\", \"Southampton\", 1, 0.194218, 1.50583, 0.708679, 3, \"Defenders\", 0.078201, 0.166357], [\"13021\", \"Ram\\u00f3n Sosa\", 7, 78, 1, 0.65615, 0, 0.481491, 6, 4, 0, 0, \"S\", \"Nottingham Forest\", 1, 0.65615, 1.331828, 0.194187, 0, \"All-Rounders\", -0.306713, -0.97536], [\"13066\", \"Ferdi Kadioglu\", 6, 401, 1, 0.602393, 0, 0.16456, 4, 5, 1, 0, \"D M S\", \"Brighton\", 1, 0.602393, 2.18833, 1.545785, 0, \"All-Rounders\", -0.248673, -0.291413], [\"13206\", \"Matt O&#039;Riley\", 1, 31, 1, 0.55496, 0, 0.0, 1, 0, 0, 0, \"S\", \"Brighton\", 1, 0.55496, 1.251653, 0.696693, 0, \"All-Rounders\", -0.719578, -0.900945], [\"65\", \"Timo Werner\", 8, 253, 0, 0.905224, 1, 0.170596, 7, 2, 0, 0, \"F S\", \"Tottenham\", 0, 0.905224, 1.616875, 0.620306, 0, \"All-Rounders\", -0.667673, -0.560143], [\"111\", \"Jannik Vestergaard\", 4, 360, 0, 0.011205, 0, 0.020686, 1, 1, 1, 0, \"D\", \"Leicester\", 0, 0.011205, 0.539825, 0.539825, 0, \"All-Rounders\", -1.723461, -0.551499], [\"181\", \"Bernd Leno\", 11, 990, 0, 0.0, 1, 0.044595, 0, 1, 2, 0, \"GK\", \"Fulham\", 0, 0.0, 3.664126, 3.619531, 3, \"Defenders\", -0.933409, 1.463707], [\"314\", \"Ilkay G\\u00fcndogan\", 10, 624, 0, 1.297849, 1, 0.882451, 11, 15, 0, 0, \"M S\", \"Manchester City\", 0, 1.297849, 4.822002, 3.801492, 3, \"Defenders\", 0.84914, 1.648213], [\"486\", \"Adam Lallana\", 7, 282, 0, 0.152316, 2, 0.530194, 3, 3, 3, 0, \"M S\", \"Southampton\", 0, 0.152316, 1.615106, 1.060595, 0, \"All-Rounders\", -1.154406, 0.033671], [\"489\", \"James Milner\", 3, 176, 0, 0.192049, 0, 0.260763, 2, 4, 1, 0, \"M\", \"Brighton\", 0, 0.192049, 0.511948, 0.205025, 0, \"All-Rounders\", -1.533632, -0.679913], [\"534\", \"Aaron Cresswell\", 4, 21, 0, 0.039842, 0, 0.021041, 1, 1, 1, 0, \"S\", \"West Ham\", 0, 0.039842, 0.084136, 0.084136, 0, \"All-Rounders\", -1.829298, -0.855438], [\"579\", \"Nathan Ak\\u00e9\", 2, 75, 0, 0.059589, 0, 0.0, 1, 0, 0, 0, \"D S\", \"Manchester City\", 0, 0.059589, 0.151696, 0.151696, 0, \"All-Rounders\", -1.805776, -0.826235], [\"585\", \"Seamus Coleman\", 1, 90, 0, 0.47522, 0, 0.0, 1, 0, 0, 0, \"D\", \"Everton\", 0, 0.47522, 1.135632, 0.660412, 0, \"All-Rounders\", -1.345383, -0.546315], [\"603\", \"Nathaniel Clyne\", 5, 302, 0, 0.010468, 0, 0.0, 1, 0, 0, 0, \"D S\", \"Crystal Palace\", 0, 0.010468, 1.1416, 1.1416, 0, \"All-Rounders\", -1.567795, -0.169877], [\"618\", \"Raheem Sterling\", 4, 119, 0, 0.235918, 0, 0.044193, 2, 1, 0, 0, \"M S\", \"Arsenal\", 0, 0.235918, 0.331596, 0.051484, 0, \"All-Rounders\", -1.620344, -0.88235], [\"631\", \"Ashley Young\", 9, 790, 0, 0.094482, 3, 1.087548, 3, 13, 2, 1, \"D\", \"Everton\", 0, 0.094482, 2.006912, 1.558252, 0, \"All-Rounders\", -0.897983, 0.572442], [\"635\", \"Alex McCarthy\", 2, 180, 0, 0.0, 0, 0.0, 0, 0, 0, 0, \"GK\", \"Southampton\", 0, 0.0, 0.499967, 0.499967, 0, \"All-Rounders\", -1.796811, -0.580331], [\"638\", \"Kyle Walker\", 7, 475, 0, 0.109866, 0, 0.652809, 5, 6, 1, 0, \"D S\", \"Manchester City\", 0, 0.109866, 3.711713, 3.565599, 3, \"Defenders\", -0.430123, 1.641095], [\"646\", \"Christian Eriksen\", 8, 437, 0, 0.125613, 0, 1.637685, 2, 14, 2, 0, \"M S\", \"Manchester United\", 0, 0.125613, 4.445333, 4.031267, 3, \"Defenders\", -0.095362, 2.37223], [\"652\", \"Kieran Trippier\", 5, 284, 0, 0.060095, 0, 0.152476, 1, 2, 0, 0, \"D S\", \"Newcastle United\", 0, 0.060095, 1.418397, 1.358301, 0, \"All-Rounders\", -1.422801, 0.024398], [\"660\", \"Ben Davies\", 1, 28, 0, 0.0, 0, 0.0, 0, 0, 0, 0, \"S\", \"Tottenham\", 0, 0.0, 0.0, 0.0, 0, \"All-Rounders\", -1.931848, -0.903882], [\"668\", \"Idrissa Gueye\", 10, 734, 0, 0.69481, 0, 0.372993, 10, 4, 1, 0, \"M S\", \"Everton\", 0, 0.69481, 2.411902, 1.541166, 0, \"All-Rounders\", -0.353267, 0.155517], [\"675\", \"Jack Grealish\", 7, 340, 0, 0.467255, 1, 1.07724, 7, 15, 2, 0, \"M S\", \"Manchester City\", 0, 0.467255, 3.630914, 2.287934, 3, \"Defenders\", -0.143346, 1.073469], [\"706\", \"Lukasz Fabianski\", 4, 312, 0, 0.0, 0, 0.0, 0, 0, 0, 0, \"GK S\", \"West Ham\", 0, 0.0, 0.022614, 0.022614, 0, \"All-Rounders\", -1.92574, -0.889247], [\"741\", \"Jordan Pickford\", 11, 990, 0, 0.0, 0, 0.0, 0, 0, 1, 0, \"GK\", \"Everton\", 0, 0.0, 1.018654, 1.018654, 0, \"All-Rounders\", -1.656718, -0.244666], [\"757\", \"Jeffrey Schlupp\", 8, 55, 0, 0.092087, 0, 0.334858, 2, 2, 0, 0, \"S\", \"Crystal Palace\", 0, 0.092087, 0.684329, 0.257384, 0, \"All-Rounders\", -1.537483, -0.563942], [\"804\", \"Craig Dawson\", 10, 738, 0, 0.376959, 0, 0.069785, 4, 2, 1, 0, \"D S\", \"Wolverhampton Wanderers\", 0, 0.376959, 2.329211, 2.31708, 0, \"All-Rounders\", -0.859132, 0.49837], [\"807\", \"Jonny Evans\", 5, 228, 0, 0.055773, 0, 0.0, 1, 0, 1, 0, \"D S\", \"Manchester United\", 0, 0.055773, 0.602105, 0.602105, 0, \"All-Rounders\", -1.686407, -0.533533], [\"825\", \"Adam Smith\", 11, 613, 0, 0.266678, 0, 0.145337, 1, 3, 3, 0, \"D S\", \"Bournemouth\", 0, 0.266678, 2.598942, 2.186928, 0, \"All-Rounders\", -1.022567, 0.553807], [\"843\", \"James Ward-Prowse\", 6, 310, 0, 0.059577, 0, 0.051552, 2, 1, 0, 1, \"M S\", \"Nottingham Forest,West Ham\", 0, 0.059577, 1.128826, 1.062107, 0, \"All-Rounders\", -1.483976, -0.206635], [\"885\", \"Kyle Walker-Peters\", 9, 805, 0, 0.426216, 1, 0.689081, 8, 6, 2, 0, \"D\", \"Southampton\", 0, 0.426216, 2.559127, 2.190422, 3, \"Defenders\", -0.417843, 0.698921], [\"910\", \"Harrison Reed\", 8, 44, 0, 0.017331, 0, 0.078968, 1, 1, 2, 0, \"S\", \"Fulham\", 0, 0.017331, 0.214595, 0.214595, 0, \"All-Rounders\", -1.789531, -0.741254], [\"934\", \"Axel Tuanzebe\", 7, 609, 0, 0.33705, 0, 0.569397, 3, 3, 2, 0, \"D\", \"Ipswich\", 0, 0.33705, 1.61888, 1.095435, 0, \"All-Rounders\", -1.027171, 0.006754], [\"971\", \"Harry Winks\", 10, 852, 0, 0.132834, 2, 1.113287, 7, 13, 3, 0, \"M S\", \"Leicester\", 0, 0.132834, 2.673179, 2.531116, 3, \"Defenders\", -0.454443, 1.1399], [\"978\", \"Sam Johnstone\", 5, 450, 0, 0.0, 0, 0.049064, 0, 1, 0, 0, \"GK\", \"Wolverhampton Wanderers\", 0, 0.0, 0.410572, 0.410572, 0, \"All-Rounders\", -1.805712, -0.619091], [\"985\", \"Mason Holgate\", 1, 1, 0, 0.0, 0, 0.0, 0, 0, 0, 0, \"S\", \"Everton\", 0, 0.0, 0.0, 0.0, 0, \"All-Rounders\", -1.931848, -0.903882], [\"987\", \"Joseph Gomez\", 3, 44, 0, 0.343329, 0, 0.0, 2, 0, 0, 0, \"S\", \"Liverpool\", 0, 0.343329, 0.092546, 0.092546, 0, \"All-Rounders\", -1.602567, -0.956903], [\"1245\", \"Emerson\", 11, 871, 0, 0.889086, 0, 0.433083, 6, 9, 3, 0, \"D\", \"West Ham\", 0, 0.889086, 2.511678, 1.394209, 0, \"All-Rounders\", -0.417282, 0.070775], [\"1257\", \"Alisson\", 6, 531, 0, 0.0, 0, 0.0, 0, 0, 0, 0, \"GK\", \"Liverpool\", 0, 0.0, 3.1046, 3.1046, 3, \"Defenders\", -1.093322, 1.105241], [\"1297\", \"Neto\", 2, 180, 0, 0.0, 0, 0.0, 0, 0, 0, 0, \"GK\", \"Bournemouth\", 0, 0.0, 0.428332, 0.428332, 0, \"All-Rounders\", -1.816159, -0.62669], [\"1389\", \"Jorginho\", 3, 155, 0, 0.036989, 0, 0.059499, 1, 1, 2, 0, \"M S\", \"Arsenal\", 0, 0.036989, 0.420854, 0.383865, 0, \"All-Rounders\", -1.732313, -0.639055], [\"1433\", \"Federico Chiesa\", 1, 15, 0, 0.420751, 0, 0.0, 2, 0, 0, 0, \"S\", \"Liverpool\", 0, 0.420751, 0.618591, 0.19784, 0, \"All-Rounders\", -1.461972, -0.839243], [\"1537\", \"Sasa Lukic\", 7, 558, 0, 0.0, 0, 0.617034, 0, 4, 4, 0, \"M\", \"Fulham\", 0, 0.0, 3.197078, 2.990266, 3, \"Defenders\", -0.900127, 1.307889], [\"1545\", \"Emil Krafth\", 3, 241, 0, 0.027689, 0, 0.058941, 1, 1, 0, 0, \"D S\", \"Newcastle United\", 0, 0.027689, 0.782578, 0.782578, 0, \"All-Rounders\", -1.636149, -0.384802], [\"1654\", \"Ben Mee\", 2, 2, 0, 0.0, 0, 0.0, 0, 0, 0, 0, \"S\", \"Brentford\", 0, 0.0, 0.0, 0.0, 0, \"All-Rounders\", -1.931848, -0.903882], [\"1665\", \"James Tarkowski\", 11, 990, 0, 0.67838, 0, 0.986474, 8, 6, 3, 0, \"D\", \"Everton\", 0, 0.67838, 1.868726, 1.813183, 3, \"Defenders\", -0.325497, 0.434335], [\"1683\", \"Ryan Fraser\", 4, 143, 0, 0.025152, 0, 0.126992, 1, 1, 0, 1, \"M S\", \"Southampton\", 0, 0.025152, 1.383064, 1.23092, 0, \"All-Rounders\", -1.471621, -0.040484], [\"1687\", \"Harry Maguire\", 5, 239, 0, 0.053782, 0, 0.021864, 1, 1, 3, 0, \"D S\", \"Manchester United\", 0, 0.053782, 0.748429, 0.726565, 0, \"All-Rounders\", -1.643768, -0.43998], [\"1688\", \"Andrew Robertson\", 10, 772, 0, 0.534861, 0, 1.813135, 3, 12, 1, 0, \"D S\", \"Liverpool\", 0, 0.534861, 6.370873, 5.278033, 3, \"Defenders\", 0.696375, 3.23464], [\"1726\", \"Abdoulaye Doucour\\u00e9\", 9, 661, 0, 0.426781, 0, 0.274352, 5, 9, 0, 0, \"M S\", \"Everton\", 0, 0.426781, 1.444645, 0.913728, 0, \"All-Rounders\", -1.014164, -0.255927], [\"1735\", \"Jack Stephens\", 7, 591, 0, 0.13565, 0, 0.261262, 1, 2, 1, 1, \"D\", \"Southampton\", 0, 0.13565, 0.92056, 0.92056, 0, \"All-Rounders\", -1.471439, -0.251395], [\"1791\", \"Trent Alexander-Arnold\", 11, 886, 0, 0.361413, 1, 3.313153, 10, 20, 2, 0, \"D\", \"Liverpool\", 0, 0.361413, 6.723826, 4.604517, 3, \"Defenders\", 1.38358, 3.609512], [\"1823\", \"Lucas Digne\", 11, 884, 0, 0.477135, 2, 3.988541, 6, 14, 3, 0, \"D\", \"Aston Villa\", 0, 0.477135, 4.158662, 3.2679, 3, \"Defenders\", 0.911563, 2.758832], [\"2182\", \"Jefferson Lerma\", 7, 411, 0, 0.069643, 0, 0.74696, 5, 4, 3, 0, \"D M S\", \"Crystal Palace\", 0, 0.069643, 1.503029, 1.411324, 0, \"All-Rounders\", -1.015297, 0.286888], [\"2203\", \"Emiliano Buend\\u00eda\", 4, 8, 0, 0.129028, 0, 0.0, 1, 0, 0, 0, \"S\", \"Aston Villa\", 0, 0.129028, 0.166402, 0.166402, 0, \"All-Rounders\", -1.760266, -0.838982], [\"2310\", \"Alphonse Areola\", 8, 678, 0, 0.0, 0, 0.0, 0, 0, 0, 0, \"GK\", \"West Ham\", 0, 0.0, 0.708723, 0.708723, 0, \"All-Rounders\", -1.740428, -0.445236], [\"7240\", \"Benoit Badiashile Mukinayi\", 1, 29, 0, 0.0, 0, 0.0, 0, 0, 0, 0, \"S\", \"Chelsea\", 0, 0.0, 0.160342, 0.160342, 0, \"All-Rounders\", -1.888541, -0.800117], [\"7281\", \"Diogo Dalot\", 11, 959, 0, 0.645617, 1, 1.439751, 3, 9, 3, 0, \"D\", \"Manchester United\", 0, 0.645617, 4.775665, 3.533583, 3, \"Defenders\", 0.198812, 1.9513], [\"7298\", \"Ben White\", 9, 681, 0, 0.113899, 1, 0.411599, 4, 3, 2, 0, \"D S\", \"Arsenal\", 0, 0.113899, 2.050103, 1.955298, 0, \"All-Rounders\", -0.995067, 0.496199], [\"7332\", \"Max Kilman\", 11, 990, 0, 1.139978, 1, 0.315307, 4, 6, 3, 0, \"D\", \"West Ham\", 0, 1.139978, 2.510082, 2.203391, 3, \"Defenders\", -0.31103, 0.327743], [\"7333\", \"Caleb Okoli\", 7, 630, 0, 0.334328, 0, 0.0, 3, 0, 1, 0, \"D\", \"Leicester\", 0, 0.334328, 2.077139, 2.058439, 0, \"All-Rounders\", -1.024599, 0.320084], [\"7352\", \"Tyler Adams\", 3, 97, 0, 0.020241, 0, 0.098053, 1, 2, 1, 0, \"M S\", \"Bournemouth\", 0, 0.020241, 0.266772, 0.148479, 0, \"All-Rounders\", -1.781206, -0.756647], [\"7382\", \"Dan Burn\", 11, 990, 0, 0.732298, 0, 0.109207, 7, 2, 5, 0, \"D\", \"Newcastle United\", 0, 0.732298, 3.8644, 3.796284, 3, \"Defenders\", -0.077679, 1.362678], [\"7420\", \"Miguel Almir\\u00f3n\", 5, 103, 0, 0.297669, 0, 0.119235, 4, 1, 0, 0, \"F S\", \"Newcastle United\", 0, 0.297669, 0.439549, 0.14188, 0, \"All-Rounders\", -1.434018, -0.814182], [\"7438\", \"James Garner\", 4, 251, 0, 0.063817, 0, 0.015559, 2, 1, 1, 0, \"D S\", \"Everton\", 0, 0.063817, 0.158768, 0.14198, 0, \"All-Rounders\", -1.748955, -0.826276], [\"7546\", \"Harvey Elliott\", 1, 5, 0, 0.0, 0, 0.0, 0, 0, 0, 0, \"S\", \"Liverpool\", 0, 0.0, 0.0, 0.0, 0, \"All-Rounders\", -1.931848, -0.903882], [\"7582\", \"Mark Travers\", 3, 270, 0, 0.0, 0, 0.0, 0, 0, 0, 0, \"GK\", \"Bournemouth\", 0, 0.0, 0.510063, 0.510063, 0, \"All-Rounders\", -1.794084, -0.573798], [\"7589\", \"Wesley Fofana\", 10, 869, 0, 0.177879, 0, 0.50684, 2, 5, 6, 0, \"D\", \"Chelsea\", 0, 0.177879, 4.382784, 3.878967, 3, \"Defenders\", -0.44254, 1.83274], [\"7699\", \"Adam Webster\", 3, 83, 0, 0.0, 0, 0.0, 0, 0, 0, 0, \"D S\", \"Brighton\", 0, 0.0, 0.535123, 0.535123, 0, \"All-Rounders\", -1.787316, -0.55758], [\"7702\", \"Dean Henderson\", 11, 990, 0, 0.010928, 0, 0.0, 1, 0, 1, 0, \"GK\", \"Crystal Palace\", 0, 0.010928, 0.605273, 0.605273, 0, \"All-Rounders\", -1.712377, -0.517104], [\"7723\", \"John McGinn\", 9, 571, 0, 0.551877, 0, 0.476511, 8, 4, 2, 0, \"M S\", \"Aston Villa\", 0, 0.551877, 2.953194, 2.363928, 3, \"Defenders\", -0.327341, 0.727172], [\"7768\", \"Mason Mount\", 3, 155, 0, 0.510708, 0, 0.096684, 2, 4, 2, 0, \"M S\", \"Manchester United\", 0, 0.510708, 1.064886, 0.470163, 0, \"All-Rounders\", -1.277344, -0.623493], [\"7814\", \"Taiwo Awoniyi\", 8, 88, 0, 0.562436, 0, 0.0, 4, 0, 0, 0, \"F S\", \"Nottingham Forest\", 0, 0.562436, 0.725015, 0.162579, 0, \"All-Rounders\", -1.265659, -0.88529], [\"7904\", \"Caoimhin Kelleher\", 5, 450, 0, 0.0, 0, 0.0, 0, 0, 0, 0, \"GK\", \"Liverpool\", 0, 0.0, 0.985557, 0.985557, 0, \"All-Rounders\", -1.665657, -0.266085], [\"7931\", \"Takehiro Tomiyasu\", 1, 3, 0, 0.166842, 0, 0.0, 1, 0, 0, 0, \"S\", \"Arsenal\", 0, 0.166842, 0.0, 0.0, 0, \"All-Rounders\", -1.78259, -0.958792], [\"7943\", \"Igor Julio\", 6, 467, 0, 0.0835, 0, 0.0, 1, 0, 3, 0, \"D S\", \"Brighton\", 0, 0.0835, 2.824909, 2.824909, 3, \"Defenders\", -1.069461, 0.896051], [\"7958\", \"Sandro Tonali\", 9, 410, 0, 0.52318, 1, 0.24125, 6, 4, 3, 0, \"M S\", \"Newcastle United\", 0, 0.52318, 2.133166, 1.653229, 0, \"All-Rounders\", -0.725574, 0.168423], [\"7988\", \"Billy Gilmour\", 2, 94, 0, 0.084543, 0, 0.0, 1, 0, 0, 0, \"M S\", \"Brighton\", 0, 0.084543, 1.175526, 1.175526, 0, \"All-Rounders\", -1.514321, -0.171671], [\"8067\", \"Reece James\", 4, 246, 0, 0.0, 0, 0.0, 0, 0, 0, 0, \"D S\", \"Chelsea\", 0, 0.0, 0.457311, 0.457311, 0, \"All-Rounders\", -1.808332, -0.607936], [\"8090\", \"Lloyd Kelly\", 7, 211, 0, 0.130685, 1, 0.334841, 1, 1, 1, 0, \"D S\", \"Newcastle United\", 0, 0.130685, 0.67009, 0.335249, 0, \"All-Rounders\", -1.557237, -0.54079], [\"8204\", \"Neco Williams\", 9, 354, 0, 0.975456, 0, 0.269984, 9, 4, 3, 0, \"D S\", \"Nottingham Forest\", 0, 0.975456, 1.611252, 0.548016, 0, \"All-Rounders\", -0.504964, -0.581825], [\"8214\", \"Tyrick Mitchell\", 11, 948, 0, 0.249313, 1, 2.203275, 4, 12, 0, 0, \"D\", \"Crystal Palace\", 0, 0.249313, 4.786923, 3.19494, 3, \"Defenders\", 0.21172, 2.216716], [\"8224\", \"William Smallbone\", 4, 244, 0, 0.258274, 0, 0.206046, 4, 3, 0, 0, \"M S\", \"Southampton\", 0, 0.258274, 1.284197, 1.176133, 0, \"All-Rounders\", -1.18094, -0.131963], [\"8226\", \"Tariq Lamptey\", 1, 6, 0, 0.0, 1, 0.113695, 0, 1, 0, 0, \"S\", \"Brighton\", 0, 0.0, 0.113695, 0.0, 0, \"All-Rounders\", -1.878731, -0.839552], [\"8252\", \"Nicol\\u00e1s Dom\\u00ednguez\", 9, 515, 0, 0.877252, 0, 0.059898, 8, 2, 3, 0, \"M S\", \"Nottingham Forest\", 0, 0.877252, 1.795008, 1.435131, 0, \"All-Rounders\", -0.548904, -0.180855], [\"8267\", \"Guido Rodr\\u00edguez\", 11, 818, 0, 0.10219, 0, 0.032721, 6, 1, 3, 0, \"M\", \"West Ham\", 0, 0.10219, 2.078704, 2.020252, 0, \"All-Rounders\", -1.009025, 0.385301], [\"8285\", \"Sander Berge\", 9, 521, 0, 0.0, 0, 0.328825, 0, 9, 0, 0, \"M S\", \"Fulham\", 0, 0.0, 1.811748, 1.520245, 0, \"All-Rounders\", -1.373459, 0.259392], [\"8291\", \"Daniel Podence\", 2, 36, 0, 0.044891, 0, 0.0, 1, 0, 0, 0, \"S\", \"Wolverhampton Wanderers\", 0, 0.044891, 0.044891, 0.0, 0, \"All-Rounders\", -1.848515, -0.911761], [\"8327\", \"Bruno Guimar\\u00e3es\", 11, 985, 0, 0.596558, 1, 0.727347, 14, 7, 2, 0, \"M\", \"Newcastle United\", 0, 0.596558, 3.491675, 2.601879, 3, \"Defenders\", 0.185348, 1.009033], [\"8379\", \"Alexis Mac Allister\", 11, 788, 0, 0.339376, 0, 1.130076, 6, 10, 4, 0, \"M S\", \"Liverpool\", 0, 0.339376, 7.519922, 6.508444, 3, \"Defenders\", 0.835166, 3.809149], [\"8430\", \"Chris Richards\", 4, 349, 0, 0.137031, 0, 0.0, 1, 0, 1, 0, \"D\", \"Crystal Palace\", 0, 0.137031, 0.846118, 0.846118, 0, \"All-Rounders\", -1.571894, -0.401674], [\"8476\", \"Jarrad Branthwaite\", 4, 184, 0, 0.0, 0, 0.0, 0, 0, 0, 0, \"D S\", \"Everton\", 0, 0.0, 0.406061, 0.406061, 0, \"All-Rounders\", -1.822174, -0.641102], [\"8489\", \"Jorge Cuenca\", 1, 1, 0, 0.0, 0, 0.0, 0, 0, 0, 0, \"S\", \"Fulham\", 0, 0.0, 0.0, 0.0, 0, \"All-Rounders\", -1.931848, -0.903882], [\"8496\", \"Tommy Doyle\", 8, 246, 0, 0.134897, 1, 0.148869, 4, 3, 0, 0, \"M S\", \"Wolverhampton Wanderers\", 0, 0.134897, 0.491046, 0.247714, 0, \"All-Rounders\", -1.502097, -0.691574], [\"8666\", \"Cheick Oumar Doucoure\", 5, 124, 0, 0.096878, 0, 0.0, 3, 0, 0, 0, \"M S\", \"Crystal Palace\", 0, 0.096878, 1.112317, 1.06885, 0, \"All-Rounders\", -1.430043, -0.239816], [\"8719\", \"Kalvin Phillips\", 7, 557, 0, 0.31581, 0, 0.094778, 6, 2, 1, 1, \"M\", \"Ipswich\", 0, 0.31581, 1.56841, 1.474397, 0, \"All-Rounders\", -1.003824, -0.006005], [\"8720\", \"Jack Harrison\", 11, 639, 0, 0.830732, 0, 1.341111, 10, 9, 0, 0, \"M S\", \"Everton\", 0, 0.830732, 2.331443, 0.416371, 0, \"All-Rounders\", -0.111535, -0.054731], [\"8756\", \"Dara O&#039;Shea\", 8, 699, 0, 0.723995, 0, 0.0, 9, 0, 1, 0, \"D\", \"Ipswich\", 0, 0.723995, 1.076792, 1.076792, 0, \"All-Rounders\", -0.762838, -0.451926], [\"8780\", \"Jo\\u00ebl Veltman\", 10, 874, 0, 0.100326, 0, 0.427207, 2, 3, 1, 0, \"D\", \"Brighton\", 0, 0.100326, 4.288086, 3.81183, 3, \"Defenders\", -0.53612, 1.778301], [\"8808\", \"Wataru Endo\", 5, 15, 0, 0.0, 0, 0.022258, 0, 1, 0, 0, \"S\", \"Liverpool\", 0, 0.0, 0.114913, 0.114913, 0, \"All-Rounders\", -1.893895, -0.820856], [\"8831\", \"Iyenoma Destiny Udogie\", 11, 929, 0, 0.349706, 1, 0.916892, 5, 11, 2, 0, \"D\", \"Tottenham\", 0, 0.349706, 5.915199, 5.50823, 3, \"Defenders\", 0.360906, 2.970209], [\"8845\", \"Hee-Chan Hwang\", 6, 250, 0, 0.0, 0, 0.270988, 0, 2, 0, 0, \"M S\", \"Wolverhampton Wanderers\", 0, 0.0, 0.982167, 0.711179, 0, \"All-Rounders\", -1.613162, -0.29032], [\"8852\", \"Konstantinos Tsimikas\", 6, 218, 0, 0.103669, 0, 0.83164, 2, 3, 0, 0, \"D S\", \"Liverpool\", 0, 0.103669, 1.668687, 1.565018, 0, \"All-Rounders\", -1.073613, 0.414759], [\"8853\", \"Maxence Lacroix\", 8, 720, 0, 0.162955, 1, 0.619003, 4, 3, 3, 0, \"D\", \"Crystal Palace\", 0, 0.162955, 1.148941, 1.037722, 0, \"All-Rounders\", -1.146543, -0.029728], [\"8858\", \"Guglielmo Vicario\", 11, 990, 0, 0.0, 0, 0.0, 0, 0, 1, 0, \"GK\", \"Tottenham\", 0, 0.0, 3.395418, 3.395418, 3, \"Defenders\", -1.014775, 1.293442], [\"8864\", \"Matthew Cash\", 6, 431, 0, 0.022823, 0, 0.476554, 1, 2, 1, 0, \"D\", \"Aston Villa\", 0, 0.022823, 1.732058, 1.732058, 0, \"All-Rounders\", -1.252861, 0.393708], [\"8905\", \"Conor Townsend\", 1, 1, 0, 0.0, 0, 0.030077, 0, 1, 0, 0, \"S\", \"Ipswich\", 0, 0.0, 0.030077, 0.0, 0, \"All-Rounders\", -1.917796, -0.886864], [\"8940\", \"Antonee Robinson\", 11, 990, 0, 0.221659, 3, 1.109669, 7, 10, 2, 0, \"D\", \"Fulham\", 0, 0.221659, 6.681512, 6.177275, 3, \"Defenders\", 0.63904, 3.533595], [\"8941\", \"Jacob Ramsey\", 10, 649, 0, 0.522072, 2, 1.386857, 10, 8, 1, 0, \"M S\", \"Aston Villa\", 0, 0.522072, 4.797543, 3.525453, 3, \"Defenders\", 0.457157, 1.960445], [\"8961\", \"R\\u00faben Dias\", 9, 721, 0, 0.766279, 0, 0.16513, 11, 4, 3, 0, \"D S\", \"Manchester City\", 0, 0.766279, 5.896992, 5.812597, 3, \"Defenders\", 0.704978, 2.675593], [\"8965\", \"Vladimir Coufal\", 5, 222, 0, 0.029833, 0, 0.121829, 1, 1, 1, 0, \"D S\", \"West Ham\", 0, 0.029833, 0.763623, 0.641794, 0, \"All-Rounders\", -1.634287, -0.4306], [\"9017\", \"Malo Gusto\", 9, 745, 0, 0.982484, 0, 0.230114, 13, 5, 2, 0, \"D\", \"Chelsea\", 0, 0.982484, 4.041625, 2.993063, 3, \"Defenders\", 0.342761, 0.97444], [\"9021\", \"Pape Sarr\", 11, 427, 0, 0.662668, 2, 1.270585, 11, 6, 1, 0, \"M S\", \"Tottenham\", 0, 0.662668, 2.537023, 1.72788, 3, \"Defenders\", -0.003367, 0.623621], [\"9098\", \"Robert S\\u00e1nchez\", 11, 990, 0, 0.0, 0, 0.0, 0, 0, 2, 0, \"GK\", \"Chelsea\", 0, 0.0, 3.370626, 3.370626, 3, \"Defenders\", -1.021471, 1.277398], [\"9105\", \"Radu Dragusin\", 4, 274, 0, 0.036303, 0, 0.0, 1, 0, 0, 0, \"D S\", \"Tottenham\", 0, 0.036303, 0.976153, 0.976153, 0, \"All-Rounders\", -1.597027, -0.285228], [\"9154\", \"Elliot Anderson\", 11, 630, 0, 0.95473, 3, 2.064637, 15, 14, 3, 0, \"M S\", \"Nottingham Forest\", 0, 0.95473, 3.773536, 2.05993, 3, \"Defenders\", 0.847095, 1.207982], [\"9156\", \"Kevin Schade\", 11, 487, 0, 1.468319, 0, 0.128912, 9, 2, 1, 0, \"F M S\", \"Brentford\", 0, 1.468319, 3.034099, 1.51323, 3, \"Defenders\", 0.078341, -0.089247], [\"9251\", \"Christian Walton\", 1, 90, 0, 0.0, 0, 0.0, 0, 0, 0, 0, \"GK\", \"Ipswich\", 0, 0.0, 0.0, 0.0, 0, \"All-Rounders\", -1.931848, -0.903882], [\"9284\", \"Jakub Moder\", 2, 2, 0, 0.0, 0, 0.029188, 0, 1, 0, 0, \"S\", \"Brighton\", 0, 0.0, 0.07722, 0.07722, 0, \"All-Rounders\", -1.901923, -0.842552], [\"9415\", \"Jaden Philogene-Bidace\", 7, 182, 0, 0.553179, 0, 0.0, 5, 0, 1, 1, \"M S\", \"Aston Villa\", 0, 0.553179, 0.714646, 0.502604, 0, \"All-Rounders\", -1.184737, -0.725606], [\"9451\", \"Chimuanya Ugochukwu\", 5, 171, 0, 0.439114, 0, 0.107888, 1, 2, 1, 0, \"M S\", \"Southampton\", 0, 0.439114, 0.107888, 0.075124, 0, \"All-Rounders\", -1.560782, -0.949701], [\"9509\", \"Daniel Jebbison\", 2, 12, 0, 0.0, 0, 0.021173, 0, 1, 0, 0, \"S\", \"Bournemouth\", 0, 0.0, 0.021173, 0.0, 0, \"All-Rounders\", -1.921956, -0.891902], [\"9512\", \"Valentino Livramento\", 11, 706, 0, 0.0, 0, 0.307553, 0, 5, 0, 0, \"D S\", \"Newcastle United\", 0, 0.0, 3.113465, 2.858322, 3, \"Defenders\", -1.024356, 1.110618], [\"9524\", \"Anthony Elanga\", 11, 670, 0, 0.834856, 2, 1.563248, 10, 14, 1, 0, \"M S\", \"Nottingham Forest\", 0, 0.834856, 2.178989, 1.218957, 3, \"Defenders\", 0.027267, 0.381026], [\"9554\", \"Tim Iroegbunam\", 6, 380, 0, 0.193897, 0, 0.097281, 4, 2, 2, 0, \"M S\", \"Everton\", 0, 0.193897, 1.504761, 1.213583, 0, \"All-Rounders\", -1.214472, -0.097055], [\"9556\", \"William Osula\", 4, 9, 0, 0.0, 0, 0.0, 0, 0, 0, 0, \"S\", \"Newcastle United\", 0, 0.0, 0.0, 0.0, 0, \"All-Rounders\", -1.931848, -0.903882], [\"9630\", \"Kamaldeen Sulemana\", 2, 12, 0, 0.052806, 0, 0.0, 1, 0, 0, 0, \"S\", \"Southampton\", 0, 0.052806, 0.052806, 0.0, 0, \"All-Rounders\", -1.842542, -0.9129], [\"9676\", \"David Raya\", 11, 990, 0, 0.0, 0, 0.0, 0, 0, 2, 0, \"GK\", \"Arsenal\", 0, 0.0, 1.704735, 1.704735, 0, \"All-Rounders\", -1.471414, 0.199327], [\"9677\", \"Kristoffer Ajer\", 8, 648, 0, 0.373126, 0, 0.319317, 1, 3, 3, 0, \"D\", \"Brentford\", 0, 0.373126, 2.064242, 1.407131, 0, \"All-Rounders\", -1.077096, 0.126043], [\"9681\", \"Frank Onyeka\", 2, 18, 0, 0.0, 0, 0.0, 0, 0, 0, 0, \"S\", \"Brentford\", 0, 0.0, 0.0, 0.0, 0, \"All-Rounders\", -1.931848, -0.903882], [\"9685\", \"Mads Roerslev\", 9, 434, 0, 0.015007, 1, 1.281246, 1, 7, 1, 0, \"D S\", \"Brentford\", 0, 0.015007, 2.964067, 1.949088, 3, \"Defenders\", -0.790067, 1.029119], [\"9739\", \"Kiernan Dewsbury-Hall\", 3, 26, 0, 0.0, 0, 0.109757, 0, 1, 0, 0, \"S\", \"Chelsea\", 0, 0.0, 0.222674, 0.112917, 0, \"All-Rounders\", -1.850073, -0.768707], [\"9740\", \"Jos\\u00e9 S\\u00e1\", 6, 540, 0, 0.0, 0, 0.024138, 0, 1, 0, 0, \"GK\", \"Wolverhampton Wanderers\", 0, 0.0, 0.403268, 0.379129, 0, \"All-Rounders\", -1.818171, -0.644873], [\"9752\", \"Jesper Lindstrom\", 7, 345, 0, 0.89664, 0, 1.029388, 12, 7, 0, 0, \"M S\", \"Everton\", 0, 0.89664, 1.645173, 0.737191, 0, \"All-Rounders\", -0.141002, -0.17032], [\"9788\", \"Dominik Szoboszlai\", 11, 746, 0, 1.33912, 1, 1.745529, 13, 14, 3, 0, \"M S\", \"Liverpool\", 0, 1.33912, 8.652545, 6.294817, 3, \"Defenders\", 2.123583, 3.817795], [\"9958\", \"Yerson Mosquera\", 5, 448, 0, 0.466006, 0, 0.094501, 2, 2, 2, 0, \"D\", \"Wolverhampton Wanderers\", 0, 0.466006, 1.069944, 0.98187, 0, \"All-Rounders\", -1.24584, -0.368382], [\"10004\", \"Romeo Lavia\", 6, 359, 0, 0.0, 1, 0.654861, 0, 5, 1, 0, \"M S\", \"Chelsea\", 0, 0.0, 1.26881, 0.641328, 0, \"All-Rounders\", -1.456971, -0.123164], [\"10012\", \"Jakub Kiwior\", 4, 89, 0, 0.0, 0, 0.0, 0, 0, 0, 0, \"S\", \"Arsenal\", 0, 0.0, 0.0, 0.0, 0, \"All-Rounders\", -1.931848, -0.903882], [\"10025\", \"Lamare Bogarde\", 2, 171, 0, 0.0, 0, 0.153402, 0, 1, 1, 0, \"D\", \"Aston Villa\", 0, 0.0, 1.714748, 1.561345, 0, \"All-Rounders\", -1.438474, 0.193329], [\"10036\", \"Jeremy Sarmiento\", 1, 4, 0, 0.0, 0, 0.0, 0, 0, 0, 0, \"S\", \"Brighton\", 0, 0.0, 0.097468, 0.097468, 0, \"All-Rounders\", -1.905523, -0.840806], [\"10050\", \"Micky van de Ven\", 8, 716, 0, 0.234439, 2, 1.178408, 4, 2, 4, 0, \"D\", \"Tottenham\", 0, 0.234439, 4.282706, 3.104298, 3, \"Defenders\", -0.204806, 1.690959], [\"10072\", \"Samuel Edozie\", 2, 57, 0, 0.0, 0, 0.081713, 0, 1, 1, 0, \"S\", \"Southampton\", 0, 0.0, 0.601781, 0.520068, 0, \"All-Rounders\", -1.753206, -0.521089], [\"10120\", \"Conor Bradley\", 6, 130, 0, 0.640593, 0, 0.0, 2, 0, 0, 0, \"S\", \"Liverpool\", 0, 0.640593, 2.074746, 1.434153, 0, \"All-Rounders\", -0.962144, -0.070812], [\"10126\", \"James McAtee\", 1, 1, 0, 0.0, 0, 0.0, 0, 0, 0, 0, \"S\", \"Manchester City\", 0, 0.0, 0.0, 0.0, 0, \"All-Rounders\", -1.931848, -0.903882], [\"10166\", \"Kasey McAteer\", 5, 27, 0, 0.034432, 0, 0.0, 2, 0, 0, 0, \"S\", \"Leicester\", 0, 0.034432, 0.710592, 0.710592, 0, \"All-Rounders\", -1.620417, -0.457902], [\"10184\", \"Archie Gray\", 5, 34, 0, 0.0, 0, 0.0, 0, 0, 0, 0, \"S\", \"Tottenham\", 0, 0.0, 0.084651, 0.084651, 0, \"All-Rounders\", -1.908984, -0.8491], [\"10187\", \"Jarell Quansah\", 1, 47, 0, 0.0, 0, 0.0, 0, 0, 0, 0, \"D\", \"Liverpool\", 0, 0.0, 0.0, 0.0, 0, \"All-Rounders\", -1.931848, -0.903882], [\"10216\", \"Lewis Hall\", 11, 782, 0, 0.0, 1, 1.76385, 0, 12, 3, 0, \"D S\", \"Newcastle United\", 0, 0.0, 5.622533, 4.270306, 3, \"Defenders\", -0.018837, 2.784887], [\"10291\", \"Vitalii Mykolenko\", 9, 745, 0, 0.111558, 0, 0.459803, 4, 5, 0, 0, \"D\", \"Everton\", 0, 0.111558, 2.323824, 1.825335, 0, \"All-Rounders\", -0.95342, 0.502928], [\"10293\", \"Toti\", 9, 743, 0, 0.011179, 1, 0.628214, 1, 2, 4, 0, \"D\", \"Wolverhampton Wanderers\", 0, 0.011179, 0.863387, 0.772188, 0, \"All-Rounders\", -1.457687, -0.148605], [\"10301\", \"Jens Cajuste\", 5, 268, 0, 0.019568, 0, 0.063823, 1, 2, 1, 0, \"M S\", \"Ipswich\", 0, 0.019568, 0.595456, 0.531634, 0, \"All-Rounders\", -1.697281, -0.531419], [\"10327\", \"Chiquinho\", 1, 5, 0, 0.0, 0, 0.016208, 0, 1, 0, 0, \"S\", \"Wolverhampton Wanderers\", 0, 0.0, 0.061099, 0.061099, 0, \"All-Rounders\", -1.91031, -0.858035], [\"10348\", \"Omari Hutchinson\", 10, 887, 0, 0.746976, 1, 1.506042, 14, 10, 4, 0, \"M\", \"Ipswich\", 0, 0.746976, 4.065555, 2.053201, 3, \"Defenders\", 0.544743, 1.107081], [\"10696\", \"Noussair Mazraoui\", 11, 837, 0, 0.24036, 1, 0.205579, 5, 4, 1, 0, \"D S\", \"Manchester United\", 0, 0.24036, 3.000143, 2.667687, 3, \"Defenders\", -0.704375, 0.877078], [\"10697\", \"Ryan Gravenberch\", 11, 990, 0, 0.149135, 0, 0.597974, 6, 4, 2, 0, \"M\", \"Liverpool\", 0, 0.149135, 6.157424, 5.973518, 3, \"Defenders\", 0.282057, 3.170697], [\"10718\", \"Jay Stansfield\", 1, 1, 0, 0.0, 0, 0.0, 0, 0, 0, 0, \"S\", \"Fulham\", 0, 0.0, 0.0, 0.0, 0, \"All-Rounders\", -1.931848, -0.903882], [\"10721\", \"Sepp van den Berg\", 9, 732, 0, 0.629858, 0, 0.068209, 7, 2, 0, 0, \"D S\", \"Brentford\", 0, 0.629858, 2.207233, 1.781051, 0, \"All-Rounders\", -0.639959, 0.13869], [\"10758\", \"Harry Toffolo\", 1, 25, 0, 0.0226, 0, 0.0, 1, 0, 0, 0, \"S\", \"Nottingham Forest\", 0, 0.0226, 0.0226, 0.0, 0, \"All-Rounders\", -1.865338, -0.908552], [\"10764\", \"Djed Spence\", 3, 54, 0, 0.0, 0, 0.0, 0, 0, 1, 0, \"S\", \"Tottenham\", 0, 0.0, 0.0, 0.0, 0, \"All-Rounders\", -1.931848, -0.903882], [\"10802\", \"Lisandro Mart\\u00ednez\", 10, 891, 0, 1.123207, 0, 0.107435, 7, 3, 4, 0, \"D\", \"Manchester United\", 0, 1.123207, 5.219772, 4.475312, 3, \"Defenders\", 0.444849, 1.795589], [\"10805\", \"Levi Colwill\", 11, 990, 0, 0.561442, 0, 0.619735, 3, 3, 3, 0, \"D\", \"Chelsea\", 0, 0.561442, 6.77259, 6.183276, 3, \"Defenders\", 0.507188, 3.2586], [\"10807\", \"Jan Paul van Hecke\", 9, 728, 0, 0.102406, 1, 0.596059, 3, 3, 2, 0, \"D S\", \"Brighton\", 0, 0.102406, 4.197965, 3.881611, 3, \"Defenders\", -0.439134, 1.858825], [\"10809\", \"Keane Lewis-Potter\", 11, 780, 0, 0.731459, 1, 1.332737, 10, 9, 1, 0, \"D M S\", \"Brentford\", 0, 0.731459, 2.667375, 0.807743, 3, \"Defenders\", -0.07649, 0.217317], [\"10822\", \"Wilson Odobert\", 3, 167, 0, 0.741632, 0, 0.050036, 6, 3, 0, 0, \"F S\", \"Tottenham\", 0, 0.741632, 1.561245, 0.803393, 0, \"All-Rounders\", -0.840352, -0.476882], [\"10845\", \"Flynn Downes\", 10, 898, 0, 0.674908, 0, 1.294173, 5, 12, 4, 0, \"M\", \"Southampton\", 0, 0.674908, 4.643591, 3.286538, 3, \"Defenders\", 0.221279, 1.742866], [\"10847\", \"Rico Lewis\", 10, 779, 0, 1.033873, 2, 0.254171, 4, 5, 1, 0, \"D M S\", \"Manchester City\", 0, 1.033873, 5.696172, 4.582451, 3, \"Defenders\", 0.37536, 2.020161], [\"10864\", \"Marcos Senesi\", 9, 777, 0, 0.609742, 0, 0.199676, 1, 4, 4, 0, \"D\", \"Bournemouth\", 0, 0.609742, 2.931788, 2.751856, 3, \"Defenders\", -0.684203, 0.789543], [\"10913\", \"Andr\\u00e9 Onana\", 11, 990, 0, 0.0, 0, 0.314686, 0, 1, 0, 0, \"GK\", \"Manchester United\", 0, 0.0, 2.903495, 2.588809, 3, \"Defenders\", -1.085615, 0.949501], [\"10945\", \"Santiago Bueno\", 6, 443, 0, 0.088261, 0, 0.0, 1, 0, 0, 0, \"D S\", \"Wolverhampton Wanderers\", 0, 0.088261, 1.546214, 1.546214, 0, \"All-Rounders\", -1.411977, 0.067025], [\"11000\", \"Matheus Nunes\", 8, 288, 0, 0.199644, 2, 1.195583, 3, 9, 0, 0, \"M S\", \"Manchester City\", 0, 0.199644, 1.888614, 0.732763, 0, \"All-Rounders\", -0.913799, 0.171507], [\"11058\", \"Julio Enciso\", 7, 64, 0, 0.160359, 0, 0.31042, 5, 4, 0, 0, \"S\", \"Brighton\", 0, 0.160359, 0.404728, 0.062621, 0, \"All-Rounders\", -1.421752, -0.740623], [\"11094\", \"Antony\", 2, 24, 0, 0.055744, 0, 0.126027, 2, 1, 0, 0, \"S\", \"Manchester United\", 0, 0.055744, 0.148978, 0.0, 0, \"All-Rounders\", -1.737123, -0.849227], [\"11132\", \"Ethan Nwaneri\", 5, 35, 0, 0.052525, 0, 0.104445, 2, 1, 0, 0, \"S\", \"Arsenal\", 0, 0.052525, 0.742042, 0.585072, 0, \"All-Rounders\", -1.58648, -0.476556], [\"11146\", \"Ryan Trevitt\", 1, 1, 0, 0.0, 0, 0.0, 0, 0, 0, 0, \"S\", \"Brentford\", 0, 0.0, 0.0, 0.0, 0, \"All-Rounders\", -1.931848, -0.903882], [\"11167\", \"Chadi Riad\", 1, 90, 0, 0.0, 0, 0.0, 0, 0, 0, 0, \"D\", \"Crystal Palace\", 0, 0.0, 0.396696, 0.396696, 0, \"All-Rounders\", -1.824704, -0.647163], [\"11174\", \"Kobbie Mainoo\", 7, 577, 0, 0.117235, 0, 0.699999, 4, 3, 4, 0, \"M\", \"Manchester United\", 0, 0.117235, 1.860443, 1.043209, 0, \"All-Rounders\", -1.03676, 0.144744], [\"11297\", \"Carlos Alcaraz\", 1, 5, 0, 0.039343, 0, 0.050257, 1, 1, 0, 0, \"S\", \"Southampton\", 0, 0.039343, 0.072091, 0.032747, 0, \"All-Rounders\", -1.828242, -0.870214], [\"11305\", \"Mykhailo Mudryk\", 7, 133, 0, 0.122531, 0, 1.079901, 1, 2, 0, 0, \"M S\", \"Chelsea\", 0, 0.122531, 1.47419, 0.271759, 0, \"All-Rounders\", -1.212003, -0.136053], [\"11310\", \"Brajan Gruda\", 4, 49, 0, 0.0, 0, 0.07722, 0, 2, 0, 0, \"S\", \"Brighton\", 0, 0.0, 0.654649, 0.577429, 0, \"All-Rounders\", -1.739813, -0.486511], [\"11317\", \"Danilo\", 1, 14, 0, 0.0, 0, 0.0, 0, 0, 0, 0, \"M\", \"Nottingham Forest\", 0, 0.0, 0.0, 0.0, 0, \"All-Rounders\", -1.931848, -0.903882], [\"11356\", \"Enzo Fern\\u00e1ndez\", 10, 602, 0, 0.317759, 1, 0.905379, 5, 12, 1, 0, \"M S\", \"Chelsea\", 0, 0.317759, 3.95088, 2.88363, 3, \"Defenders\", -0.267336, 1.394143], [\"11359\", \"James Bree\", 1, 12, 0, 0.0, 0, 0.027616, 0, 1, 0, 0, \"S\", \"Southampton\", 0, 0.0, 0.020174, 0.020174, 0, \"All-Rounders\", -1.917819, -0.88008], [\"11360\", \"Paul Onuachu\", 5, 47, 0, 0.065476, 0, 0.052806, 3, 1, 1, 0, \"S\", \"Southampton\", 0, 0.065476, 0.090666, 0.0, 0, \"All-Rounders\", -1.713722, -0.89256], [\"11367\", \"Victor Kristiansen\", 10, 868, 0, 0.0, 0, 0.373794, 0, 8, 1, 0, \"D\", \"Leicester\", 0, 0.0, 2.274779, 2.158096, 0, \"All-Rounders\", -1.214567, 0.658782], [\"11383\", \"Renato Veiga\", 5, 136, 0, 0.135448, 0, 0.0, 3, 0, 2, 0, \"M S\", \"Chelsea\", 0, 0.135448, 0.812491, 0.79857, 0, \"All-Rounders\", -1.484595, -0.432313], [\"11385\", \"Yasin Ayari\", 9, 490, 0, 0.61801, 0, 0.779773, 8, 9, 2, 0, \"M S\", \"Brighton\", 0, 0.61801, 1.796516, 1.258968, 0, \"All-Rounders\", -0.500091, 0.099768], [\"11486\", \"Illia Zabarnyi\", 11, 990, 0, 0.40365, 0, 0.061548, 2, 1, 1, 0, \"D\", \"Bournemouth\", 0, 0.40365, 2.495459, 2.433911, 0, \"All-Rounders\", -0.905347, 0.573781], [\"11618\", \"Samuel Amo-Ameyaw\", 1, 5, 0, 0.032747, 0, 0.039343, 1, 1, 0, 0, \"S\", \"Southampton\", 0, 0.032747, 0.072091, 0.0, 0, \"All-Rounders\", -1.839299, -0.887752], [\"11633\", \"Marc Guiu\", 1, 17, 0, 0.0, 0, 0.0, 0, 0, 0, 0, \"S\", \"Chelsea\", 0, 0.0, 0.0, 0.0, 0, \"All-Rounders\", -1.931848, -0.903882], [\"11707\", \"Jurri\\u00ebn Timber\", 9, 704, 0, 0.355448, 1, 0.696678, 6, 10, 3, 0, \"D S\", \"Arsenal\", 0, 0.355448, 2.432955, 2.019664, 3, \"Defenders\", -0.595867, 0.624776], [\"11709\", \"Milos Kerkez\", 11, 938, 0, 0.206953, 2, 1.268692, 7, 10, 2, 0, \"D\", \"Bournemouth\", 0, 0.206953, 2.892826, 1.805197, 3, \"Defenders\", -0.409914, 0.873905], [\"11711\", \"Bart Verbruggen\", 9, 810, 0, 0.0, 0, 0.0, 0, 0, 2, 0, \"GK\", \"Brighton\", 0, 0.0, 1.684989, 1.684989, 0, \"All-Rounders\", -1.476747, 0.186548], [\"11719\", \"Chiedozie Ogbene\", 5, 237, 0, 0.0, 0, 0.07339, 0, 2, 0, 0, \"M S\", \"Ipswich\", 0, 0.0, 0.086398, 0.013008, 0, \"All-Rounders\", -1.894048, -0.853939], [\"11728\", \"Calvin Bassey\", 11, 990, 0, 0.277123, 0, 0.0, 6, 0, 3, 0, \"D\", \"Fulham\", 0, 0.277123, 3.851339, 3.816301, 3, \"Defenders\", -0.433115, 1.474647], [\"11735\", \"S\\u00e1vio\", 8, 554, 0, 1.573613, 2, 2.633705, 15, 18, 2, 0, \"F M S\", \"Manchester City\", 0, 1.573613, 4.343575, 1.138076, 1, \"All-Rounders\", 1.378596, 0.898022], [\"11745\", \"Juli\\u00e1n Araujo\", 8, 353, 0, 0.0, 0, 0.0, 0, 0, 1, 0, \"D S\", \"Bournemouth\", 0, 0.0, 1.139654, 1.139654, 0, \"All-Rounders\", -1.624037, -0.166362], [\"11766\", \"Manuel Ugarte\", 6, 282, 0, 0.023123, 0, 0.507291, 1, 1, 2, 0, \"M S\", \"Manchester United\", 0, 0.023123, 1.772407, 1.772407, 0, \"All-Rounders\", -1.232234, 0.431684], [\"11772\", \"Yehor Yarmolyuk\", 7, 124, 0, 0.186457, 0, 0.015752, 3, 1, 1, 0, \"M S\", \"Brentford\", 0, 0.186457, 0.487987, 0.285778, 0, \"All-Rounders\", -1.558223, -0.741119], [\"11807\", \"Ian Maatsen\", 9, 115, 0, 0.010048, 0, 0.701681, 1, 7, 0, 0, \"S\", \"Aston Villa\", 0, 0.010048, 2.754878, 2.369254, 3, \"Defenders\", -0.958109, 0.965898], [\"11815\", \"Ben Brereton D\\u00edaz\", 7, 404, 0, 1.31126, 0, 0.155621, 11, 3, 1, 0, \"F M S\", \"Southampton\", 0, 1.31126, 2.001359, 0.564697, 0, \"All-Rounders\", -0.17777, -0.66005], [\"11926\", \"Edson \\u00c1lvarez\", 8, 411, 0, 0.091383, 0, 0.154956, 3, 4, 2, 1, \"D M S\", \"West Ham\", 0, 0.091383, 0.852247, 0.605907, 0, \"All-Rounders\", -1.478475, -0.441503], [\"11943\", \"Dean Huijsen\", 5, 214, 0, 0.199504, 0, 0.10645, 2, 4, 1, 0, \"D S\", \"Bournemouth\", 0, 0.199504, 0.971149, 0.765924, 0, \"All-Rounders\", -1.441538, -0.397336], [\"12014\", \"Jake O&#039;Brien\", 1, 19, 0, 0.0, 0, 0.0, 0, 0, 1, 0, \"S\", \"Everton\", 0, 0.0, 0.104265, 0.104265, 0, \"All-Rounders\", -1.903687, -0.836407], [\"12149\", \"Alex Scott\", 8, 261, 0, 0.079861, 0, 0.239521, 3, 5, 0, 0, \"M S\", \"Bournemouth\", 0, 0.079861, 1.694986, 1.375604, 0, \"All-Rounders\", -1.239774, 0.106107], [\"12272\", \"Myles Lewis-Skelly\", 2, 11, 0, 0.0, 0, 0.0, 0, 0, 1, 0, \"S\", \"Arsenal\", 0, 0.0, 0.094942, 0.094942, 0, \"All-Rounders\", -1.906205, -0.842441], [\"12408\", \"Daniel Mu\\u00f1oz\", 11, 910, 0, 1.485825, 1, 1.319414, 10, 11, 4, 0, \"D\", \"Crystal Palace\", 0, 1.485825, 4.398186, 2.860959, 3, \"Defenders\", 0.874726, 1.242031], [\"12409\", \"Adam Wharton\", 8, 635, 0, 0.203805, 0, 0.620206, 9, 8, 0, 0, \"M\", \"Crystal Palace\", 0, 0.203805, 2.200185, 1.685358, 0, \"All-Rounders\", -0.636378, 0.440981], [\"12461\", \"Toby Collyer\", 1, 39, 0, 0.0, 0, 0.017393, 0, 1, 0, 0, \"S\", \"Manchester United\", 0, 0.0, 0.541843, 0.52445, 0, \"All-Rounders\", -1.782072, -0.554646], [\"12603\", \"Mikey Moore\", 4, 81, 0, 0.052373, 0, 0.0, 1, 0, 0, 0, \"F S\", \"Tottenham\", 0, 0.052373, 0.354866, 0.302493, 0, \"All-Rounders\", -1.761167, -0.717081], [\"12633\", \"Yunus Konak\", 4, 13, 0, 0.109039, 0, 0.0, 1, 0, 0, 0, \"S\", \"Brentford\", 0, 0.109039, 0.109039, 0.0, 0, \"All-Rounders\", -1.800104, -0.920993], [\"12745\", \"Jacob Greaves\", 7, 630, 0, 0.782192, 0, 0.0, 5, 0, 1, 0, \"D\", \"Ipswich\", 0, 0.782192, 1.570029, 1.570029, 0, \"All-Rounders\", -0.792624, -0.14572], [\"12746\", \"Luke Woolfenden\", 5, 369, 0, 0.058051, 0, 0.0, 1, 0, 1, 0, \"D S\", \"Ipswich\", 0, 0.058051, 0.200701, 0.200701, 0, \"All-Rounders\", -1.79346, -0.794029], [\"12747\", \"Massimo Luongo\", 5, 147, 0, 0.0, 0, 0.0, 0, 0, 0, 0, \"M S\", \"Ipswich\", 0, 0.0, 0.0, 0.0, 0, \"All-Rounders\", -1.931848, -0.903882], [\"12749\", \"Wes Burns\", 8, 423, 0, 0.190039, 0, 1.395306, 3, 4, 1, 0, \"M S\", \"Ipswich\", 0, 0.190039, 1.75524, 0.644388, 0, \"All-Rounders\", -0.888402, 0.18716], [\"12750\", \"Conor Chaplin\", 9, 273, 0, 0.18322, 1, 0.454088, 4, 3, 1, 0, \"M S\", \"Ipswich\", 0, 0.18322, 0.91964, 0.435395, 0, \"All-Rounders\", -1.289968, -0.424279], [\"12751\", \"Ali Al-Hamadi\", 3, 24, 0, 0.0, 0, 0.05714, 0, 1, 2, 0, \"S\", \"Ipswich\", 0, 0.0, 0.05714, 0.05714, 0, \"All-Rounders\", -1.898661, -0.84467], [\"12753\", \"Marcus Harness\", 2, 37, 0, 0.0, 0, 0.0, 0, 0, 0, 0, \"S\", \"Ipswich\", 0, 0.0, 0.0, 0.0, 0, \"All-Rounders\", -1.931848, -0.903882], [\"12754\", \"Jack Taylor\", 6, 108, 0, 0.192557, 0, 0.0, 5, 0, 2, 0, \"S\", \"Ipswich\", 0, 0.192557, 1.437041, 1.424033, 0, \"All-Rounders\", -1.182734, -0.048855], [\"12755\", \"Cameron Burgess\", 4, 360, 0, 0.147938, 0, 0.044935, 4, 1, 0, 0, \"D\", \"Ipswich\", 0, 0.147938, 0.996506, 0.951571, 0, \"All-Rounders\", -1.36753, -0.315756], [\"12756\", \"Rodrigo Gomes\", 5, 104, 0, 0.048448, 0, 0.0, 2, 0, 0, 0, \"M S\", \"Wolverhampton Wanderers\", 0, 0.048448, 0.048448, 0.0, 0, \"All-Rounders\", -1.796376, -0.91369], [\"12757\", \"Harrison Armstrong\", 1, 1, 0, 0.0, 0, 0.0, 0, 0, 0, 0, \"S\", \"Everton\", 0, 0.0, 0.0, 0.0, 0, \"All-Rounders\", -1.931848, -0.903882], [\"12758\", \"Mats Wieffer\", 7, 229, 0, 0.358994, 1, 0.234367, 2, 4, 0, 0, \"M S\", \"Brighton\", 0, 0.358994, 1.896999, 1.377457, 0, \"All-Rounders\", -1.092032, 0.05259], [\"12765\", \"Eric da Silva Moreira\", 1, 1, 0, 0.0, 0, 0.0, 0, 0, 0, 0, \"S\", \"Nottingham Forest\", 0, 0.0, 0.0, 0.0, 0, \"All-Rounders\", -1.931848, -0.903882], [\"12766\", \"Jota Silva\", 10, 190, 0, 0.403948, 1, 0.747096, 4, 4, 1, 0, \"S\", \"Nottingham Forest\", 0, 0.403948, 0.825731, 0.006776, 0, \"All-Rounders\", -1.13028, -0.599272], [\"12774\", \"Andy Irving\", 3, 24, 0, 0.021041, 0, 0.0, 1, 0, 1, 0, \"S\", \"West Ham\", 0, 0.021041, 0.084136, 0.063095, 0, \"All-Rounders\", -1.849472, -0.867497], [\"12775\", \"Kosta Nedeljkovic\", 3, 89, 0, 0.0, 0, 0.0, 0, 0, 0, 0, \"S\", \"Aston Villa\", 0, 0.0, 0.167005, 0.167005, 0, \"All-Rounders\", -1.886741, -0.795805], [\"12910\", \"Mads Hermansen\", 11, 990, 0, 0.0, 0, 0.0, 0, 0, 0, 0, \"GK\", \"Leicester\", 0, 0.0, 1.779863, 1.779863, 0, \"All-Rounders\", -1.451122, 0.247945], [\"12911\", \"Abdul Fatawu\", 11, 571, 0, 0.466049, 2, 1.472497, 13, 6, 0, 0, \"D F M S\", \"Leicester\", 0, 0.466049, 2.36159, 1.356685, 3, \"Defenders\", -0.028961, 0.556764], [\"12912\", \"Lucas Bergvall\", 5, 31, 0, 0.137925, 0, 0.324116, 2, 1, 0, 0, \"S\", \"Tottenham\", 0, 0.137925, 0.137925, 0.0, 0, \"All-Rounders\", -1.628147, -0.800449], [\"12946\", \"Roman Dixon\", 1, 90, 0, 0.0, 0, 0.0, 0, 0, 0, 0, \"D\", \"Everton\", 0, 0.0, 0.088598, 0.088598, 0, \"All-Rounders\", -1.907918, -0.846546], [\"12947\", \"George Edmundson\", 1, 1, 0, 0.0, 0, 0.0, 0, 0, 0, 0, \"S\", \"Ipswich\", 0, 0.0, 0.0, 0.0, 0, \"All-Rounders\", -1.931848, -0.903882], [\"12948\", \"Mateus Fernandes\", 10, 719, 0, 1.118884, 1, 1.562015, 7, 8, 3, 0, \"M S\", \"Southampton\", 0, 1.118884, 4.085569, 1.917552, 3, \"Defenders\", 0.426145, 0.959266], [\"13019\", \"Jack Clarke\", 9, 342, 0, 0.813006, 1, 0.780556, 7, 5, 1, 0, \"M S\", \"Ipswich\", 0, 0.813006, 1.698529, 0.263939, 0, \"All-Rounders\", -0.561028, -0.446458], [\"13020\", \"Bilal El Khannouss\", 7, 197, 0, 0.115892, 0, 0.586304, 2, 5, 0, 0, \"M S\", \"Leicester\", 0, 0.115892, 0.337306, 0.142841, 0, \"All-Rounders\", -1.512437, -0.588935], [\"13022\", \"Andr\\u00e9\", 7, 371, 0, 0.053701, 0, 0.123936, 2, 3, 2, 0, \"M S\", \"Wolverhampton Wanderers\", 0, 0.053701, 1.518732, 1.383519, 0, \"All-Rounders\", -1.367472, 0.043517], [\"13026\", \"Luis Guilherme\", 2, 7, 0, 0.0, 0, 0.0, 0, 0, 0, 0, \"S\", \"West Ham\", 0, 0.0, 0.0, 0.0, 0, \"All-Rounders\", -1.931848, -0.903882], [\"13038\", \"Justin Devenny\", 1, 77, 0, 0.044168, 0, 0.288085, 1, 2, 0, 0, \"M\", \"Crystal Palace\", 0, 0.044168, 0.157288, 0.09673, 0, \"All-Rounders\", -1.730862, -0.734064], [\"13039\", \"Asher Agbinone\", 2, 2, 0, 0.015191, 0, 0.023867, 1, 1, 0, 0, \"S\", \"Crystal Palace\", 0, 0.015191, 0.036949, 0.013082, 0, \"All-Rounders\", -1.858622, -0.8882], [\"13060\", \"Ross Stewart\", 4, 120, 0, 0.129778, 0, 0.0, 2, 0, 1, 0, \"F S\", \"Southampton\", 0, 0.129778, 0.192948, 0.137818, 0, \"All-Rounders\", -1.709456, -0.849397], [\"13068\", \"Morato\", 5, 53, 0, 0.0, 0, 0.0, 0, 0, 0, 0, \"S\", \"Nottingham Forest\", 0, 0.0, 0.080572, 0.080572, 0, \"All-Rounders\", -1.910086, -0.85174], [\"13092\", \"Carlos Forbs\", 5, 168, 0, 0.110732, 0, 0.035077, 1, 1, 2, 0, \"M S\", \"Wolverhampton Wanderers\", 0, 0.110732, 0.444177, 0.298367, 0, \"All-Rounders\", -1.701851, -0.708303], [\"13103\", \"V\\u00edtezslav Jaros\", 1, 9, 0, 0.0, 0, 0.0, 0, 0, 0, 0, \"S\", \"Liverpool\", 0, 0.0, 0.0, 0.0, 0, \"All-Rounders\", -1.931848, -0.903882], [\"13130\", \"Caleb Kporha\", 1, 1, 0, 0.0, 0, 0.0, 0, 0, 0, 0, \"S\", \"Crystal Palace\", 0, 0.0, 0.013082, 0.013082, 0, \"All-Rounders\", -1.928315, -0.895416], [\"13133\", \"Harry Clarke\", 2, 98, 0, 0.0, 0, 0.0, 0, 0, 0, 1, \"D S\", \"Ipswich\", 0, 0.0, 0.136937, 0.136937, 0, \"All-Rounders\", -1.894862, -0.815264], [\"13134\", \"Ryan Manning\", 5, 349, 0, 0.06889, 0, 0.388874, 1, 7, 1, 0, \"D M\", \"Southampton\", 0, 0.06889, 0.974896, 0.774939, 0, \"All-Rounders\", -1.479765, -0.239242], [\"13185\", \"Jahmai Simpson-Pusey\", 1, 90, 0, 0.0, 0, 0.0, 0, 0, 1, 0, \"D\", \"Manchester City\", 0, 0.0, 0.996142, 0.996142, 0, \"All-Rounders\", -1.662799, -0.259235]];\n",
       "\n",
       "        // Define the dt_args\n",
       "        let dt_args = {\"layout\": {\"topStart\": \"pageLength\", \"topEnd\": \"search\", \"bottomStart\": \"info\", \"bottomEnd\": \"paging\"}, \"order\": [], \"warn_on_selected_rows_not_rendered\": true, \"filtered_row_count\": 73, \"fnInfoCallback\": function (oSettings, iStart, iEnd, iMax, iTotal, sPre) { return sPre + ' (<a href=\"https://mwouts.github.io/itables/downsampling.html\">downsampled</a> from 454x22 to 381x22 as maxBytes=64KB)'; }};\n",
       "        dt_args[\"data\"] = data;\n",
       "\n",
       "        \n",
       "        new DataTable(table, dt_args);\n",
       "    });\n",
       "</script>\n"
      ],
      "text/plain": [
       "<IPython.core.display.HTML object>"
      ]
     },
     "metadata": {},
     "output_type": "display_data"
    }
   ],
   "source": [
    "show(df)"
   ]
  },
  {
   "cell_type": "code",
   "execution_count": null,
   "metadata": {},
   "outputs": [],
   "source": []
  }
 ],
 "metadata": {
  "kernelspec": {
   "display_name": "Python 3",
   "language": "python",
   "name": "python3"
  },
  "language_info": {
   "codemirror_mode": {
    "name": "ipython",
    "version": 3
   },
   "file_extension": ".py",
   "mimetype": "text/x-python",
   "name": "python",
   "nbconvert_exporter": "python",
   "pygments_lexer": "ipython3",
   "version": "3.11.2"
  }
 },
 "nbformat": 4,
 "nbformat_minor": 2
}
